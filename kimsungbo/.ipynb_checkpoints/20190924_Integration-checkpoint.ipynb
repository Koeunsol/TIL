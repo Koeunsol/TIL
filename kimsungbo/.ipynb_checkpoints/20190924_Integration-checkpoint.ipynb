{
 "cells": [
  {
   "cell_type": "markdown",
   "metadata": {},
   "source": [
    "환경변수 여러 개를 한꺼번에 설정합니다.\n",
    "\n",
    "반드시 Key, Token 등의 내용을 바꿔서 입력해 주세요.\n",
    "\n",
    "    # 1. 공공데이터포털\n",
    "    # Mac, Linux 또는 Windows Git Bash 등에선 다음과 같이 export를 사용하시면 됩니다.\n",
    "    export ANIMAL_API_KEY=abcdefghijklm%2FvSfZeu4FoGpl2eGP%2FzlR5eGh%2F9M8jbOv4HPFZI%2BM7ckZstS8OzkMKHNBkpAtdZX6T8VoRl4Q%3D%3D\n",
    "    # Windows 기본 환경에선 다음과 같이 set을 사용하세요.\n",
    "    set ANIMAL_API_KEY=abcdefghijklm%2FvSfZeu4FoGpl2eGP%2FzlR5eGh%2F9M8jbOv4HPFZI%2BM7ckZstS8OzkMKHNBkpAtdZX6T8VoRl4Q%3D%3D\n",
    "\n",
    "    # 2. LocationIQ\n",
    "    # Mac, Linux 또는 Windows Git Bash 등에선 다음과 같이 export를 사용하시면 됩니다.\n",
    "    export LOCATIONIQ_TOKEN=b023f593f83638\n",
    "    # Windows 기본 환경에선 다음과 같이 set을 사용하세요.\n",
    "    set LOCATIONIQ_TOKEN=b023f593f83638\n",
    "\n",
    "    # Jupyter Notebook 실행\n",
    "    jupyter notebook\n",
    "    환경 변수에서 API 키를 가져옵니다."
   ]
  },
  {
   "cell_type": "code",
   "execution_count": 1,
   "metadata": {},
   "outputs": [],
   "source": [
    "# 환경 변수에서 API 키 가져오기\n",
    "\n",
    "import os\n",
    "from urllib.parse import unquote\n",
    "\n",
    "API_KEY = unquote(os.environ['ANIMAL_API_KEY'])\n",
    "LOCATIONIQ_TOKEN = os.environ['LOCATIONIQ_TOKEN']"
   ]
  },
  {
   "cell_type": "markdown",
   "metadata": {},
   "source": [
    "# 라이브러리 사용"
   ]
  },
  {
   "cell_type": "code",
   "execution_count": 2,
   "metadata": {},
   "outputs": [
    {
     "data": {
      "text/plain": [
       "'2.22.0'"
      ]
     },
     "execution_count": 2,
     "metadata": {},
     "output_type": "execute_result"
    }
   ],
   "source": [
    "# requests 사용\n",
    "\n",
    "import requests\n",
    "\n",
    "requests.__version__"
   ]
  },
  {
   "cell_type": "code",
   "execution_count": 3,
   "metadata": {},
   "outputs": [
    {
     "data": {
      "text/plain": [
       "'0.25.0'"
      ]
     },
     "execution_count": 3,
     "metadata": {},
     "output_type": "execute_result"
    }
   ],
   "source": [
    "# Pandas 사용\n",
    "\n",
    "import pandas as pd\n",
    "\n",
    "pd.__version__"
   ]
  },
  {
   "cell_type": "code",
   "execution_count": 4,
   "metadata": {},
   "outputs": [
    {
     "data": {
      "text/plain": [
       "'3.1.1'"
      ]
     },
     "execution_count": 4,
     "metadata": {},
     "output_type": "execute_result"
    }
   ],
   "source": [
    "# Matplotlib 사용\n",
    "\n",
    "import matplotlib\n",
    "import matplotlib.pyplot as plt\n",
    "\n",
    "matplotlib.__version__"
   ]
  },
  {
   "cell_type": "code",
   "execution_count": 5,
   "metadata": {},
   "outputs": [
    {
     "data": {
      "text/plain": [
       "['Malgun Gothic']"
      ]
     },
     "execution_count": 5,
     "metadata": {},
     "output_type": "execute_result"
    }
   ],
   "source": [
    "# matplotlib에 “AppleGothc”(Mac) 또는 “Malgun Gothic”(Windows) 글꼴 적용\n",
    "\n",
    "import matplotlib.font_manager as fm\n",
    "\n",
    "for font in fm.fontManager.ttflist:\n",
    "    if font.name in ['AppleGothic', 'Malgun Gothic']:\n",
    "        plt.rcParams['font.family'] = font.name\n",
    "        break\n",
    "\n",
    "plt.rcParams['font.family']"
   ]
  },
  {
   "cell_type": "code",
   "execution_count": 6,
   "metadata": {},
   "outputs": [
    {
     "name": "stdout",
     "output_type": "stream",
     "text": [
      "Requirement already satisfied: folium in c:\\python37\\lib\\site-packages (0.10.0)\n",
      "Requirement already satisfied: branca>=0.3.0 in c:\\python37\\lib\\site-packages (from folium) (0.3.1)\n",
      "Requirement already satisfied: requests in c:\\python37\\lib\\site-packages (from folium) (2.22.0)\n",
      "Requirement already satisfied: numpy in c:\\python37\\lib\\site-packages (from folium) (1.17.0)\n",
      "Requirement already satisfied: jinja2>=2.9 in c:\\python37\\lib\\site-packages (from folium) (2.10.1)\n",
      "Requirement already satisfied: six in c:\\python37\\lib\\site-packages (from branca>=0.3.0->folium) (1.12.0)\n",
      "Requirement already satisfied: certifi>=2017.4.17 in c:\\python37\\lib\\site-packages (from requests->folium) (2019.9.11)\n",
      "Requirement already satisfied: chardet<3.1.0,>=3.0.2 in c:\\python37\\lib\\site-packages (from requests->folium) (3.0.4)\n",
      "Requirement already satisfied: urllib3!=1.25.0,!=1.25.1,<1.26,>=1.21.1 in c:\\python37\\lib\\site-packages (from requests->folium) (1.25.3)\n",
      "Requirement already satisfied: idna<2.9,>=2.5 in c:\\python37\\lib\\site-packages (from requests->folium) (2.8)\n",
      "Requirement already satisfied: MarkupSafe>=0.23 in c:\\python37\\lib\\site-packages (from jinja2>=2.9->folium) (1.1.1)\n"
     ]
    },
    {
     "name": "stderr",
     "output_type": "stream",
     "text": [
      "WARNING: You are using pip version 19.2.2, however version 19.2.3 is available.\n",
      "You should consider upgrading via the 'python -m pip install --upgrade pip' command.\n"
     ]
    }
   ],
   "source": [
    "# folium 패키지 설치\n",
    "\n",
    "!pip install folium"
   ]
  },
  {
   "cell_type": "code",
   "execution_count": 7,
   "metadata": {},
   "outputs": [
    {
     "data": {
      "text/plain": [
       "'0.10.0'"
      ]
     },
     "execution_count": 7,
     "metadata": {},
     "output_type": "execute_result"
    }
   ],
   "source": [
    "# folium 버전 확인\n",
    "\n",
    "import folium\n",
    "\n",
    "folium.__version__"
   ]
  },
  {
   "cell_type": "code",
   "execution_count": 8,
   "metadata": {},
   "outputs": [],
   "source": [
    "# folium 라이브러리의 Map과 HeatMap 사용\n",
    "\n",
    "from folium import Map\n",
    "from folium.plugins import HeatMap"
   ]
  },
  {
   "cell_type": "markdown",
   "metadata": {},
   "source": [
    "# 동물보호관리시스템 유기동물 조회 서비스 API 사용\n",
    "\n",
    "많은 데이터를 다루기 위해 한꺼번에 만 개를 얻어오겠습니다."
   ]
  },
  {
   "cell_type": "code",
   "execution_count": 13,
   "metadata": {},
   "outputs": [
    {
     "name": "stdout",
     "output_type": "stream",
     "text": [
      "<Response [200]>\n"
     ]
    }
   ],
   "source": [
    "# 동물보호관리시스템 유기동물 조회 서비스 API\n",
    "\n",
    "# 원래 URL: http://openapi.animal.go.kr/.../abandonmentPublic?serviceKey=어쩌고&bgnde=20190901&...\n",
    "\n",
    "# 이렇게 긴 URL을 물음표(?)를 기준으로 두 부분으로 나눕니다.\n",
    "\n",
    "# 물음표(?) 앞부분\n",
    "url = 'http://openapi.animal.go.kr/openapi/service/rest/abandonmentPublicSrvc/abandonmentPublic'\n",
    "\n",
    "# 물음표(?) 뒷부분\n",
    "payload = {\n",
    "    'serviceKey': API_KEY,\n",
    "    'bgnde': '20190901',\n",
    "    'endde': '20190930',\n",
    "    'numOfRows': 10000,\n",
    "}\n",
    "\n",
    "# API 호출\n",
    "response = requests.get(url, params=payload)\n",
    "\n",
    "print(response)"
   ]
  },
  {
   "cell_type": "code",
   "execution_count": 17,
   "metadata": {},
   "outputs": [
    {
     "data": {
      "text/plain": [
       "'<?xml version=\"1.0\" encoding=\"UTF-8\" standalone=\"yes\"?><response><header><resultCode>99</resultCode><resultMsg>SERVICE KEY IS NOT REGISTERED ERROR.</resultMsg></header></response>'"
      ]
     },
     "execution_count": 17,
     "metadata": {},
     "output_type": "execute_result"
    }
   ],
   "source": [
    "response.text"
   ]
  },
  {
   "cell_type": "code",
   "execution_count": 14,
   "metadata": {},
   "outputs": [
    {
     "data": {
      "text/plain": [
       "179"
      ]
     },
     "execution_count": 14,
     "metadata": {},
     "output_type": "execute_result"
    }
   ],
   "source": [
    "# Response의 Text 길이 확인\n",
    "\n",
    "len(response.text)"
   ]
  },
  {
   "cell_type": "markdown",
   "metadata": {},
   "source": [
    "표현에 주목해 보세요. reponse는 응답이고, response.text는 응답 받은 내용입니다. 우리가 파싱해야 하는 대상은 response.text겠죠?\n",
    "\n",
    "파싱을 하면 우리가 다루기 좋은 트리가 만들어집니다.\n",
    "\n",
    "https://en.wikipedia.org/wiki/Tree_(data_structure)\n",
    "\n",
    "컴퓨터의 폴더 구조가 전형적인 트리죠.\n",
    "\n",
    "트리의 가장 중요한 특징은 우리가 뿌리를 통해 나무 전체를 다룰 수 있다는 겁니다. 예를 들어, Windows의 경우 C:\\(C 드라이브 루트)에서 출발하면 모든 파일에 접근할 수 있죠."
   ]
  },
  {
   "cell_type": "code",
   "execution_count": 15,
   "metadata": {},
   "outputs": [
    {
     "data": {
      "text/plain": [
       "<Element 'response' at 0x0000027F894E7458>"
      ]
     },
     "execution_count": 15,
     "metadata": {},
     "output_type": "execute_result"
    }
   ],
   "source": [
    "# XML 데이터 파싱\n",
    "\n",
    "import xml.etree.ElementTree as ET\n",
    "\n",
    "root = ET.fromstring(response.text)\n",
    "\n",
    "root"
   ]
  },
  {
   "cell_type": "markdown",
   "metadata": {},
   "source": [
    "XML에 있던 <item> 항목을 모두 얻어보겠습니다.\n",
    "\n",
    "ElementTree는 파이썬의 Iterator를 활용해서 이 기능을 제공합니다.\n",
    "\n",
    "https://wiki.python.org/moin/Iterator\n",
    "\n",
    "Iterator는 글을 읽는 어린아이의 손가락 같은 역할을 합니다. 지금 가르킨 글자를 읽고 다음 글자로 넘어가죠."
   ]
  },
  {
   "cell_type": "code",
   "execution_count": 16,
   "metadata": {},
   "outputs": [
    {
     "ename": "StopIteration",
     "evalue": "",
     "output_type": "error",
     "traceback": [
      "\u001b[1;31m---------------------------------------------------------------------------\u001b[0m",
      "\u001b[1;31mStopIteration\u001b[0m                             Traceback (most recent call last)",
      "\u001b[1;32m<ipython-input-16-d104863c711b>\u001b[0m in \u001b[0;36m<module>\u001b[1;34m\u001b[0m\n\u001b[0;32m      1\u001b[0m \u001b[1;31m# 첫번째 내용을 얻고 다음으로 넘어갑니다.\u001b[0m\u001b[1;33m\u001b[0m\u001b[1;33m\u001b[0m\u001b[1;33m\u001b[0m\u001b[0m\n\u001b[0;32m      2\u001b[0m \u001b[1;33m\u001b[0m\u001b[0m\n\u001b[1;32m----> 3\u001b[1;33m \u001b[0mitem\u001b[0m \u001b[1;33m=\u001b[0m \u001b[0mnext\u001b[0m\u001b[1;33m(\u001b[0m\u001b[0mroot\u001b[0m\u001b[1;33m.\u001b[0m\u001b[0miter\u001b[0m\u001b[1;33m(\u001b[0m\u001b[1;34m'item'\u001b[0m\u001b[1;33m)\u001b[0m\u001b[1;33m)\u001b[0m\u001b[1;33m\u001b[0m\u001b[1;33m\u001b[0m\u001b[0m\n\u001b[0m\u001b[0;32m      4\u001b[0m \u001b[1;33m\u001b[0m\u001b[0m\n\u001b[0;32m      5\u001b[0m \u001b[1;31m# Item에 어떤 내용이 있는지 확인합니다.\u001b[0m\u001b[1;33m\u001b[0m\u001b[1;33m\u001b[0m\u001b[1;33m\u001b[0m\u001b[0m\n",
      "\u001b[1;31mStopIteration\u001b[0m: "
     ]
    }
   ],
   "source": [
    "# 첫번째 내용을 얻고 다음으로 넘어갑니다.\n",
    "\n",
    "item = next(root.iter('item'))\n",
    "\n",
    "# Item에 어떤 내용이 있는지 확인합니다.\n",
    "\n",
    "list(item)"
   ]
  },
  {
   "cell_type": "code",
   "execution_count": null,
   "metadata": {},
   "outputs": [],
   "source": [
    "# <kindCd> 항목을 확인해 봅니다.\n",
    "# 트리에서 바로 아래에 있는 걸 “자녀”라고 부릅니다.\n",
    "\n",
    "child = item.find('kindCd')\n",
    "\n",
    "print(child)"
   ]
  },
  {
   "cell_type": "code",
   "execution_count": null,
   "metadata": {},
   "outputs": [],
   "source": [
    "# 자녀의 내용(text)을 확인해 봅니다.\n",
    "\n",
    "print(child.text)"
   ]
  },
  {
   "cell_type": "code",
   "execution_count": null,
   "metadata": {},
   "outputs": [],
   "source": [
    "# 이게 뭐였죠?\n",
    "\n",
    "print(child.tag)"
   ]
  },
  {
   "cell_type": "code",
   "execution_count": null,
   "metadata": {},
   "outputs": [],
   "source": [
    "# item의 모든 자녀 확인\n",
    "\n",
    "for child in item:\n",
    "    print(child.tag, child.text)"
   ]
  },
  {
   "cell_type": "code",
   "execution_count": null,
   "metadata": {},
   "outputs": [],
   "source": [
    "# 컬럼 목록 얻기\n",
    "\n",
    "item = next(root.iter('item'))\n",
    "\n",
    "columns = []\n",
    "\n",
    "for child in item:\n",
    "    columns.append(child.tag)\n",
    "\n",
    "columns"
   ]
  },
  {
   "cell_type": "markdown",
   "metadata": {},
   "source": [
    "항상 최종 형태를 먼저 생각합니다. 테스트 코드로 쓰는 게 가장 좋고, 여의치 않다면 그에 준하는 모양을 간단히 잡아봅니다.\n",
    "\n",
    "Pandas로 다루는 2차원 데이터는 Column과 Row의 조화를 통해 구성되죠.\n",
    "\n",
    "Column은 이름이 있고, key-value 형태(dictionary)를 쓰면 매우 좋습니다.\n",
    "\n",
    "Row는 그냥 list로 충분하죠.\n",
    "\n",
    "즉, 데이터는 dictionary의 list가 됩니다.\n",
    "\n",
    "    # item이 없을 때\n",
    "    rows = []\n",
    "\n",
    "    # item이 하나일 때\n",
    "    rows = [\n",
    "        { 'age': '어쩌고', 'kindCd': '저쩌고', 'weight': '이런 식으로...' }\n",
    "    ]\n",
    "\n",
    "    # item이 여럿일 때\n",
    "    rows = [\n",
    "        { 'age': '어쩌고', 'kindCd': '저쩌고', 'weight': '이런 식으로...' },\n",
    "        { 'age': '어쩌고', 'kindCd': '저쩌고', 'weight': '이런 식으로...' },\n",
    "        { 'age': '어쩌고', 'kindCd': '저쩌고', 'weight': '이런 식으로...' }\n",
    "    ]\n",
    "사실 2차원 데이터는 항상 이 모양이라고 보셔도 무방합니다."
   ]
  },
  {
   "cell_type": "code",
   "execution_count": null,
   "metadata": {},
   "outputs": [],
   "source": [
    "# XML 데이터를 Pandas DataFrame으로 변환\n",
    "\n",
    "# dictionary의 list를 준비합니다. 처음엔 0개죠.\n",
    "rows = []\n",
    "\n",
    "# item을 하나씩 rows에 넣을 겁니다.\n",
    "for item in root.iter('item'):\n",
    "    # 일단 row를 준비합니다. 단수형과 복수형을 구분해서 쓰니까 주의하세요.\n",
    "    row = {}\n",
    "    # item의 자녀를 하나씩 row에 넣을 겁니다.\n",
    "    # 이런 코드가 나오면 앞에 나온 for는 잊어버리세요.\n",
    "    # 지금부터 나오는 것에 집중하세요.\n",
    "    for child in list(item):\n",
    "        # dictionary는 key와 value를 함께 써서 추가 또는 변경합니다.\n",
    "        # tag와 text가 헷갈리면 바로 위에 나온 ElementTree를 다시 확인하세요.\n",
    "        # tag와 text는 보편적인 표현이 아닙니다.\n",
    "        # A라는 폴더의 README.md 파일과 B라는 폴더의 README.md 파일은 이름이 같지만 전혀 다릅니다.\n",
    "        # 어떤 게 들어있는지는 직접 열어보기 전에는 알 수 없습니다.\n",
    "        # “모르는 것 발견 = 지금 당장 확인”을 습관으로 만드세요. 손은 눈보다 빠릅니다.\n",
    "        row[child.tag] = child.text\n",
    "    # 이렇게 블록이 끝나면 방금 있던 for를 잊으세요.\n",
    "    # 우리가 얻은 건 item의 자녀 내용이 들어간 row죠.\n",
    "    # 이제 이걸 rows(단수형과 복수형에 주의하세요)에 넣어줍니다.\n",
    "    # list는 append를 썼죠?\n",
    "    rows.append(row)\n",
    "\n",
    "# dictionary의 list는 Pandas의 DataFrame으로 쉽게 변경 가능합니다.\n",
    "\n",
    "df = pd.DataFrame(rows, columns=columns)"
   ]
  },
  {
   "cell_type": "code",
   "execution_count": null,
   "metadata": {},
   "outputs": [],
   "source": [
    "# 1. 컬럼 목록\n",
    "\n",
    "df.columns"
   ]
  },
  {
   "cell_type": "code",
   "execution_count": null,
   "metadata": {},
   "outputs": [],
   "source": [
    "# 2. 전체 갯수와 컬럼 갯수 확인\n",
    "\n",
    "df.shape"
   ]
  },
  {
   "cell_type": "code",
   "execution_count": null,
   "metadata": {},
   "outputs": [],
   "source": [
    "# 3. 데이터 일부 확인\n",
    "\n",
    "df.head()"
   ]
  },
  {
   "cell_type": "code",
   "execution_count": null,
   "metadata": {},
   "outputs": [],
   "source": [
    "# 컬럼별 결측값 갯수 확인\n",
    "\n",
    "data = df.isnull().sum()\n",
    "\n",
    "pd.DataFrame(data)"
   ]
  },
  {
   "cell_type": "code",
   "execution_count": null,
   "metadata": {},
   "outputs": [],
   "source": [
    "# 안 쓰는 컬럼 이름을 넣어 drop해서 simple 데이터 만들기\n",
    "\n",
    "simple_df = df.drop(columns=[\n",
    "    'careTel', 'desertionNo', 'filename',\n",
    "    'noticeEdt', 'noticeNo', 'noticeSdt', 'officetel', 'popfile'\n",
    "])\n",
    "\n",
    "# 정리된 데이터 확인\n",
    "\n",
    "simple_df.head()"
   ]
  },
  {
   "cell_type": "code",
   "execution_count": null,
   "metadata": {},
   "outputs": [],
   "source": []
  }
 ],
 "metadata": {
  "kernelspec": {
   "display_name": "Python 3",
   "language": "python",
   "name": "python3"
  },
  "language_info": {
   "codemirror_mode": {
    "name": "ipython",
    "version": 3
   },
   "file_extension": ".py",
   "mimetype": "text/x-python",
   "name": "python",
   "nbconvert_exporter": "python",
   "pygments_lexer": "ipython3",
   "version": "3.7.4"
  }
 },
 "nbformat": 4,
 "nbformat_minor": 2
}
