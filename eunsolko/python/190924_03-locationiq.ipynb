{
 "cells": [
  {
   "cell_type": "code",
   "execution_count": 1,
   "metadata": {},
   "outputs": [],
   "source": [
    "# 환경 변수에서 API 키 가져오기\n",
    "\n",
    "import os\n",
    "LOCATIONIQ_TOKEN = os.environ['LOCATIONIQ_TOKEN']"
   ]
  },
  {
   "cell_type": "code",
   "execution_count": 2,
   "metadata": {},
   "outputs": [
    {
     "data": {
      "text/plain": [
       "'2.22.0'"
      ]
     },
     "execution_count": 2,
     "metadata": {},
     "output_type": "execute_result"
    }
   ],
   "source": [
    "# requests 사용\n",
    "\n",
    "import requests\n",
    "requests.__version__"
   ]
  },
  {
   "cell_type": "code",
   "execution_count": 3,
   "metadata": {},
   "outputs": [
    {
     "name": "stdout",
     "output_type": "stream",
     "text": [
      "<Response [200]>\n"
     ]
    }
   ],
   "source": [
    "# LocationIQ로 “서울창업허브” 검색\n",
    "\n",
    "# 원래 URL: https://us1.locationiq.com/v1/search.php?key=블라블라&q=서울창업허브&format=json\n",
    "# URL을 물음표(?)를 중심으로 두 부분으로 나눕니다.\n",
    "\n",
    "# 1. 물음표 앞부분.\n",
    "url = 'https://us1.locationiq.com/v1/search.php'\n",
    "\n",
    "# 2. 물음표 뒷부분.\n",
    "payload = {\n",
    "    'key': LOCATIONIQ_TOKEN,\n",
    "    'q': '서울창업허브',\n",
    "    'format': 'json'\n",
    "}\n",
    "\n",
    "# API 호출\n",
    "response = requests.get(url, params=payload)\n",
    "print(response)"
   ]
  },
  {
   "cell_type": "code",
   "execution_count": 4,
   "metadata": {},
   "outputs": [
    {
     "name": "stdout",
     "output_type": "stream",
     "text": [
      "200\n"
     ]
    }
   ],
   "source": [
    "# Response의 HTTP Status Code 확인\n",
    "# 200번대가 나오면 잘 나온 것!\n",
    "\n",
    "print(response.status_code)"
   ]
  },
  {
   "cell_type": "code",
   "execution_count": 5,
   "metadata": {},
   "outputs": [
    {
     "name": "stdout",
     "output_type": "stream",
     "text": [
      "[{\"place_id\":\"206185511\",\"licence\":\"https:\\/\\/locationiq.com\\/attribution\",\"osm_type\":\"way\",\"osm_id\":\"608088218\",\"boundingbox\":[\"37.5463183\",\"37.5468967\",\"126.9492191\",\"126.9501552\"],\"lat\":\"37.54662875\",\"lon\":\"126.949684293519\",\"display_name\":\"Seoul Startup Hub, Baekbeom-ro 31-gil, Ahyeon-dong, Mapo-gu, Seoul, 04140, South Korea\",\"class\":\"office\",\"type\":\"government\",\"importance\":0.001}]\n"
     ]
    }
   ],
   "source": [
    "# Response의 Text 확인\n",
    "print(response.text)\n",
    "\n",
    "# https://www.jsonformatter.io/ (위 text를 JSON Beautifier로 바꿈)"
   ]
  },
  {
   "cell_type": "code",
   "execution_count": 6,
   "metadata": {},
   "outputs": [
    {
     "data": {
      "text/plain": [
       "[{'place_id': '206185511',\n",
       "  'licence': 'https://locationiq.com/attribution',\n",
       "  'osm_type': 'way',\n",
       "  'osm_id': '608088218',\n",
       "  'boundingbox': ['37.5463183', '37.5468967', '126.9492191', '126.9501552'],\n",
       "  'lat': '37.54662875',\n",
       "  'lon': '126.949684293519',\n",
       "  'display_name': 'Seoul Startup Hub, Baekbeom-ro 31-gil, Ahyeon-dong, Mapo-gu, Seoul, 04140, South Korea',\n",
       "  'class': 'office',\n",
       "  'type': 'government',\n",
       "  'importance': 0.001}]"
      ]
     },
     "execution_count": 6,
     "metadata": {},
     "output_type": "execute_result"
    }
   ],
   "source": [
    "# Response의 Text를 JSON으로 다룸.\n",
    "response.json()"
   ]
  },
  {
   "cell_type": "code",
   "execution_count": 7,
   "metadata": {},
   "outputs": [],
   "source": [
    "# 변수 할당\n",
    "results = response.json()"
   ]
  },
  {
   "cell_type": "code",
   "execution_count": 8,
   "metadata": {},
   "outputs": [
    {
     "data": {
      "text/plain": [
       "1"
      ]
     },
     "execution_count": 8,
     "metadata": {},
     "output_type": "execute_result"
    }
   ],
   "source": [
    "# 리스트에 있는 항목 갯수\n",
    "len(results)"
   ]
  },
  {
   "cell_type": "code",
   "execution_count": 9,
   "metadata": {},
   "outputs": [
    {
     "data": {
      "text/plain": [
       "{'place_id': '206185511',\n",
       " 'licence': 'https://locationiq.com/attribution',\n",
       " 'osm_type': 'way',\n",
       " 'osm_id': '608088218',\n",
       " 'boundingbox': ['37.5463183', '37.5468967', '126.9492191', '126.9501552'],\n",
       " 'lat': '37.54662875',\n",
       " 'lon': '126.949684293519',\n",
       " 'display_name': 'Seoul Startup Hub, Baekbeom-ro 31-gil, Ahyeon-dong, Mapo-gu, Seoul, 04140, South Korea',\n",
       " 'class': 'office',\n",
       " 'type': 'government',\n",
       " 'importance': 0.001}"
      ]
     },
     "execution_count": 9,
     "metadata": {},
     "output_type": "execute_result"
    }
   ],
   "source": [
    "# 첫번째 내용\n",
    "results[0]"
   ]
  },
  {
   "cell_type": "code",
   "execution_count": 11,
   "metadata": {},
   "outputs": [
    {
     "data": {
      "text/plain": [
       "'37.54662875'"
      ]
     },
     "execution_count": 11,
     "metadata": {},
     "output_type": "execute_result"
    }
   ],
   "source": [
    "# 위도\n",
    "results[0]['lat']"
   ]
  },
  {
   "cell_type": "code",
   "execution_count": 12,
   "metadata": {},
   "outputs": [
    {
     "data": {
      "text/plain": [
       "'126.949684293519'"
      ]
     },
     "execution_count": 12,
     "metadata": {},
     "output_type": "execute_result"
    }
   ],
   "source": [
    "# 경도\n",
    "results[0]['lon']"
   ]
  },
  {
   "cell_type": "code",
   "execution_count": 13,
   "metadata": {},
   "outputs": [
    {
     "name": "stdout",
     "output_type": "stream",
     "text": [
      "<Response [404]>\n"
     ]
    }
   ],
   "source": [
    "# 완전 틀린 주소를 찾을 때\n",
    "\n",
    "url = 'https://us1.locationiq.com/v1/search.php'\n",
    "payload = {\n",
    "    'key': LOCATIONIQ_TOKEN,\n",
    "    'q': '이 세계 어느 곳에도 없는 주소',\n",
    "    'format': 'json'\n",
    "}\n",
    "\n",
    "response = requests.get(url, params=payload)\n",
    "print(response)\n",
    "\n",
    "# 404는 보통 사용자가 잘못 한 것 (Not Found)"
   ]
  },
  {
   "cell_type": "code",
   "execution_count": 14,
   "metadata": {},
   "outputs": [
    {
     "name": "stdout",
     "output_type": "stream",
     "text": [
      "{\"error\":\"Unable to geocode\"}\n"
     ]
    }
   ],
   "source": [
    "print(response.text)"
   ]
  },
  {
   "cell_type": "code",
   "execution_count": null,
   "metadata": {},
   "outputs": [],
   "source": []
  }
 ],
 "metadata": {
  "kernelspec": {
   "display_name": "Python 3",
   "language": "python",
   "name": "python3"
  },
  "language_info": {
   "codemirror_mode": {
    "name": "ipython",
    "version": 3
   },
   "file_extension": ".py",
   "mimetype": "text/x-python",
   "name": "python",
   "nbconvert_exporter": "python",
   "pygments_lexer": "ipython3",
   "version": "3.7.4"
  }
 },
 "nbformat": 4,
 "nbformat_minor": 2
}
