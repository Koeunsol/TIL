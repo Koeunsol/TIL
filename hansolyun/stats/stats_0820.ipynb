{
 "cells": [
  {
   "cell_type": "code",
   "execution_count": 1,
   "metadata": {},
   "outputs": [],
   "source": [
    "import numpy as np"
   ]
  },
  {
   "cell_type": "code",
   "execution_count": 15,
   "metadata": {},
   "outputs": [],
   "source": [
    "x = [100, 100, 100, 200, 300, 300, 500, 500, 600, 700, 800, 900]"
   ]
  },
  {
   "cell_type": "code",
   "execution_count": 16,
   "metadata": {},
   "outputs": [
    {
     "data": {
      "text/plain": [
       "425.0"
      ]
     },
     "execution_count": 16,
     "metadata": {},
     "output_type": "execute_result"
    }
   ],
   "source": [
    "np.mean(x) #평균"
   ]
  },
  {
   "cell_type": "code",
   "execution_count": 17,
   "metadata": {},
   "outputs": [
    {
     "data": {
      "text/plain": [
       "400.0"
      ]
     },
     "execution_count": 17,
     "metadata": {},
     "output_type": "execute_result"
    }
   ],
   "source": [
    "np.median(x) #중간값"
   ]
  },
  {
   "cell_type": "code",
   "execution_count": 18,
   "metadata": {},
   "outputs": [
    {
     "name": "stdout",
     "output_type": "stream",
     "text": [
      "Requirement already satisfied: scipy in c:\\python37\\lib\\site-packages (1.3.1)\n",
      "Requirement already satisfied: numpy>=1.13.3 in c:\\python37\\lib\\site-packages (from scipy) (1.17.0)\n"
     ]
    }
   ],
   "source": [
    "!pip install scipy"
   ]
  },
  {
   "cell_type": "code",
   "execution_count": 19,
   "metadata": {},
   "outputs": [],
   "source": [
    "from scipy.stats import mode"
   ]
  },
  {
   "cell_type": "code",
   "execution_count": 20,
   "metadata": {},
   "outputs": [
    {
     "data": {
      "text/plain": [
       "ModeResult(mode=array([100]), count=array([3]))"
      ]
     },
     "execution_count": 20,
     "metadata": {},
     "output_type": "execute_result"
    }
   ],
   "source": [
    "mode(x) #최빈값(최빈값 중 가장 작은 값 하나만 return)"
   ]
  },
  {
   "cell_type": "code",
   "execution_count": 21,
   "metadata": {},
   "outputs": [
    {
     "data": {
      "text/plain": [
       "100"
      ]
     },
     "execution_count": 21,
     "metadata": {},
     "output_type": "execute_result"
    }
   ],
   "source": [
    "np.min(x) #최소값"
   ]
  },
  {
   "cell_type": "code",
   "execution_count": 22,
   "metadata": {},
   "outputs": [
    {
     "data": {
      "text/plain": [
       "900"
      ]
     },
     "execution_count": 22,
     "metadata": {},
     "output_type": "execute_result"
    }
   ],
   "source": [
    "np.max(x) #최댓값"
   ]
  },
  {
   "cell_type": "code",
   "execution_count": 23,
   "metadata": {},
   "outputs": [
    {
     "data": {
      "text/plain": [
       "73541.66666666667"
      ]
     },
     "execution_count": 23,
     "metadata": {},
     "output_type": "execute_result"
    }
   ],
   "source": [
    "np.var(x) #분산"
   ]
  },
  {
   "cell_type": "code",
   "execution_count": 24,
   "metadata": {},
   "outputs": [
    {
     "data": {
      "text/plain": [
       "271.1856682545497"
      ]
     },
     "execution_count": 24,
     "metadata": {},
     "output_type": "execute_result"
    }
   ],
   "source": [
    "np.std(x) #표준편차"
   ]
  },
  {
   "cell_type": "code",
   "execution_count": 27,
   "metadata": {},
   "outputs": [
    {
     "data": {
      "text/plain": [
       "175.0"
      ]
     },
     "execution_count": 27,
     "metadata": {},
     "output_type": "execute_result"
    }
   ],
   "source": [
    "np.quantile(x, .25) #사분위"
   ]
  },
  {
   "cell_type": "code",
   "execution_count": 28,
   "metadata": {},
   "outputs": [
    {
     "data": {
      "text/plain": [
       "400.0"
      ]
     },
     "execution_count": 28,
     "metadata": {},
     "output_type": "execute_result"
    }
   ],
   "source": [
    "np.quantile(x, .5) #사분위"
   ]
  },
  {
   "cell_type": "code",
   "execution_count": 30,
   "metadata": {},
   "outputs": [
    {
     "data": {
      "text/plain": [
       "400.0"
      ]
     },
     "execution_count": 30,
     "metadata": {},
     "output_type": "execute_result"
    }
   ],
   "source": [
    "np.median(x)"
   ]
  },
  {
   "cell_type": "code",
   "execution_count": 29,
   "metadata": {},
   "outputs": [
    {
     "data": {
      "text/plain": [
       "625.0"
      ]
     },
     "execution_count": 29,
     "metadata": {},
     "output_type": "execute_result"
    }
   ],
   "source": [
    "np.quantile(x, .75) #사분위"
   ]
  },
  {
   "cell_type": "code",
   "execution_count": 32,
   "metadata": {},
   "outputs": [],
   "source": [
    "from numpy.random import binomial"
   ]
  },
  {
   "cell_type": "code",
   "execution_count": 33,
   "metadata": {},
   "outputs": [
    {
     "name": "stdout",
     "output_type": "stream",
     "text": [
      "Help on built-in function binomial:\n",
      "\n",
      "binomial(...) method of numpy.random.mtrand.RandomState instance\n",
      "    binomial(n, p, size=None)\n",
      "    \n",
      "    Draw samples from a binomial distribution.\n",
      "    \n",
      "    Samples are drawn from a binomial distribution with specified\n",
      "    parameters, n trials and p probability of success where\n",
      "    n an integer >= 0 and p is in the interval [0,1]. (n may be\n",
      "    input as a float, but it is truncated to an integer in use)\n",
      "    \n",
      "    Parameters\n",
      "    ----------\n",
      "    n : int or array_like of ints\n",
      "        Parameter of the distribution, >= 0. Floats are also accepted,\n",
      "        but they will be truncated to integers.\n",
      "    p : float or array_like of floats\n",
      "        Parameter of the distribution, >= 0 and <=1.\n",
      "    size : int or tuple of ints, optional\n",
      "        Output shape.  If the given shape is, e.g., ``(m, n, k)``, then\n",
      "        ``m * n * k`` samples are drawn.  If size is ``None`` (default),\n",
      "        a single value is returned if ``n`` and ``p`` are both scalars.\n",
      "        Otherwise, ``np.broadcast(n, p).size`` samples are drawn.\n",
      "    \n",
      "    Returns\n",
      "    -------\n",
      "    out : ndarray or scalar\n",
      "        Drawn samples from the parameterized binomial distribution, where\n",
      "        each sample is equal to the number of successes over the n trials.\n",
      "    \n",
      "    See Also\n",
      "    --------\n",
      "    scipy.stats.binom : probability density function, distribution or\n",
      "        cumulative density function, etc.\n",
      "    \n",
      "    Notes\n",
      "    -----\n",
      "    The probability density for the binomial distribution is\n",
      "    \n",
      "    .. math:: P(N) = \\binom{n}{N}p^N(1-p)^{n-N},\n",
      "    \n",
      "    where :math:`n` is the number of trials, :math:`p` is the probability\n",
      "    of success, and :math:`N` is the number of successes.\n",
      "    \n",
      "    When estimating the standard error of a proportion in a population by\n",
      "    using a random sample, the normal distribution works well unless the\n",
      "    product p*n <=5, where p = population proportion estimate, and n =\n",
      "    number of samples, in which case the binomial distribution is used\n",
      "    instead. For example, a sample of 15 people shows 4 who are left\n",
      "    handed, and 11 who are right handed. Then p = 4/15 = 27%. 0.27*15 = 4,\n",
      "    so the binomial distribution should be used in this case.\n",
      "    \n",
      "    References\n",
      "    ----------\n",
      "    .. [1] Dalgaard, Peter, \"Introductory Statistics with R\",\n",
      "           Springer-Verlag, 2002.\n",
      "    .. [2] Glantz, Stanton A. \"Primer of Biostatistics.\", McGraw-Hill,\n",
      "           Fifth Edition, 2002.\n",
      "    .. [3] Lentner, Marvin, \"Elementary Applied Statistics\", Bogden\n",
      "           and Quigley, 1972.\n",
      "    .. [4] Weisstein, Eric W. \"Binomial Distribution.\" From MathWorld--A\n",
      "           Wolfram Web Resource.\n",
      "           http://mathworld.wolfram.com/BinomialDistribution.html\n",
      "    .. [5] Wikipedia, \"Binomial distribution\",\n",
      "           https://en.wikipedia.org/wiki/Binomial_distribution\n",
      "    \n",
      "    Examples\n",
      "    --------\n",
      "    Draw samples from the distribution:\n",
      "    \n",
      "    >>> n, p = 10, .5  # number of trials, probability of each trial\n",
      "    >>> s = np.random.binomial(n, p, 1000)\n",
      "    # result of flipping a coin 10 times, tested 1000 times.\n",
      "    \n",
      "    A real world example. A company drills 9 wild-cat oil exploration\n",
      "    wells, each with an estimated probability of success of 0.1. All nine\n",
      "    wells fail. What is the probability of that happening?\n",
      "    \n",
      "    Let's do 20,000 trials of the model, and count the number that\n",
      "    generate zero positive results.\n",
      "    \n",
      "    >>> sum(np.random.binomial(9, 0.1, 20000) == 0)/20000.\n",
      "    # answer = 0.38885, or 38%.\n",
      "\n"
     ]
    }
   ],
   "source": [
    "help (binomial)"
   ]
  },
  {
   "cell_type": "code",
   "execution_count": 44,
   "metadata": {},
   "outputs": [],
   "source": [
    "y = binomial(100, .3, 30) #확률이 30퍼센트이기 때문에 대부분 30 주변!"
   ]
  },
  {
   "cell_type": "code",
   "execution_count": 45,
   "metadata": {},
   "outputs": [
    {
     "data": {
      "text/plain": [
       "22"
      ]
     },
     "execution_count": 45,
     "metadata": {},
     "output_type": "execute_result"
    }
   ],
   "source": [
    "min(y)"
   ]
  },
  {
   "cell_type": "code",
   "execution_count": 46,
   "metadata": {},
   "outputs": [
    {
     "data": {
      "text/plain": [
       "40"
      ]
     },
     "execution_count": 46,
     "metadata": {},
     "output_type": "execute_result"
    }
   ],
   "source": [
    "max(y)"
   ]
  },
  {
   "cell_type": "code",
   "execution_count": 54,
   "metadata": {},
   "outputs": [
    {
     "data": {
      "text/plain": [
       "600000"
      ]
     },
     "execution_count": 54,
     "metadata": {},
     "output_type": "execute_result"
    }
   ],
   "source": [
    "profit = 0\n",
    "ready_portion = 20\n",
    "\n",
    "for customers in y:\n",
    "    if customers <= ready_portion:\n",
    "        profit = profit + (ready_portion - customers) * -10000\n",
    "        profit = profit + customers * 1000\n",
    "    else: \n",
    "        profit = profit + ready_portion * 1000\n",
    "profit "
   ]
  },
  {
   "cell_type": "code",
   "execution_count": 41,
   "metadata": {},
   "outputs": [
    {
     "data": {
      "text/plain": [
       "33"
      ]
     },
     "execution_count": 41,
     "metadata": {},
     "output_type": "execute_result"
    }
   ],
   "source": [
    "binomial(100, .3)"
   ]
  },
  {
   "cell_type": "code",
   "execution_count": 37,
   "metadata": {},
   "outputs": [
    {
     "data": {
      "text/plain": [
       "29"
      ]
     },
     "execution_count": 37,
     "metadata": {},
     "output_type": "execute_result"
    }
   ],
   "source": [
    "binomial(100, .3)"
   ]
  },
  {
   "cell_type": "code",
   "execution_count": 60,
   "metadata": {},
   "outputs": [
    {
     "data": {
      "text/plain": [
       "20440.0"
      ]
     },
     "execution_count": 60,
     "metadata": {},
     "output_type": "execute_result"
    }
   ],
   "source": [
    "보험료 = 300\n",
    "고객 = 지급액 / 10\n",
    "지급액 = 1000\n",
    "장사 = 100\n",
    "사망자 = binomial(고객, .1, 장사)\n",
    "매출 = 보험료 * 고객\n",
    "지급 = 지급액 * 사망자 \n",
    "np.mean(매출 -지급)"
   ]
  },
  {
   "cell_type": "code",
   "execution_count": 66,
   "metadata": {},
   "outputs": [
    {
     "data": {
      "text/plain": [
       "9"
      ]
     },
     "execution_count": 66,
     "metadata": {},
     "output_type": "execute_result"
    }
   ],
   "source": [
    "이탈성공 = 0\n",
    "period = 0\n",
    "while 이탈성공 == 0: \n",
    "    이탈성공 = binomial(1, .05)\n",
    "    period = period +1\n",
    "period"
   ]
  },
  {
   "cell_type": "code",
   "execution_count": 68,
   "metadata": {},
   "outputs": [],
   "source": [
    "from numpy.random import geometric"
   ]
  },
  {
   "cell_type": "code",
   "execution_count": 71,
   "metadata": {},
   "outputs": [],
   "source": [
    "기간 = geometric(.05, 100) #이탈률 5%일때 100명의 고객이 며칠 후 이탈하는지 보여줌"
   ]
  },
  {
   "cell_type": "code",
   "execution_count": 72,
   "metadata": {},
   "outputs": [
    {
     "data": {
      "text/plain": [
       "-8117"
      ]
     },
     "execution_count": 72,
     "metadata": {},
     "output_type": "execute_result"
    }
   ],
   "source": [
    "np.sum(기간 * 1-100)"
   ]
  },
  {
   "cell_type": "code",
   "execution_count": 73,
   "metadata": {},
   "outputs": [
    {
     "data": {
      "text/plain": [
       "-58.5"
      ]
     },
     "execution_count": 73,
     "metadata": {},
     "output_type": "execute_result"
    }
   ],
   "source": [
    "np.sum(기간 * 0.5 - 10)"
   ]
  },
  {
   "cell_type": "code",
   "execution_count": 85,
   "metadata": {},
   "outputs": [],
   "source": [
    "폭발 = []\n",
    "for i in range(100):\n",
    "    짜증 = 0     #3번째는 못참는다 \n",
    "    기간 = 0     #5%확률로 사건 발생\n",
    "    while 짜증 < 3: #사건이 나면 짜증 증가 \n",
    "        사건 = binomial(1, .05)\n",
    "        if 사건 == 1:\n",
    "            짜증 = 짜증 + 1\n",
    "        기간 = 기간  + 1\n",
    "    폭발.append(기간)"
   ]
  },
  {
   "cell_type": "markdown",
   "metadata": {},
   "source": [
    "## 실습 \n",
    "우리 리트리버는 10% 확률로 짜증이 납니다. 이틀 연속으로 짜증이 나면 화를 냅니다. 리트리버가 화를 낼 때 까지 기간을 시뮬레이션 해보세요. "
   ]
  },
  {
   "cell_type": "code",
   "execution_count": 79,
   "metadata": {},
   "outputs": [],
   "source": [
    "from numpy.random import negative_binomial"
   ]
  },
  {
   "cell_type": "code",
   "execution_count": 92,
   "metadata": {},
   "outputs": [
    {
     "data": {
      "text/plain": [
       "array([ 67,  61,  27,  28,  11,  92, 120,  10,  58,  26,  73,  22,  46,\n",
       "        22,  52,  65,  91,  38,  48,  19,  50,  43,  45,  25,  57,  28,\n",
       "        24,  37,   5,  65,  99,  49,  34,  68,  34,  61,  29, 123,  30,\n",
       "        27,  98,  49,  78,  50,  35,  59,  41, 110,  64,  45,  43,  26,\n",
       "        86,  74,  56,  18,  54,  65,  78,  22, 121,  44,  76,  93,  63,\n",
       "        53,  34,  53,  54,  62,  21,  95,  61,  35,  21,  63,  35,  31,\n",
       "        88,  80,  47,  29, 105,  43,  53,  10,  89,  77,  57,  40,  82,\n",
       "       112,  29,  98,  34,   7,  49, 141,  85,  62])"
      ]
     },
     "execution_count": 92,
     "metadata": {},
     "output_type": "execute_result"
    }
   ],
   "source": [
    "negative_binomial (3, .05, 100) #100마리가 5%의 확률로 짜증이 나고 3번 나면 폭팔"
   ]
  },
  {
   "cell_type": "code",
   "execution_count": 86,
   "metadata": {},
   "outputs": [],
   "source": [
    "from numpy.random import poisson"
   ]
  },
  {
   "cell_type": "code",
   "execution_count": 88,
   "metadata": {},
   "outputs": [
    {
     "data": {
      "text/plain": [
       "array([34, 41, 27, 33, 26, 31, 36, 30, 26, 25, 32, 32, 42, 34, 33, 23, 27,\n",
       "       37, 29, 26, 37, 31, 29, 31, 32, 30, 30, 26, 31, 20, 33, 25, 29, 31,\n",
       "       35, 26, 27, 23, 29, 26, 30, 27, 31, 39, 33, 35, 33, 37, 32, 26])"
      ]
     },
     "execution_count": 88,
     "metadata": {},
     "output_type": "execute_result"
    }
   ],
   "source": [
    "binomial (100, .3, 50)"
   ]
  },
  {
   "cell_type": "code",
   "execution_count": 90,
   "metadata": {},
   "outputs": [
    {
     "data": {
      "text/plain": [
       "array([29, 21, 41, 38, 33, 30, 28, 26, 28, 27, 47, 26, 28, 33, 33, 32, 32,\n",
       "       25, 26, 27, 34, 29, 31, 26, 24, 30, 27, 28, 33, 43, 36, 33, 32, 25,\n",
       "       30, 37, 32, 24, 26, 18, 30, 28, 30, 28, 26, 31, 28, 28, 35, 27])"
      ]
     },
     "execution_count": 90,
     "metadata": {},
     "output_type": "execute_result"
    }
   ],
   "source": [
    "poisson (30, 50) #하루 평균 30명이 방문할 때 50일간 방문 인원 수 "
   ]
  },
  {
   "cell_type": "markdown",
   "metadata": {},
   "source": [
    "## 균등분포 (균등하게 하나를 뽑는 것)"
   ]
  },
  {
   "cell_type": "code",
   "execution_count": 93,
   "metadata": {},
   "outputs": [],
   "source": [
    "from numpy.random import uniform "
   ]
  },
  {
   "cell_type": "code",
   "execution_count": 99,
   "metadata": {},
   "outputs": [
    {
     "data": {
      "text/plain": [
       "12.106524774515055"
      ]
     },
     "execution_count": 99,
     "metadata": {},
     "output_type": "execute_result"
    }
   ],
   "source": [
    "uniform(10, 20) #최소값 10에서 최대값 20까지 사이에서 균등하게 "
   ]
  },
  {
   "cell_type": "code",
   "execution_count": 100,
   "metadata": {},
   "outputs": [
    {
     "data": {
      "text/plain": [
       "1"
      ]
     },
     "execution_count": 100,
     "metadata": {},
     "output_type": "execute_result"
    }
   ],
   "source": [
    "int(uniform(1, 10)) #1~10까지 중 좋아하는 숫자 하나 고르기 "
   ]
  },
  {
   "cell_type": "code",
   "execution_count": 122,
   "metadata": {},
   "outputs": [],
   "source": [
    "x = uniform(-1, 1, 100000000)\n",
    "y = uniform(-1, 1, 100000000)"
   ]
  },
  {
   "cell_type": "code",
   "execution_count": 123,
   "metadata": {},
   "outputs": [
    {
     "data": {
      "text/plain": [
       "0.49994971"
      ]
     },
     "execution_count": 123,
     "metadata": {},
     "output_type": "execute_result"
    }
   ],
   "source": [
    "np.mean((np.abs(x)+np.abs(y)) < 1)"
   ]
  },
  {
   "cell_type": "code",
   "execution_count": 124,
   "metadata": {},
   "outputs": [
    {
     "data": {
      "text/plain": [
       "3.14138052"
      ]
     },
     "execution_count": 124,
     "metadata": {},
     "output_type": "execute_result"
    }
   ],
   "source": [
    "np.mean(x**2 + y**2 < 1) * 4"
   ]
  },
  {
   "cell_type": "code",
   "execution_count": 125,
   "metadata": {},
   "outputs": [],
   "source": [
    "from numpy.random import normal"
   ]
  },
  {
   "cell_type": "code",
   "execution_count": 134,
   "metadata": {},
   "outputs": [
    {
     "data": {
      "text/plain": [
       "-9.542570940578337"
      ]
     },
     "execution_count": 134,
     "metadata": {},
     "output_type": "execute_result"
    }
   ],
   "source": [
    "normal(10, 5) #-> (평균, 표준펀차) -> 표준편차를 줄일수록 10에 가까운 수 제시 "
   ]
  },
  {
   "cell_type": "code",
   "execution_count": 138,
   "metadata": {},
   "outputs": [],
   "source": [
    "기간 = geometric(.05, 100)"
   ]
  },
  {
   "cell_type": "code",
   "execution_count": 140,
   "metadata": {},
   "outputs": [],
   "source": [
    "하루매출 = normal(50, 20, 100) #고객 100명이 평균 50만원 (표준편차 20만원))"
   ]
  },
  {
   "cell_type": "code",
   "execution_count": 141,
   "metadata": {},
   "outputs": [
    {
     "data": {
      "text/plain": [
       "array([  60.91033322, 1698.68222862, 2182.82826521,  596.69095973,\n",
       "       1686.64494575,  641.05797291,  173.61110309,  634.428677  ,\n",
       "        273.91019741,  128.52335635, 1703.16199922,  947.54350359,\n",
       "        577.67424348,  420.829324  ,   66.87618189,  541.8960346 ,\n",
       "       2596.42827296,  998.3543716 ,   35.14309731,   72.64757036,\n",
       "        980.98789398, 2620.76714122, 1695.86337781, 1257.81665378,\n",
       "        572.35715762,  928.63086154,  764.63168132, 1104.88166792,\n",
       "         34.75227227,  579.16854065, 2706.62125535,  373.00066827,\n",
       "         72.15606586,  230.55421621, 1342.54643237,  836.17998956,\n",
       "        204.76879473,  619.77855447,  280.91541339,  661.95415255,\n",
       "        417.64720696,  839.51967034,  922.40735354, 1509.97975384,\n",
       "        508.66308539,  158.27428073,  233.27504756,  944.87766643,\n",
       "        588.20174872, 5074.68221708,  574.34762248, 2932.44290156,\n",
       "        580.63157278,  851.12348449,  544.45055383, 1018.46308424,\n",
       "        441.75987806,  361.98103494,  416.288905  ,  906.70515233,\n",
       "        156.04019787, 1595.18239237, 1429.66605149,   40.99064818,\n",
       "       2020.43127457,   43.9502926 ,  743.74568884, 1039.47488314,\n",
       "         89.15869813,  338.74292016,  309.96419966,  984.78672617,\n",
       "        228.05149451,  123.39272573, 3174.82199331,   31.12754515,\n",
       "         80.246042  ,  215.08096124,  180.9437771 ,  281.98809009,\n",
       "        379.33044753, 9950.02927221,  727.84814802, 2607.6280225 ,\n",
       "        301.31130851,  144.65627369,  429.02257037, 2637.58900236,\n",
       "        836.95042152, 1833.32153841,  344.06737446,  190.65088923,\n",
       "         86.35544423, 1536.48626986,  443.6273694 ,  360.76365549,\n",
       "       1827.83564969, 2767.64964597, 3595.63148284,  819.75319631])"
      ]
     },
     "execution_count": 141,
     "metadata": {},
     "output_type": "execute_result"
    }
   ],
   "source": [
    "기간 * 하루매출"
   ]
  },
  {
   "cell_type": "code",
   "execution_count": 148,
   "metadata": {},
   "outputs": [],
   "source": [
    "user_group =  binomial(1,0.1,100) #heavy user 10%"
   ]
  },
  {
   "cell_type": "code",
   "execution_count": 157,
   "metadata": {},
   "outputs": [],
   "source": [
    "total_revenue = []\n",
    "for user in user_group:\n",
    "    if user == 0: #light user\n",
    "        revenue = normal(30, 10)\n",
    "    else: #heavy user\n",
    "        revenue = normal(100, 10)\n",
    "    total_revenue.append(revenue)"
   ]
  },
  {
   "cell_type": "code",
   "execution_count": 158,
   "metadata": {},
   "outputs": [
    {
     "data": {
      "text/plain": [
       "[27.4855787002875,\n",
       " 102.70829840821361,\n",
       " 47.20675283096907,\n",
       " 41.50513782228848,\n",
       " 31.93935001470841,\n",
       " 36.924767858767474,\n",
       " 45.276021772491546,\n",
       " 32.66728408969801,\n",
       " 45.7228240314181,\n",
       " 16.95704548618333,\n",
       " 83.7743629447608,\n",
       " 34.61159771055366,\n",
       " 99.74818013085967,\n",
       " 39.23782524824742,\n",
       " 18.23919214321756,\n",
       " 33.71226113727045,\n",
       " 23.40579651296558,\n",
       " 18.082151640057393,\n",
       " 44.21697053360262,\n",
       " 41.62070336724005,\n",
       " 47.62081245745378,\n",
       " 7.81733919671456,\n",
       " 22.777477702175865,\n",
       " 24.998547102769482,\n",
       " 26.028330512005063,\n",
       " 19.760087717336674,\n",
       " 32.7420503910667,\n",
       " 15.426440173846059,\n",
       " 30.482290075666015,\n",
       " 24.364850609758548,\n",
       " 32.122501137701946,\n",
       " 25.513587704164923,\n",
       " 29.237193466652883,\n",
       " 32.44704625405776,\n",
       " 37.139589544080955,\n",
       " 33.313002514120754,\n",
       " 44.666488679735004,\n",
       " 27.925876088761882,\n",
       " 36.821209043726384,\n",
       " 107.58259146936027,\n",
       " 27.10772736693552,\n",
       " 33.96753420506196,\n",
       " 42.86860721535084,\n",
       " 17.80147107287181,\n",
       " 37.6840881861207,\n",
       " 36.34913718909095,\n",
       " 106.23472639547667,\n",
       " 33.9554301869959,\n",
       " 31.859441836332973,\n",
       " 43.04027287850917,\n",
       " 27.466419483878184,\n",
       " 36.139958920701574,\n",
       " 17.548215512761736,\n",
       " 37.687972285072576,\n",
       " 35.775123898425036,\n",
       " 25.938953474836786,\n",
       " 39.09641412043508,\n",
       " 38.41799569456417,\n",
       " 35.829692198890136,\n",
       " 24.699444363809686,\n",
       " 95.01347324917205,\n",
       " 35.883528111718455,\n",
       " 47.78527441009224,\n",
       " 16.452476563489995,\n",
       " 27.279176371372877,\n",
       " 42.801002462229604,\n",
       " 16.716121707004888,\n",
       " 19.73108921077055,\n",
       " 13.595101044988581,\n",
       " 22.248946685465135,\n",
       " 44.21544895421998,\n",
       " 86.5896424344508,\n",
       " 20.487379954689672,\n",
       " 27.231973839107393,\n",
       " 10.828840378263042,\n",
       " 26.25198808402972,\n",
       " 23.28799230419944,\n",
       " 32.923052254827134,\n",
       " 19.003368045158034,\n",
       " 27.698905365712477,\n",
       " 15.828113916395445,\n",
       " 24.301461995334126,\n",
       " 24.164393275551976,\n",
       " 30.920792603321207,\n",
       " 39.20274449933166,\n",
       " 32.9116153040405,\n",
       " 36.810593051144025,\n",
       " 38.87925807098918,\n",
       " 18.190125688814597,\n",
       " 33.00672304900072,\n",
       " 117.18922850862569,\n",
       " 31.60360230140754,\n",
       " 41.45757497630326,\n",
       " 28.411852288894,\n",
       " 5.427341617335127,\n",
       " 32.34556660075431,\n",
       " 50.69664457539225,\n",
       " 14.57819430334178,\n",
       " 46.91285871959914,\n",
       " 11.52833941651916]"
      ]
     },
     "execution_count": 158,
     "metadata": {},
     "output_type": "execute_result"
    }
   ],
   "source": [
    "total_revenue"
   ]
  },
  {
   "cell_type": "code",
   "execution_count": 151,
   "metadata": {},
   "outputs": [],
   "source": [
    "from numpy.random import multinomial"
   ]
  },
  {
   "cell_type": "code",
   "execution_count": 152,
   "metadata": {},
   "outputs": [
    {
     "data": {
      "text/plain": [
       "array([4, 5, 1, 0])"
      ]
     },
     "execution_count": 152,
     "metadata": {},
     "output_type": "execute_result"
    }
   ],
   "source": [
    "multinomial (10, [.5,.2,.2,.1]) "
   ]
  },
  {
   "cell_type": "code",
   "execution_count": 154,
   "metadata": {},
   "outputs": [
    {
     "data": {
      "text/plain": [
       "array([6, 4])"
      ]
     },
     "execution_count": 154,
     "metadata": {},
     "output_type": "execute_result"
    }
   ],
   "source": [
    "multinomial (10, [.3,.7]) # when flipping coin 10 times wih 30% chance of head"
   ]
  },
  {
   "cell_type": "code",
   "execution_count": 156,
   "metadata": {},
   "outputs": [
    {
     "data": {
      "text/plain": [
       "2"
      ]
     },
     "execution_count": 156,
     "metadata": {},
     "output_type": "execute_result"
    }
   ],
   "source": [
    "binomial (10, .3) #equals to multinomial (10, [.3,.7])"
   ]
  },
  {
   "cell_type": "code",
   "execution_count": 159,
   "metadata": {},
   "outputs": [
    {
     "data": {
      "text/plain": [
       "array([[52, 23, 25],\n",
       "       [59, 22, 19],\n",
       "       [57, 29, 14],\n",
       "       [48, 25, 27],\n",
       "       [47, 31, 22],\n",
       "       [52, 25, 23],\n",
       "       [52, 24, 24],\n",
       "       [51, 28, 21],\n",
       "       [40, 35, 25],\n",
       "       [49, 28, 23],\n",
       "       [48, 29, 23],\n",
       "       [54, 24, 22],\n",
       "       [49, 27, 24],\n",
       "       [52, 34, 14],\n",
       "       [55, 26, 19],\n",
       "       [53, 23, 24],\n",
       "       [51, 32, 17],\n",
       "       [59, 22, 19],\n",
       "       [39, 42, 19],\n",
       "       [46, 33, 21],\n",
       "       [43, 35, 22],\n",
       "       [50, 27, 23],\n",
       "       [41, 38, 21],\n",
       "       [50, 33, 17],\n",
       "       [55, 26, 19],\n",
       "       [57, 28, 15],\n",
       "       [53, 27, 20],\n",
       "       [52, 29, 19],\n",
       "       [46, 39, 15],\n",
       "       [49, 34, 17]])"
      ]
     },
     "execution_count": 159,
     "metadata": {},
     "output_type": "execute_result"
    }
   ],
   "source": [
    "multinomial (100, [.5,.3,.2], 30) #when 50%of chinese, 30% of korean, 20% of Japaneses come everyday, random for 30days"
   ]
  },
  {
   "cell_type": "code",
   "execution_count": 160,
   "metadata": {},
   "outputs": [],
   "source": [
    "from numpy.random import exponential"
   ]
  },
  {
   "cell_type": "code",
   "execution_count": 167,
   "metadata": {},
   "outputs": [
    {
     "data": {
      "text/plain": [
       "0.0327999"
      ]
     },
     "execution_count": 167,
     "metadata": {},
     "output_type": "execute_result"
    }
   ],
   "source": [
    "workers = 10\n",
    "lead_time = 10 / workers\n",
    "\n",
    "np.mean(exponential(30, 100000000) < lead_time) #customers arriving within lead_time #기다리다 돌아가는 고객 줄이기 프로젝트"
   ]
  },
  {
   "cell_type": "code",
   "execution_count": null,
   "metadata": {},
   "outputs": [],
   "source": []
  }
 ],
 "metadata": {
  "celltoolbar": "Raw Cell Format",
  "kernelspec": {
   "display_name": "Python 3",
   "language": "python",
   "name": "python3"
  },
  "language_info": {
   "codemirror_mode": {
    "name": "ipython",
    "version": 3
   },
   "file_extension": ".py",
   "mimetype": "text/x-python",
   "name": "python",
   "nbconvert_exporter": "python",
   "pygments_lexer": "ipython3",
   "version": "3.7.4"
  }
 },
 "nbformat": 4,
 "nbformat_minor": 2
}
