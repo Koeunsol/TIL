{
 "cells": [
  {
   "cell_type": "code",
   "execution_count": 3,
   "metadata": {},
   "outputs": [],
   "source": [
    "import pandas as pd\n",
    "import numpy as np\n",
    "import seaborn as sns \n",
    "from numpy.random import binomial"
   ]
  },
  {
   "cell_type": "markdown",
   "metadata": {},
   "source": [
    "#### cafeteria에 20일 갔을 때, 맛이 없을 확율이 70%인 경우 30명이 20일동안 카페테리아에 갔을 때 맛이 없는 경우\n"
   ]
  },
  {
   "cell_type": "code",
   "execution_count": 41,
   "metadata": {},
   "outputs": [],
   "source": [
    "data = binomial(20, 0.7, 30)"
   ]
  },
  {
   "cell_type": "code",
   "execution_count": 38,
   "metadata": {},
   "outputs": [
    {
     "data": {
      "text/plain": [
       "array([14, 15, 12, 12, 14, 13, 15, 18, 15, 12, 15, 16, 13, 16, 14,  9, 14,\n",
       "       16, 16, 13, 12, 15, 13, 17, 16, 15, 15, 13, 12, 14])"
      ]
     },
     "execution_count": 38,
     "metadata": {},
     "output_type": "execute_result"
    }
   ],
   "source": [
    "data"
   ]
  },
  {
   "cell_type": "code",
   "execution_count": 39,
   "metadata": {},
   "outputs": [
    {
     "data": {
      "text/plain": [
       "<matplotlib.axes._subplots.AxesSubplot at 0x22c7ddb0b08>"
      ]
     },
     "execution_count": 39,
     "metadata": {},
     "output_type": "execute_result"
    },
    {
     "data": {
      "image/png": "[encoded data removed]",
      "text/plain": [
       "<Figure size 432x288 with 1 Axes>"
      ]
     },
     "metadata": {
      "needs_background": "light"
     },
     "output_type": "display_data"
    }
   ],
   "source": [
    "sns.distplot(data)"
   ]
  },
  {
   "cell_type": "code",
   "execution_count": 42,
   "metadata": {},
   "outputs": [],
   "source": [
    "from numpy.random import normal"
   ]
  },
  {
   "cell_type": "code",
   "execution_count": 45,
   "metadata": {},
   "outputs": [],
   "source": [
    "data = normal(50,15, 100)\n",
    "#normal은 연속형이기 때문에 정수가 아닌 수가 나옴 (cf, 이항분포는 정수만!)"
   ]
  },
  {
   "cell_type": "code",
   "execution_count": 47,
   "metadata": {
    "scrolled": true
   },
   "outputs": [
    {
     "data": {
      "text/plain": [
       "<matplotlib.axes._subplots.AxesSubplot at 0x22c7ff10bc8>"
      ]
     },
     "execution_count": 47,
     "metadata": {},
     "output_type": "execute_result"
    },
    {
     "data": {
      "image/png": "[encoded data removed]",
      "text/plain": [
       "<Figure size 432x288 with 1 Axes>"
      ]
     },
     "metadata": {
      "needs_background": "light"
     },
     "output_type": "display_data"
    }
   ],
   "source": [
    "sns.distplot(data)"
   ]
  },
  {
   "cell_type": "code",
   "execution_count": 55,
   "metadata": {},
   "outputs": [],
   "source": [
    "예측 = 50"
   ]
  },
  {
   "cell_type": "code",
   "execution_count": 57,
   "metadata": {
    "scrolled": true
   },
   "outputs": [
    {
     "data": {
      "text/plain": [
       "226.7677801221508"
      ]
     },
     "execution_count": 57,
     "metadata": {},
     "output_type": "execute_result"
    }
   ],
   "source": [
    "np.mean((data - 예측)**2)\n",
    "#예측의 MSE\n",
    "#평균으로 예측했을 때 오차가 가장 적음 "
   ]
  },
  {
   "cell_type": "code",
   "execution_count": 58,
   "metadata": {},
   "outputs": [],
   "source": [
    "#정규분포에서 나온 데이터가 있을 때 모분포의 평균을 어떻게 추정하나? \n",
    "# MSE가 가장 작아지는 예측값을 모분포의 평균으로 추정 \n",
    "#수학적인 이유로 데이터의 평균이 MSE가 가장 작음 \n",
    "#그래서 데이터의 평균이 모분포의 평균에 대한 가장 좋은 추정치가 됨"
   ]
  },
  {
   "cell_type": "code",
   "execution_count": 59,
   "metadata": {},
   "outputs": [],
   "source": [
    "from scipy.optimize import minimize"
   ]
  },
  {
   "cell_type": "code",
   "execution_count": 60,
   "metadata": {},
   "outputs": [],
   "source": [
    "def mse(m):\n",
    "    return np.mean((data-m)**2)"
   ]
  },
  {
   "cell_type": "code",
   "execution_count": 61,
   "metadata": {},
   "outputs": [
    {
     "data": {
      "text/plain": [
       "226.78441680414534"
      ]
     },
     "execution_count": 61,
     "metadata": {},
     "output_type": "execute_result"
    }
   ],
   "source": [
    "mse(50)"
   ]
  },
  {
   "cell_type": "code",
   "execution_count": 66,
   "metadata": {},
   "outputs": [
    {
     "data": {
      "text/plain": [
       "      fun: 226.76778012215135\n",
       " hess_inv: array([[0.49999993]])\n",
       "      jac: array([3.81469727e-06])\n",
       "  message: 'Optimization terminated successfully.'\n",
       "     nfev: 18\n",
       "      nit: 4\n",
       "     njev: 6\n",
       "   status: 0\n",
       "  success: True\n",
       "        x: array([50.128984])"
      ]
     },
     "execution_count": 66,
     "metadata": {},
     "output_type": "execute_result"
    }
   ],
   "source": [
    "minimize(mse, 100)\n",
    "# 100은 그냥 아무 숫자나 넣어도 됨 (output가장 마지막 줄 x가 오차가 mse가 가장 작아지는 점)"
   ]
  },
  {
   "cell_type": "code",
   "execution_count": 67,
   "metadata": {},
   "outputs": [],
   "source": [
    "def mae(m):\n",
    "    return np.mean(np.abs(data-m))"
   ]
  },
  {
   "cell_type": "code",
   "execution_count": 68,
   "metadata": {},
   "outputs": [
    {
     "data": {
      "text/plain": [
       "      fun: 12.009449788827752\n",
       " hess_inv: array([[53.58925151]])\n",
       "      jac: array([0.])\n",
       "  message: 'Optimization terminated successfully.'\n",
       "     nfev: 24\n",
       "      nit: 2\n",
       "     njev: 8\n",
       "   status: 0\n",
       "  success: True\n",
       "        x: array([48.7815299])"
      ]
     },
     "execution_count": 68,
     "metadata": {},
     "output_type": "execute_result"
    }
   ],
   "source": [
    "minimize (mae, 100)\n",
    "#mse랑 값이 다름 "
   ]
  },
  {
   "cell_type": "code",
   "execution_count": 69,
   "metadata": {},
   "outputs": [],
   "source": [
    "acting = np.array([4,4,3,5,2])"
   ]
  },
  {
   "cell_type": "code",
   "execution_count": 70,
   "metadata": {},
   "outputs": [],
   "source": [
    "popularity = np.array([5,4,3,5,1])"
   ]
  },
  {
   "cell_type": "code",
   "execution_count": 81,
   "metadata": {},
   "outputs": [],
   "source": [
    "def mse(parameter):\n",
    "    a,b = parameter\n",
    "    prediction = acting *a+b\n",
    "    return np.mean((popularity-prediction)**2)"
   ]
  },
  {
   "cell_type": "code",
   "execution_count": 86,
   "metadata": {},
   "outputs": [
    {
     "data": {
      "text/plain": [
       "0.2461538461538484"
      ]
     },
     "execution_count": 86,
     "metadata": {},
     "output_type": "execute_result"
    }
   ],
   "source": [
    "mse([1.38461534, -1.38461524])"
   ]
  },
  {
   "cell_type": "code",
   "execution_count": 83,
   "metadata": {
    "scrolled": true
   },
   "outputs": [
    {
     "data": {
      "text/plain": [
       "      fun: 0.24615384615384853\n",
       " hess_inv: array([[ 0.48076926, -1.73076933],\n",
       "       [-1.73076933,  6.7307696 ]])\n",
       "      jac: array([ 9.31322575e-09, -1.49011612e-08])\n",
       "  message: 'Optimization terminated successfully.'\n",
       "     nfev: 24\n",
       "      nit: 4\n",
       "     njev: 6\n",
       "   status: 0\n",
       "  success: True\n",
       "        x: array([ 1.38461534, -1.38461524])"
      ]
     },
     "execution_count": 83,
     "metadata": {},
     "output_type": "execute_result"
    }
   ],
   "source": [
    "minimize(mse, [1,2])"
   ]
  },
  {
   "cell_type": "code",
   "execution_count": 87,
   "metadata": {},
   "outputs": [
    {
     "data": {
      "text/plain": [
       "array([4.15384612, 4.15384612, 2.76923078, 5.53846146, 1.38461544])"
      ]
     },
     "execution_count": 87,
     "metadata": {},
     "output_type": "execute_result"
    }
   ],
   "source": [
    "acting * 1.38461534 -1.38461524"
   ]
  },
  {
   "cell_type": "code",
   "execution_count": 94,
   "metadata": {},
   "outputs": [],
   "source": [
    "fun=np.array([4,1,5,4,4,5,5,4,2,4])\n",
    "sensitivity =np.array([5,1,2,2,2,3,5,2,3,3])\n",
    "stars=np.array([5,1,4,4,4,4,4,4,3,5])"
   ]
  },
  {
   "cell_type": "code",
   "execution_count": 95,
   "metadata": {},
   "outputs": [],
   "source": [
    "def mse(parameter):\n",
    "    a,b,c = parameter\n",
    "    prediction = fun *a+sensitivity * b + c\n",
    "    return np.mean((stars-prediction)**2)"
   ]
  },
  {
   "cell_type": "code",
   "execution_count": 96,
   "metadata": {},
   "outputs": [
    {
     "data": {
      "text/plain": [
       "391.2"
      ]
     },
     "execution_count": 96,
     "metadata": {},
     "output_type": "execute_result"
    }
   ],
   "source": [
    "mse([3, 3, 3])"
   ]
  },
  {
   "cell_type": "code",
   "execution_count": 99,
   "metadata": {},
   "outputs": [
    {
     "data": {
      "text/plain": [
       "      fun: 0.3639639639639688\n",
       " hess_inv: array([[ 0.39137454, -0.16587259, -1.02080905],\n",
       "       [-0.16587259,  0.39085007, -0.46536729],\n",
       "       [-1.02080905, -0.46536729,  5.68195152]])\n",
       "      jac: array([-1.86264515e-08, -1.11758709e-08, -1.11758709e-08])\n",
       "  message: 'Optimization terminated successfully.'\n",
       "     nfev: 50\n",
       "      nit: 9\n",
       "     njev: 10\n",
       "   status: 0\n",
       "  success: True\n",
       "        x: array([0.57657653, 0.24324324, 0.92792813])"
      ]
     },
     "execution_count": 99,
     "metadata": {},
     "output_type": "execute_result"
    }
   ],
   "source": [
    "minimize(mse, [1,4,3])"
   ]
  },
  {
   "cell_type": "code",
   "execution_count": 98,
   "metadata": {},
   "outputs": [
    {
     "data": {
      "text/plain": [
       "0.3639639639892912"
      ]
     },
     "execution_count": 98,
     "metadata": {},
     "output_type": "execute_result"
    }
   ],
   "source": [
    "mse([0.57657999, 0.24324411, 0.92791109])"
   ]
  },
  {
   "cell_type": "code",
   "execution_count": 100,
   "metadata": {},
   "outputs": [],
   "source": [
    "from scipy.stats import binom"
   ]
  },
  {
   "cell_type": "code",
   "execution_count": 102,
   "metadata": {},
   "outputs": [
    {
     "data": {
      "text/plain": [
       "array([0.25, 0.5 , 0.25])"
      ]
     },
     "execution_count": 102,
     "metadata": {},
     "output_type": "execute_result"
    }
   ],
   "source": [
    "binom.pmf([0,1,2],2, .5)\n",
    "#순서: 데이터 -> N -> P\n",
    "# 동전 2개를 던지고 앞면이 나올 확률 0.5 \n",
    "# 앞면이 나온 수가 0일때, 1일때, 2일때 경우의 수를 따로 구해줌"
   ]
  },
  {
   "cell_type": "code",
   "execution_count": 103,
   "metadata": {},
   "outputs": [],
   "source": [
    "data = binomial(2, .2, 100)"
   ]
  },
  {
   "cell_type": "code",
   "execution_count": 108,
   "metadata": {},
   "outputs": [
    {
     "data": {
      "text/plain": [
       "array([0.5 , 0.5 , 0.5 , 0.25, 0.25, 0.5 , 0.25, 0.5 , 0.25, 0.5 , 0.5 ,\n",
       "       0.5 , 0.25, 0.25, 0.5 , 0.25, 0.5 , 0.25, 0.5 , 0.25, 0.25, 0.5 ,\n",
       "       0.25, 0.25, 0.5 , 0.25, 0.5 , 0.25, 0.25, 0.5 , 0.5 , 0.25, 0.5 ,\n",
       "       0.25, 0.5 , 0.25, 0.5 , 0.25, 0.25, 0.25, 0.25, 0.25, 0.25, 0.25,\n",
       "       0.25, 0.25, 0.25, 0.25, 0.5 , 0.25, 0.25, 0.5 , 0.25, 0.5 , 0.25,\n",
       "       0.5 , 0.25, 0.25, 0.5 , 0.5 , 0.25, 0.25, 0.25, 0.5 , 0.5 , 0.25,\n",
       "       0.5 , 0.25, 0.5 , 0.25, 0.25, 0.25, 0.5 , 0.25, 0.25, 0.5 , 0.25,\n",
       "       0.25, 0.25, 0.25, 0.25, 0.25, 0.25, 0.5 , 0.25, 0.5 , 0.25, 0.5 ,\n",
       "       0.5 , 0.5 , 0.25, 0.25, 0.25, 0.25, 0.25, 0.5 , 0.25, 0.25, 0.25,\n",
       "       0.25])"
      ]
     },
     "execution_count": 108,
     "metadata": {},
     "output_type": "execute_result"
    }
   ],
   "source": [
    "p = 0.5\n",
    "\n",
    "binom.pmf(data, 2, p)"
   ]
  },
  {
   "cell_type": "code",
   "execution_count": 109,
   "metadata": {},
   "outputs": [
    {
     "data": {
      "text/plain": [
       "2.4849066497880004"
      ]
     },
     "execution_count": 109,
     "metadata": {},
     "output_type": "execute_result"
    }
   ],
   "source": [
    "np.log(3)+np.log(4)"
   ]
  },
  {
   "cell_type": "code",
   "execution_count": 110,
   "metadata": {},
   "outputs": [
    {
     "data": {
      "text/plain": [
       "2.4849066497880004"
      ]
     },
     "execution_count": 110,
     "metadata": {},
     "output_type": "execute_result"
    }
   ],
   "source": [
    "np.log(12)"
   ]
  },
  {
   "cell_type": "code",
   "execution_count": 120,
   "metadata": {},
   "outputs": [],
   "source": [
    "p = .2\n",
    "like= binom.pmf(data, 2, p)"
   ]
  },
  {
   "cell_type": "code",
   "execution_count": 121,
   "metadata": {},
   "outputs": [
    {
     "data": {
      "text/plain": [
       "92.45586572147816"
      ]
     },
     "execution_count": 121,
     "metadata": {},
     "output_type": "execute_result"
    }
   ],
   "source": [
    "-np.sum(np.log(like)) #우도의 로그의 합 = 우도의 곱의 로그 "
   ]
  },
  {
   "cell_type": "code",
   "execution_count": 122,
   "metadata": {},
   "outputs": [],
   "source": [
    "def lk(p):\n",
    "    like = binom.pmf(data, 2, p)\n",
    "    return -np.sum(np.log(like))"
   ]
  },
  {
   "cell_type": "code",
   "execution_count": 125,
   "metadata": {},
   "outputs": [
    {
     "data": {
      "text/plain": [
       "      fun: 89.99796595415279\n",
       " hess_inv: <1x1 LbfgsInvHessProduct with dtype=float64>\n",
       "      jac: array([-1.13686838e-05])\n",
       "  message: b'CONVERGENCE: REL_REDUCTION_OF_F_<=_FACTR*EPSMCH'\n",
       "     nfev: 14\n",
       "      nit: 5\n",
       "   status: 0\n",
       "  success: True\n",
       "        x: array([0.26499999])"
      ]
     },
     "execution_count": 125,
     "metadata": {},
     "output_type": "execute_result"
    }
   ],
   "source": [
    "minimize(lk, [.5], bounds = [(0.01,.99)])"
   ]
  },
  {
   "cell_type": "code",
   "execution_count": 126,
   "metadata": {},
   "outputs": [
    {
     "data": {
      "text/plain": [
       "0.265"
      ]
     },
     "execution_count": 126,
     "metadata": {},
     "output_type": "execute_result"
    }
   ],
   "source": [
    "np.mean(data)/2"
   ]
  },
  {
   "cell_type": "code",
   "execution_count": 183,
   "metadata": {},
   "outputs": [],
   "source": [
    "ability = np.array([1, 5, 3, 4, 5, 3]) # 5 4 3 2 1 \n",
    "success = np.array([0, 1, 0, 0, 1, 1]) #success = 0, fail = 1"
   ]
  },
  {
   "cell_type": "code",
   "execution_count": 158,
   "metadata": {},
   "outputs": [],
   "source": [
    "from scipy.special import expit #logistic "
   ]
  },
  {
   "cell_type": "code",
   "execution_count": 159,
   "metadata": {},
   "outputs": [],
   "source": [
    "a = .3\n",
    "b = .2"
   ]
  },
  {
   "cell_type": "code",
   "execution_count": 178,
   "metadata": {},
   "outputs": [],
   "source": [
    "possibility = expit(a*success + b)"
   ]
  },
  {
   "cell_type": "code",
   "execution_count": 179,
   "metadata": {},
   "outputs": [],
   "source": [
    "합격자우도 = np.log(possibility) * success #합격자의 우도"
   ]
  },
  {
   "cell_type": "code",
   "execution_count": 180,
   "metadata": {},
   "outputs": [],
   "source": [
    "탈락자우도 = np.log(1-possibility)*(1-success) #탈라자의 우도"
   ]
  },
  {
   "cell_type": "code",
   "execution_count": 181,
   "metadata": {},
   "outputs": [],
   "source": [
    "우도 = 합격자우도 + 탈락자우도"
   ]
  },
  {
   "cell_type": "code",
   "execution_count": 182,
   "metadata": {},
   "outputs": [
    {
     "data": {
      "text/plain": [
       "3.49258567548361"
      ]
     },
     "execution_count": 182,
     "metadata": {},
     "output_type": "execute_result"
    }
   ],
   "source": [
    "-np.sum(우도)"
   ]
  },
  {
   "cell_type": "code",
   "execution_count": 184,
   "metadata": {},
   "outputs": [],
   "source": [
    "def lk(param):\n",
    "    a, b = param\n",
    "    possibility = expit(a*ability + b)\n",
    "    합격자우도 = np.log(possibility)*success\n",
    "    탈락자우도 = np.log(1-possibility)*(1-success)\n",
    "    우도 = 합격자우도 + 탈락자우도 \n",
    "    return -np.sum(우도)"
   ]
  },
  {
   "cell_type": "code",
   "execution_count": 186,
   "metadata": {},
   "outputs": [
    {
     "data": {
      "text/plain": [
       "      fun: 2.8550135317560628\n",
       " hess_inv: array([[ 1.08423602, -3.96722068],\n",
       "       [-3.96722068, 15.55616106]])\n",
       "      jac: array([-2.86102295e-06, -1.25169754e-06])\n",
       "  message: 'Optimization terminated successfully.'\n",
       "     nfev: 48\n",
       "      nit: 10\n",
       "     njev: 12\n",
       "   status: 0\n",
       "  success: True\n",
       "        x: array([ 1.30380162, -4.70457229])"
      ]
     },
     "execution_count": 186,
     "metadata": {},
     "output_type": "execute_result"
    }
   ],
   "source": [
    "minimize(lk, [0,0])"
   ]
  },
  {
   "cell_type": "code",
   "execution_count": 187,
   "metadata": {},
   "outputs": [
    {
     "data": {
      "text/plain": [
       "array([0.03227139, 0.85989713, 0.31148897, 0.62495513, 0.85989713,\n",
       "       0.31148897])"
      ]
     },
     "execution_count": 187,
     "metadata": {},
     "output_type": "execute_result"
    }
   ],
   "source": [
    "expit(1.30380162*ability -4.70457229)"
   ]
  },
  {
   "cell_type": "code",
   "execution_count": null,
   "metadata": {},
   "outputs": [],
   "source": []
  }
 ],
 "metadata": {
  "kernelspec": {
   "display_name": "Python 3",
   "language": "python",
   "name": "python3"
  },
  "language_info": {
   "codemirror_mode": {
    "name": "ipython",
    "version": 3
   },
   "file_extension": ".py",
   "mimetype": "text/x-python",
   "name": "python",
   "nbconvert_exporter": "python",
   "pygments_lexer": "ipython3",
   "version": "3.7.4"
  }
 },
 "nbformat": 4,
 "nbformat_minor": 2
}
