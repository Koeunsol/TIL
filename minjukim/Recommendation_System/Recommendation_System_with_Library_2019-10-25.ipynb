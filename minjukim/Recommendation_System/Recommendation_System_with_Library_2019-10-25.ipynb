{
 "cells": [
  {
   "cell_type": "code",
   "execution_count": 1,
   "metadata": {},
   "outputs": [],
   "source": [
    "import pandas as pd\n",
    "import numpy as np\n",
    "import matplotlib\n",
    "import matplotlib.pyplot as plt"
   ]
  },
  {
   "cell_type": "code",
   "execution_count": 2,
   "metadata": {},
   "outputs": [],
   "source": [
    "%matplotlib inline"
   ]
  },
  {
   "cell_type": "code",
   "execution_count": 14,
   "metadata": {},
   "outputs": [],
   "source": [
    "metadata = pd.read_csv('Data/metadata.csv')\n",
    "ratings_train = pd.read_csv('Data/ratings-train.csv')\n",
    "ratings_valid = pd.read_csv('Data/ratings-valid.csv').sample(frac=0.2, random_state=17)"
   ]
  },
  {
   "cell_type": "code",
   "execution_count": 9,
   "metadata": {},
   "outputs": [
    {
     "data": {
      "text/html": [
       "<div>\n",
       "<style scoped>\n",
       "    .dataframe tbody tr th:only-of-type {\n",
       "        vertical-align: middle;\n",
       "    }\n",
       "\n",
       "    .dataframe tbody tr th {\n",
       "        vertical-align: top;\n",
       "    }\n",
       "\n",
       "    .dataframe thead th {\n",
       "        text-align: right;\n",
       "    }\n",
       "</style>\n",
       "<table border=\"1\" class=\"dataframe\">\n",
       "  <thead>\n",
       "    <tr style=\"text-align: right;\">\n",
       "      <th></th>\n",
       "      <th>itemid</th>\n",
       "      <th>title</th>\n",
       "      <th>genres</th>\n",
       "      <th>country</th>\n",
       "      <th>running_min</th>\n",
       "    </tr>\n",
       "  </thead>\n",
       "  <tbody>\n",
       "    <tr>\n",
       "      <th>2598</th>\n",
       "      <td>75497</td>\n",
       "      <td>또 하나의 약속 (2013)</td>\n",
       "      <td>드라마</td>\n",
       "      <td>한국</td>\n",
       "      <td>120</td>\n",
       "    </tr>\n",
       "  </tbody>\n",
       "</table>\n",
       "</div>"
      ],
      "text/plain": [
       "      itemid            title genres country  running_min\n",
       "2598   75497  또 하나의 약속 (2013)    드라마      한국          120"
      ]
     },
     "execution_count": 9,
     "metadata": {},
     "output_type": "execute_result"
    }
   ],
   "source": [
    "metadata.sample()"
   ]
  },
  {
   "cell_type": "code",
   "execution_count": 15,
   "metadata": {},
   "outputs": [
    {
     "data": {
      "text/html": [
       "<div>\n",
       "<style scoped>\n",
       "    .dataframe tbody tr th:only-of-type {\n",
       "        vertical-align: middle;\n",
       "    }\n",
       "\n",
       "    .dataframe tbody tr th {\n",
       "        vertical-align: top;\n",
       "    }\n",
       "\n",
       "    .dataframe thead th {\n",
       "        text-align: right;\n",
       "    }\n",
       "</style>\n",
       "<table border=\"1\" class=\"dataframe\">\n",
       "  <thead>\n",
       "    <tr style=\"text-align: right;\">\n",
       "      <th></th>\n",
       "      <th>userid</th>\n",
       "      <th>itemid</th>\n",
       "      <th>rating</th>\n",
       "    </tr>\n",
       "  </thead>\n",
       "  <tbody>\n",
       "    <tr>\n",
       "      <th>18743</th>\n",
       "      <td>MkM2Mg==</td>\n",
       "      <td>44451</td>\n",
       "      <td>6</td>\n",
       "    </tr>\n",
       "  </tbody>\n",
       "</table>\n",
       "</div>"
      ],
      "text/plain": [
       "         userid  itemid  rating\n",
       "18743  MkM2Mg==   44451       6"
      ]
     },
     "execution_count": 15,
     "metadata": {},
     "output_type": "execute_result"
    }
   ],
   "source": [
    "ratings_train.sample()"
   ]
  },
  {
   "cell_type": "code",
   "execution_count": 16,
   "metadata": {},
   "outputs": [
    {
     "data": {
      "text/html": [
       "<div>\n",
       "<style scoped>\n",
       "    .dataframe tbody tr th:only-of-type {\n",
       "        vertical-align: middle;\n",
       "    }\n",
       "\n",
       "    .dataframe tbody tr th {\n",
       "        vertical-align: top;\n",
       "    }\n",
       "\n",
       "    .dataframe thead th {\n",
       "        text-align: right;\n",
       "    }\n",
       "</style>\n",
       "<table border=\"1\" class=\"dataframe\">\n",
       "  <thead>\n",
       "    <tr style=\"text-align: right;\">\n",
       "      <th></th>\n",
       "      <th>userid</th>\n",
       "      <th>itemid</th>\n",
       "      <th>rating</th>\n",
       "    </tr>\n",
       "  </thead>\n",
       "  <tbody>\n",
       "    <tr>\n",
       "      <th>3166</th>\n",
       "      <td>NmpTcg==</td>\n",
       "      <td>13247</td>\n",
       "      <td>10</td>\n",
       "    </tr>\n",
       "  </tbody>\n",
       "</table>\n",
       "</div>"
      ],
      "text/plain": [
       "        userid  itemid  rating\n",
       "3166  NmpTcg==   13247      10"
      ]
     },
     "execution_count": 16,
     "metadata": {},
     "output_type": "execute_result"
    }
   ],
   "source": [
    "ratings_valid.sample()"
   ]
  },
  {
   "cell_type": "markdown",
   "metadata": {},
   "source": [
    "# RMSE 함수"
   ]
  },
  {
   "cell_type": "code",
   "execution_count": 32,
   "metadata": {},
   "outputs": [],
   "source": [
    "def rmse(expected, answer):\n",
    "    merged = pd.merge(answer, expected, how='left', on=['userid', 'itemid'])\n",
    "    merged['rating_y'] = merged['rating_y'].fillna(0)\n",
    "    merged['square_error'] = (merged['rating_x'] - merged['rating_y']) ** 2\n",
    "    return merged['square_error'].mean() ** 0.5"
   ]
  },
  {
   "cell_type": "markdown",
   "metadata": {},
   "source": [
    "# Jaccard Similarity\n",
    "아래 코드가 계산하는데 오래걸려서 수식을 수정\n",
    "\n",
    "$u, v -> len(i_dict[u] & i_dict[v]) / len(i_dict[u] | i_dict[v])$"
   ]
  },
  {
   "cell_type": "code",
   "execution_count": 23,
   "metadata": {},
   "outputs": [],
   "source": [
    "all_users = ratings_train['userid'].unique()\n",
    "\n",
    "i_dict = {u : set(ratings_train[ratings_train['userid'] == u]['itemid'])\n",
    "         for u in all_users}\n",
    "\n",
    "def sim(u, v):\n",
    "    i_u = i_dict[u]\n",
    "    i_v = i_dict[v]\n",
    "    \n",
    "    cup = i_dict[u] | i_dict[v]\n",
    "    cap = i_dict[u] & i_dict[v]\n",
    "    \n",
    "    if len(cup) == 0:\n",
    "        return 0.0\n",
    "    return len(cap) / len(cup)"
   ]
  },
  {
   "cell_type": "code",
   "execution_count": 25,
   "metadata": {},
   "outputs": [
    {
     "data": {
      "text/plain": [
       "0.08333333333333333"
      ]
     },
     "execution_count": 25,
     "metadata": {},
     "output_type": "execute_result"
    }
   ],
   "source": [
    "sim('TERhUA==', 'Q1ladXM=')"
   ]
  },
  {
   "cell_type": "markdown",
   "metadata": {},
   "source": [
    "# Similar User 찾기\n",
    "k 값을 5로 놓는건 이유없음. 바꿔봐도 된다. k 가 성능 결정할 수 있다"
   ]
  },
  {
   "cell_type": "code",
   "execution_count": 49,
   "metadata": {},
   "outputs": [],
   "source": [
    "def similar_users(u, k):\n",
    "    sims = [(sim(u, v), v) for v in all_users if u != v]\n",
    "    sorted_sims = sorted(sims, reverse=True)\n",
    "    topk_sims = sorted_sims[:k]\n",
    "    \n",
    "    topk_users = [v for s, v in topk_sims]\n",
    "    \n",
    "    return pd.DataFrame(topk_users, columns=['userid'])"
   ]
  },
  {
   "cell_type": "code",
   "execution_count": 50,
   "metadata": {},
   "outputs": [
    {
     "data": {
      "text/html": [
       "<div>\n",
       "<style scoped>\n",
       "    .dataframe tbody tr th:only-of-type {\n",
       "        vertical-align: middle;\n",
       "    }\n",
       "\n",
       "    .dataframe tbody tr th {\n",
       "        vertical-align: top;\n",
       "    }\n",
       "\n",
       "    .dataframe thead th {\n",
       "        text-align: right;\n",
       "    }\n",
       "</style>\n",
       "<table border=\"1\" class=\"dataframe\">\n",
       "  <thead>\n",
       "    <tr style=\"text-align: right;\">\n",
       "      <th></th>\n",
       "      <th>userid</th>\n",
       "    </tr>\n",
       "  </thead>\n",
       "  <tbody>\n",
       "    <tr>\n",
       "      <th>0</th>\n",
       "      <td>YzkyQQ==</td>\n",
       "    </tr>\n",
       "    <tr>\n",
       "      <th>1</th>\n",
       "      <td>NGdmcVQ=</td>\n",
       "    </tr>\n",
       "    <tr>\n",
       "      <th>2</th>\n",
       "      <td>M2hETGQ=</td>\n",
       "    </tr>\n",
       "    <tr>\n",
       "      <th>3</th>\n",
       "      <td>V0NyaQ==</td>\n",
       "    </tr>\n",
       "    <tr>\n",
       "      <th>4</th>\n",
       "      <td>QTB5d0E=</td>\n",
       "    </tr>\n",
       "  </tbody>\n",
       "</table>\n",
       "</div>"
      ],
      "text/plain": [
       "     userid\n",
       "0  YzkyQQ==\n",
       "1  NGdmcVQ=\n",
       "2  M2hETGQ=\n",
       "3  V0NyaQ==\n",
       "4  QTB5d0E="
      ]
     },
     "execution_count": 50,
     "metadata": {},
     "output_type": "execute_result"
    }
   ],
   "source": [
    "similar_users('TERhUA==', 5)"
   ]
  },
  {
   "cell_type": "code",
   "execution_count": 55,
   "metadata": {},
   "outputs": [],
   "source": [
    "# sim 도 함께 반환하도록 함수 수정\n",
    "\n",
    "def similar_users(u, k):\n",
    "    sims = [(sim(u, v), v) for v in all_users if u != v]\n",
    "    sorted_sims = sorted(sims, reverse=True)\n",
    "    topk_sims = sorted_sims[:k]\n",
    "    \n",
    "    return pd.DataFrame(topk_sims, columns=['sim', 'userid'])"
   ]
  },
  {
   "cell_type": "code",
   "execution_count": 56,
   "metadata": {},
   "outputs": [
    {
     "data": {
      "text/html": [
       "<div>\n",
       "<style scoped>\n",
       "    .dataframe tbody tr th:only-of-type {\n",
       "        vertical-align: middle;\n",
       "    }\n",
       "\n",
       "    .dataframe tbody tr th {\n",
       "        vertical-align: top;\n",
       "    }\n",
       "\n",
       "    .dataframe thead th {\n",
       "        text-align: right;\n",
       "    }\n",
       "</style>\n",
       "<table border=\"1\" class=\"dataframe\">\n",
       "  <thead>\n",
       "    <tr style=\"text-align: right;\">\n",
       "      <th></th>\n",
       "      <th>sim</th>\n",
       "      <th>userid</th>\n",
       "    </tr>\n",
       "  </thead>\n",
       "  <tbody>\n",
       "    <tr>\n",
       "      <th>0</th>\n",
       "      <td>0.142857</td>\n",
       "      <td>YzkyQQ==</td>\n",
       "    </tr>\n",
       "    <tr>\n",
       "      <th>1</th>\n",
       "      <td>0.125000</td>\n",
       "      <td>NGdmcVQ=</td>\n",
       "    </tr>\n",
       "    <tr>\n",
       "      <th>2</th>\n",
       "      <td>0.125000</td>\n",
       "      <td>M2hETGQ=</td>\n",
       "    </tr>\n",
       "    <tr>\n",
       "      <th>3</th>\n",
       "      <td>0.111111</td>\n",
       "      <td>V0NyaQ==</td>\n",
       "    </tr>\n",
       "    <tr>\n",
       "      <th>4</th>\n",
       "      <td>0.111111</td>\n",
       "      <td>QTB5d0E=</td>\n",
       "    </tr>\n",
       "  </tbody>\n",
       "</table>\n",
       "</div>"
      ],
      "text/plain": [
       "        sim    userid\n",
       "0  0.142857  YzkyQQ==\n",
       "1  0.125000  NGdmcVQ=\n",
       "2  0.125000  M2hETGQ=\n",
       "3  0.111111  V0NyaQ==\n",
       "4  0.111111  QTB5d0E="
      ]
     },
     "execution_count": 56,
     "metadata": {},
     "output_type": "execute_result"
    }
   ],
   "source": [
    "similar_users('TERhUA==', 5)"
   ]
  },
  {
   "cell_type": "markdown",
   "metadata": {},
   "source": [
    "# Predict"
   ]
  },
  {
   "cell_type": "code",
   "execution_count": 33,
   "metadata": {},
   "outputs": [
    {
     "data": {
      "text/plain": [
       "2.7423239390279464"
      ]
     },
     "execution_count": 33,
     "metadata": {},
     "output_type": "execute_result"
    }
   ],
   "source": [
    "def predict(u, i):\n",
    "    return 8\n",
    "\n",
    "expected = ratings_valid.copy()\n",
    "expected['rating'] = expected.apply(\n",
    "    lambda x: predict(x['userid'], x['itemid']), axis=1)\n",
    "\n",
    "rmse(expected, ratings_valid)"
   ]
  },
  {
   "cell_type": "markdown",
   "metadata": {},
   "source": [
    "# Predict 함수 수정\n",
    "- 취향이 비슷한 사람들 중 아무도 예측에 필요한 영화를 보지 않았을 때 평점이 없기 때문에 0이 나온다\n",
    "- 0이 나오지 않게 하기 위해\n",
    "- 유저 평균과 유저 평균과의 차이의 차이를 따로 구해서 더해준다"
   ]
  },
  {
   "cell_type": "code",
   "execution_count": 38,
   "metadata": {},
   "outputs": [
    {
     "data": {
      "text/plain": [
       "userid\n",
       "OHlIaDU=    6.5\n",
       "Name: rating, dtype: float64"
      ]
     },
     "execution_count": 38,
     "metadata": {},
     "output_type": "execute_result"
    }
   ],
   "source": [
    "# rating_mean = pd.DataFrame(ratings_train.groupby('userid')['rating'].mean())\n",
    "rating_mean = ratings_train.groupby('userid')['rating'].mean()\n",
    "rating_mean.sample()"
   ]
  },
  {
   "cell_type": "code",
   "execution_count": 39,
   "metadata": {},
   "outputs": [
    {
     "data": {
      "text/plain": [
       "3.0"
      ]
     },
     "execution_count": 39,
     "metadata": {},
     "output_type": "execute_result"
    }
   ],
   "source": [
    "rating_mean['MzVDMXM=']"
   ]
  },
  {
   "cell_type": "code",
   "execution_count": 60,
   "metadata": {},
   "outputs": [
    {
     "data": {
      "text/plain": [
       "0    0.142857\n",
       "1    0.125000\n",
       "2    0.125000\n",
       "3    0.111111\n",
       "4    0.111111\n",
       "Name: sim, dtype: float64"
      ]
     },
     "execution_count": 60,
     "metadata": {},
     "output_type": "execute_result"
    }
   ],
   "source": [
    "similar_users('TERhUA==', 5)['sim']"
   ]
  },
  {
   "cell_type": "code",
   "execution_count": 71,
   "metadata": {},
   "outputs": [
    {
     "data": {
      "text/plain": [
       "2.4540348034876933"
      ]
     },
     "execution_count": 71,
     "metadata": {},
     "output_type": "execute_result"
    }
   ],
   "source": [
    "# 직접 해보기\n",
    "def predict(u, i):\n",
    "    \n",
    "    # 해당 유저의 평점 평균 \n",
    "    u_mean = rating_mean[u]\n",
    "    \n",
    "    # 비슷한 유저와 sim 값\n",
    "    sim = similar_users(u, 5)\n",
    "    \n",
    "    # 해당 영화 i 의 비슷한 유저sim_users 의 평점\n",
    "        # 해당영화의 평점만 불러오기\n",
    "    i_rating = rating_train[rating_train['itemid'] == i][['userid', 'rating']]\n",
    "        # 비슷한 유저의 평점, 해당 영화를 안 봤다면 0으로 바꿈\n",
    "    sim_rating = [i_rating[i_rating['userid'] == x]['rating'] if x in i_rating['userid'] else 0 for x in sim['userid']]\n",
    "    ##### 비슷한 유저가 해당 영화를 안 봤다면 다음으로 유사한 유저를 찾기###\n",
    "    ###\n",
    "    ###\n",
    "    \n",
    "    \n",
    "    # 해당 영화 i 의 비슷한 유저sim_users 의 sim\n",
    "    \n",
    "#     -> zip\n",
    "    return u_mean + np.mean([s * (r - u_mean) for s, r in zip(sim['sim'], sim_rating)])\n",
    "    \n",
    "expected = ratings_valid.copy()\n",
    "expected['rating'] = expected.apply(\n",
    "    lambda x: predict(x['userid'], x['itemid']), axis=1)\n",
    "\n",
    "rmse(expected, ratings_valid)"
   ]
  },
  {
   "cell_type": "code",
   "execution_count": null,
   "metadata": {},
   "outputs": [],
   "source": [
    "# 선생님 코드\n",
    "\n",
    "r_mean = ratings_train.groupby('userid')['rating'].mean().reset_index()\n",
    "def predict(u, i):\n",
    "    topk = similar_users(u, 5)\n",
    "    topk['sim'] = topk.apply(lambda x: sim(u, x['userid']), axis=1)\n",
    "    joined = pd.merge(topk, ratings_train[ratings_train['itemid'] == i], on='userid')\n",
    "    joined = pd.merge(joined, r_mean, on='userid')\n",
    "    joined['score'] = joined['sim'] * (joined['rating_x'] - joined['rating_y'])\n",
    "    \n",
    "    mean_u = r_mean[r_mean['userid'] == u]['rating'].iloc[0]\n",
    "    \n",
    "    sim_sum = joined['sim'].sum()\n",
    "    \n",
    "    r_ui = mean_u\n",
    "    \n",
    "    if len(joined) > 0:\n",
    "        r_ui += joined['score'].sum() / sim_sum\n",
    "    \n",
    "    return r_ui\n",
    "    \n",
    "expected = ratings_valid.copy()\n",
    "expected['rating'] = expected.apply(\n",
    "    lambda x: predict(x['userid'], x['itemid']), axis=1)\n",
    "\n",
    "rmse(expected, ratings_valid)"
   ]
  },
  {
   "cell_type": "code",
   "execution_count": 104,
   "metadata": {},
   "outputs": [
    {
     "data": {
      "text/plain": [
       "2.2450461039661285"
      ]
     },
     "execution_count": 104,
     "metadata": {},
     "output_type": "execute_result"
    }
   ],
   "source": [
    "# 선생님 코드 따라 만드는 중\n",
    "\n",
    "u = 'TERhUA=='\n",
    "i = 96644\n",
    "\n",
    "r_mean = ratings_train.groupby('userid')['rating'].mean().reset_index()\n",
    "\n",
    "def predict(u, i):\n",
    "    topk = similar_users(u, 5)\n",
    "\n",
    "    topk['sim'] = topk.apply(lambda x: sim(u, x['userid']), axis=1)\n",
    "    joined = pd.merge(topk, ratings_train[ratings_train['itemid'] == i], on='userid')\n",
    "    joined = pd.merge(joined, r_mean, on='userid')\n",
    "\n",
    "    joined['score'] = joined['sim'] * (joined['rating_x'] - joined['rating_y'])\n",
    "\n",
    "    mean_u = r_mean[r_mean['userid'] == u]['rating'].iloc[0]\n",
    "\n",
    "    sim_sum = joined['sim'].sum()\n",
    "\n",
    "    r_ui = mean_u\n",
    "\n",
    "    if len(joined) > 0:\n",
    "        r_ui += joined['score'].sum() / sim_sum\n",
    "\n",
    "    return r_ui\n",
    "\n",
    "expected = ratings_valid.copy()\n",
    "expected['rating'] = expected.apply(\n",
    "    lambda x: predict(x['userid'], x['itemid']), axis=1)\n",
    "\n",
    "rmse(expected, ratings_valid)"
   ]
  },
  {
   "cell_type": "code",
   "execution_count": null,
   "metadata": {},
   "outputs": [],
   "source": []
  },
  {
   "cell_type": "markdown",
   "metadata": {},
   "source": [
    "# Surprise 라이브러리의 User-User CF 실습"
   ]
  },
  {
   "cell_type": "code",
   "execution_count": 85,
   "metadata": {},
   "outputs": [],
   "source": [
    "from surprise import Reader, Dataset"
   ]
  },
  {
   "cell_type": "code",
   "execution_count": 89,
   "metadata": {},
   "outputs": [
    {
     "data": {
      "text/plain": [
       "<surprise.trainset.Trainset at 0x1457537dba8>"
      ]
     },
     "execution_count": 89,
     "metadata": {},
     "output_type": "execute_result"
    }
   ],
   "source": [
    "# Reader 데이터 정의\n",
    "# rating_scale 우리가 가지고 있는 rating 의 범위\n",
    "reader = Reader(rating_scale=(0, 10))\n",
    "\n",
    "# load_from_df(DataFrame, 기준)\n",
    "train_ds = Dataset.load_from_df(ratings_train, reader).build_full_trainset()\n",
    "\n",
    "train_ds"
   ]
  },
  {
   "cell_type": "code",
   "execution_count": 105,
   "metadata": {},
   "outputs": [],
   "source": [
    "from surprise import KNNBasic, KNNWithMeans, SVD"
   ]
  },
  {
   "cell_type": "markdown",
   "metadata": {},
   "source": [
    "### KNNBasic"
   ]
  },
  {
   "cell_type": "code",
   "execution_count": 108,
   "metadata": {},
   "outputs": [
    {
     "name": "stdout",
     "output_type": "stream",
     "text": [
      "Computing the msd similarity matrix...\n",
      "Done computing similarity matrix.\n"
     ]
    },
    {
     "data": {
      "text/plain": [
       "<surprise.prediction_algorithms.knns.KNNBasic at 0x14574df8dd8>"
      ]
     },
     "execution_count": 108,
     "metadata": {},
     "output_type": "execute_result"
    }
   ],
   "source": [
    "model = KNNBasic(k=5)\n",
    "model.fit(train_ds)"
   ]
  },
  {
   "cell_type": "markdown",
   "metadata": {},
   "source": [
    "### KNNWithMeans \n",
    "평균에서 얼마나 차이나는지 Std (오늘 함수 구현한 5번)"
   ]
  },
  {
   "cell_type": "code",
   "execution_count": 101,
   "metadata": {},
   "outputs": [
    {
     "name": "stdout",
     "output_type": "stream",
     "text": [
      "Computing the msd similarity matrix...\n",
      "Done computing similarity matrix.\n"
     ]
    },
    {
     "data": {
      "text/plain": [
       "<surprise.prediction_algorithms.knns.KNNWithMeans at 0x14575386f60>"
      ]
     },
     "execution_count": 101,
     "metadata": {},
     "output_type": "execute_result"
    }
   ],
   "source": [
    "model = KNNWithMeans(k=5)\n",
    "model.fit(train_ds)"
   ]
  },
  {
   "cell_type": "markdown",
   "metadata": {},
   "source": [
    "### model.predict(u, i).est 확인"
   ]
  },
  {
   "cell_type": "code",
   "execution_count": 92,
   "metadata": {},
   "outputs": [
    {
     "data": {
      "text/plain": [
       "('TERhUA==', 96644)"
      ]
     },
     "execution_count": 92,
     "metadata": {},
     "output_type": "execute_result"
    }
   ],
   "source": [
    "u, i"
   ]
  },
  {
   "cell_type": "code",
   "execution_count": 98,
   "metadata": {},
   "outputs": [
    {
     "data": {
      "text/plain": [
       "Prediction(uid='TERhUA==', iid=96644, r_ui=None, est=9.027589545014523, details={'actual_k': 5, 'was_impossible': False})"
      ]
     },
     "execution_count": 98,
     "metadata": {},
     "output_type": "execute_result"
    }
   ],
   "source": [
    "model.predict(u, i)"
   ]
  },
  {
   "cell_type": "code",
   "execution_count": 97,
   "metadata": {},
   "outputs": [
    {
     "data": {
      "text/plain": [
       "9.027589545014523"
      ]
     },
     "execution_count": 97,
     "metadata": {},
     "output_type": "execute_result"
    }
   ],
   "source": [
    "# est: estimation\n",
    "\n",
    "model.predict(u, i).est"
   ]
  },
  {
   "cell_type": "markdown",
   "metadata": {},
   "source": [
    "### SVD"
   ]
  },
  {
   "cell_type": "code",
   "execution_count": 110,
   "metadata": {},
   "outputs": [
    {
     "data": {
      "text/plain": [
       "<surprise.prediction_algorithms.matrix_factorization.SVD at 0x14574df8b38>"
      ]
     },
     "execution_count": 110,
     "metadata": {},
     "output_type": "execute_result"
    }
   ],
   "source": [
    "model = SVD(n_epochs=200, random_state=17)\n",
    "model.fit(train_ds)"
   ]
  },
  {
   "cell_type": "code",
   "execution_count": 111,
   "metadata": {},
   "outputs": [
    {
     "data": {
      "text/plain": [
       "1.966236860523171"
      ]
     },
     "execution_count": 111,
     "metadata": {},
     "output_type": "execute_result"
    }
   ],
   "source": [
    "def predict(u, i):\n",
    "    return model.predict(u, i).est\n",
    "\n",
    "expected = ratings_valid.copy()\n",
    "expected['rating'] = expected.apply(\n",
    "lambda x: predict(x['userid'], x['itemid']), axis=1)\n",
    "\n",
    "rmse(expected, ratings_valid)"
   ]
  },
  {
   "cell_type": "markdown",
   "metadata": {},
   "source": [
    "### SVD parameter 찾기\n",
    "#### n_factors\n",
    "- 전체 학습 횟수 (default 20 적다)\n",
    "\n",
    "#### n_epochs\n",
    "- 복잡한 모델일수록 요구되는 epochs 이 높다\n",
    "- factor 를 높일수록 똑똑한 모델\n",
    "\n",
    "#### random_state\n",
    "\n",
    "#### reg_all \n",
    "- Regularization $λ$ 값이 커질수록 설명력이 줄어든다\n",
    "- Objective function 에서 $λ$\n",
    "\n",
    "> #### reg_@@@@ parameter\n",
    "> - Surprise 는 $λ$ 를 각각 따로 설정해줄 수 있다 \n",
    "> - 들은 $λ$ 를 설정하는 방식을 정해주는 것\n",
    "\n",
    "#### biased\n",
    "유저나 아이템에 대한 선입견이 있다면 True (Default: True)\n",
    "\n",
    "#### lr_all\n",
    "- 모든 parameter 에 대해 똑같은 Learning Rate 를 쓰는 것\n",
    "> Learning Rate : 얼마나 큰 보폭으로 움직일지(최저점 찾기)\n",
    ">\n",
    "> 숫자가 클수록 처리속도 빠르다\n",
    "\n",
    "- Gradiant Distinct model"
   ]
  },
  {
   "cell_type": "code",
   "execution_count": 113,
   "metadata": {},
   "outputs": [
    {
     "name": "stdout",
     "output_type": "stream",
     "text": [
      "Processing epoch 0\n",
      "Processing epoch 1\n",
      "Processing epoch 2\n",
      "Processing epoch 3\n",
      "Processing epoch 4\n",
      "Processing epoch 5\n",
      "Processing epoch 6\n",
      "Processing epoch 7\n",
      "Processing epoch 8\n",
      "Processing epoch 9\n",
      "Processing epoch 10\n",
      "Processing epoch 11\n",
      "Processing epoch 12\n",
      "Processing epoch 13\n",
      "Processing epoch 14\n",
      "Processing epoch 15\n",
      "Processing epoch 16\n",
      "Processing epoch 17\n",
      "Processing epoch 18\n",
      "Processing epoch 19\n",
      "Processing epoch 20\n",
      "Processing epoch 21\n",
      "Processing epoch 22\n",
      "Processing epoch 23\n",
      "Processing epoch 24\n",
      "Processing epoch 25\n",
      "Processing epoch 26\n",
      "Processing epoch 27\n",
      "Processing epoch 28\n",
      "Processing epoch 29\n",
      "Processing epoch 30\n",
      "Processing epoch 31\n",
      "Processing epoch 32\n",
      "Processing epoch 33\n",
      "Processing epoch 34\n",
      "Processing epoch 35\n",
      "Processing epoch 36\n",
      "Processing epoch 37\n",
      "Processing epoch 38\n",
      "Processing epoch 39\n",
      "Processing epoch 40\n",
      "Processing epoch 41\n",
      "Processing epoch 42\n",
      "Processing epoch 43\n",
      "Processing epoch 44\n",
      "Processing epoch 45\n",
      "Processing epoch 46\n",
      "Processing epoch 47\n",
      "Processing epoch 48\n",
      "Processing epoch 49\n",
      "Processing epoch 50\n",
      "Processing epoch 51\n",
      "Processing epoch 52\n",
      "Processing epoch 53\n",
      "Processing epoch 54\n",
      "Processing epoch 55\n",
      "Processing epoch 56\n",
      "Processing epoch 57\n",
      "Processing epoch 58\n",
      "Processing epoch 59\n",
      "Processing epoch 60\n",
      "Processing epoch 61\n",
      "Processing epoch 62\n",
      "Processing epoch 63\n",
      "Processing epoch 64\n",
      "Processing epoch 65\n",
      "Processing epoch 66\n",
      "Processing epoch 67\n",
      "Processing epoch 68\n",
      "Processing epoch 69\n",
      "Processing epoch 70\n",
      "Processing epoch 71\n",
      "Processing epoch 72\n",
      "Processing epoch 73\n",
      "Processing epoch 74\n",
      "Processing epoch 75\n",
      "Processing epoch 76\n",
      "Processing epoch 77\n",
      "Processing epoch 78\n",
      "Processing epoch 79\n",
      "Processing epoch 80\n",
      "Processing epoch 81\n",
      "Processing epoch 82\n",
      "Processing epoch 83\n",
      "Processing epoch 84\n",
      "Processing epoch 85\n",
      "Processing epoch 86\n",
      "Processing epoch 87\n",
      "Processing epoch 88\n",
      "Processing epoch 89\n",
      "Processing epoch 90\n",
      "Processing epoch 91\n",
      "Processing epoch 92\n",
      "Processing epoch 93\n",
      "Processing epoch 94\n",
      "Processing epoch 95\n",
      "Processing epoch 96\n",
      "Processing epoch 97\n",
      "Processing epoch 98\n",
      "Processing epoch 99\n",
      "Processing epoch 100\n",
      "Processing epoch 101\n",
      "Processing epoch 102\n",
      "Processing epoch 103\n",
      "Processing epoch 104\n",
      "Processing epoch 105\n",
      "Processing epoch 106\n",
      "Processing epoch 107\n",
      "Processing epoch 108\n",
      "Processing epoch 109\n",
      "Processing epoch 110\n",
      "Processing epoch 111\n",
      "Processing epoch 112\n",
      "Processing epoch 113\n",
      "Processing epoch 114\n",
      "Processing epoch 115\n",
      "Processing epoch 116\n",
      "Processing epoch 117\n",
      "Processing epoch 118\n",
      "Processing epoch 119\n",
      "Processing epoch 120\n",
      "Processing epoch 121\n",
      "Processing epoch 122\n",
      "Processing epoch 123\n",
      "Processing epoch 124\n",
      "Processing epoch 125\n",
      "Processing epoch 126\n",
      "Processing epoch 127\n",
      "Processing epoch 128\n",
      "Processing epoch 129\n",
      "Processing epoch 130\n",
      "Processing epoch 131\n",
      "Processing epoch 132\n",
      "Processing epoch 133\n",
      "Processing epoch 134\n",
      "Processing epoch 135\n",
      "Processing epoch 136\n",
      "Processing epoch 137\n",
      "Processing epoch 138\n",
      "Processing epoch 139\n",
      "Processing epoch 140\n",
      "Processing epoch 141\n",
      "Processing epoch 142\n",
      "Processing epoch 143\n",
      "Processing epoch 144\n",
      "Processing epoch 145\n",
      "Processing epoch 146\n",
      "Processing epoch 147\n",
      "Processing epoch 148\n",
      "Processing epoch 149\n",
      "Processing epoch 150\n",
      "Processing epoch 151\n",
      "Processing epoch 152\n",
      "Processing epoch 153\n",
      "Processing epoch 154\n",
      "Processing epoch 155\n",
      "Processing epoch 156\n",
      "Processing epoch 157\n",
      "Processing epoch 158\n",
      "Processing epoch 159\n",
      "Processing epoch 160\n",
      "Processing epoch 161\n",
      "Processing epoch 162\n",
      "Processing epoch 163\n",
      "Processing epoch 164\n",
      "Processing epoch 165\n",
      "Processing epoch 166\n",
      "Processing epoch 167\n",
      "Processing epoch 168\n",
      "Processing epoch 169\n",
      "Processing epoch 170\n",
      "Processing epoch 171\n",
      "Processing epoch 172\n",
      "Processing epoch 173\n",
      "Processing epoch 174\n",
      "Processing epoch 175\n",
      "Processing epoch 176\n",
      "Processing epoch 177\n",
      "Processing epoch 178\n",
      "Processing epoch 179\n",
      "Processing epoch 180\n",
      "Processing epoch 181\n",
      "Processing epoch 182\n",
      "Processing epoch 183\n",
      "Processing epoch 184\n",
      "Processing epoch 185\n",
      "Processing epoch 186\n",
      "Processing epoch 187\n",
      "Processing epoch 188\n",
      "Processing epoch 189\n",
      "Processing epoch 190\n",
      "Processing epoch 191\n",
      "Processing epoch 192\n",
      "Processing epoch 193\n",
      "Processing epoch 194\n",
      "Processing epoch 195\n",
      "Processing epoch 196\n",
      "Processing epoch 197\n",
      "Processing epoch 198\n",
      "Processing epoch 199\n"
     ]
    },
    {
     "data": {
      "text/plain": [
       "<surprise.prediction_algorithms.matrix_factorization.SVD at 0x14575cd7320>"
      ]
     },
     "execution_count": 113,
     "metadata": {},
     "output_type": "execute_result"
    }
   ],
   "source": [
    "# verbose 얼마나 반복하고 있는지 출력해준다, 거의 모든 함수에 내장\n",
    "\n",
    "model = SVD(random_state=17, n_factors=200, n_epochs=200, lr_all=0.0052, reg_all=0.04, verbose=True)\n",
    "model.fit(train_ds)"
   ]
  },
  {
   "cell_type": "code",
   "execution_count": 114,
   "metadata": {},
   "outputs": [
    {
     "data": {
      "text/plain": [
       "1.9359638225728153"
      ]
     },
     "execution_count": 114,
     "metadata": {},
     "output_type": "execute_result"
    }
   ],
   "source": [
    "def predict(u, i):\n",
    "    return model.predict(u, i).est\n",
    "\n",
    "expected = ratings_valid.copy()\n",
    "expected['rating'] = expected.apply(\n",
    "lambda x: predict(x['userid'], x['itemid']), axis=1)\n",
    "\n",
    "rmse(expected, ratings_valid)"
   ]
  },
  {
   "cell_type": "markdown",
   "metadata": {},
   "source": [
    "# 유사 엔티티 분석"
   ]
  },
  {
   "cell_type": "code",
   "execution_count": 116,
   "metadata": {},
   "outputs": [
    {
     "data": {
      "text/plain": [
       "(5834, 200)"
      ]
     },
     "execution_count": 116,
     "metadata": {},
     "output_type": "execute_result"
    }
   ],
   "source": [
    "# (영화갯수, n_factors)\n",
    "\n",
    "model.qi.shape"
   ]
  },
  {
   "cell_type": "code",
   "execution_count": 118,
   "metadata": {},
   "outputs": [
    {
     "data": {
      "text/html": [
       "<div>\n",
       "<style scoped>\n",
       "    .dataframe tbody tr th:only-of-type {\n",
       "        vertical-align: middle;\n",
       "    }\n",
       "\n",
       "    .dataframe tbody tr th {\n",
       "        vertical-align: top;\n",
       "    }\n",
       "\n",
       "    .dataframe thead th {\n",
       "        text-align: right;\n",
       "    }\n",
       "</style>\n",
       "<table border=\"1\" class=\"dataframe\">\n",
       "  <thead>\n",
       "    <tr style=\"text-align: right;\">\n",
       "      <th></th>\n",
       "      <th>0</th>\n",
       "      <th>1</th>\n",
       "      <th>2</th>\n",
       "      <th>3</th>\n",
       "      <th>4</th>\n",
       "      <th>5</th>\n",
       "      <th>6</th>\n",
       "      <th>7</th>\n",
       "      <th>8</th>\n",
       "      <th>9</th>\n",
       "      <th>...</th>\n",
       "      <th>190</th>\n",
       "      <th>191</th>\n",
       "      <th>192</th>\n",
       "      <th>193</th>\n",
       "      <th>194</th>\n",
       "      <th>195</th>\n",
       "      <th>196</th>\n",
       "      <th>197</th>\n",
       "      <th>198</th>\n",
       "      <th>199</th>\n",
       "    </tr>\n",
       "  </thead>\n",
       "  <tbody>\n",
       "    <tr>\n",
       "      <th>1510</th>\n",
       "      <td>-0.338714</td>\n",
       "      <td>-0.186605</td>\n",
       "      <td>0.110693</td>\n",
       "      <td>-0.22318</td>\n",
       "      <td>0.365912</td>\n",
       "      <td>-0.004611</td>\n",
       "      <td>0.027702</td>\n",
       "      <td>-0.215159</td>\n",
       "      <td>0.303408</td>\n",
       "      <td>-0.523358</td>\n",
       "      <td>...</td>\n",
       "      <td>-0.356361</td>\n",
       "      <td>0.134025</td>\n",
       "      <td>-0.173365</td>\n",
       "      <td>0.179754</td>\n",
       "      <td>0.178434</td>\n",
       "      <td>0.100316</td>\n",
       "      <td>-0.274203</td>\n",
       "      <td>-0.081716</td>\n",
       "      <td>-0.186888</td>\n",
       "      <td>-0.000701</td>\n",
       "    </tr>\n",
       "  </tbody>\n",
       "</table>\n",
       "<p>1 rows × 200 columns</p>\n",
       "</div>"
      ],
      "text/plain": [
       "           0         1         2        3         4         5         6    \\\n",
       "1510 -0.338714 -0.186605  0.110693 -0.22318  0.365912 -0.004611  0.027702   \n",
       "\n",
       "           7         8         9    ...       190       191       192  \\\n",
       "1510 -0.215159  0.303408 -0.523358  ... -0.356361  0.134025 -0.173365   \n",
       "\n",
       "           193       194       195       196       197       198       199  \n",
       "1510  0.179754  0.178434  0.100316 -0.274203 -0.081716 -0.186888 -0.000701  \n",
       "\n",
       "[1 rows x 200 columns]"
      ]
     },
     "execution_count": 118,
     "metadata": {},
     "output_type": "execute_result"
    }
   ],
   "source": [
    "df_qi = pd.DataFrame(model.qi)\n",
    "\n",
    "df_qi.sample()"
   ]
  },
  {
   "cell_type": "markdown",
   "metadata": {},
   "source": [
    "#### tsv 파일로 저장"
   ]
  },
  {
   "cell_type": "code",
   "execution_count": 136,
   "metadata": {},
   "outputs": [],
   "source": [
    "df_qi.to_csv('Data/qi.tsv', sep='\\t', index=False, header=False)"
   ]
  },
  {
   "cell_type": "markdown",
   "metadata": {},
   "source": [
    "저장한 파일을 Embedding Projector website 에서 불러와서 3차원으로 변환"
   ]
  },
  {
   "cell_type": "code",
   "execution_count": 125,
   "metadata": {
    "collapsed": true
   },
   "outputs": [
    {
     "data": {
      "text/plain": [
       "0        55396\n",
       "1        42858\n",
       "2       121058\n",
       "3         4285\n",
       "4        36948\n",
       "5          150\n",
       "6         2886\n",
       "7        66092\n",
       "8         2328\n",
       "9         2034\n",
       "10        2361\n",
       "11       11722\n",
       "12       50245\n",
       "13       41156\n",
       "14       40535\n",
       "15       44083\n",
       "16       46266\n",
       "17       79167\n",
       "18       56972\n",
       "19       51404\n",
       "20       79172\n",
       "21       42388\n",
       "22       44949\n",
       "23       96071\n",
       "24       67335\n",
       "25        3096\n",
       "26       95915\n",
       "27         136\n",
       "28       42907\n",
       "29       51337\n",
       "         ...  \n",
       "5804     69030\n",
       "5805    112322\n",
       "5806    100250\n",
       "5807    129334\n",
       "5808     19340\n",
       "5809     43545\n",
       "5810     45023\n",
       "5811     42900\n",
       "5812     94930\n",
       "5813     52922\n",
       "5814     93626\n",
       "5815    104179\n",
       "5816     84102\n",
       "5817     79223\n",
       "5818    126030\n",
       "5819     12546\n",
       "5820    119915\n",
       "5821    103356\n",
       "5822     90368\n",
       "5823    111316\n",
       "5824     68491\n",
       "5825    103725\n",
       "5826     83317\n",
       "5827     96914\n",
       "5828    129134\n",
       "5829    130993\n",
       "5830    134894\n",
       "5831     87253\n",
       "5832    127153\n",
       "5833     41708\n",
       "Name: itemid, Length: 5834, dtype: int64"
      ]
     },
     "execution_count": 125,
     "metadata": {},
     "output_type": "execute_result"
    }
   ],
   "source": [
    "# itemid 값 확인\n",
    "metadata['itemid']"
   ]
  },
  {
   "cell_type": "markdown",
   "metadata": {},
   "source": [
    "- itemid 를 찍어보면 연속된 정수가 아니다\n",
    "- 아래의 작업을 하려면 itemid 가 연속적인 정수여야 한다\n",
    "- 그것이 Matrix 의 정의"
   ]
  },
  {
   "cell_type": "code",
   "execution_count": 129,
   "metadata": {},
   "outputs": [],
   "source": [
    "df_iids = pd.DataFrame([train_ds.to_raw_iid(i) for i in train_ds.all_items()],\n",
    "                       columns=['itemid'])\n",
    "df_titles = pd.merge(df_iids, metadata[['itemid', 'title']], on='itemid', how='inner')\n",
    "df_titles['title'].to_csv('Data/titles.tsv', sep='\\t', header=False, index=False)"
   ]
  },
  {
   "cell_type": "code",
   "execution_count": 132,
   "metadata": {},
   "outputs": [
    {
     "data": {
      "text/html": [
       "<div>\n",
       "<style scoped>\n",
       "    .dataframe tbody tr th:only-of-type {\n",
       "        vertical-align: middle;\n",
       "    }\n",
       "\n",
       "    .dataframe tbody tr th {\n",
       "        vertical-align: top;\n",
       "    }\n",
       "\n",
       "    .dataframe thead th {\n",
       "        text-align: right;\n",
       "    }\n",
       "</style>\n",
       "<table border=\"1\" class=\"dataframe\">\n",
       "  <thead>\n",
       "    <tr style=\"text-align: right;\">\n",
       "      <th></th>\n",
       "      <th>itemid</th>\n",
       "      <th>title</th>\n",
       "    </tr>\n",
       "  </thead>\n",
       "  <tbody>\n",
       "    <tr>\n",
       "      <th>3842</th>\n",
       "      <td>94450</td>\n",
       "      <td>얼리맨 (2018)</td>\n",
       "    </tr>\n",
       "  </tbody>\n",
       "</table>\n",
       "</div>"
      ],
      "text/plain": [
       "      itemid       title\n",
       "3842   94450  얼리맨 (2018)"
      ]
     },
     "execution_count": 132,
     "metadata": {},
     "output_type": "execute_result"
    }
   ],
   "source": [
    "df_iids.sample()\n",
    "df_titles.sample()"
   ]
  },
  {
   "cell_type": "markdown",
   "metadata": {},
   "source": [
    "index 를 지정해서 순서대로 출력되도록"
   ]
  },
  {
   "cell_type": "code",
   "execution_count": 135,
   "metadata": {
    "collapsed": true
   },
   "outputs": [
    {
     "data": {
      "text/plain": [
       "0                   시라노;연애조작단 (2010)\n",
       "1                     본 얼티메이텀 (2007)\n",
       "2                       어느 가족 (2018)\n",
       "3                   펀치 드렁크 러브 (2002)\n",
       "4                        자토이치 (2003)\n",
       "5                       매그놀리아 (1999)\n",
       "6                        에이리언 (1979)\n",
       "7                         두더지 (2011)\n",
       "8                      언브레이커블 (2000)\n",
       "9                        소나티네 (1993)\n",
       "10                       화양연화 (2000)\n",
       "11                       동사서독 (1994)\n",
       "12                       일대종사 (2012)\n",
       "13                   브이 포 벤데타 (2005)\n",
       "14                  네버랜드를 찾아서 (2004)\n",
       "15                     플래닛 테러 (2007)\n",
       "16                        클래스 (2008)\n",
       "17                        천주정 (2013)\n",
       "18                   사랑을 카피하다 (2010)\n",
       "19                        예언자 (2009)\n",
       "20               가장 따뜻한 색, 블루 (2013)\n",
       "21                     스틸 라이프 (2006)\n",
       "22                    퍼블릭 에너미 (2009)\n",
       "23                         클랜 (2015)\n",
       "24              언터처블 : 1%의 우정 (2011)\n",
       "25                       아비정전 (1990)\n",
       "26                         밀정 (2016)\n",
       "27                     4월 이야기 (1998)\n",
       "28                   인랜드 엠파이어 (2006)\n",
       "29                    안티크라이스트 (2009)\n",
       "                    ...             \n",
       "5804                       오카 (2011)\n",
       "5805    킹 오브 프리즘 -프라이드 더 히어로- (2017)\n",
       "5806            킹 오브 프리즘 한국어판 (2016)\n",
       "5807     앵그리 버드 2: 독수리 왕국의 침공 (2019)\n",
       "5808                어페어 투 리멤버 (1957)\n",
       "5809          미녀 첩보원 D.E.B.S. (2004)\n",
       "5810                  사랑보다 황금 (2008)\n",
       "5811                  스타트 포 텐 (2006)\n",
       "5812                  러브 앤 피스 (2015)\n",
       "5813                고잉 더 디스턴스 (2010)\n",
       "5814                       은하 (2015)\n",
       "5815                   슈퍼 프렌즈 (2016)\n",
       "5816              인피니틀리 폴라 베어 (2014)\n",
       "5817                    놈이 온다 (2013)\n",
       "5818              스파이 인 디스가이즈 (2019)\n",
       "5819                      씨내리 (1993)\n",
       "5820            대부업자: 소울 앤 캐시 (2016)\n",
       "5821              허니문 호텔 살인사건 (2016)\n",
       "5822           레전드 오브 더 네버비스트 (2014)\n",
       "5823                      정글북 (2016)\n",
       "5824                     징기스칸 (2009)\n",
       "5825                 가라데로 죽여라 (2016)\n",
       "5826                      쿠티스 (2014)\n",
       "5827              진격의 거인 파트 2 (2015)\n",
       "5828                      온워드 (2020)\n",
       "5829                 북간도의 십자가 (2019)\n",
       "5830              뱅드림! 필름 라이브 (2019)\n",
       "5831         마블: 슈퍼히어로 군단의 비밀 (2014)\n",
       "5832                  나이브스 아웃 (2019)\n",
       "5833               내 여자의 남자친구 (2007)\n",
       "Name: title, Length: 5834, dtype: object"
      ]
     },
     "execution_count": 135,
     "metadata": {},
     "output_type": "execute_result"
    }
   ],
   "source": [
    "df_titles['title']"
   ]
  },
  {
   "cell_type": "code",
   "execution_count": 157,
   "metadata": {},
   "outputs": [
    {
     "data": {
      "text/html": [
       "<div>\n",
       "<style scoped>\n",
       "    .dataframe tbody tr th:only-of-type {\n",
       "        vertical-align: middle;\n",
       "    }\n",
       "\n",
       "    .dataframe tbody tr th {\n",
       "        vertical-align: top;\n",
       "    }\n",
       "\n",
       "    .dataframe thead th {\n",
       "        text-align: right;\n",
       "    }\n",
       "</style>\n",
       "<table border=\"1\" class=\"dataframe\">\n",
       "  <thead>\n",
       "    <tr style=\"text-align: right;\">\n",
       "      <th></th>\n",
       "      <th>itemid</th>\n",
       "      <th>title</th>\n",
       "      <th>genres</th>\n",
       "      <th>country</th>\n",
       "      <th>running_min</th>\n",
       "    </tr>\n",
       "  </thead>\n",
       "  <tbody>\n",
       "    <tr>\n",
       "      <th>5182</th>\n",
       "      <td>48702</td>\n",
       "      <td>언피니시드 (2010)</td>\n",
       "      <td>스릴러/드라마</td>\n",
       "      <td>미국</td>\n",
       "      <td>113</td>\n",
       "    </tr>\n",
       "    <tr>\n",
       "      <th>1146</th>\n",
       "      <td>101998</td>\n",
       "      <td>맨 인 더 다크 (2016)</td>\n",
       "      <td>공포/스릴러</td>\n",
       "      <td>미국</td>\n",
       "      <td>88</td>\n",
       "    </tr>\n",
       "    <tr>\n",
       "      <th>4103</th>\n",
       "      <td>42570</td>\n",
       "      <td>노트 온 어 스캔달 (2006)</td>\n",
       "      <td>드라마</td>\n",
       "      <td>영국</td>\n",
       "      <td>-1</td>\n",
       "    </tr>\n",
       "    <tr>\n",
       "      <th>3182</th>\n",
       "      <td>68789</td>\n",
       "      <td>태평륜 (2014)</td>\n",
       "      <td>드라마</td>\n",
       "      <td>중국</td>\n",
       "      <td>128</td>\n",
       "    </tr>\n",
       "    <tr>\n",
       "      <th>1642</th>\n",
       "      <td>101879</td>\n",
       "      <td>춘몽 (2016)</td>\n",
       "      <td>NaN</td>\n",
       "      <td>한국</td>\n",
       "      <td>101</td>\n",
       "    </tr>\n",
       "    <tr>\n",
       "      <th>3221</th>\n",
       "      <td>64070</td>\n",
       "      <td>타워 하이스트 (2011)</td>\n",
       "      <td>액션/코미디</td>\n",
       "      <td>미국</td>\n",
       "      <td>-1</td>\n",
       "    </tr>\n",
       "    <tr>\n",
       "      <th>3664</th>\n",
       "      <td>134685</td>\n",
       "      <td>브레이킹 배드 무비: 엘 카미노 (2019)</td>\n",
       "      <td>드라마</td>\n",
       "      <td>미국</td>\n",
       "      <td>-1</td>\n",
       "    </tr>\n",
       "    <tr>\n",
       "      <th>881</th>\n",
       "      <td>3185</td>\n",
       "      <td>킬러들의 수다 (2001)</td>\n",
       "      <td>코미디/드라마</td>\n",
       "      <td>한국</td>\n",
       "      <td>120</td>\n",
       "    </tr>\n",
       "    <tr>\n",
       "      <th>278</th>\n",
       "      <td>1829</td>\n",
       "      <td>대부 2 (1974)</td>\n",
       "      <td>범죄/드라마</td>\n",
       "      <td>미국</td>\n",
       "      <td>-1</td>\n",
       "    </tr>\n",
       "    <tr>\n",
       "      <th>1227</th>\n",
       "      <td>69118</td>\n",
       "      <td>반창꼬 (2012)</td>\n",
       "      <td>드라마/로맨스/멜로</td>\n",
       "      <td>한국</td>\n",
       "      <td>120</td>\n",
       "    </tr>\n",
       "  </tbody>\n",
       "</table>\n",
       "</div>"
      ],
      "text/plain": [
       "      itemid                     title      genres country  running_min\n",
       "5182   48702              언피니시드 (2010)     스릴러/드라마      미국          113\n",
       "1146  101998           맨 인 더 다크 (2016)      공포/스릴러      미국           88\n",
       "4103   42570         노트 온 어 스캔달 (2006)         드라마      영국           -1\n",
       "3182   68789                태평륜 (2014)         드라마      중국          128\n",
       "1642  101879                 춘몽 (2016)         NaN      한국          101\n",
       "3221   64070            타워 하이스트 (2011)      액션/코미디      미국           -1\n",
       "3664  134685  브레이킹 배드 무비: 엘 카미노 (2019)         드라마      미국           -1\n",
       "881     3185            킬러들의 수다 (2001)     코미디/드라마      한국          120\n",
       "278     1829               대부 2 (1974)      범죄/드라마      미국           -1\n",
       "1227   69118                반창꼬 (2012)  드라마/로맨스/멜로      한국          120"
      ]
     },
     "execution_count": 157,
     "metadata": {},
     "output_type": "execute_result"
    }
   ],
   "source": [
    "metadata.sample(10)"
   ]
  },
  {
   "cell_type": "markdown",
   "metadata": {},
   "source": [
    "# 우리 데이터로 실습"
   ]
  },
  {
   "cell_type": "code",
   "execution_count": 165,
   "metadata": {},
   "outputs": [],
   "source": [
    "ratings_custom = pd.read_csv('Data/dataitgirls_movie_rating.csv')"
   ]
  },
  {
   "cell_type": "code",
   "execution_count": 166,
   "metadata": {},
   "outputs": [],
   "source": [
    "ratings_custom['dataitgirls'] = 1\n",
    "ratings_train['dataitgirls'] = 0"
   ]
  },
  {
   "cell_type": "code",
   "execution_count": 168,
   "metadata": {},
   "outputs": [],
   "source": [
    "ratings_concat = pd.concat((ratings_custom, ratings_train))"
   ]
  },
  {
   "cell_type": "code",
   "execution_count": 172,
   "metadata": {},
   "outputs": [],
   "source": [
    "# build_full_trainset() : 모든 데이터를 train set 으로 쓰겠다\n",
    "\n",
    "train_ds = Dataset.load_from_df(ratings_concat[['userid', 'itemid', 'rating']], reader).build_full_trainset()"
   ]
  },
  {
   "cell_type": "code",
   "execution_count": 173,
   "metadata": {},
   "outputs": [
    {
     "data": {
      "text/plain": [
       "<surprise.prediction_algorithms.matrix_factorization.SVD at 0x14574d277f0>"
      ]
     },
     "execution_count": 173,
     "metadata": {},
     "output_type": "execute_result"
    }
   ],
   "source": [
    "model = SVD(n_factors=100, n_epochs=200, random_state=17, biased=False, )\n",
    "\n",
    "model.fit(train_ds)"
   ]
  },
  {
   "cell_type": "code",
   "execution_count": 174,
   "metadata": {},
   "outputs": [
    {
     "data": {
      "text/plain": [
       "<surprise.prediction_algorithms.matrix_factorization.SVD at 0x14574d277f0>"
      ]
     },
     "execution_count": 174,
     "metadata": {},
     "output_type": "execute_result"
    }
   ],
   "source": [
    "model"
   ]
  },
  {
   "cell_type": "code",
   "execution_count": 176,
   "metadata": {},
   "outputs": [
    {
     "data": {
      "text/plain": [
       "(array(['adela', 'bomin', 'chiwan', 'dahye', 'danbi', 'gilim', 'hansol',\n",
       "        'Heeyawl', 'kwang', 'mihyeon', 'minju', 'Song', 'sunmi', 'wooju',\n",
       "        'yeeun', 'yeseul'], dtype=object), 16)"
      ]
     },
     "execution_count": 176,
     "metadata": {},
     "output_type": "execute_result"
    }
   ],
   "source": [
    "# 데잇걸즈 사람들만 불러오기\n",
    "\n",
    "people = ratings_custom['userid'].unique()\n",
    "people, len(people)"
   ]
  },
  {
   "cell_type": "code",
   "execution_count": 177,
   "metadata": {},
   "outputs": [
    {
     "data": {
      "text/plain": [
       "2"
      ]
     },
     "execution_count": 177,
     "metadata": {},
     "output_type": "execute_result"
    }
   ],
   "source": [
    "train_ds.to_inner_uid('chiwan')"
   ]
  },
  {
   "cell_type": "code",
   "execution_count": 180,
   "metadata": {},
   "outputs": [],
   "source": [
    "pu = []\n",
    "names = []\n",
    "for name in people:\n",
    "    names.append(name)\n",
    "    inner_uid = train_ds.to_inner_uid(name)\n",
    "    pu.append(model.pu[inner_uid])"
   ]
  },
  {
   "cell_type": "code",
   "execution_count": 184,
   "metadata": {},
   "outputs": [
    {
     "data": {
      "text/html": [
       "<div>\n",
       "<style scoped>\n",
       "    .dataframe tbody tr th:only-of-type {\n",
       "        vertical-align: middle;\n",
       "    }\n",
       "\n",
       "    .dataframe tbody tr th {\n",
       "        vertical-align: top;\n",
       "    }\n",
       "\n",
       "    .dataframe thead th {\n",
       "        text-align: right;\n",
       "    }\n",
       "</style>\n",
       "<table border=\"1\" class=\"dataframe\">\n",
       "  <thead>\n",
       "    <tr style=\"text-align: right;\">\n",
       "      <th></th>\n",
       "      <th>0</th>\n",
       "      <th>1</th>\n",
       "      <th>2</th>\n",
       "      <th>3</th>\n",
       "      <th>4</th>\n",
       "      <th>5</th>\n",
       "      <th>6</th>\n",
       "      <th>7</th>\n",
       "      <th>8</th>\n",
       "      <th>9</th>\n",
       "      <th>...</th>\n",
       "      <th>90</th>\n",
       "      <th>91</th>\n",
       "      <th>92</th>\n",
       "      <th>93</th>\n",
       "      <th>94</th>\n",
       "      <th>95</th>\n",
       "      <th>96</th>\n",
       "      <th>97</th>\n",
       "      <th>98</th>\n",
       "      <th>99</th>\n",
       "    </tr>\n",
       "  </thead>\n",
       "  <tbody>\n",
       "    <tr>\n",
       "      <th>5</th>\n",
       "      <td>0.19611</td>\n",
       "      <td>0.848967</td>\n",
       "      <td>-0.201692</td>\n",
       "      <td>-0.663615</td>\n",
       "      <td>0.021199</td>\n",
       "      <td>0.130229</td>\n",
       "      <td>0.500319</td>\n",
       "      <td>0.028651</td>\n",
       "      <td>0.263446</td>\n",
       "      <td>-0.247247</td>\n",
       "      <td>...</td>\n",
       "      <td>0.801774</td>\n",
       "      <td>-0.014154</td>\n",
       "      <td>-0.04935</td>\n",
       "      <td>0.101638</td>\n",
       "      <td>-0.613746</td>\n",
       "      <td>-0.679318</td>\n",
       "      <td>-0.023634</td>\n",
       "      <td>0.276326</td>\n",
       "      <td>-0.364592</td>\n",
       "      <td>0.273014</td>\n",
       "    </tr>\n",
       "  </tbody>\n",
       "</table>\n",
       "<p>1 rows × 100 columns</p>\n",
       "</div>"
      ],
      "text/plain": [
       "        0         1         2         3         4         5         6   \\\n",
       "5  0.19611  0.848967 -0.201692 -0.663615  0.021199  0.130229  0.500319   \n",
       "\n",
       "         7         8         9   ...        90        91       92        93  \\\n",
       "5  0.028651  0.263446 -0.247247  ...  0.801774 -0.014154 -0.04935  0.101638   \n",
       "\n",
       "         94        95        96        97        98        99  \n",
       "5 -0.613746 -0.679318 -0.023634  0.276326 -0.364592  0.273014  \n",
       "\n",
       "[1 rows x 100 columns]"
      ]
     },
     "execution_count": 184,
     "metadata": {},
     "output_type": "execute_result"
    }
   ],
   "source": [
    "df_pu = pd.DataFrame(pu)\n",
    "\n",
    "df_pu.sample()"
   ]
  },
  {
   "cell_type": "code",
   "execution_count": 185,
   "metadata": {},
   "outputs": [
    {
     "data": {
      "text/html": [
       "<div>\n",
       "<style scoped>\n",
       "    .dataframe tbody tr th:only-of-type {\n",
       "        vertical-align: middle;\n",
       "    }\n",
       "\n",
       "    .dataframe tbody tr th {\n",
       "        vertical-align: top;\n",
       "    }\n",
       "\n",
       "    .dataframe thead th {\n",
       "        text-align: right;\n",
       "    }\n",
       "</style>\n",
       "<table border=\"1\" class=\"dataframe\">\n",
       "  <thead>\n",
       "    <tr style=\"text-align: right;\">\n",
       "      <th></th>\n",
       "      <th>0</th>\n",
       "    </tr>\n",
       "  </thead>\n",
       "  <tbody>\n",
       "    <tr>\n",
       "      <th>3</th>\n",
       "      <td>dahye</td>\n",
       "    </tr>\n",
       "  </tbody>\n",
       "</table>\n",
       "</div>"
      ],
      "text/plain": [
       "       0\n",
       "3  dahye"
      ]
     },
     "execution_count": 185,
     "metadata": {},
     "output_type": "execute_result"
    }
   ],
   "source": [
    "df_names = pd.DataFrame(names)\n",
    "\n",
    "df_names.sample()"
   ]
  },
  {
   "cell_type": "code",
   "execution_count": 186,
   "metadata": {},
   "outputs": [],
   "source": [
    "df_pu.to_csv('Data/pu_custom.tsv', sep='\\t', index=False, header=False)\n",
    "df_names.to_csv('Data/names_custom.tsv', sep='\\t', index=False, header=False)"
   ]
  },
  {
   "cell_type": "code",
   "execution_count": null,
   "metadata": {},
   "outputs": [],
   "source": []
  }
 ],
 "metadata": {
  "kernelspec": {
   "display_name": "Python 3",
   "language": "python",
   "name": "python3"
  },
  "language_info": {
   "codemirror_mode": {
    "name": "ipython",
    "version": 3
   },
   "file_extension": ".py",
   "mimetype": "text/x-python",
   "name": "python",
   "nbconvert_exporter": "python",
   "pygments_lexer": "ipython3",
   "version": "3.7.3"
  }
 },
 "nbformat": 4,
 "nbformat_minor": 2
}
