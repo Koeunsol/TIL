{
 "cells": [
  {
   "cell_type": "markdown",
   "metadata": {},
   "source": [
    "# 김왼손#10 The Most Number"
   ]
  },
  {
   "cell_type": "code",
   "execution_count": 100,
   "metadata": {},
   "outputs": [],
   "source": [
    "def checkio(*args):\n",
    "    if args:\n",
    "        answer = max(args) - min(args)\n",
    "        if type(max(args)) == float:\n",
    "            return round(answer, 3)\n",
    "        return answer\n",
    "\n",
    "    return 0"
   ]
  },
  {
   "cell_type": "code",
   "execution_count": 101,
   "metadata": {},
   "outputs": [],
   "source": [
    "# # checkio(10.2, -2.2, 0, 1.1, 0.5)\n",
    "# # checkio(1, 2, 3)\n",
    "# checkio()\n",
    "assert checkio(1, 2, 3) == 2\n",
    "assert checkio(5, -5) == 10\n",
    "assert checkio(10.2, -2.2, 0, 1.1, 0.5) == 12.4\n",
    "assert checkio() == 0"
   ]
  },
  {
   "cell_type": "markdown",
   "metadata": {},
   "source": [
    "# 김왼손#11 Even the Last"
   ]
  },
  {
   "cell_type": "code",
   "execution_count": 16,
   "metadata": {},
   "outputs": [],
   "source": [
    "def checkio(args):\n",
    "    answer = 0\n",
    "    if args:\n",
    "        for i in range(len(args)):\n",
    "            if i % 2 == 0:\n",
    "                answer += args[i]\n",
    "        answer *= args[-1]\n",
    "    return answer"
   ]
  },
  {
   "cell_type": "code",
   "execution_count": 17,
   "metadata": {},
   "outputs": [],
   "source": [
    "assert checkio([0, 1, 2, 3, 4, 5]) == 30\n",
    "assert checkio([1, 3, 5]) == 30\n",
    "assert checkio([6]) == 36\n",
    "assert checkio([]) == 0"
   ]
  },
  {
   "cell_type": "markdown",
   "metadata": {},
   "source": [
    "# 김왼손#12 Secret Message"
   ]
  },
  {
   "cell_type": "code",
   "execution_count": 38,
   "metadata": {},
   "outputs": [],
   "source": [
    "def find_message(text):\n",
    "    answer = []\n",
    "    for word in text:\n",
    "        if word.isupper(): answer.append(word)\n",
    "    return ''.join(answer)"
   ]
  },
  {
   "cell_type": "code",
   "execution_count": 45,
   "metadata": {},
   "outputs": [],
   "source": [
    "assert find_message('How are you? Eh, ok. Low or Lower? Ohhh.') == 'HELLO'\n",
    "assert find_message('hello world!') == ''"
   ]
  },
  {
   "cell_type": "markdown",
   "metadata": {},
   "source": [
    "# 김왼손#13 Three Words"
   ]
  },
  {
   "cell_type": "code",
   "execution_count": 84,
   "metadata": {},
   "outputs": [],
   "source": [
    "def checkio(text):\n",
    "    text_list = text.lower().split(' ')\n",
    "    answer = []   \n",
    "    for i in range(len(text_list)): \n",
    "        if ((text_list[i].isupper() == False) and (text_list[i].islower()) == False):\n",
    "            answer.append(i)\n",
    "    for i in answer:\n",
    "        if i < 3:\n",
    "            return False\n",
    "    return True"
   ]
  },
  {
   "cell_type": "code",
   "execution_count": 85,
   "metadata": {},
   "outputs": [],
   "source": [
    "assert checkio('Hello World hello') == True\n",
    "assert checkio('He is 123 man') == False\n",
    "assert checkio('1 2 3 4') == False\n",
    "assert checkio('bla bla bla bla') == True"
   ]
  },
  {
   "cell_type": "markdown",
   "metadata": {},
   "source": [
    "# 김왼손#14 Index Power"
   ]
  },
  {
   "cell_type": "code",
   "execution_count": 95,
   "metadata": {},
   "outputs": [],
   "source": [
    "def power(array: list, n: int):\n",
    "    if len(array) < n:\n",
    "        return -1\n",
    "    return array[n] ** n"
   ]
  },
  {
   "cell_type": "code",
   "execution_count": 97,
   "metadata": {},
   "outputs": [],
   "source": [
    "assert power([1, 2, 3, 4], 2) == 9\n",
    "assert power([1, 3, 10, 100], 3) == 1000000\n",
    "assert power([0, 1], 0) == 1\n",
    "assert power([1, 2], 3) == -1"
   ]
  },
  {
   "cell_type": "code",
   "execution_count": null,
   "metadata": {},
   "outputs": [],
   "source": []
  }
 ],
 "metadata": {
  "kernelspec": {
   "display_name": "Python 3",
   "language": "python",
   "name": "python3"
  },
  "language_info": {
   "codemirror_mode": {
    "name": "ipython",
    "version": 3
   },
   "file_extension": ".py",
   "mimetype": "text/x-python",
   "name": "python",
   "nbconvert_exporter": "python",
   "pygments_lexer": "ipython3",
   "version": "3.7.3"
  }
 },
 "nbformat": 4,
 "nbformat_minor": 2
}
