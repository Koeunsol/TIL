{
 "cells": [
  {
   "cell_type": "markdown",
   "metadata": {},
   "source": [
    "# 김왼손#10 The Most Number"
   ]
  },
  {
   "cell_type": "code",
   "execution_count": 100,
   "metadata": {},
   "outputs": [],
   "source": [
    "def checkio(*args):\n",
    "    if args:  # Python 권장 문법, cf. if len(args) > 0\n",
    "        answer = max(args) - min(args)\n",
    "        if type(max(args)) == float:\n",
    "            return round(answer, 3)\n",
    "        return answer\n",
    "\n",
    "    return 0"
   ]
  },
  {
   "cell_type": "code",
   "execution_count": 101,
   "metadata": {},
   "outputs": [],
   "source": [
    "# # checkio(10.2, -2.2, 0, 1.1, 0.5)\n",
    "# # checkio(1, 2, 3)\n",
    "# checkio()\n",
    "assert checkio(1, 2, 3) == 2\n",
    "assert checkio(5, -5) == 10\n",
    "assert checkio(10.2, -2.2, 0, 1.1, 0.5) == 12.4\n",
    "assert checkio() == 0"
   ]
  },
  {
   "cell_type": "markdown",
   "metadata": {},
   "source": [
    "# 김왼손#11 Even the Last"
   ]
  },
  {
   "cell_type": "code",
   "execution_count": 9,
   "metadata": {},
   "outputs": [],
   "source": [
    "def checkio(args):\n",
    "    answer = 0\n",
    "    if args:\n",
    "        for i in range(len(args)):\n",
    "            if i % 2 == 0:\n",
    "                answer += args[i]\n",
    "        answer *= args[-1]\n",
    "    return answer"
   ]
  },
  {
   "cell_type": "code",
   "execution_count": 10,
   "metadata": {},
   "outputs": [],
   "source": [
    "assert checkio([0, 1, 2, 3, 4, 5]) == 30\n",
    "assert checkio([1, 3, 5]) == 30\n",
    "assert checkio([6]) == 36\n",
    "assert checkio([]) == 0"
   ]
  },
  {
   "cell_type": "markdown",
   "metadata": {},
   "source": [
    "# 김왼손#12 Secret Message"
   ]
  },
  {
   "cell_type": "code",
   "execution_count": 38,
   "metadata": {},
   "outputs": [],
   "source": [
    "def find_message(text):\n",
    "    answer = []\n",
    "    for word in text:\n",
    "        if word.isupper(): answer.append(word)\n",
    "    return ''.join(answer)"
   ]
  },
  {
   "cell_type": "code",
   "execution_count": 11,
   "metadata": {},
   "outputs": [],
   "source": [
    "# 보경님 코드: 문자열 바로 더하기\n",
    "def find_message(text):\n",
    "    answer = \"\"\n",
    "    for word in text:\n",
    "        if word.isupper(): answer += word\n",
    "    return answer"
   ]
  },
  {
   "cell_type": "code",
   "execution_count": 13,
   "metadata": {},
   "outputs": [],
   "source": [
    "# 단비님: 알파벳인지 확인, 소문자 아니면 가져오기\n",
    "def find_message(text: str) -> str:\n",
    "    answer = \"\"\n",
    "    for letter in text:\n",
    "        if letter.isalpha() and not letter.islower():\n",
    "            answer += letter\n",
    "    return answer"
   ]
  },
  {
   "cell_type": "code",
   "execution_count": 14,
   "metadata": {},
   "outputs": [
    {
     "ename": "AssertionError",
     "evalue": "",
     "output_type": "error",
     "traceback": [
      "\u001b[1;31m---------------------------------------------------------------------------\u001b[0m",
      "\u001b[1;31mAssertionError\u001b[0m                            Traceback (most recent call last)",
      "\u001b[1;32m<ipython-input-14-0aa5078352a7>\u001b[0m in \u001b[0;36m<module>\u001b[1;34m\u001b[0m\n\u001b[1;32m----> 1\u001b[1;33m \u001b[1;32massert\u001b[0m \u001b[0mfind_message\u001b[0m\u001b[1;33m(\u001b[0m\u001b[1;34m'How are you? Eh, ok. Low or Lower? Ohhh.'\u001b[0m\u001b[1;33m)\u001b[0m \u001b[1;33m==\u001b[0m \u001b[1;34m'HELLO'\u001b[0m\u001b[1;33m\u001b[0m\u001b[1;33m\u001b[0m\u001b[0m\n\u001b[0m\u001b[0;32m      2\u001b[0m \u001b[1;32massert\u001b[0m \u001b[0mfind_message\u001b[0m\u001b[1;33m(\u001b[0m\u001b[1;34m'hello world!'\u001b[0m\u001b[1;33m)\u001b[0m \u001b[1;33m==\u001b[0m \u001b[1;34m''\u001b[0m\u001b[1;33m\u001b[0m\u001b[1;33m\u001b[0m\u001b[0m\n",
      "\u001b[1;31mAssertionError\u001b[0m: "
     ]
    }
   ],
   "source": [
    "assert find_message('How are you? Eh, ok. Low or Lower? Ohhh.') == 'HELLO'\n",
    "assert find_message('hello world!') == ''"
   ]
  },
  {
   "cell_type": "markdown",
   "metadata": {},
   "source": [
    "# 김왼손#13 Three Words: 수정 필요"
   ]
  },
  {
   "cell_type": "code",
   "execution_count": null,
   "metadata": {},
   "outputs": [],
   "source": [
    "# 단비님 코드\n",
    "def checkio(words: str) -> bool:\n",
    "    words = words.split(' ')\n",
    "    cnt = 0\n",
    "    for word in words:\n",
    "        if cnt == 3:\n",
    "            break\n",
    "        if word.isalpha():\n",
    "            cnt += 1\n",
    "        else:\n",
    "            cnt = 0\n",
    "    return cnt == 3"
   ]
  },
  {
   "cell_type": "code",
   "execution_count": 16,
   "metadata": {},
   "outputs": [],
   "source": [
    "def checkio(text):\n",
    "    cnt = 0\n",
    "    for word in text.split():\n",
    "        \n",
    "        if word.isalpha(): cnt += 1\n",
    "        else: cnt = 0\n",
    "    \n",
    "        if cnt == 3:  \n",
    "            return True\n",
    "        \n",
    "    return False"
   ]
  },
  {
   "cell_type": "code",
   "execution_count": 17,
   "metadata": {},
   "outputs": [
    {
     "data": {
      "text/plain": [
       "True"
      ]
     },
     "execution_count": 17,
     "metadata": {},
     "output_type": "execute_result"
    }
   ],
   "source": [
    "checkio('Hello World hello')"
   ]
  },
  {
   "cell_type": "code",
   "execution_count": 18,
   "metadata": {},
   "outputs": [],
   "source": [
    "assert checkio('Hello World hello') == True\n",
    "assert checkio('He is 123 man') == False\n",
    "assert checkio('1 2 3 4') == False\n",
    "assert checkio('bla bla bla bla') == True\n",
    "assert checkio(\"Hi\") == False"
   ]
  },
  {
   "cell_type": "markdown",
   "metadata": {},
   "source": [
    "# 김왼손#14 Index Power"
   ]
  },
  {
   "cell_type": "code",
   "execution_count": 95,
   "metadata": {},
   "outputs": [],
   "source": [
    "def power(array: list, n: int):\n",
    "    if len(array) -1 < n:\n",
    "        return -1\n",
    "    return array[n] ** n"
   ]
  },
  {
   "cell_type": "code",
   "execution_count": 97,
   "metadata": {},
   "outputs": [],
   "source": [
    "assert power([1, 2, 3, 4], 2) == 9\n",
    "assert power([1, 3, 10, 100], 3) == 1000000\n",
    "assert power([0, 1], 0) == 1\n",
    "assert power([1, 2], 3) == -1"
   ]
  },
  {
   "cell_type": "markdown",
   "metadata": {},
   "source": [
    "### pow(n, m) : n의 m승"
   ]
  },
  {
   "cell_type": "markdown",
   "metadata": {},
   "source": [
    "# 리스트에서 값 삭제하기 .pop() 과 .remove()\n",
    "- 리스트.pop(인덱스)\n",
    "- 리스트.remove(값)"
   ]
  },
  {
   "cell_type": "code",
   "execution_count": 15,
   "metadata": {},
   "outputs": [
    {
     "name": "stdout",
     "output_type": "stream",
     "text": [
      "Help on method_descriptor:\n",
      "\n",
      "count(self, value, /)\n",
      "    Return number of occurrences of value.\n",
      "\n"
     ]
    }
   ],
   "source": [
    "help(list.count)"
   ]
  },
  {
   "cell_type": "code",
   "execution_count": 16,
   "metadata": {},
   "outputs": [
    {
     "name": "stdout",
     "output_type": "stream",
     "text": [
      "Help on method_descriptor:\n",
      "\n",
      "update(...)\n",
      "    D.update([E, ]**F) -> None.  Update D from dict/iterable E and F.\n",
      "    If E is present and has a .keys() method, then does:  for k in E: D[k] = E[k]\n",
      "    If E is present and lacks a .keys() method, then does:  for k, v in E: D[k] = v\n",
      "    In either case, this is followed by: for k in F:  D[k] = F[k]\n",
      "\n"
     ]
    }
   ],
   "source": [
    "help(dict.update)"
   ]
  },
  {
   "cell_type": "markdown",
   "metadata": {},
   "source": [
    "- -> None : 반환return 값이 없다\n",
    "- [] 대괄호 안에 있는 건 옵션으로 넣을 수 있는 것\n",
    "- '*' 임의의 갯수의 인자를 tuple 로 묶는 것\n",
    "- ** 임의의 갯수의 인자를 dictionary 로 묶는 것\n",
    "> **F : F 가 dictionary"
   ]
  },
  {
   "cell_type": "code",
   "execution_count": null,
   "metadata": {},
   "outputs": [],
   "source": []
  }
 ],
 "metadata": {
  "kernelspec": {
   "display_name": "Python 3",
   "language": "python",
   "name": "python3"
  },
  "language_info": {
   "codemirror_mode": {
    "name": "ipython",
    "version": 3
   },
   "file_extension": ".py",
   "mimetype": "text/x-python",
   "name": "python",
   "nbconvert_exporter": "python",
   "pygments_lexer": "ipython3",
   "version": "3.7.3"
  }
 },
 "nbformat": 4,
 "nbformat_minor": 2
}
