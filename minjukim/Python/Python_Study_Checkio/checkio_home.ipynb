{
 "cells": [
  {
   "cell_type": "markdown",
   "metadata": {},
   "source": [
    "# time converter 24 to 12"
   ]
  },
  {
   "cell_type": "code",
   "execution_count": 40,
   "metadata": {},
   "outputs": [],
   "source": [
    "def time_converter(time):\n",
    "    hour = time[:2]\n",
    "    answer = ''\n",
    "    \n",
    "    if int(hour) > 12:\n",
    "        answer += str(int(hour) - 12)\n",
    "        answer += time[2:] + ' p.m.'\n",
    "    \n",
    "    elif int(hour) == 12:\n",
    "        answer += time + ' p.m.'\n",
    "    \n",
    "    elif int(hour) == 0:\n",
    "        answer += '12'\n",
    "        answer += time[2:] + ' a.m.'\n",
    "    \n",
    "    else: answer += time + ' a.m.'\n",
    "    \n",
    "    if answer[0] == '0': return answer[1:]\n",
    "    return answer"
   ]
  },
  {
   "cell_type": "code",
   "execution_count": 41,
   "metadata": {},
   "outputs": [
    {
     "data": {
      "text/plain": [
       "'11:15 p.m.'"
      ]
     },
     "execution_count": 41,
     "metadata": {},
     "output_type": "execute_result"
    }
   ],
   "source": [
    "time_converter('12:30') \n",
    "# time_converter('09:00')\n",
    "time_converter('23:15')"
   ]
  },
  {
   "cell_type": "code",
   "execution_count": 42,
   "metadata": {},
   "outputs": [],
   "source": [
    "assert time_converter('12:30') == '12:30 p.m.'\n",
    "assert time_converter('09:00') == '9:00 a.m.'\n",
    "assert time_converter('23:15') == '11:15 p.m.'"
   ]
  },
  {
   "cell_type": "markdown",
   "metadata": {},
   "source": [
    "# The Most Wanted Letter"
   ]
  },
  {
   "cell_type": "code",
   "execution_count": 71,
   "metadata": {},
   "outputs": [],
   "source": [
    "def checkio(text):\n",
    "    text_clean = ''.join([x.lower() for x in text if x.isalpha()])\n",
    "    \n",
    "    count_letters = {}\n",
    "    for letter in text_clean:\n",
    "        count_letters[letter] = text_clean.count(letter)\n",
    "\n",
    "    countings = list(count_letters.values())\n",
    "    if countings.count(max(countings)) > 1:\n",
    "        \n",
    "        answer_index = []\n",
    "        for i, x in enumerate(countings):\n",
    "            if x == max(countings):\n",
    "                answer_index.append(i)\n",
    "        return sorted([list(count_letters.keys())[i] for i in answer_index])[0]\n",
    "    \n",
    "    else: return max(count_letters, key=count_letters.get)"
   ]
  },
  {
   "cell_type": "code",
   "execution_count": 72,
   "metadata": {},
   "outputs": [
    {
     "data": {
      "text/plain": [
       "'a'"
      ]
     },
     "execution_count": 72,
     "metadata": {},
     "output_type": "execute_result"
    }
   ],
   "source": [
    "checkio(\"Hello World!\")\n",
    "checkio(\"One\")\n",
    "checkio(\"AAaooo!!!!\")"
   ]
  },
  {
   "cell_type": "code",
   "execution_count": 73,
   "metadata": {},
   "outputs": [],
   "source": [
    "assert checkio(\"Hello World!\") == \"l\", \"Hello test\"\n",
    "assert checkio(\"How do you do?\") == \"o\", \"O is most wanted\"\n",
    "assert checkio(\"One\") == \"e\", \"All letter only once.\"\n",
    "assert checkio(\"Oops!\") == \"o\", \"Don't forget about lower case.\"\n",
    "assert checkio(\"AAaooo!!!!\") == \"a\", \"Only letters.\"\n",
    "assert checkio(\"abe\") == \"a\", \"The First.\""
   ]
  },
  {
   "cell_type": "markdown",
   "metadata": {},
   "source": [
    "# Sort Array by Element Frequency"
   ]
  },
  {
   "cell_type": "code",
   "execution_count": 79,
   "metadata": {},
   "outputs": [],
   "source": [
    "# 푸는 중\n",
    "\n",
    "def frequency_sort(array):\n",
    "    array.sort()\n",
    "\n",
    "    count_elements = {}\n",
    "    for element in array:\n",
    "        count_elements[element] = array.count(element)\n",
    "    \n",
    "    return count_elements.values()"
   ]
  },
  {
   "cell_type": "code",
   "execution_count": 80,
   "metadata": {},
   "outputs": [
    {
     "data": {
      "text/plain": [
       "dict_values([2, 4, 2])"
      ]
     },
     "execution_count": 80,
     "metadata": {},
     "output_type": "execute_result"
    }
   ],
   "source": [
    "frequency_sort([4, 6, 2, 2, 6, 4, 4, 4])"
   ]
  },
  {
   "cell_type": "code",
   "execution_count": null,
   "metadata": {},
   "outputs": [],
   "source": [
    "assert list(frequency_sort([4, 6, 2, 2, 6, 4, 4, 4])) == [4, 4, 4, 4, 6, 6, 2, 2]\n",
    "assert list(frequency_sort(['bob', 'bob', 'carl', 'alex', 'bob'])) == ['bob', 'bob', 'bob', 'carl', 'alex']\n",
    "assert list(frequency_sort([17, 99, 42])) == [17, 99, 42]\n",
    "assert list(frequency_sort([])) == []\n",
    "assert list(frequency_sort([1])) == [1]"
   ]
  },
  {
   "cell_type": "markdown",
   "metadata": {},
   "source": [
    "# Sun Angle"
   ]
  },
  {
   "cell_type": "code",
   "execution_count": 87,
   "metadata": {},
   "outputs": [],
   "source": [
    "def sun_angle(time):\n",
    "    hour = int(time[:2])\n",
    "    minute = int(time[3:])\n",
    "    \n",
    "    time_encode = hour + minute / 60\n",
    "    if (time_encode < 6) | (time_encode > 18): return \"I don't see the sun!\"\n",
    "    \n",
    "    return (time_encode - 6) / 12 * 180"
   ]
  },
  {
   "cell_type": "code",
   "execution_count": 88,
   "metadata": {},
   "outputs": [],
   "source": [
    "assert sun_angle(\"07:00\") == 15\n",
    "assert sun_angle(\"01:23\") == \"I don't see the sun!\""
   ]
  },
  {
   "cell_type": "markdown",
   "metadata": {},
   "source": [
    "# Bird Language"
   ]
  },
  {
   "cell_type": "code",
   "execution_count": 122,
   "metadata": {},
   "outputs": [],
   "source": [
    "def translate(bird):\n",
    "    vowels = 'aeiouy'\n",
    "    answer = ''\n",
    "    isvowel = ''\n",
    "    vowel_count = 0\n",
    "    for word in bird.split():\n",
    "        answer += ' '\n",
    "        for letter in word:\n",
    "            if letter in vowels:\n",
    "                if isvowel == False: pass # 모음 앞의 글자가 자음인 경우\n",
    "                else: answer += letter # 모음 앞의 글자가 모음인 경우 append\n",
    "                isvowel = True\n",
    "            else:\n",
    "                answer += letter\n",
    "                isvowel = False # 자음\n",
    "                \n",
    "    return answer.strip().replace('aaa', 'a').replace('eee', 'e').replace('iii', 'i').replace('ooo', 'o').replace('uuu', 'u').replace('yyy', 'y')\n"
   ]
  },
  {
   "cell_type": "code",
   "execution_count": 123,
   "metadata": {},
   "outputs": [
    {
     "data": {
      "text/plain": [
       "'hello'"
      ]
     },
     "execution_count": 123,
     "metadata": {},
     "output_type": "execute_result"
    }
   ],
   "source": [
    "translate(\"hieeelalaooo\")"
   ]
  },
  {
   "cell_type": "code",
   "execution_count": 124,
   "metadata": {},
   "outputs": [],
   "source": [
    "assert translate(\"hieeelalaooo\") == \"hello\", \"Hi!\"\n",
    "assert translate(\"hoooowe yyyooouuu duoooiiine\") == \"how you doin\", \"Joey?\"\n",
    "assert translate(\"aaa bo cy da eee fe\") == \"a b c d e f\", \"Alphabet\"\n",
    "assert translate(\"sooooso aaaaaaaaa\") == \"sos aaa\", \"Mayday, mayday\" "
   ]
  },
  {
   "cell_type": "markdown",
   "metadata": {},
   "source": [
    "# Flatten a List"
   ]
  },
  {
   "cell_type": "code",
   "execution_count": 128,
   "metadata": {},
   "outputs": [
    {
     "data": {
      "text/plain": [
       "True"
      ]
     },
     "execution_count": 128,
     "metadata": {},
     "output_type": "execute_result"
    }
   ],
   "source": [
    "a = [1]\n",
    "\n",
    "isinstance(a, list)\n",
    "\n",
    "# if isinstance(object, list):"
   ]
  },
  {
   "cell_type": "code",
   "execution_count": 132,
   "metadata": {},
   "outputs": [],
   "source": [
    "def flat_list(array):\n",
    "    answer = []\n",
    "    for i in array:\n",
    "        if isinstance(i, list): \n",
    "            \n",
    "            for i2 in i:\n",
    "                if isinstance(i2, list):\n",
    "                    \n",
    "                    for i3 in i2:\n",
    "                        if isinstance(i3, list):\n",
    "                            \n",
    "                            for i4 in i3:\n",
    "                                if isinstance(i4, list):\n",
    "                                    \n",
    "                                    for i5 in i4:\n",
    "                                        if isinstance(i5, list):\n",
    "                                            \n",
    "                                            for i6 in i5:\n",
    "                                                if isinstance(i6, list):\n",
    "                                                    \n",
    "                                                    for i7 in i6:\n",
    "                                                        if isinstance(i7, list):\n",
    "                                                            \n",
    "                                                            for i8 in i7:\n",
    "                                                                if isinstance(i8, list):                                                            for i8 in i7:\n",
    "                                                                    \n",
    "                                                                    for i8 in i7:\n",
    "                                                                        if isinstance(i8, list): pass\n",
    "                                                                        else: answer.append(i8)\n",
    "                                                                else: answer.append(i8)\n",
    "                                                        else: answer.append(i7)\n",
    "                                                else: answer.append(i6)\n",
    "                                        else: answer.append(i5)\n",
    "                                else: answer.append(i4)\n",
    "                        else: answer.append(i3)\n",
    "                else: answer.append(i2)              \n",
    "        else: answer.append(i)\n",
    "    return answer"
   ]
  },
  {
   "cell_type": "code",
   "execution_count": 138,
   "metadata": {},
   "outputs": [],
   "source": [
    "def flat_list(array):\n",
    "    \n",
    "    def find_list(element):\n",
    "        list_index = [] # 리스트인 원소 구하기\n",
    "        for i, x in enumerate(element):\n",
    "            if isinstance(x, list):\n",
    "                index.append(i)\n",
    "     # 가장 안쪽에서부터 꺼내오기           \n",
    "                \n",
    "    answer = [x for i, x in enumerate(element) if i not in list_index]\n",
    "    return answer"
   ]
  },
  {
   "cell_type": "code",
   "execution_count": 140,
   "metadata": {},
   "outputs": [
    {
     "data": {
      "text/plain": [
       "[1, 2, 3]"
      ]
     },
     "execution_count": 140,
     "metadata": {},
     "output_type": "execute_result"
    }
   ],
   "source": [
    "flat_list([1, 2, 3])"
   ]
  },
  {
   "cell_type": "code",
   "execution_count": 135,
   "metadata": {},
   "outputs": [],
   "source": [
    "assert flat_list([1, 2, 3]) == [1, 2, 3], \"First\"\n",
    "assert flat_list([1, [2, 2, 2], 4]) == [1, 2, 2, 2, 4], \"Second\"\n",
    "assert flat_list([[[2]], [4, [5, 6, [6], 6, 6, 6], 7]]) == [2, 4, 5, 6, 6, 6, 6, 6, 7], \"Third\"\n",
    "assert flat_list([-1, [1, [-2], 1], -1]) == [-1, 1, -2, 1, -1], \"Four\""
   ]
  },
  {
   "cell_type": "markdown",
   "metadata": {},
   "source": [
    "# Xs and Os Referee"
   ]
  },
  {
   "cell_type": "code",
   "execution_count": 160,
   "metadata": {},
   "outputs": [],
   "source": [
    "def checkio(array):\n",
    "#     array[0][0] == array[1][0]\n",
    "    element = {}\n",
    "    for i, x in enumerate(array):\n",
    "        for j in range(i):\n",
    "            element['element_{}'.format(j)] = array[i][j]\n",
    "        if element[element_0] == element[element_1] == element[element_2]:\n",
    "            return x\n",
    "    \n",
    "    return element\n",
    "    # 세로줄\n",
    "#     0,0 1,0 2,0\n",
    "#     0,1 1,1 2,1\n",
    "#     0,2 1,2 2,2\n",
    "    \n",
    "#     # 가로줄\n",
    "#     0,0 0,1 0,2\n",
    "#     1,0 1,1 1,2\n",
    "#     2,0 2,1 2,2\n",
    "    \n",
    "#     # 대각선\n",
    "#     0,0 1,1 2,2\n",
    "#     2,0 1,1 0,2"
   ]
  },
  {
   "cell_type": "code",
   "execution_count": 161,
   "metadata": {
    "scrolled": true
   },
   "outputs": [
    {
     "ename": "NameError",
     "evalue": "name 'element_0' is not defined",
     "output_type": "error",
     "traceback": [
      "\u001b[1;31m---------------------------------------------------------------------------\u001b[0m",
      "\u001b[1;31mNameError\u001b[0m                                 Traceback (most recent call last)",
      "\u001b[1;32m<ipython-input-161-d7bf903e3314>\u001b[0m in \u001b[0;36m<module>\u001b[1;34m\u001b[0m\n\u001b[0;32m      2\u001b[0m         \u001b[1;34m\"X.O\"\u001b[0m\u001b[1;33m,\u001b[0m\u001b[1;33m\u001b[0m\u001b[1;33m\u001b[0m\u001b[0m\n\u001b[0;32m      3\u001b[0m         \u001b[1;34m\"XX.\"\u001b[0m\u001b[1;33m,\u001b[0m\u001b[1;33m\u001b[0m\u001b[1;33m\u001b[0m\u001b[0m\n\u001b[1;32m----> 4\u001b[1;33m         \"XOO\"])\n\u001b[0m",
      "\u001b[1;32m<ipython-input-160-3f4b6eaad39d>\u001b[0m in \u001b[0;36mcheckio\u001b[1;34m(array)\u001b[0m\n\u001b[0;32m      5\u001b[0m         \u001b[1;32mfor\u001b[0m \u001b[0mj\u001b[0m \u001b[1;32min\u001b[0m \u001b[0mrange\u001b[0m\u001b[1;33m(\u001b[0m\u001b[0mi\u001b[0m\u001b[1;33m)\u001b[0m\u001b[1;33m:\u001b[0m\u001b[1;33m\u001b[0m\u001b[1;33m\u001b[0m\u001b[0m\n\u001b[0;32m      6\u001b[0m             \u001b[0melement\u001b[0m\u001b[1;33m[\u001b[0m\u001b[1;34m'element_{}'\u001b[0m\u001b[1;33m.\u001b[0m\u001b[0mformat\u001b[0m\u001b[1;33m(\u001b[0m\u001b[0mj\u001b[0m\u001b[1;33m)\u001b[0m\u001b[1;33m]\u001b[0m \u001b[1;33m=\u001b[0m \u001b[0marray\u001b[0m\u001b[1;33m[\u001b[0m\u001b[0mi\u001b[0m\u001b[1;33m]\u001b[0m\u001b[1;33m[\u001b[0m\u001b[0mj\u001b[0m\u001b[1;33m]\u001b[0m\u001b[1;33m\u001b[0m\u001b[1;33m\u001b[0m\u001b[0m\n\u001b[1;32m----> 7\u001b[1;33m         \u001b[1;32mif\u001b[0m \u001b[0melement\u001b[0m\u001b[1;33m[\u001b[0m\u001b[0melement_0\u001b[0m\u001b[1;33m]\u001b[0m \u001b[1;33m==\u001b[0m \u001b[0melement\u001b[0m\u001b[1;33m[\u001b[0m\u001b[0melement_1\u001b[0m\u001b[1;33m]\u001b[0m \u001b[1;33m==\u001b[0m \u001b[0melement\u001b[0m\u001b[1;33m[\u001b[0m\u001b[0melement_2\u001b[0m\u001b[1;33m]\u001b[0m\u001b[1;33m:\u001b[0m\u001b[1;33m\u001b[0m\u001b[1;33m\u001b[0m\u001b[0m\n\u001b[0m\u001b[0;32m      8\u001b[0m             \u001b[1;32mreturn\u001b[0m \u001b[0mx\u001b[0m\u001b[1;33m\u001b[0m\u001b[1;33m\u001b[0m\u001b[0m\n\u001b[0;32m      9\u001b[0m \u001b[1;33m\u001b[0m\u001b[0m\n",
      "\u001b[1;31mNameError\u001b[0m: name 'element_0' is not defined"
     ]
    }
   ],
   "source": [
    "checkio([\n",
    "        \"X.O\",\n",
    "        \"XX.\",\n",
    "        \"XOO\"])"
   ]
  },
  {
   "cell_type": "code",
   "execution_count": null,
   "metadata": {},
   "outputs": [],
   "source": [
    "assert checkio([\n",
    "        \"X.O\",\n",
    "        \"XX.\",\n",
    "        \"XOO\"]) == \"X\", \"Xs wins\"\n",
    "assert checkio([\n",
    "    \"OO.\",\n",
    "    \"XOX\",\n",
    "    \"XOX\"]) == \"O\", \"Os wins\"\n",
    "assert checkio([\n",
    "    \"OOX\",\n",
    "    \"XXO\",\n",
    "    \"OXX\"]) == \"D\", \"Draw\"\n",
    "assert checkio([\n",
    "    \"O.X\",\n",
    "    \"XX.\",\n",
    "    \"XOO\"]) == \"X\", \"Xs wins again\""
   ]
  },
  {
   "cell_type": "code",
   "execution_count": 162,
   "metadata": {},
   "outputs": [
    {
     "data": {
      "text/plain": [
       "1"
      ]
     },
     "execution_count": 162,
     "metadata": {},
     "output_type": "execute_result"
    }
   ],
   "source": [
    "1 % 10"
   ]
  },
  {
   "cell_type": "code",
   "execution_count": 163,
   "metadata": {},
   "outputs": [
    {
     "data": {
      "text/plain": [
       "0"
      ]
     },
     "execution_count": 163,
     "metadata": {},
     "output_type": "execute_result"
    }
   ],
   "source": [
    "0 % 10"
   ]
  },
  {
   "cell_type": "code",
   "execution_count": 164,
   "metadata": {},
   "outputs": [],
   "source": [
    "import math"
   ]
  },
  {
   "cell_type": "code",
   "execution_count": 176,
   "metadata": {},
   "outputs": [
    {
     "data": {
      "text/plain": [
       "True"
      ]
     },
     "execution_count": 176,
     "metadata": {},
     "output_type": "execute_result"
    }
   ],
   "source": [
    "n = 121\n",
    "int(math.sqrt(n)) == math.sqrt(n) \n",
    "# type(math.sqrt(n)) == int"
   ]
  },
  {
   "cell_type": "code",
   "execution_count": 177,
   "metadata": {},
   "outputs": [],
   "source": [
    "size = 2\n",
    "answer = [[0] * size] * size"
   ]
  },
  {
   "cell_type": "code",
   "execution_count": 179,
   "metadata": {},
   "outputs": [
    {
     "data": {
      "text/plain": [
       "0"
      ]
     },
     "execution_count": 179,
     "metadata": {},
     "output_type": "execute_result"
    }
   ],
   "source": [
    "answer[0][1]"
   ]
  },
  {
   "cell_type": "code",
   "execution_count": null,
   "metadata": {},
   "outputs": [],
   "source": []
  }
 ],
 "metadata": {
  "kernelspec": {
   "display_name": "Python 3",
   "language": "python",
   "name": "python3"
  },
  "language_info": {
   "codemirror_mode": {
    "name": "ipython",
    "version": 3
   },
   "file_extension": ".py",
   "mimetype": "text/x-python",
   "name": "python",
   "nbconvert_exporter": "python",
   "pygments_lexer": "ipython3",
   "version": "3.7.3"
  }
 },
 "nbformat": 4,
 "nbformat_minor": 2
}
