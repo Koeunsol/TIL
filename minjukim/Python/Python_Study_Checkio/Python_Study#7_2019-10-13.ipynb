{
 "cells": [
  {
   "cell_type": "markdown",
   "metadata": {},
   "source": [
    "# 왼손코딩#25 Median"
   ]
  },
  {
   "cell_type": "code",
   "execution_count": 18,
   "metadata": {},
   "outputs": [],
   "source": [
    "def checkio(array):\n",
    "    array.sort()\n",
    "    mid = len(array) // 2\n",
    "    if len(array) % 2 == 0:\n",
    "        return sum(array[mid - 1 : mid + 1])/2\n",
    "    return array[mid]"
   ]
  },
  {
   "cell_type": "code",
   "execution_count": 19,
   "metadata": {},
   "outputs": [
    {
     "data": {
      "text/plain": [
       "12.5"
      ]
     },
     "execution_count": 19,
     "metadata": {},
     "output_type": "execute_result"
    }
   ],
   "source": [
    "checkio([3, 6, 20, 99, 10, 15])"
   ]
  },
  {
   "cell_type": "code",
   "execution_count": 20,
   "metadata": {},
   "outputs": [],
   "source": [
    "assert checkio([1, 2, 3, 4, 5]) == 3\n",
    "assert checkio([3, 1, 2, 5, 3]) == 3\n",
    "assert checkio([1, 300, 2, 200, 1]) == 2\n",
    "assert checkio([3, 6, 20, 99, 10, 15]) == 12.5"
   ]
  },
  {
   "cell_type": "markdown",
   "metadata": {},
   "source": [
    "# 왼손코딩#26 I Love Python!"
   ]
  },
  {
   "cell_type": "code",
   "execution_count": null,
   "metadata": {},
   "outputs": [],
   "source": [
    "def i_love_python():\n",
    "    return 'I love Python!'"
   ]
  },
  {
   "cell_type": "code",
   "execution_count": null,
   "metadata": {},
   "outputs": [],
   "source": [
    "assert i_love_python() == \"I love Python!\""
   ]
  },
  {
   "cell_type": "markdown",
   "metadata": {},
   "source": [
    "# 왼손코딩#27 Common Words"
   ]
  },
  {
   "cell_type": "code",
   "execution_count": 1,
   "metadata": {},
   "outputs": [],
   "source": [
    "def checkio(text1, text2):\n",
    "    all_text = (text1 + ',' + text2).split(',')    \n",
    "\n",
    "    count_word = {}\n",
    "\n",
    "    for word in all_text:\n",
    "        count_word[word] = all_text.count(word)\n",
    "\n",
    "    max_count = max(count_word.values())\n",
    "    \n",
    "    max_index = []\n",
    "    for i, x in enumerate(list(count_word.values())):\n",
    "        if x == 2:\n",
    "            max_index.append(i)\n",
    "    return ','.join(sorted([list(count_word.keys())[x] for x in max_index]))"
   ]
  },
  {
   "cell_type": "code",
   "execution_count": null,
   "metadata": {},
   "outputs": [],
   "source": [
    "# 예슬님 코드\n",
    "\n",
    "def checkio(first, second):\n",
    "    first, second = set(first.split(',')), set(second.split(','))\n",
    "    return ','.join(sorted(first & second))"
   ]
  },
  {
   "cell_type": "code",
   "execution_count": 2,
   "metadata": {},
   "outputs": [
    {
     "data": {
      "text/plain": [
       "'one,three,two'"
      ]
     },
     "execution_count": 2,
     "metadata": {},
     "output_type": "execute_result"
    }
   ],
   "source": [
    "checkio(\"hello,world\", \"hello,earth\")\n",
    "# checkio(\"one,two,three\", \"four,five,six\")\n",
    "checkio(\"one,two,three\", \"four,five,one,two,six,three\")"
   ]
  },
  {
   "cell_type": "code",
   "execution_count": 3,
   "metadata": {},
   "outputs": [],
   "source": [
    "assert checkio(\"hello,world\", \"hello,earth\") == \"hello\"\n",
    "assert checkio(\"one,two,three\", \"four,five,six\") == \"\"\n",
    "assert checkio(\"one,two,three\", \"four,five,one,two,six,three\") == \"one,three,two\""
   ]
  },
  {
   "cell_type": "markdown",
   "metadata": {},
   "source": [
    "# 왼손코딩#28 Verify Anagrams"
   ]
  },
  {
   "cell_type": "code",
   "execution_count": 125,
   "metadata": {},
   "outputs": [],
   "source": [
    "def verify_anagrams(text1, text2):\n",
    "    text1 = sorted(text1.replace(' ', '').lower())\n",
    "    text2 = sorted(text2.replace(' ', '').lower())\n",
    "\n",
    "    return text1 == text2"
   ]
  },
  {
   "cell_type": "code",
   "execution_count": 126,
   "metadata": {},
   "outputs": [
    {
     "data": {
      "text/plain": [
       "True"
      ]
     },
     "execution_count": 126,
     "metadata": {},
     "output_type": "execute_result"
    }
   ],
   "source": [
    "verify_anagrams(\"Programming\", \"Gram Ring Mop\")"
   ]
  },
  {
   "cell_type": "code",
   "execution_count": 127,
   "metadata": {},
   "outputs": [],
   "source": [
    "assert verify_anagrams(\"Programming\", \"Gram Ring Mop\") == True\n",
    "assert verify_anagrams(\"Hello\", \"Ole Oh\") == False\n",
    "assert verify_anagrams(\"Kyoto\", \"Tokyo\") == True"
   ]
  },
  {
   "cell_type": "markdown",
   "metadata": {},
   "source": [
    "# 왼손코딩#29 Conversion into CamelCase"
   ]
  },
  {
   "cell_type": "code",
   "execution_count": 136,
   "metadata": {},
   "outputs": [],
   "source": [
    "def to_camelcase(text):\n",
    "    text_list = text.split('_')\n",
    "    \n",
    "    answer = ''\n",
    "    for word in text_list:\n",
    "        answer += word[0].upper()\n",
    "        answer += word[1:]\n",
    "    return answer"
   ]
  },
  {
   "cell_type": "code",
   "execution_count": 137,
   "metadata": {},
   "outputs": [
    {
     "data": {
      "text/plain": [
       "'MyFunctionName'"
      ]
     },
     "execution_count": 137,
     "metadata": {},
     "output_type": "execute_result"
    }
   ],
   "source": [
    "to_camelcase('my_function_name')"
   ]
  },
  {
   "cell_type": "code",
   "execution_count": 138,
   "metadata": {},
   "outputs": [],
   "source": [
    "assert to_camelcase('my_function_name') == 'MyFunctionName'"
   ]
  },
  {
   "cell_type": "markdown",
   "metadata": {},
   "source": [
    "# 왼손코딩#30 Conversion from CamelCase"
   ]
  },
  {
   "cell_type": "code",
   "execution_count": 4,
   "metadata": {},
   "outputs": [],
   "source": [
    "def from_camelcase(text):\n",
    "\n",
    "    answer = ''\n",
    "    for x in text:\n",
    "        if x.isupper(): answer += '_'\n",
    "        answer += x.lower()\n",
    "    return answer[1:]"
   ]
  },
  {
   "cell_type": "code",
   "execution_count": 5,
   "metadata": {},
   "outputs": [
    {
     "data": {
      "text/plain": [
       "'my_function_name'"
      ]
     },
     "execution_count": 5,
     "metadata": {},
     "output_type": "execute_result"
    }
   ],
   "source": [
    "from_camelcase('MyFunctionName')"
   ]
  },
  {
   "cell_type": "code",
   "execution_count": 6,
   "metadata": {},
   "outputs": [],
   "source": [
    "assert from_camelcase('MyFunctionName') == 'my_function_name'"
   ]
  },
  {
   "cell_type": "code",
   "execution_count": null,
   "metadata": {},
   "outputs": [],
   "source": []
  }
 ],
 "metadata": {
  "kernelspec": {
   "display_name": "Python 3",
   "language": "python",
   "name": "python3"
  },
  "language_info": {
   "codemirror_mode": {
    "name": "ipython",
    "version": 3
   },
   "file_extension": ".py",
   "mimetype": "text/x-python",
   "name": "python",
   "nbconvert_exporter": "python",
   "pygments_lexer": "ipython3",
   "version": "3.7.3"
  }
 },
 "nbformat": 4,
 "nbformat_minor": 2
}
