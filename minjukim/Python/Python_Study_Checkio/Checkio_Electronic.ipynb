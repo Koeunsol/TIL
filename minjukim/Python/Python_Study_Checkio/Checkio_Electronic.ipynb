{
 "cells": [
  {
   "cell_type": "markdown",
   "metadata": {},
   "source": [
    "# Restricted Sum\n",
    "sum\n",
    "import\n",
    "for\n",
    "while\n",
    "reduce"
   ]
  },
  {
   "cell_type": "code",
   "execution_count": 1,
   "metadata": {},
   "outputs": [],
   "source": [
    "def checkio(array):\n",
    "    return sum(array)"
   ]
  },
  {
   "cell_type": "code",
   "execution_count": 3,
   "metadata": {},
   "outputs": [],
   "source": [
    "def checkio(array):\n",
    "    answer = 0\n",
    "    \n",
    "    for x in array:\n",
    "        answer += x\n",
    "    \n",
    "    return answer"
   ]
  },
  {
   "cell_type": "code",
   "execution_count": 28,
   "metadata": {},
   "outputs": [],
   "source": [
    "def checkio(array):\n",
    "    return set(array)"
   ]
  },
  {
   "cell_type": "code",
   "execution_count": 29,
   "metadata": {},
   "outputs": [
    {
     "data": {
      "text/plain": [
       "{1, 2, 3}"
      ]
     },
     "execution_count": 29,
     "metadata": {},
     "output_type": "execute_result"
    }
   ],
   "source": [
    " checkio([1, 2, 3])"
   ]
  },
  {
   "cell_type": "code",
   "execution_count": 27,
   "metadata": {},
   "outputs": [
    {
     "ename": "ValueError",
     "evalue": "invalid literal for int() with base 10: '1+2+3'",
     "output_type": "error",
     "traceback": [
      "\u001b[1;31m---------------------------------------------------------------------------\u001b[0m",
      "\u001b[1;31mValueError\u001b[0m                                Traceback (most recent call last)",
      "\u001b[1;32m<ipython-input-27-40f60c587604>\u001b[0m in \u001b[0;36m<module>\u001b[1;34m\u001b[0m\n\u001b[1;32m----> 1\u001b[1;33m \u001b[1;32massert\u001b[0m \u001b[0mcheckio\u001b[0m\u001b[1;33m(\u001b[0m\u001b[1;33m[\u001b[0m\u001b[1;36m1\u001b[0m\u001b[1;33m,\u001b[0m \u001b[1;36m2\u001b[0m\u001b[1;33m,\u001b[0m \u001b[1;36m3\u001b[0m\u001b[1;33m]\u001b[0m\u001b[1;33m)\u001b[0m \u001b[1;33m==\u001b[0m \u001b[1;36m6\u001b[0m\u001b[1;33m\u001b[0m\u001b[1;33m\u001b[0m\u001b[0m\n\u001b[0m\u001b[0;32m      2\u001b[0m \u001b[1;32massert\u001b[0m \u001b[0mcheckio\u001b[0m\u001b[1;33m(\u001b[0m\u001b[1;33m[\u001b[0m\u001b[1;36m2\u001b[0m\u001b[1;33m,\u001b[0m \u001b[1;36m2\u001b[0m\u001b[1;33m,\u001b[0m \u001b[1;36m2\u001b[0m\u001b[1;33m,\u001b[0m \u001b[1;36m2\u001b[0m\u001b[1;33m,\u001b[0m \u001b[1;36m2\u001b[0m\u001b[1;33m,\u001b[0m \u001b[1;36m2\u001b[0m\u001b[1;33m]\u001b[0m\u001b[1;33m)\u001b[0m \u001b[1;33m==\u001b[0m \u001b[1;36m12\u001b[0m\u001b[1;33m\u001b[0m\u001b[1;33m\u001b[0m\u001b[0m\n",
      "\u001b[1;32m<ipython-input-25-34d8d465bdc7>\u001b[0m in \u001b[0;36mcheckio\u001b[1;34m(array)\u001b[0m\n\u001b[0;32m      1\u001b[0m \u001b[1;32mdef\u001b[0m \u001b[0mcheckio\u001b[0m\u001b[1;33m(\u001b[0m\u001b[0marray\u001b[0m\u001b[1;33m)\u001b[0m\u001b[1;33m:\u001b[0m\u001b[1;33m\u001b[0m\u001b[1;33m\u001b[0m\u001b[0m\n\u001b[0;32m      2\u001b[0m     \u001b[0marray\u001b[0m \u001b[1;33m=\u001b[0m \u001b[1;33m[\u001b[0m\u001b[0mstr\u001b[0m\u001b[1;33m(\u001b[0m\u001b[0mx\u001b[0m\u001b[1;33m)\u001b[0m \u001b[1;32mfor\u001b[0m \u001b[0mx\u001b[0m \u001b[1;32min\u001b[0m \u001b[0marray\u001b[0m\u001b[1;33m]\u001b[0m\u001b[1;33m\u001b[0m\u001b[1;33m\u001b[0m\u001b[0m\n\u001b[1;32m----> 3\u001b[1;33m     \u001b[1;32mreturn\u001b[0m \u001b[0mint\u001b[0m\u001b[1;33m(\u001b[0m\u001b[1;34m'+'\u001b[0m\u001b[1;33m.\u001b[0m\u001b[0mjoin\u001b[0m\u001b[1;33m(\u001b[0m\u001b[0marray\u001b[0m\u001b[1;33m)\u001b[0m\u001b[1;33m)\u001b[0m\u001b[1;33m\u001b[0m\u001b[1;33m\u001b[0m\u001b[0m\n\u001b[0m",
      "\u001b[1;31mValueError\u001b[0m: invalid literal for int() with base 10: '1+2+3'"
     ]
    }
   ],
   "source": [
    "assert checkio([1, 2, 3]) == 6\n",
    "assert checkio([2, 2, 2, 2, 2, 2]) == 12"
   ]
  },
  {
   "cell_type": "markdown",
   "metadata": {},
   "source": [
    "# Count_Counsecutive_Summers"
   ]
  },
  {
   "cell_type": "code",
   "execution_count": 54,
   "metadata": {},
   "outputs": [],
   "source": [
    "def count_consecutive_summers(n):\n",
    "    answer = 1\n",
    "    for end in range(1, n):\n",
    "        for start in range(1, end):\n",
    "            if n == end * (end + 1) / 2 - start * (start - 1) / 2:\n",
    "                answer += 1\n",
    "                \n",
    "    return answer"
   ]
  },
  {
   "cell_type": "code",
   "execution_count": 55,
   "metadata": {},
   "outputs": [
    {
     "data": {
      "text/plain": [
       "6"
      ]
     },
     "execution_count": 55,
     "metadata": {},
     "output_type": "execute_result"
    }
   ],
   "source": [
    "count_consecutive_summers(42)\n",
    "count_consecutive_summers(99)"
   ]
  },
  {
   "cell_type": "code",
   "execution_count": 56,
   "metadata": {},
   "outputs": [],
   "source": [
    "assert count_consecutive_summers(42) == 4\n",
    "assert count_consecutive_summers(99) == 6"
   ]
  },
  {
   "cell_type": "markdown",
   "metadata": {},
   "source": [
    "# Speech"
   ]
  },
  {
   "cell_type": "code",
   "execution_count": 128,
   "metadata": {},
   "outputs": [],
   "source": [
    "FIRST_TEN = [\"one\", \"two\", \"three\", \"four\", \"five\", \"six\", \"seven\",\n",
    "             \"eight\", \"nine\"]\n",
    "SECOND_TEN = [\"ten\", \"eleven\", \"twelve\", \"thirteen\", \"fourteen\", \"fifteen\",\n",
    "              \"sixteen\", \"seventeen\", \"eighteen\", \"nineteen\"]\n",
    "OTHER_TENS = [\"twenty\", \"thirty\", \"forty\", \"fifty\", \"sixty\", \"seventy\",\n",
    "              \"eighty\", \"ninety\"]\n",
    "HUNDRED = \"hundred\"\n",
    "\n",
    "\n",
    "def checkio(number):\n",
    "    answer = ''\n",
    "    # 100 의 자리\n",
    "    digit_100 = number // 100\n",
    "    if digit_100 != 0:\n",
    "        answer += FIRST_TEN[digit_100 - 1]\n",
    "        answer += ' '\n",
    "        answer += HUNDRED\n",
    "        answer += ' '\n",
    "    \n",
    "    # 10 의 자리\n",
    "    number = number % 100\n",
    "    digit_10 = number // 10\n",
    "    \n",
    "    # 10 ~ 19\n",
    "    if digit_10 == 1:\n",
    "        digit_1 = number % 10\n",
    "\n",
    "        answer += SECOND_TEN[digit_1]\n",
    "        \n",
    "    elif digit_10 == 0: \n",
    "        pass\n",
    "    \n",
    "    # 20 ~ 90\n",
    "    else: \n",
    "        answer += OTHER_TENS[digit_10 - 2]\n",
    "        answer += ' '   \n",
    "        \n",
    "    # 1 의 자리\n",
    "    if digit_10 != 1:\n",
    "        number = number % 10\n",
    "    \n",
    "        if number != 0:\n",
    "            answer += FIRST_TEN[number - 1]\n",
    "\n",
    "    return answer.strip()"
   ]
  },
  {
   "cell_type": "code",
   "execution_count": 129,
   "metadata": {},
   "outputs": [
    {
     "data": {
      "text/plain": [
       "'ten'"
      ]
     },
     "execution_count": 129,
     "metadata": {},
     "output_type": "execute_result"
    }
   ],
   "source": [
    "# checkio(4)\n",
    "# checkio(12)\n",
    "# checkio(40)\n",
    "checkio(10)"
   ]
  },
  {
   "cell_type": "code",
   "execution_count": 130,
   "metadata": {},
   "outputs": [],
   "source": [
    "assert checkio(4) == 'four', \"1st example\"\n",
    "assert checkio(133) == 'one hundred thirty three', \"2nd example\"\n",
    "assert checkio(12) == 'twelve', \"3rd example\"\n",
    "assert checkio(101) == 'one hundred one', \"4th example\"\n",
    "assert checkio(212) == 'two hundred twelve', \"5th example\"\n",
    "assert checkio(40) == 'forty', \"6th example\"\n",
    "assert not checkio(212).endswith(' '), \"Don't forget strip whitespaces at the end of string\""
   ]
  },
  {
   "cell_type": "markdown",
   "metadata": {},
   "source": [
    "# Multicolored Lamp(class 모르겠다)"
   ]
  },
  {
   "cell_type": "code",
   "execution_count": null,
   "metadata": {},
   "outputs": [],
   "source": [
    "class Lamp:\n",
    "    def __init__(self):\n",
    "\n",
    "    def light():\n",
    "        color = ['Green', 'Red', 'Blue', 'Yellow']\n",
    "        self.light() = color[count]\n",
    "        count += 1"
   ]
  },
  {
   "cell_type": "code",
   "execution_count": null,
   "metadata": {},
   "outputs": [],
   "source": [
    "lamp_1 = Lamp()\n",
    "lamp_2 = Lamp()\n",
    "\n",
    "lamp_1.light() #Green\n",
    "lamp_1.light() #Red\n",
    "lamp_2.light() #Green\n",
    "\n",
    "assert lamp_1.light() == \"Blue\"\n",
    "assert lamp_1.light() == \"Yellow\"\n",
    "assert lamp_1.light() == \"Green\"\n",
    "assert lamp_2.light() == \"Red\"\n",
    "assert lamp_2.light() == \"Blue\""
   ]
  },
  {
   "cell_type": "markdown",
   "metadata": {},
   "source": [
    "# Find Sequence"
   ]
  },
  {
   "cell_type": "code",
   "execution_count": 250,
   "metadata": {},
   "outputs": [],
   "source": [
    "def checkio(matrix):\n",
    "    size = len(matrix)\n",
    "    # 세로줄\n",
    "    for i in range(size):\n",
    "        vertical = [x[i] for x in matrix]\n",
    "        if sequence(vertical):\n",
    "            return True\n",
    "    \n",
    "    # 가로줄\n",
    "    for l in matrix:\n",
    "        if sequence(l):\n",
    "            return True\n",
    "    \n",
    "    # 대각선\n",
    "    for j in range(-(size-1), size):\n",
    "        \n",
    "#         (0,0) (N,N)\n",
    "        diagonal = [matrix[i+j][i] for i in range(size) if i+j in range(size)]\n",
    "        if sequence(diagonal):\n",
    "            return True\n",
    "\n",
    "#         (0,N) (N,0)\n",
    "        diagonal = [matrix[size-i-j][i] for i in range(size) if size-i-j in range(size)]\n",
    "        if sequence(diagonal):\n",
    "            return True\n",
    "\n",
    "    return False\n",
    "\n",
    "\n",
    "def sequence(array):\n",
    "    # 4 more sequence\n",
    "    count = 0\n",
    "    for i, x in enumerate(array):\n",
    "        # 기본이 count 1\n",
    "        # 앞에거랑 같으면 +1\n",
    "            # 첫번째 원소는 비교 안함\n",
    "        count += 1\n",
    "        if i != 0: \n",
    "            if x != array[i-1]: \n",
    "                count = 1\n",
    "        if count > 3:\n",
    "            return True"
   ]
  },
  {
   "cell_type": "code",
   "execution_count": 251,
   "metadata": {},
   "outputs": [],
   "source": [
    "assert checkio([\n",
    "    [1, 2, 1, 1],\n",
    "    [1, 1, 4, 1],\n",
    "    [1, 3, 1, 6],\n",
    "    [1, 7, 2, 5]\n",
    "]) == True, \"Vertical\"\n",
    "assert checkio([\n",
    "    [7, 1, 4, 1],\n",
    "    [1, 2, 5, 2],\n",
    "    [3, 4, 1, 3],\n",
    "    [1, 1, 8, 1]\n",
    "]) == False, \"Nothing here\"\n",
    "assert checkio([\n",
    "    [2, 1, 1, 6, 1],\n",
    "    [1, 3, 2, 1, 1],\n",
    "    [4, 1, 1, 3, 1],\n",
    "    [5, 5, 5, 5, 5],\n",
    "    [1, 1, 3, 1, 1]\n",
    "]) == True, \"Long Horizontal\"\n",
    "assert checkio([\n",
    "    [7, 1, 1, 8, 1, 1],\n",
    "    [1, 1, 7, 3, 1, 5],\n",
    "    [2, 3, 1, 2, 5, 1],\n",
    "    [1, 1, 1, 5, 1, 4],\n",
    "    [4, 6, 5, 1, 3, 1],\n",
    "    [1, 1, 9, 1, 2, 1]\n",
    "]) == True, \"Diagonal\""
   ]
  },
  {
   "cell_type": "markdown",
   "metadata": {},
   "source": [
    "# Roman Numerals(푸는중)"
   ]
  },
  {
   "cell_type": "code",
   "execution_count": null,
   "metadata": {},
   "outputs": [],
   "source": [
    "def checkio(data):\n",
    "\n",
    "    data\n",
    "    return \"\""
   ]
  },
  {
   "cell_type": "code",
   "execution_count": null,
   "metadata": {},
   "outputs": [],
   "source": [
    "assert checkio(6) == 'VI', '6'\n",
    "assert checkio(76) == 'LXXVI', '76'\n",
    "assert checkio(499) == 'CDXCIX', '499'\n",
    "assert checkio(3888) == 'MMMDCCCLXXXVIII', '3888'"
   ]
  },
  {
   "cell_type": "markdown",
   "metadata": {},
   "source": [
    "# Probably Dice"
   ]
  },
  {
   "cell_type": "code",
   "execution_count": 290,
   "metadata": {},
   "outputs": [],
   "source": [
    "def probability(dice_number, sides, target):\n",
    "    # 분모\n",
    "    all_case = sides ** dice_number\n",
    "    # 분자 target number 를 만들 수 있는 조합의 수\n",
    "    # e.g. 6면 주사위 2개 target 3\n",
    "#     (1, 2) (2, 1)\n",
    "    case = []\n",
    "    # 주사위 2 개일 때만\n",
    "    for i in range(1, sides + 1):\n",
    "        other = target - i\n",
    "        if other in range(1, sides + 1) :\n",
    "            case.append((i, other))\n",
    "    \n",
    "    print(case)\n",
    "    print(len(case), all_case)\n",
    "    print(len(case) / all_case)\n",
    "    return round(len(case) / all_case, ndigits=4)\n",
    "\n",
    "if __name__ == '__main__':\n",
    "    #These are only used for self-checking and are not necessary for auto-testing\n",
    "    def almost_equal(checked, correct, significant_digits=4):\n",
    "        precision = 0.1 ** significant_digits\n",
    "        return correct - precision < checked < correct + precision\n",
    "        "
   ]
  },
  {
   "cell_type": "code",
   "execution_count": null,
   "metadata": {},
   "outputs": [],
   "source": [
    "def probability(dice_number, sides, target):\n",
    "    # 분모\n",
    "    all_case = sides ** dice_number\n",
    "    # 분자 target number 를 만들 수 있는 조합의 수\n",
    "    case = []\n",
    "    \n",
    "    # 무조건 각 1 이상 들어가야하는 조합\n",
    "    for i in range(sides - 2):\n",
    "        (0,0,5) 3 (0,1,4) (0,2,3) 3*2*1\n",
    "        귀찮네\n",
    "        other = target - i\n",
    "        if other in range(1, sides + 1) :\n",
    "            case.append((i, other))\n",
    "    \n",
    "    print(case)\n",
    "    print(len(case), all_case)\n",
    "    print(len(case) / all_case)\n",
    "    return round(len(case) / all_case, ndigits=4)"
   ]
  },
  {
   "cell_type": "code",
   "execution_count": 293,
   "metadata": {},
   "outputs": [
    {
     "name": "stdout",
     "output_type": "stream",
     "text": [
      "[(1, 6), (2, 5), (3, 4), (4, 3), (5, 2), (6, 1)]\n",
      "6 216\n",
      "0.027777777777777776\n"
     ]
    },
    {
     "data": {
      "text/plain": [
       "0.0278"
      ]
     },
     "execution_count": 293,
     "metadata": {},
     "output_type": "execute_result"
    }
   ],
   "source": [
    "# probability(2, 6, 7)\n",
    "# probability(2, 3, 5)\n",
    "probability(3, 6, 7)"
   ]
  },
  {
   "cell_type": "code",
   "execution_count": 292,
   "metadata": {},
   "outputs": [
    {
     "name": "stdout",
     "output_type": "stream",
     "text": [
      "[(1, 2), (2, 1)]\n",
      "2 36\n",
      "0.05555555555555555\n",
      "[(1, 3), (2, 2), (3, 1)]\n",
      "3 36\n",
      "0.08333333333333333\n",
      "[(1, 6), (2, 5), (3, 4), (4, 3), (5, 2), (6, 1)]\n",
      "6 36\n",
      "0.16666666666666666\n",
      "[(2, 3), (3, 2)]\n",
      "2 9\n",
      "0.2222222222222222\n",
      "[]\n",
      "0 9\n",
      "0.0\n",
      "[(1, 6), (2, 5), (3, 4), (4, 3), (5, 2), (6, 1)]\n",
      "6 216\n",
      "0.027777777777777776\n"
     ]
    },
    {
     "ename": "AssertionError",
     "evalue": "Three dice",
     "output_type": "error",
     "traceback": [
      "\u001b[1;31m---------------------------------------------------------------------------\u001b[0m",
      "\u001b[1;31mAssertionError\u001b[0m                            Traceback (most recent call last)",
      "\u001b[1;32m<ipython-input-292-964b376be7d7>\u001b[0m in \u001b[0;36m<module>\u001b[1;34m\u001b[0m\n\u001b[0;32m      4\u001b[0m \u001b[1;32massert\u001b[0m\u001b[1;33m(\u001b[0m\u001b[0malmost_equal\u001b[0m\u001b[1;33m(\u001b[0m\u001b[0mprobability\u001b[0m\u001b[1;33m(\u001b[0m\u001b[1;36m2\u001b[0m\u001b[1;33m,\u001b[0m \u001b[1;36m3\u001b[0m\u001b[1;33m,\u001b[0m \u001b[1;36m5\u001b[0m\u001b[1;33m)\u001b[0m\u001b[1;33m,\u001b[0m \u001b[1;36m0.2222\u001b[0m\u001b[1;33m)\u001b[0m\u001b[1;33m)\u001b[0m\u001b[1;33m,\u001b[0m \u001b[1;34m\"Small dice\"\u001b[0m\u001b[1;33m\u001b[0m\u001b[1;33m\u001b[0m\u001b[0m\n\u001b[0;32m      5\u001b[0m \u001b[1;32massert\u001b[0m\u001b[1;33m(\u001b[0m\u001b[0malmost_equal\u001b[0m\u001b[1;33m(\u001b[0m\u001b[0mprobability\u001b[0m\u001b[1;33m(\u001b[0m\u001b[1;36m2\u001b[0m\u001b[1;33m,\u001b[0m \u001b[1;36m3\u001b[0m\u001b[1;33m,\u001b[0m \u001b[1;36m7\u001b[0m\u001b[1;33m)\u001b[0m\u001b[1;33m,\u001b[0m \u001b[1;36m0.0000\u001b[0m\u001b[1;33m)\u001b[0m\u001b[1;33m)\u001b[0m\u001b[1;33m,\u001b[0m \u001b[1;34m\"Never!\"\u001b[0m\u001b[1;33m\u001b[0m\u001b[1;33m\u001b[0m\u001b[0m\n\u001b[1;32m----> 6\u001b[1;33m \u001b[1;32massert\u001b[0m\u001b[1;33m(\u001b[0m\u001b[0malmost_equal\u001b[0m\u001b[1;33m(\u001b[0m\u001b[0mprobability\u001b[0m\u001b[1;33m(\u001b[0m\u001b[1;36m3\u001b[0m\u001b[1;33m,\u001b[0m \u001b[1;36m6\u001b[0m\u001b[1;33m,\u001b[0m \u001b[1;36m7\u001b[0m\u001b[1;33m)\u001b[0m\u001b[1;33m,\u001b[0m \u001b[1;36m0.0694\u001b[0m\u001b[1;33m)\u001b[0m\u001b[1;33m)\u001b[0m\u001b[1;33m,\u001b[0m \u001b[1;34m\"Three dice\"\u001b[0m\u001b[1;33m\u001b[0m\u001b[1;33m\u001b[0m\u001b[0m\n\u001b[0m\u001b[0;32m      7\u001b[0m \u001b[1;32massert\u001b[0m\u001b[1;33m(\u001b[0m\u001b[0malmost_equal\u001b[0m\u001b[1;33m(\u001b[0m\u001b[0mprobability\u001b[0m\u001b[1;33m(\u001b[0m\u001b[1;36m10\u001b[0m\u001b[1;33m,\u001b[0m \u001b[1;36m10\u001b[0m\u001b[1;33m,\u001b[0m \u001b[1;36m50\u001b[0m\u001b[1;33m)\u001b[0m\u001b[1;33m,\u001b[0m \u001b[1;36m0.0375\u001b[0m\u001b[1;33m)\u001b[0m\u001b[1;33m)\u001b[0m\u001b[1;33m,\u001b[0m \u001b[1;34m\"Many dice, many sides\"\u001b[0m\u001b[1;33m\u001b[0m\u001b[1;33m\u001b[0m\u001b[0m\n",
      "\u001b[1;31mAssertionError\u001b[0m: Three dice"
     ]
    }
   ],
   "source": [
    "assert(almost_equal(probability(2, 6, 3), 0.0556)), \"Basic example\"\n",
    "assert(almost_equal(probability(2, 6, 4), 0.0833)), \"More points\"\n",
    "assert(almost_equal(probability(2, 6, 7), 0.1667)), \"Maximum for two 6-sided dice\"\n",
    "assert(almost_equal(probability(2, 3, 5), 0.2222)), \"Small dice\"\n",
    "assert(almost_equal(probability(2, 3, 7), 0.0000)), \"Never!\"\n",
    "assert(almost_equal(probability(3, 6, 7), 0.0694)), \"Three dice\"\n",
    "assert(almost_equal(probability(10, 10, 50), 0.0375)), \"Many dice, many sides\""
   ]
  },
  {
   "cell_type": "code",
   "execution_count": null,
   "metadata": {},
   "outputs": [],
   "source": []
  }
 ],
 "metadata": {
  "kernelspec": {
   "display_name": "Python 3",
   "language": "python",
   "name": "python3"
  },
  "language_info": {
   "codemirror_mode": {
    "name": "ipython",
    "version": 3
   },
   "file_extension": ".py",
   "mimetype": "text/x-python",
   "name": "python",
   "nbconvert_exporter": "python",
   "pygments_lexer": "ipython3",
   "version": "3.7.3"
  }
 },
 "nbformat": 4,
 "nbformat_minor": 2
}
