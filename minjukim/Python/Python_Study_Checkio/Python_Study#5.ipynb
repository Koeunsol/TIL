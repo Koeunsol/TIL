{
 "cells": [
  {
   "cell_type": "markdown",
   "metadata": {},
   "source": [
    "# 김왼손#15 Right to Left"
   ]
  },
  {
   "cell_type": "code",
   "execution_count": 10,
   "metadata": {},
   "outputs": [],
   "source": [
    "def left_join(phrases):\n",
    "    return ','.join(phrases).replace('right', 'left')"
   ]
  },
  {
   "cell_type": "code",
   "execution_count": 11,
   "metadata": {},
   "outputs": [
    {
     "data": {
      "text/plain": [
       "'left,left,left,stop'"
      ]
     },
     "execution_count": 11,
     "metadata": {},
     "output_type": "execute_result"
    }
   ],
   "source": [
    "left_join((\"left\", \"right\", \"left\", \"stop\"))"
   ]
  },
  {
   "cell_type": "code",
   "execution_count": 12,
   "metadata": {},
   "outputs": [],
   "source": [
    "assert left_join((\"left\", \"right\", \"left\", \"stop\")) == \"left,left,left,stop\", \"All to left\"\n",
    "assert left_join((\"bright aright\", \"ok\")) == \"bleft aleft,ok\", \"Bright Left\"\n",
    "assert left_join((\"brightness wright\",)) == \"bleftness wleft\", \"One phrase\"\n",
    "assert left_join((\"enough\", \"jokes\")) == \"enough,jokes\", \"Nothing to replace\""
   ]
  },
  {
   "cell_type": "markdown",
   "metadata": {},
   "source": [
    "# 김왼손#16 Digit Multiplication"
   ]
  },
  {
   "cell_type": "code",
   "execution_count": 14,
   "metadata": {},
   "outputs": [],
   "source": [
    "number = 123405\n",
    "\n",
    "def checkio(number):\n",
    "    num_list = [x for x in str(number) if x != '0']\n",
    "    answer = 1\n",
    "    for num in num_list:\n",
    "        answer *= int(num)\n",
    "\n",
    "    return answer"
   ]
  },
  {
   "cell_type": "markdown",
   "metadata": {},
   "source": [
    "-> List 에서 한번에 끝낼 수 있다"
   ]
  },
  {
   "cell_type": "code",
   "execution_count": 15,
   "metadata": {},
   "outputs": [],
   "source": [
    "    assert checkio(123405) == 120\n",
    "    assert checkio(999) == 729\n",
    "    assert checkio(1000) == 1\n",
    "    assert checkio(1111) == 1"
   ]
  },
  {
   "cell_type": "markdown",
   "metadata": {},
   "source": [
    "# 성환님 코드\n",
    "- python 에서 str 으로 바꾸는건 너무 쉬워서 일부러 안씀\n",
    "- 다른 언어에서는 다 이렇게 푼다"
   ]
  },
  {
   "cell_type": "code",
   "execution_count": null,
   "metadata": {},
   "outputs": [],
   "source": [
    "def solution(N):\n",
    "    ans = 1\n",
    "\n",
    "    while N:\n",
    "        N, rest = divmod(N, 10)\n",
    "        if rest == 0:\n",
    "            rest = 1\n",
    "        ans *= rest"
   ]
  },
  {
   "cell_type": "markdown",
   "metadata": {},
   "source": [
    "# 김왼손#17 Number Base"
   ]
  },
  {
   "cell_type": "code",
   "execution_count": 35,
   "metadata": {},
   "outputs": [],
   "source": [
    "def checkio(number, radix):\n",
    "    answer = 0\n",
    "    for i in range(len(number)):\n",
    "        answer += int(number[-(i + 1)]) * (radix ** i)\n",
    "    return answer"
   ]
  },
  {
   "cell_type": "code",
   "execution_count": 38,
   "metadata": {},
   "outputs": [
    {
     "ename": "ValueError",
     "evalue": "invalid literal for int() with base 10: 'F'",
     "output_type": "error",
     "traceback": [
      "\u001b[1;31m---------------------------------------------------------------------------\u001b[0m",
      "\u001b[1;31mValueError\u001b[0m                                Traceback (most recent call last)",
      "\u001b[1;32m<ipython-input-38-fd87ca63e2d2>\u001b[0m in \u001b[0;36m<module>\u001b[1;34m\u001b[0m\n\u001b[0;32m      1\u001b[0m \u001b[1;32massert\u001b[0m \u001b[0mcheckio\u001b[0m\u001b[1;33m(\u001b[0m\u001b[1;34m'101'\u001b[0m\u001b[1;33m,\u001b[0m \u001b[1;36m2\u001b[0m\u001b[1;33m)\u001b[0m \u001b[1;33m==\u001b[0m \u001b[1;36m5\u001b[0m\u001b[1;33m\u001b[0m\u001b[1;33m\u001b[0m\u001b[0m\n\u001b[0;32m      2\u001b[0m \u001b[1;32massert\u001b[0m \u001b[0mcheckio\u001b[0m\u001b[1;33m(\u001b[0m\u001b[1;34m'101'\u001b[0m\u001b[1;33m,\u001b[0m \u001b[1;36m5\u001b[0m\u001b[1;33m)\u001b[0m \u001b[1;33m==\u001b[0m \u001b[1;36m26\u001b[0m\u001b[1;33m\u001b[0m\u001b[1;33m\u001b[0m\u001b[0m\n\u001b[1;32m----> 3\u001b[1;33m \u001b[1;32massert\u001b[0m \u001b[0mcheckio\u001b[0m\u001b[1;33m(\u001b[0m\u001b[1;34m'AF'\u001b[0m\u001b[1;33m,\u001b[0m \u001b[1;36m16\u001b[0m\u001b[1;33m)\u001b[0m \u001b[1;33m==\u001b[0m \u001b[1;36m175\u001b[0m\u001b[1;33m\u001b[0m\u001b[1;33m\u001b[0m\u001b[0m\n\u001b[0m",
      "\u001b[1;32m<ipython-input-35-2e168c99faf5>\u001b[0m in \u001b[0;36mcheckio\u001b[1;34m(number, radix)\u001b[0m\n\u001b[0;32m      2\u001b[0m     \u001b[0manswer\u001b[0m \u001b[1;33m=\u001b[0m \u001b[1;36m0\u001b[0m\u001b[1;33m\u001b[0m\u001b[1;33m\u001b[0m\u001b[0m\n\u001b[0;32m      3\u001b[0m     \u001b[1;32mfor\u001b[0m \u001b[0mi\u001b[0m \u001b[1;32min\u001b[0m \u001b[0mrange\u001b[0m\u001b[1;33m(\u001b[0m\u001b[0mlen\u001b[0m\u001b[1;33m(\u001b[0m\u001b[0mnumber\u001b[0m\u001b[1;33m)\u001b[0m\u001b[1;33m)\u001b[0m\u001b[1;33m:\u001b[0m\u001b[1;33m\u001b[0m\u001b[1;33m\u001b[0m\u001b[0m\n\u001b[1;32m----> 4\u001b[1;33m         \u001b[0manswer\u001b[0m \u001b[1;33m+=\u001b[0m \u001b[0mint\u001b[0m\u001b[1;33m(\u001b[0m\u001b[0mnumber\u001b[0m\u001b[1;33m[\u001b[0m\u001b[1;33m-\u001b[0m\u001b[1;33m(\u001b[0m\u001b[0mi\u001b[0m \u001b[1;33m+\u001b[0m \u001b[1;36m1\u001b[0m\u001b[1;33m)\u001b[0m\u001b[1;33m]\u001b[0m\u001b[1;33m)\u001b[0m \u001b[1;33m*\u001b[0m \u001b[1;33m(\u001b[0m\u001b[0mradix\u001b[0m \u001b[1;33m**\u001b[0m \u001b[0mi\u001b[0m\u001b[1;33m)\u001b[0m\u001b[1;33m\u001b[0m\u001b[1;33m\u001b[0m\u001b[0m\n\u001b[0m\u001b[0;32m      5\u001b[0m     \u001b[1;32mreturn\u001b[0m \u001b[0manswer\u001b[0m\u001b[1;33m\u001b[0m\u001b[1;33m\u001b[0m\u001b[0m\n",
      "\u001b[1;31mValueError\u001b[0m: invalid literal for int() with base 10: 'F'"
     ]
    }
   ],
   "source": [
    "assert checkio('101', 2) == 5\n",
    "assert checkio('101', 5) == 26\n",
    "assert checkio('AF', 16) == 175"
   ]
  },
  {
   "cell_type": "markdown",
   "metadata": {},
   "source": [
    "# Radix 진수\n",
    "0, 1, ~, 8, 9, A(10), B, ~ Y, Z(36)"
   ]
  },
  {
   "cell_type": "markdown",
   "metadata": {},
   "source": [
    "- 내장함수 digits = 0, 1, ~, 8, 9\n",
    "- 내장함수 ascil_uppercase\n",
    "\n",
    "    s = digits + ascil_uppercase\n",
    "    \n",
    "    s.index('Z')"
   ]
  },
  {
   "cell_type": "markdown",
   "metadata": {},
   "source": [
    "# 김왼손#18 Absolute Sorting"
   ]
  },
  {
   "cell_type": "code",
   "execution_count": 83,
   "metadata": {},
   "outputs": [],
   "source": [
    "def checkio(numbers_array: tuple) -> list:\n",
    "    numbers = [x for x in numbers_array]\n",
    "    numbers_abs = sorted([abs(x) for x in numbers])\n",
    "#     [-x if x not in numbers else x for x in numbers_abs]\n",
    "    answer = []\n",
    "    for num in numbers_abs:\n",
    "        if num not in numbers:\n",
    "            answer.append(-num)\n",
    "        else: answer.append(num)\n",
    "    return answer"
   ]
  },
  {
   "cell_type": "code",
   "execution_count": 84,
   "metadata": {},
   "outputs": [
    {
     "data": {
      "text/plain": [
       "[-5, 10, 15, -20]"
      ]
     },
     "execution_count": 84,
     "metadata": {},
     "output_type": "execute_result"
    }
   ],
   "source": [
    "checkio((-20, -5, 10, 15))"
   ]
  },
  {
   "cell_type": "code",
   "execution_count": 85,
   "metadata": {},
   "outputs": [],
   "source": [
    "    def check_it(array):\n",
    "        if not isinstance(array, (list, tuple)):\n",
    "            raise TypeError(\"The result should be a list or tuple.\")\n",
    "        return list(array)\n",
    "\n",
    "    assert check_it(checkio((-20, -5, 10, 15))) == [-5, 10, 15, -20], \"Example\"  # or (-5, 10, 15, -20)\n",
    "    assert check_it(checkio((1, 2, 3, 0))) == [0, 1, 2, 3], \"Positive numbers\"\n",
    "    assert check_it(checkio((-1, -2, -3, 0))) == [0, -1, -2, -3], \"Negative numbers\"\n",
    "    "
   ]
  },
  {
   "cell_type": "markdown",
   "metadata": {},
   "source": [
    "# 보경님 코드\n",
    "sort 에 abs 인자 넣어주기"
   ]
  },
  {
   "cell_type": "code",
   "execution_count": null,
   "metadata": {},
   "outputs": [],
   "source": [
    "def checkio(numbers_array: tuple) -> list:\n",
    "    sorted_array = sorted(numbers_array, key = abs)\n",
    "    return sorted_array"
   ]
  },
  {
   "cell_type": "markdown",
   "metadata": {},
   "source": [
    "# 성환님 코드\n",
    "내장함수가 없는 경우, lambda 쓴다"
   ]
  },
  {
   "cell_type": "code",
   "execution_count": null,
   "metadata": {},
   "outputs": [],
   "source": [
    "def solution(arr):\n",
    "    return sorted(arr, key=lambda x: abs(x))"
   ]
  },
  {
   "cell_type": "markdown",
   "metadata": {},
   "source": [
    "# 김왼손#19 The Most Frequent"
   ]
  },
  {
   "cell_type": "code",
   "execution_count": 148,
   "metadata": {},
   "outputs": [],
   "source": [
    "def most_frequent(array):\n",
    "    array_ind = list(set(array))\n",
    "    answer = {}\n",
    "    for element in array_ind:\n",
    "        answer[element] = array.count(element)\n",
    "    return max(answer, key=answer.get)"
   ]
  },
  {
   "cell_type": "code",
   "execution_count": 149,
   "metadata": {},
   "outputs": [
    {
     "data": {
      "text/plain": [
       "'a'"
      ]
     },
     "execution_count": 149,
     "metadata": {},
     "output_type": "execute_result"
    }
   ],
   "source": [
    "most_frequent([\n",
    "    'a', 'b', 'c',\n",
    "    'a', 'b',\n",
    "    'a'\n",
    "])\n",
    "\n",
    "# most_frequent(['a', 'a', 'bi', 'bi', 'bi']) == 'bi'"
   ]
  },
  {
   "cell_type": "code",
   "execution_count": 150,
   "metadata": {},
   "outputs": [],
   "source": [
    "assert most_frequent([\n",
    "    'a', 'b', 'c',\n",
    "    'a', 'b',\n",
    "    'a'\n",
    "]) == 'a'\n",
    "\n",
    "assert most_frequent(['a', 'a', 'bi', 'bi', 'bi']) == 'bi'"
   ]
  },
  {
   "cell_type": "markdown",
   "metadata": {},
   "source": [
    "# 보경님 코드"
   ]
  },
  {
   "cell_type": "code",
   "execution_count": 155,
   "metadata": {},
   "outputs": [],
   "source": [
    "def most_frequent(data: list) -> str:\n",
    "    return max(data, key = data.count)"
   ]
  },
  {
   "cell_type": "markdown",
   "metadata": {},
   "source": [
    "# 성환님 코드"
   ]
  },
  {
   "cell_type": "code",
   "execution_count": null,
   "metadata": {},
   "outputs": [],
   "source": [
    "def solution(chars):\n",
    "    unique_chars = set(chars)\n",
    "    tmp_count = 0\n",
    "    ans = None\n",
    "\n",
    "    for char in unique_chars:\n",
    "        if chars.count(char) > tmp_count:\n",
    "            tmp_count = chars.count(char)\n",
    "            ans = char\n",
    "\n",
    "    return ans"
   ]
  },
  {
   "cell_type": "markdown",
   "metadata": {},
   "source": [
    "# 추천 코드\n",
    "sort 해서 a, a, a, b, b, c 로 정렬해서\n",
    "\n",
    "하나씩 꺼내오면서 count"
   ]
  },
  {
   "cell_type": "code",
   "execution_count": null,
   "metadata": {},
   "outputs": [],
   "source": []
  }
 ],
 "metadata": {
  "kernelspec": {
   "display_name": "Python 3",
   "language": "python",
   "name": "python3"
  },
  "language_info": {
   "codemirror_mode": {
    "name": "ipython",
    "version": 3
   },
   "file_extension": ".py",
   "mimetype": "text/x-python",
   "name": "python",
   "nbconvert_exporter": "python",
   "pygments_lexer": "ipython3",
   "version": "3.7.3"
  }
 },
 "nbformat": 4,
 "nbformat_minor": 2
}
