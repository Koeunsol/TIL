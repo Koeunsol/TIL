{
 "cells": [
  {
   "cell_type": "markdown",
   "metadata": {},
   "source": [
    "# 김왼손#5 Between Markers\n",
    "You are given a string and two markers (the initial and final). You have to find a substring enclosed between these two markers. But there are a few important conditions:\n",
    "\n",
    "- The initial and final markers are always different.\n",
    "- If there is no initial marker then the beginning should be considered as the beginning of a string.\n",
    "\n"
   ]
  },
  {
   "cell_type": "code",
   "execution_count": 37,
   "metadata": {},
   "outputs": [],
   "source": [
    "def between_markers(s, marker_i, marker_f):\n",
    "    \n",
    "    if marker_i not in s:\n",
    "        return s.split(marker_f)[0]\n",
    "    else: \n",
    "        return s.split(marker_i)[1].split(marker_f)[0]"
   ]
  },
  {
   "cell_type": "code",
   "execution_count": 38,
   "metadata": {},
   "outputs": [
    {
     "data": {
      "text/plain": [
       "'apple'"
      ]
     },
     "execution_count": 38,
     "metadata": {},
     "output_type": "execute_result"
    }
   ],
   "source": [
    "between_markers('What is >apple', '>', '<')"
   ]
  },
  {
   "cell_type": "code",
   "execution_count": 39,
   "metadata": {},
   "outputs": [
    {
     "data": {
      "text/plain": [
       "'No'"
      ]
     },
     "execution_count": 39,
     "metadata": {},
     "output_type": "execute_result"
    }
   ],
   "source": [
    "between_markers('No[\\b] hi', '[b]', '[\\b]')"
   ]
  },
  {
   "cell_type": "code",
   "execution_count": 40,
   "metadata": {},
   "outputs": [
    {
     "data": {
      "text/plain": [
       "'apple'"
      ]
     },
     "execution_count": 40,
     "metadata": {},
     "output_type": "execute_result"
    }
   ],
   "source": [
    "between_markers('What is >apple<', '>', '<')"
   ]
  },
  {
   "cell_type": "code",
   "execution_count": 41,
   "metadata": {},
   "outputs": [],
   "source": [
    "assert between_markers('What is >apple<', '>', '<') == 'apple'\n",
    "assert between_markers('No[\\b] hi', '[b]', '[\\b]') == 'No'"
   ]
  },
  {
   "cell_type": "markdown",
   "metadata": {},
   "source": [
    "# 김왼손#6 Best Stock "
   ]
  },
  {
   "cell_type": "code",
   "execution_count": 91,
   "metadata": {},
   "outputs": [],
   "source": [
    "def best_stock(info):\n",
    "    return list(info.keys())[list(info.values()).index(max(info.values()))]"
   ]
  },
  {
   "cell_type": "code",
   "execution_count": null,
   "metadata": {},
   "outputs": [],
   "source": [
    "def best_stock(info):\n",
    "    return list(info.keys())[list(info.values()).index(max(info.values()))]"
   ]
  },
  {
   "cell_type": "code",
   "execution_count": 92,
   "metadata": {},
   "outputs": [
    {
     "data": {
      "text/plain": [
       "'ATX'"
      ]
     },
     "execution_count": 92,
     "metadata": {},
     "output_type": "execute_result"
    }
   ],
   "source": [
    "best_stock({'CAC': 10.0, 'ATX': 390.2, 'WTG': 1.2})"
   ]
  },
  {
   "cell_type": "code",
   "execution_count": 181,
   "metadata": {},
   "outputs": [
    {
     "name": "stdout",
     "output_type": "stream",
     "text": [
      "10.0\n",
      "390.2\n",
      "1.2\n",
      "91.1\n",
      "1.01\n",
      "120.9\n"
     ]
    }
   ],
   "source": [
    "assert best_stock({'CAC': 10.0, 'ATX': 390.2, 'WTG': 1.2}) == 'ATX'\n",
    "assert best_stock({'CAC': 91.1, 'ATX': 1.01, 'TASI': 120.9}) == 'TASI'"
   ]
  },
  {
   "cell_type": "code",
   "execution_count": 180,
   "metadata": {},
   "outputs": [],
   "source": [
    "# 보경님\n",
    "def best_stock(data):\n",
    "    highest_price = 0\n",
    "    for i in data:\n",
    "        print(data[i])\n",
    "        if data[i] > highest_price:\n",
    "            highest_price = data[i]\n",
    "            highest_stock = i\n",
    "    return highest_stock"
   ]
  },
  {
   "cell_type": "markdown",
   "metadata": {},
   "source": [
    "# 김왼손#7 Popular Words"
   ]
  },
  {
   "cell_type": "code",
   "execution_count": 171,
   "metadata": {},
   "outputs": [],
   "source": [
    "def popular_words(text, word):\n",
    "    answer = {}\n",
    "\n",
    "    for w in word:\n",
    "        a = 0\n",
    "        for t in ''.join(text.lower().split('\\n')).split(' '):\n",
    "            if w == t:\n",
    "                a += 1\n",
    "            answer[w] = a\n",
    "    return answer"
   ]
  },
  {
   "cell_type": "code",
   "execution_count": 172,
   "metadata": {},
   "outputs": [
    {
     "data": {
      "text/plain": [
       "{'i': 4, 'was': 3, 'three': 0, 'near': 0}"
      ]
     },
     "execution_count": 172,
     "metadata": {},
     "output_type": "execute_result"
    }
   ],
   "source": [
    "popular_words('''\n",
    "When I was One \n",
    "I had just begun \n",
    "When I was Two \n",
    "I was nearly now\n",
    "''', \n",
    "['i', 'was', 'three', 'near'])"
   ]
  },
  {
   "cell_type": "code",
   "execution_count": 173,
   "metadata": {},
   "outputs": [],
   "source": [
    "assert popular_words('''\n",
    "When I was One \n",
    "I had just begun \n",
    "When I was Two \n",
    "I was nearly now\n",
    "''', ['i', 'was', 'three', 'near']) == {'i':4, 'was':3, 'three':0, 'near':0}"
   ]
  },
  {
   "cell_type": "code",
   "execution_count": 169,
   "metadata": {},
   "outputs": [],
   "source": [
    "def popular_words(text, word):\n",
    "    answer = {}\n",
    "    for w in word:\n",
    "        answer[w] = text.lower().count(w)\n",
    "    return answer"
   ]
  },
  {
   "cell_type": "markdown",
   "metadata": {},
   "source": [
    "# 김왼손#8 BiggerPrice"
   ]
  },
  {
   "cell_type": "code",
   "execution_count": 126,
   "metadata": {},
   "outputs": [],
   "source": [
    "def bigger_price(n, price):\n",
    "    answer = []\n",
    "    price_only = [x['price'] for x in price]\n",
    "    for i in range(n):\n",
    "        answer.append(price[price_only.index(sorted(price_only, reverse=True)[i])])\n",
    "    return answer"
   ]
  },
  {
   "cell_type": "code",
   "execution_count": 127,
   "metadata": {},
   "outputs": [
    {
     "data": {
      "text/plain": [
       "[{'name': 'wine', 'price': 138}, {'name': 'bread', 'price': 100}]"
      ]
     },
     "execution_count": 127,
     "metadata": {},
     "output_type": "execute_result"
    }
   ],
   "source": [
    "bigger_price(2, [\n",
    "    {'name':'bread', 'price':100},\n",
    "    {'name':'wine', 'price':138},\n",
    "    {'name':'meat', 'price':15},\n",
    "    {'name':'water', 'price':1}\n",
    "])"
   ]
  },
  {
   "cell_type": "code",
   "execution_count": 128,
   "metadata": {},
   "outputs": [],
   "source": [
    "assert bigger_price(2, [\n",
    "    {'name':'bread', 'price':100},\n",
    "    {'name':'wine', 'price':138},\n",
    "    {'name':'meat', 'price':15},\n",
    "    {'name':'water', 'price':1}\n",
    "]) == [\n",
    "    {'name':'wine', 'price':138},\n",
    "    {'name':'bread', 'price':100}\n",
    "]\n",
    "\n",
    "assert bigger_price(1, [\n",
    "    {'name':'pen', 'price':5},\n",
    "    {'name':'whiteboard', 'price':170}\n",
    "]) == [{'name':'whiteboard', 'price':170}]"
   ]
  },
  {
   "cell_type": "markdown",
   "metadata": {},
   "source": [
    "# 김왼손#9 Fizz Buzz\n",
    "- 3 의 배수 Fizz\n",
    "- 5 의 배수 Buzz\n",
    "- 3 과 5 의 공배수 Fizz Buzz\n",
    "- 아무것도 아니면 The number"
   ]
  },
  {
   "cell_type": "code",
   "execution_count": 74,
   "metadata": {},
   "outputs": [],
   "source": [
    "def checkio(n):\n",
    "    answer = str(n)\n",
    "    if n % 15 == 0:\n",
    "        answer = 'Fizz Buzz'\n",
    "    if n % 5 != 0 and n % 3 == 0:\n",
    "        answer = 'Fizz'\n",
    "    if n % 3 != 0 and n % 5 == 0:\n",
    "        answer = 'Buzz'\n",
    "    return answer"
   ]
  },
  {
   "cell_type": "code",
   "execution_count": 76,
   "metadata": {},
   "outputs": [],
   "source": [
    "assert checkio(15) == 'Fizz Buzz'\n",
    "assert checkio(6) == 'Fizz'\n",
    "assert checkio(5) == 'Buzz'\n",
    "assert checkio(7) == '7'"
   ]
  },
  {
   "cell_type": "code",
   "execution_count": null,
   "metadata": {},
   "outputs": [],
   "source": []
  },
  {
   "cell_type": "code",
   "execution_count": null,
   "metadata": {},
   "outputs": [],
   "source": []
  }
 ],
 "metadata": {
  "kernelspec": {
   "display_name": "Python 3",
   "language": "python",
   "name": "python3"
  },
  "language_info": {
   "codemirror_mode": {
    "name": "ipython",
    "version": 3
   },
   "file_extension": ".py",
   "mimetype": "text/x-python",
   "name": "python",
   "nbconvert_exporter": "python",
   "pygments_lexer": "ipython3",
   "version": "3.7.3"
  }
 },
 "nbformat": 4,
 "nbformat_minor": 2
}
