{
 "cells": [
  {
   "cell_type": "markdown",
   "metadata": {},
   "source": [
    "# 왼손코딩#20 Easy Unpack"
   ]
  },
  {
   "cell_type": "code",
   "execution_count": 25,
   "metadata": {},
   "outputs": [],
   "source": [
    "def easy_unpack(elements):\n",
    "    answer_index = [0, 2, -2]\n",
    "    return tuple([elements[x] for x in answer_index])"
   ]
  },
  {
   "cell_type": "code",
   "execution_count": 26,
   "metadata": {},
   "outputs": [
    {
     "data": {
      "text/plain": [
       "(1, 3, 7)"
      ]
     },
     "execution_count": 26,
     "metadata": {},
     "output_type": "execute_result"
    }
   ],
   "source": [
    "easy_unpack((1, 2, 3, 4, 5, 6, 7, 9))"
   ]
  },
  {
   "cell_type": "code",
   "execution_count": 27,
   "metadata": {},
   "outputs": [],
   "source": [
    "assert easy_unpack((1, 2, 3, 4, 5, 6, 7, 9)) == (1, 3, 7)\n",
    "assert easy_unpack((1, 1, 1, 1)) == (1, 1, 1)\n",
    "assert easy_unpack((6, 3, 7)) == (6, 7, 3)"
   ]
  },
  {
   "cell_type": "markdown",
   "metadata": {},
   "source": [
    "# 왼손코딩#21 House Password"
   ]
  },
  {
   "cell_type": "code",
   "execution_count": 42,
   "metadata": {},
   "outputs": [],
   "source": [
    "def checkio(data):\n",
    "    if len(data) >= 10:\n",
    "        if sum(map(str.isdigit, data)):\n",
    "            if sum(map(str.islower, data)):\n",
    "                if sum(map(str.isupper, data)):\n",
    "                    return True\n",
    "    return False"
   ]
  },
  {
   "cell_type": "code",
   "execution_count": 43,
   "metadata": {},
   "outputs": [
    {
     "data": {
      "text/plain": [
       "False"
      ]
     },
     "execution_count": 43,
     "metadata": {},
     "output_type": "execute_result"
    }
   ],
   "source": [
    "checkio('QWERTYqwerty')"
   ]
  },
  {
   "cell_type": "code",
   "execution_count": 44,
   "metadata": {},
   "outputs": [],
   "source": [
    "assert checkio('A1213pokl') == False\n",
    "assert checkio('bAse730onE') == True\n",
    "assert checkio('asasasasasasasaas') == False\n",
    "assert checkio('QWERTYqwerty') == False\n",
    "assert checkio('123456123456') == False\n",
    "assert checkio('QwErTy911poqqqq') == True"
   ]
  },
  {
   "cell_type": "markdown",
   "metadata": {},
   "source": [
    "# 왼손코딩#22 Non-unique Elements"
   ]
  },
  {
   "cell_type": "code",
   "execution_count": null,
   "metadata": {},
   "outputs": [],
   "source": [
    "def checkio(data):\n",
    "    count_all = {}\n",
    "    for element in data:\n",
    "        count_all[element] = data.count(element)\n",
    "        \n",
    "    answer = {}    \n",
    "    for k, v in count_all.items():\n",
    "        if v > 1:\n",
    "            answer[k] = v\n",
    "            \n",
    "    return [x for x in data if x in list(answer.keys())]"
   ]
  },
  {
   "cell_type": "code",
   "execution_count": 85,
   "metadata": {},
   "outputs": [],
   "source": [
    "# Dict Comprehension\n",
    "def checkio(data):\n",
    "\n",
    "    count_all = {element:data.count(element) for element in data}\n",
    "        \n",
    "    answer = {}    \n",
    "    for k, v in count_all.items():\n",
    "        if v > 1:\n",
    "            answer[k] = v\n",
    "            \n",
    "    return [x for x in data if x in list(answer.keys())]"
   ]
  },
  {
   "cell_type": "code",
   "execution_count": 8,
   "metadata": {},
   "outputs": [],
   "source": [
    "# collections Counter\n",
    "def checkio(data):\n",
    "\n",
    "    from collections import Counter\n",
    "        \n",
    "    answer = {}    \n",
    "    for k, v in Counter(data).items():\n",
    "        if v > 1:\n",
    "            answer[k] = v\n",
    "            \n",
    "    return [x for x in data if x in list(answer.keys())]"
   ]
  },
  {
   "cell_type": "code",
   "execution_count": 9,
   "metadata": {},
   "outputs": [
    {
     "data": {
      "text/plain": [
       "[1, 3, 1, 3]"
      ]
     },
     "execution_count": 9,
     "metadata": {},
     "output_type": "execute_result"
    }
   ],
   "source": [
    "checkio([1, 2, 3, 1, 3])"
   ]
  },
  {
   "cell_type": "code",
   "execution_count": 10,
   "metadata": {},
   "outputs": [],
   "source": [
    "assert checkio([1, 2, 3, 1, 3]) == [1, 3, 1, 3]\n",
    "assert checkio([1, 2, 3, 4, 5]) == []\n",
    "assert checkio([5, 5, 5, 5, 5]) == [5, 5, 5, 5, 5]\n",
    "assert checkio([10, 9, 10, 10, 9, 8]) == [10, 9, 10, 10, 9]"
   ]
  },
  {
   "cell_type": "markdown",
   "metadata": {},
   "source": [
    "# 왼손코딩#23 Monkey Typing"
   ]
  },
  {
   "cell_type": "code",
   "execution_count": null,
   "metadata": {},
   "outputs": [],
   "source": [
    "def count_words(text, words):\n",
    "    \n",
    "    answer = 0\n",
    "    for word in words:\n",
    "        if word in text.lower():\n",
    "            answer += 1\n",
    "\n",
    "    return answer"
   ]
  },
  {
   "cell_type": "code",
   "execution_count": 37,
   "metadata": {},
   "outputs": [],
   "source": [
    "# List Comprehension\n",
    "def count_words(text, words):\n",
    "\n",
    "    return sum([1 if x in text.lower() else 0 for x in words])"
   ]
  },
  {
   "cell_type": "code",
   "execution_count": 38,
   "metadata": {},
   "outputs": [
    {
     "data": {
      "text/plain": [
       "3"
      ]
     },
     "execution_count": 38,
     "metadata": {},
     "output_type": "execute_result"
    }
   ],
   "source": [
    "count_words(\"How aresjfhdskfhskd you?\", {\"how\", \"are\", \"you\", \"hello\"})"
   ]
  },
  {
   "cell_type": "code",
   "execution_count": 39,
   "metadata": {},
   "outputs": [],
   "source": [
    "assert count_words(\"How aresjfhdskfhskd you?\", {\"how\", \"are\", \"you\", \"hello\"}) == 3\n",
    "assert count_words(\"Bananas, give me bananas!!!\", {\"banana\", \"bananas\"}) == 2\n",
    "assert count_words(\"Lorem ipsum dolor sit amet, consectetuer adipiscing elit.\",\n",
    "            {\"sum\", \"hamlet\", \"infinity\", \"anything\"}) == 1"
   ]
  },
  {
   "cell_type": "markdown",
   "metadata": {},
   "source": [
    "# 왼손코딩#24 All the Same"
   ]
  },
  {
   "cell_type": "code",
   "execution_count": 47,
   "metadata": {},
   "outputs": [],
   "source": [
    "def all_the_same(elements):\n",
    "    from collections import Counter\n",
    "    \n",
    "    return len(Counter(elements)) < 2"
   ]
  },
  {
   "cell_type": "code",
   "execution_count": 48,
   "metadata": {},
   "outputs": [
    {
     "data": {
      "text/plain": [
       "False"
      ]
     },
     "execution_count": 48,
     "metadata": {},
     "output_type": "execute_result"
    }
   ],
   "source": [
    "all_the_same([1, 2, 1])"
   ]
  },
  {
   "cell_type": "code",
   "execution_count": 49,
   "metadata": {},
   "outputs": [],
   "source": [
    "assert all_the_same([1, 1, 1]) == True\n",
    "assert all_the_same([1, 2, 1]) == False\n",
    "assert all_the_same(['a', 'a', 'a']) == True\n",
    "assert all_the_same([]) == True"
   ]
  },
  {
   "cell_type": "code",
   "execution_count": null,
   "metadata": {},
   "outputs": [],
   "source": []
  }
 ],
 "metadata": {
  "celltoolbar": "Raw Cell Format",
  "kernelspec": {
   "display_name": "Python 3",
   "language": "python",
   "name": "python3"
  },
  "language_info": {
   "codemirror_mode": {
    "name": "ipython",
    "version": 3
   },
   "file_extension": ".py",
   "mimetype": "text/x-python",
   "name": "python",
   "nbconvert_exporter": "python",
   "pygments_lexer": "ipython3",
   "version": "3.7.3"
  }
 },
 "nbformat": 4,
 "nbformat_minor": 2
}
