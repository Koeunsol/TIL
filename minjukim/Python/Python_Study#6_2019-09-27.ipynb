{
 "cells": [
  {
   "cell_type": "markdown",
   "metadata": {},
   "source": [
    "# 왼손코딩#20 Easy Unpack"
   ]
  },
  {
   "cell_type": "code",
   "execution_count": 25,
   "metadata": {},
   "outputs": [],
   "source": [
    "def easy_unpack(elements):\n",
    "    answer_index = [0, 2, -2]\n",
    "    return tuple([elements[x] for x in answer_index])"
   ]
  },
  {
   "cell_type": "code",
   "execution_count": 26,
   "metadata": {},
   "outputs": [
    {
     "data": {
      "text/plain": [
       "(1, 3, 7)"
      ]
     },
     "execution_count": 26,
     "metadata": {},
     "output_type": "execute_result"
    }
   ],
   "source": [
    "easy_unpack((1, 2, 3, 4, 5, 6, 7, 9))"
   ]
  },
  {
   "cell_type": "code",
   "execution_count": 27,
   "metadata": {},
   "outputs": [],
   "source": [
    "assert easy_unpack((1, 2, 3, 4, 5, 6, 7, 9)) == (1, 3, 7)\n",
    "assert easy_unpack((1, 1, 1, 1)) == (1, 1, 1)\n",
    "assert easy_unpack((6, 3, 7)) == (6, 7, 3)"
   ]
  },
  {
   "cell_type": "markdown",
   "metadata": {},
   "source": [
    "# 왼손코딩#21 House Password"
   ]
  },
  {
   "cell_type": "code",
   "execution_count": 42,
   "metadata": {},
   "outputs": [],
   "source": [
    "def checkio(data):\n",
    "    if len(data) >= 10:\n",
    "        if sum(map(str.isdigit, data)):\n",
    "            if sum(map(str.islower, data)):\n",
    "                if sum(map(str.isupper, data)):\n",
    "                    return True\n",
    "    return False"
   ]
  },
  {
   "cell_type": "code",
   "execution_count": 43,
   "metadata": {},
   "outputs": [
    {
     "data": {
      "text/plain": [
       "False"
      ]
     },
     "execution_count": 43,
     "metadata": {},
     "output_type": "execute_result"
    }
   ],
   "source": [
    "checkio('QWERTYqwerty')"
   ]
  },
  {
   "cell_type": "code",
   "execution_count": 44,
   "metadata": {},
   "outputs": [],
   "source": [
    "assert checkio('A1213pokl') == False\n",
    "assert checkio('bAse730onE') == True\n",
    "assert checkio('asasasasasasasaas') == False\n",
    "assert checkio('QWERTYqwerty') == False\n",
    "assert checkio('123456123456') == False\n",
    "assert checkio('QwErTy911poqqqq') == True"
   ]
  },
  {
   "cell_type": "markdown",
   "metadata": {},
   "source": [
    "# 왼손코딩#22 Non-unique Elements"
   ]
  },
  {
   "cell_type": "code",
   "execution_count": null,
   "metadata": {},
   "outputs": [],
   "source": [
    "def checkio(data):\n",
    "    count_all = {}\n",
    "    for element in data:\n",
    "        count_all[element] = data.count(element)\n",
    "        \n",
    "    answer = {}    \n",
    "    for k, v in count_all.items():\n",
    "        if v > 1:\n",
    "            answer[k] = v\n",
    "            \n",
    "    return [x for x in data if x in list(answer.keys())]"
   ]
  },
  {
   "cell_type": "code",
   "execution_count": 85,
   "metadata": {},
   "outputs": [],
   "source": [
    "# Dict Comprehension\n",
    "def checkio(data):\n",
    "\n",
    "    count_all = {element:data.count(element) for element in data}\n",
    "        \n",
    "    answer = {}    \n",
    "    for k, v in count_all.items():\n",
    "        if v > 1:\n",
    "            answer[k] = v\n",
    "            \n",
    "    return [x for x in data if x in list(answer.keys())]"
   ]
  },
  {
   "cell_type": "code",
   "execution_count": 86,
   "metadata": {},
   "outputs": [
    {
     "data": {
      "text/plain": [
       "[1, 3, 1, 3]"
      ]
     },
     "execution_count": 86,
     "metadata": {},
     "output_type": "execute_result"
    }
   ],
   "source": [
    "checkio([1, 2, 3, 1, 3])"
   ]
  },
  {
   "cell_type": "code",
   "execution_count": 87,
   "metadata": {},
   "outputs": [],
   "source": [
    "assert checkio([1, 2, 3, 1, 3]) == [1, 3, 1, 3]\n",
    "assert checkio([1, 2, 3, 4, 5]) == []\n",
    "assert checkio([5, 5, 5, 5, 5]) == [5, 5, 5, 5, 5]\n",
    "assert checkio([10, 9, 10, 10, 9, 8]) == [10, 9, 10, 10, 9]"
   ]
  },
  {
   "cell_type": "markdown",
   "metadata": {},
   "source": [
    "# 왼손코딩#23 Monkey Typing"
   ]
  },
  {
   "cell_type": "markdown",
   "metadata": {},
   "source": [
    "# 왼손코딩#24 All the Same"
   ]
  },
  {
   "cell_type": "code",
   "execution_count": null,
   "metadata": {},
   "outputs": [],
   "source": []
  },
  {
   "cell_type": "code",
   "execution_count": null,
   "metadata": {},
   "outputs": [],
   "source": []
  }
 ],
 "metadata": {
  "celltoolbar": "Raw Cell Format",
  "kernelspec": {
   "display_name": "Python 3",
   "language": "python",
   "name": "python3"
  },
  "language_info": {
   "codemirror_mode": {
    "name": "ipython",
    "version": 3
   },
   "file_extension": ".py",
   "mimetype": "text/x-python",
   "name": "python",
   "nbconvert_exporter": "python",
   "pygments_lexer": "ipython3",
   "version": "3.7.3"
  }
 },
 "nbformat": 4,
 "nbformat_minor": 2
}
