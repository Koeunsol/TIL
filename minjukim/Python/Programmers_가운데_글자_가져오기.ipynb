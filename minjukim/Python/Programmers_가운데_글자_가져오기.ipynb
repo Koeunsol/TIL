{
 "cells": [
  {
   "cell_type": "code",
   "execution_count": 28,
   "metadata": {},
   "outputs": [],
   "source": [
    "# 통과\n",
    "def solution(s):\n",
    "    answer = ''\n",
    "\n",
    "    if len(s) % 2 == 1:\n",
    "        answer = s[len(s) // 2]\n",
    "\n",
    "    else:\n",
    "        answer = s[int(len(s) / 2 - 1):int(len(s) / 2 + 1)]\n",
    "    return answer"
   ]
  },
  {
   "cell_type": "code",
   "execution_count": 29,
   "metadata": {},
   "outputs": [
    {
     "data": {
      "text/plain": [
       "3.0"
      ]
     },
     "execution_count": 29,
     "metadata": {},
     "output_type": "execute_result"
    }
   ],
   "source": [
    "assert solution('abcde') == 'c'\n",
    "assert solution('qwer') == 'we'\n",
    "# solution('abcde')\n",
    "# s = 'abcde'\n",
    "# s = 'qwer'\n",
    "# s[1:3]\n",
    "len(s) / 2 - 1\n",
    "len(s) / 2 + 1"
   ]
  },
  {
   "cell_type": "code",
   "execution_count": null,
   "metadata": {},
   "outputs": [],
   "source": [
    "# 개쩌는 코드\n",
    "\n",
    "def string_middle(str):\n",
    "    # 함수를 완성하세요\n",
    "\n",
    "    return str[(len(str)-1)//2:len(str)//2+1]"
   ]
  },
  {
   "cell_type": "markdown",
   "metadata": {},
   "source": [
    "# 성환님 코드"
   ]
  },
  {
   "cell_type": "code",
   "execution_count": null,
   "metadata": {},
   "outputs": [],
   "source": [
    "def solution(s):\n",
    "    MID = len(s) // 2\n",
    "    return s[MID] if len(s) % 2 == 1 else s[MID-1:MID+1]"
   ]
  }
 ],
 "metadata": {
  "kernelspec": {
   "display_name": "Python 3",
   "language": "python",
   "name": "python3"
  },
  "language_info": {
   "codemirror_mode": {
    "name": "ipython",
    "version": 3
   },
   "file_extension": ".py",
   "mimetype": "text/x-python",
   "name": "python",
   "nbconvert_exporter": "python",
   "pygments_lexer": "ipython3",
   "version": "3.7.3"
  }
 },
 "nbformat": 4,
 "nbformat_minor": 2
}
