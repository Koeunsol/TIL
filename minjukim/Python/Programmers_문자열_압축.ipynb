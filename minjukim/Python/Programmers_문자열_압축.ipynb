{
 "cells": [
  {
   "cell_type": "code",
   "execution_count": 234,
   "metadata": {},
   "outputs": [],
   "source": [
    "def solution(s):\n",
    "    answer = len(s)\n",
    "    \n",
    "    # 잘라서 리스트 만들기\n",
    "    for n in range(1, len(s)//2 +1):\n",
    "        cut = []\n",
    "        last_cut = len(s)//n\n",
    "        \n",
    "        for i in range(last_cut):\n",
    "            cut.append(s[n * i:n * (i+1)])\n",
    "        if len(s) % n == 0: pass\n",
    "        else: cut.append(s[n * last_cut -1:-1])        \n",
    "        print('n: ', n)\n",
    "        print('cut: ', cut)    \n",
    "        \n",
    "        cnt = 1\n",
    "        new = ''\n",
    "        current_char = cut[0]\n",
    "        for i in range(1, len(cut)):\n",
    "            if cut[i] == current_char:\n",
    "                cnt += 1\n",
    "                if i+1 == len(cut):\n",
    "                    new += str(cnt)\n",
    "                    new += current_char\n",
    "            else:\n",
    "                if cnt > 1: new += str(cnt)\n",
    "                new += current_char\n",
    "                if i+1 == len(cut):\n",
    "                    new += cut[-1]\n",
    "                current_char = cut[i]\n",
    "                cnt = 1\n",
    "\n",
    "        print('new: ', new, len(new))\n",
    "        # 제일 짧은 것 찾기\n",
    "        if new:\n",
    "            if answer > len(new):\n",
    "                answer = len(new)\n",
    "                print('final new: ', new)\n",
    "                print('answer: ', answer)\n",
    "            \n",
    "    return answer"
   ]
  },
  {
   "cell_type": "code",
   "execution_count": 237,
   "metadata": {},
   "outputs": [],
   "source": [
    "def solution(s):\n",
    "    answer = len(s)\n",
    "    \n",
    "    # 잘라서 리스트 만들기\n",
    "    for n in range(1, len(s)//2 +1):\n",
    "        cut = []\n",
    "        last_cut = len(s)//n\n",
    "        \n",
    "        for i in range(last_cut):\n",
    "            cut.append(s[n * i:n * (i+1)])\n",
    "        if len(s) % n == 0: pass\n",
    "        else: cut.append(s[n * last_cut -1:-1])        \n",
    "        \n",
    "        cnt = 1\n",
    "        new = ''\n",
    "        current_char = cut[0]\n",
    "        for i in range(1, len(cut)):\n",
    "            if cut[i] == current_char:\n",
    "                cnt += 1\n",
    "                if i+1 == len(cut):\n",
    "                    new += str(cnt)\n",
    "                    new += current_char\n",
    "            else:\n",
    "                if cnt > 1: new += str(cnt)\n",
    "                new += current_char\n",
    "                if i+1 == len(cut):\n",
    "                    new += cut[-1]\n",
    "                current_char = cut[i]\n",
    "                cnt = 1\n",
    "\n",
    "        # 제일 짧은 것 찾기\n",
    "        if new:\n",
    "            if answer > len(new):\n",
    "                answer = len(new)\n",
    "            \n",
    "    return answer"
   ]
  },
  {
   "cell_type": "code",
   "execution_count": 238,
   "metadata": {},
   "outputs": [
    {
     "data": {
      "text/plain": [
       "7"
      ]
     },
     "execution_count": 238,
     "metadata": {},
     "output_type": "execute_result"
    }
   ],
   "source": [
    "solution('aabbaccc')"
   ]
  },
  {
   "cell_type": "code",
   "execution_count": 239,
   "metadata": {},
   "outputs": [],
   "source": [
    "assert solution('aabbaccc') == 7\n",
    "assert solution('ababcdcdababcdcd') == 9\n",
    "assert solution('abcabcdede') == 8\n",
    "assert solution('abcabcabcabcdededededede') == 14\n",
    "assert solution('xababcdcdababcdcd') == 17"
   ]
  },
  {
   "cell_type": "code",
   "execution_count": null,
   "metadata": {},
   "outputs": [],
   "source": []
  },
  {
   "cell_type": "code",
   "execution_count": null,
   "metadata": {},
   "outputs": [],
   "source": []
  }
 ],
 "metadata": {
  "kernelspec": {
   "display_name": "Python 3",
   "language": "python",
   "name": "python3"
  },
  "language_info": {
   "codemirror_mode": {
    "name": "ipython",
    "version": 3
   },
   "file_extension": ".py",
   "mimetype": "text/x-python",
   "name": "python",
   "nbconvert_exporter": "python",
   "pygments_lexer": "ipython3",
   "version": "3.7.3"
  }
 },
 "nbformat": 4,
 "nbformat_minor": 2
}
