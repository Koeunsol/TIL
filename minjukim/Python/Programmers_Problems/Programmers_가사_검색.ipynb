{
 "cells": [
  {
   "cell_type": "code",
   "execution_count": 18,
   "metadata": {},
   "outputs": [],
   "source": [
    "def solution(words, queries):\n",
    "    answer = []\n",
    "    words.sort()\n",
    "    for q in queries:\n",
    "        q_length = len(q)\n",
    "        cnt = 0\n",
    "        for word in iter([x for x in words if len(x) == q_length]):\n",
    "            for q_letter in iter(q):\n",
    "                if q_letter != '?':\n",
    "                    i = q.index(q_letter)\n",
    "                    if q_letter != word[i]:\n",
    "                        break\n",
    "            \n",
    "            cnt += 1\n",
    "            print('q: ', q)\n",
    "            print('word: ', word)\n",
    "        answer.append(cnt)\n",
    "    return answer"
   ]
  },
  {
   "cell_type": "code",
   "execution_count": 19,
   "metadata": {},
   "outputs": [
    {
     "name": "stdout",
     "output_type": "stream",
     "text": [
      "q:  fro??\n",
      "word:  frame\n",
      "q:  fro??\n",
      "word:  frodo\n",
      "q:  fro??\n",
      "word:  front\n",
      "q:  fro??\n",
      "word:  frost\n",
      "q:  fro??\n",
      "word:  kakao\n",
      "q:  ????o\n",
      "word:  frame\n",
      "q:  ????o\n",
      "word:  frodo\n",
      "q:  ????o\n",
      "word:  front\n",
      "q:  ????o\n",
      "word:  frost\n",
      "q:  ????o\n",
      "word:  kakao\n",
      "q:  fr???\n",
      "word:  frame\n",
      "q:  fr???\n",
      "word:  frodo\n",
      "q:  fr???\n",
      "word:  front\n",
      "q:  fr???\n",
      "word:  frost\n",
      "q:  fr???\n",
      "word:  kakao\n",
      "q:  fro???\n",
      "word:  frozen\n"
     ]
    },
    {
     "data": {
      "text/plain": [
       "[5, 5, 5, 1, 0]"
      ]
     },
     "execution_count": 19,
     "metadata": {},
     "output_type": "execute_result"
    }
   ],
   "source": [
    "solution(['frodo', 'front', 'frost', 'frozen', 'frame', 'kakao'], \n",
    "                ['fro??', '????o', 'fr???', 'fro???', 'pro?'])"
   ]
  },
  {
   "cell_type": "code",
   "execution_count": 17,
   "metadata": {},
   "outputs": [
    {
     "ename": "SyntaxError",
     "evalue": "invalid syntax (<ipython-input-17-27df00e30ee0>, line 3)",
     "output_type": "error",
     "traceback": [
      "\u001b[1;36m  File \u001b[1;32m\"<ipython-input-17-27df00e30ee0>\"\u001b[1;36m, line \u001b[1;32m3\u001b[0m\n\u001b[1;33m    == [3, 2, 4, 1, 0]\u001b[0m\n\u001b[1;37m     ^\u001b[0m\n\u001b[1;31mSyntaxError\u001b[0m\u001b[1;31m:\u001b[0m invalid syntax\n"
     ]
    }
   ],
   "source": [
    "assert solution(['frodo', 'front', 'frost', 'frozen', 'frame', 'kakao'], \n",
    "                ['fro??', '????o', 'fr???', 'fro???', 'pro?'])\n",
    "== [3, 2, 4, 1, 0]"
   ]
  },
  {
   "cell_type": "code",
   "execution_count": null,
   "metadata": {},
   "outputs": [],
   "source": []
  }
 ],
 "metadata": {
  "kernelspec": {
   "display_name": "Python 3",
   "language": "python",
   "name": "python3"
  },
  "language_info": {
   "codemirror_mode": {
    "name": "ipython",
    "version": 3
   },
   "file_extension": ".py",
   "mimetype": "text/x-python",
   "name": "python",
   "nbconvert_exporter": "python",
   "pygments_lexer": "ipython3",
   "version": "3.7.3"
  }
 },
 "nbformat": 4,
 "nbformat_minor": 2
}
