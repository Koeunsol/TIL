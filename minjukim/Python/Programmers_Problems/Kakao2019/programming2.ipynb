{
 "cells": [
  {
   "cell_type": "code",
   "execution_count": 4,
   "metadata": {},
   "outputs": [
    {
     "data": {
      "text/plain": [
       "False"
      ]
     },
     "execution_count": 4,
     "metadata": {},
     "output_type": "execute_result"
    }
   ],
   "source": [
    "import pandas as pd\n",
    "import numpy as np\n",
    "\n",
    "p = ''\n",
    "p is None"
   ]
  },
  {
   "cell_type": "code",
   "execution_count": 12,
   "metadata": {},
   "outputs": [],
   "source": [
    "def solution(p):\n",
    "    answer = ''\n",
    "    if p == '': pass\n",
    "        # answer = p\n",
    "# 균형잡힌 괄호문자열 u 찾기\n",
    "    for i in range(len(p)):\n",
    "        if i == 0:\n",
    "            pass\n",
    "        elif p[:i].count('(') == p[:i].count(')'):\n",
    "            u_index = i\n",
    "            break\n",
    "    \n",
    "    # p를 u(최소 균형잡힌 괄호문자열) 와 v(나머지) 로 나눈다\n",
    "\n",
    "    u = p[:u_index]\n",
    "    v = p[u_index:]\n",
    "    \n",
    "    # u가 올바른 괄호문자열인지 확인\n",
    "    for i in range(len(u)):\n",
    "        if u[i] == u[-1-i]:\n",
    "                # u가 올바른 괄호문자열이 아닐 때\n",
    "                \n",
    "                u_right = '(' + u.replace('(', 'u').replace(')', 'l').replace('u', ')').replace('l', '()') + ')'\n",
    "                answer = u_right + v_right\n",
    "                    # 빈 문자열에 첫번째 문자로 '('를 붙인다\n",
    "                    # 문자열 v 에 대해 1단계부터 수행한 결과 문자열 + ')'\n",
    "                    # u의 첫번째와 마지막 문자를 제거하고 나머지 문자열의 괄호 방향을 뒤집어서 뒤에 붙인다\n",
    "                # v= p -> 다시 나누기\n",
    "    \n",
    "    for i in range(len(v)):\n",
    "        if v[i] == v[-1-i]:\n",
    "            # u가 올바른 괄호문자열이 아닐 때\n",
    "\n",
    "                    # 빈 문자열에 첫번째 문자로 '('를 붙인다\n",
    "                    # 문자열 v 에 대해 1단계부터 수행한 결과 문자열 + ')'\n",
    "                    # u의 첫번째와 마지막 문자를 제거하고 나머지 문자열의 괄호 방향을 뒤집어서 뒤에 붙인다\n",
    "                # v= p -> 다시 나누기\n",
    "    \n",
    "    return answer"
   ]
  },
  {
   "cell_type": "code",
   "execution_count": 15,
   "metadata": {},
   "outputs": [
    {
     "ename": "AssertionError",
     "evalue": "",
     "output_type": "error",
     "traceback": [
      "\u001b[1;31m---------------------------------------------------------------------------\u001b[0m",
      "\u001b[1;31mAssertionError\u001b[0m                            Traceback (most recent call last)",
      "\u001b[1;32m<ipython-input-15-5d340f816100>\u001b[0m in \u001b[0;36m<module>\u001b[1;34m\u001b[0m\n\u001b[0;32m      1\u001b[0m \u001b[1;31m# assert solution(\"(()())()\") == \"(()())()\"\u001b[0m\u001b[1;33m\u001b[0m\u001b[1;33m\u001b[0m\u001b[1;33m\u001b[0m\u001b[0m\n\u001b[1;32m----> 2\u001b[1;33m \u001b[1;32massert\u001b[0m \u001b[0msolution\u001b[0m\u001b[1;33m(\u001b[0m\u001b[1;34m\")(\"\u001b[0m\u001b[1;33m)\u001b[0m \u001b[1;33m==\u001b[0m \u001b[1;34m\"()\"\u001b[0m\u001b[1;33m\u001b[0m\u001b[1;33m\u001b[0m\u001b[0m\n\u001b[0m",
      "\u001b[1;31mAssertionError\u001b[0m: "
     ]
    }
   ],
   "source": [
    "# assert solution(\"(()())()\") == \"(()())()\"\n",
    "assert solution(\")(\") == \"()\"\n",
    "# assert solution(\"()))((()\") == \"()(())()\""
   ]
  },
  {
   "cell_type": "code",
   "execution_count": 44,
   "metadata": {},
   "outputs": [
    {
     "name": "stdout",
     "output_type": "stream",
     "text": [
      "6\n"
     ]
    }
   ],
   "source": [
    "p = '(()())()'\n",
    "for i in range(len(p)):\n",
    "    if i == 0:\n",
    "        pass\n",
    "    elif p[:i].count('(') == p[:i].count(')'):\n",
    "        print(i)\n",
    "        break"
   ]
  },
  {
   "cell_type": "code",
   "execution_count": 33,
   "metadata": {},
   "outputs": [
    {
     "data": {
      "text/plain": [
       "')())()(('"
      ]
     },
     "execution_count": 33,
     "metadata": {},
     "output_type": "execute_result"
    }
   ],
   "source": [
    "p[::-1]"
   ]
  },
  {
   "cell_type": "code",
   "execution_count": null,
   "metadata": {},
   "outputs": [],
   "source": [
    "assert solution(\"()))((()\") == \"()(())()\"\n",
    "\n",
    "u = '))((', v='()'\n",
    "(()())"
   ]
  },
  {
   "cell_type": "code",
   "execution_count": 45,
   "metadata": {},
   "outputs": [
    {
     "data": {
      "text/plain": [
       "'))())()())()'"
      ]
     },
     "execution_count": 45,
     "metadata": {},
     "output_type": "execute_result"
    }
   ],
   "source": [
    "p.replace('(', 'u').replace(')', 'l').replace('u', ')').replace('l', '()')"
   ]
  },
  {
   "cell_type": "code",
   "execution_count": null,
   "metadata": {},
   "outputs": [],
   "source": []
  }
 ],
 "metadata": {
  "kernelspec": {
   "display_name": "Python 3",
   "language": "python",
   "name": "python3"
  },
  "language_info": {
   "codemirror_mode": {
    "name": "ipython",
    "version": 3
   },
   "file_extension": ".py",
   "mimetype": "text/x-python",
   "name": "python",
   "nbconvert_exporter": "python",
   "pygments_lexer": "ipython3",
   "version": "3.7.3"
  }
 },
 "nbformat": 4,
 "nbformat_minor": 2
}
