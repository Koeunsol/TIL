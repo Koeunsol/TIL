{
 "cells": [
  {
   "cell_type": "code",
   "execution_count": null,
   "metadata": {},
   "outputs": [],
   "source": [
    "# 최초 풀이\n",
    "def solution(answers):\n",
    "    answer = []\n",
    "    mark = [0, 0, 0]\n",
    "    # 1번 수포자 정답률\n",
    "    student1 = list(range(1, 6)) * 2000\n",
    "    for i in range(len(answers)):\n",
    "        if answers[i] == student1[i]:\n",
    "            mark[0] += 1\n",
    "\n",
    "    # 2번 수포자 정답률\n",
    "    student2 = [2, 1, 2, 3, 2, 4, 2, 5] * 1250\n",
    "    \n",
    "    for i in range(len(answers)):\n",
    "        if answers[i] == student2[i]:\n",
    "            mark[1] += 1\n",
    "        \n",
    "    # 3번 수포자 정답률\n",
    "    student3 = [3, 3, 1, 1, 2, 2, 4, 4, 5, 5] * 1000\n",
    "        \n",
    "    for i in range(len(answers)):\n",
    "        if answers[i] == student3[i]:\n",
    "            mark[2] += 1\n",
    "\n",
    "    max_mark = max(mark)\n",
    "    for i in range(3):\n",
    "        if max_mark == mark[i]:\n",
    "            answer.append(i+1)\n",
    "    return answer"
   ]
  },
  {
   "cell_type": "code",
   "execution_count": null,
   "metadata": {},
   "outputs": [],
   "source": [
    "# Enumerate\n",
    "\n",
    "def solution(answers):\n",
    "    answer = []\n",
    "    mark = [0, 0, 0]\n",
    "    # 1번 수포자 정답률\n",
    "    student1 = list(range(1, 6)) * 2000\n",
    "            \n",
    "    for i, x in enumerate(answers):\n",
    "        if x == student1[i]:\n",
    "            mark[0] += 1\n",
    "            \n",
    "    # 2번 수포자 정답률\n",
    "    student2 = [2, 1, 2, 3, 2, 4, 2, 5] * 1250\n",
    "    \n",
    "\n",
    "    for i, x in enumerate(answers):\n",
    "        if x == student2[i]:\n",
    "            mark[1] += 1\n",
    "        \n",
    "    # 3번 수포자 정답률\n",
    "    student3 = [3, 3, 1, 1, 2, 2, 4, 4, 5, 5] * 1000\n",
    "        \n",
    "    for i, x in enumerate(answers):\n",
    "        if x == student3[i]:\n",
    "            mark[2] += 1\n",
    "        \n",
    "    max_mark = max(mark)\n",
    "    \n",
    "    for i in range(3):\n",
    "        if max_mark == mark[i]:\n",
    "            answer.append(i+1)\n",
    "    return answer"
   ]
  },
  {
   "cell_type": "code",
   "execution_count": 14,
   "metadata": {},
   "outputs": [],
   "source": [
    "# List Comprehension\n",
    "\n",
    "def solution(answers):\n",
    "    mark = [0, 0, 0]\n",
    "    \n",
    "    # 수포자별 답안\n",
    "    student1 = list(range(1, 6)) * 2000    \n",
    "    student2 = [2, 1, 2, 3, 2, 4, 2, 5] * 1250\n",
    "    student3 = [3, 3, 1, 1, 2, 2, 4, 4, 5, 5] * 1000\n",
    "    \n",
    "    # 수포자별 정답률\n",
    "    mark[0] = sum([1 for i, x in enumerate(answers) if x == student1[i]])\n",
    "    mark[1] = sum([1 for i, x in enumerate(answers) if x == student2[i]])\n",
    "    mark[2] = sum([1 for i, x in enumerate(answers) if x == student3[i]])\n",
    "    \n",
    "    # 가장 높은 점수를 받은 수포자 리스트    \n",
    "    return [i + 1 for i, m in enumerate(mark) if max(mark) == m]"
   ]
  },
  {
   "cell_type": "markdown",
   "metadata": {},
   "source": [
    "# 아샬님 풀이 "
   ]
  },
  {
   "cell_type": "code",
   "execution_count": null,
   "metadata": {},
   "outputs": [],
   "source": [
    "# 최초 코드\n",
    "\n",
    "patterns = [\n",
    "      [1, 2, 3, 4, 5]\n",
    "    , [2, 1, 2, 3, 2, 4, 2, 5]\n",
    "    , [3, 3, 1, 1, 2, 2, 4, 4, 5, 5]\n",
    "]\n",
    "\n",
    "def solution(answers):\n",
    "    scores = []\n",
    "    \n",
    "    for pattern in patterns:\n",
    "        scores.append(score(answers, pattern))\n",
    "    \n",
    "    return good_students(scores)\n",
    "    \n",
    "\n",
    "def score(answers, pattern):\n",
    "\n",
    "    # 답안 매핑\n",
    "    count = 0\n",
    "    for i, answer in enumerate(answers):\n",
    "        if pattern[i % len(pattern)] == answer:\n",
    "            count += 1\n",
    "    return count\n",
    "\n",
    "def good_students(scores):\n",
    "    return [i + 1 for i, m in enumerate(scores) if max(scores) == m]"
   ]
  },
  {
   "cell_type": "code",
   "execution_count": 51,
   "metadata": {},
   "outputs": [],
   "source": [
    "# List Comprehension\n",
    "MAX_PROBLEMS = 10_000\n",
    "\n",
    "patterns = [\n",
    "      [1, 2, 3, 4, 5]\n",
    "    , [2, 1, 2, 3, 2, 4, 2, 5]\n",
    "    , [3, 3, 1, 1, 2, 2, 4, 4, 5, 5]\n",
    "]\n",
    "# 최종 함수\n",
    "def solution(answers):\n",
    "    scores = [score(answers, x) for x in patterns]\n",
    "    return good_students(scores)\n",
    "    \n",
    "# 수포자별 점수 계산\n",
    "def score(answers, pattern):\n",
    "#      return sum([1 for i, x in enumerate(answers) if pattern[i % len(pattern)] == x])\n",
    "#      return sum([pattern[i % len(pattern)] == x for i, x in enumerate(answers)])\n",
    "\n",
    "#     pattern 을 하나하나 불러오지 않고 zip \n",
    "     return sum(a == b for a, b in zip(answers, pattern * MAX_PROBLEMS))\n",
    "\n",
    "# 최고 득점자 찾기\n",
    "def good_students(scores):\n",
    "    return [i + 1 for i, m in enumerate(scores) if max(scores) == m]"
   ]
  },
  {
   "cell_type": "code",
   "execution_count": 52,
   "metadata": {},
   "outputs": [
    {
     "data": {
      "text/plain": [
       "[1]"
      ]
     },
     "execution_count": 52,
     "metadata": {},
     "output_type": "execute_result"
    }
   ],
   "source": [
    "solution([1, 2, 3, 4, 5])"
   ]
  },
  {
   "cell_type": "code",
   "execution_count": 53,
   "metadata": {},
   "outputs": [],
   "source": [
    "assert solution([1, 2, 3, 4, 5]) == [1]\n",
    "assert solution([1, 3, 2, 4, 2]) == [1, 2, 3]"
   ]
  },
  {
   "cell_type": "code",
   "execution_count": null,
   "metadata": {},
   "outputs": [],
   "source": []
  }
 ],
 "metadata": {
  "kernelspec": {
   "display_name": "Python 3",
   "language": "python",
   "name": "python3"
  },
  "language_info": {
   "codemirror_mode": {
    "name": "ipython",
    "version": 3
   },
   "file_extension": ".py",
   "mimetype": "text/x-python",
   "name": "python",
   "nbconvert_exporter": "python",
   "pygments_lexer": "ipython3",
   "version": "3.7.3"
  }
 },
 "nbformat": 4,
 "nbformat_minor": 2
}
