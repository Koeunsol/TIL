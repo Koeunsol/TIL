{
 "cells": [
  {
   "cell_type": "code",
   "execution_count": 30,
   "metadata": {},
   "outputs": [],
   "source": [
    "# 시간초과\n",
    "def solution(n):\n",
    "    answer = []\n",
    "    num_range = [10 ** x for x in range(7)]\n",
    "    # 10 약수 100 약수 구한다\n",
    "    \n",
    "    num_factor = {}\n",
    "    for num in num_range:\n",
    "        print(num)\n",
    "        cnt = 0\n",
    "        for i in range(2, num):\n",
    "            if num % i == 0:\n",
    "                cnt += 1\n",
    "                continue\n",
    "        if cnt == 0: \n",
    "            answer.append(num)\n",
    "        num_factor[num] = len(answer) # 갯수 카운트 제대로 안됨\n",
    "    \n",
    "    print('num_factor: ', num_factor)\n",
    "        \n",
    "    if n < num_range[0]: pass\n",
    "    # 10까지 갯수, 100까지 갯수 더해준다    \n",
    "    for num in range(2, n+1):\n",
    "        cnt = 0\n",
    "        for i in range(2, num):\n",
    "            if num % i == 0: \n",
    "                cnt += 1\n",
    "                break\n",
    "        if cnt == 0: answer.append(num)\n",
    "\n",
    "    print(answer)\n",
    "    return len(answer)"
   ]
  },
  {
   "cell_type": "code",
   "execution_count": 31,
   "metadata": {},
   "outputs": [
    {
     "name": "stdout",
     "output_type": "stream",
     "text": [
      "1\n",
      "10\n",
      "100\n",
      "1000\n",
      "10000\n",
      "100000\n",
      "1000000\n",
      "num_factor:  {1: 1, 10: 1, 100: 1, 1000: 1, 10000: 1, 100000: 1, 1000000: 1}\n",
      "[1, 2, 3, 5, 7]\n"
     ]
    },
    {
     "data": {
      "text/plain": [
       "5"
      ]
     },
     "execution_count": 31,
     "metadata": {},
     "output_type": "execute_result"
    }
   ],
   "source": [
    "solution(10)"
   ]
  },
  {
   "cell_type": "code",
   "execution_count": 11,
   "metadata": {},
   "outputs": [
    {
     "name": "stdout",
     "output_type": "stream",
     "text": [
      "[2, 3, 5]\n"
     ]
    },
    {
     "data": {
      "text/plain": [
       "3"
      ]
     },
     "execution_count": 11,
     "metadata": {},
     "output_type": "execute_result"
    }
   ],
   "source": [
    "solution(5)"
   ]
  },
  {
   "cell_type": "code",
   "execution_count": null,
   "metadata": {},
   "outputs": [],
   "source": []
  }
 ],
 "metadata": {
  "kernelspec": {
   "display_name": "Python 3",
   "language": "python",
   "name": "python3"
  },
  "language_info": {
   "codemirror_mode": {
    "name": "ipython",
    "version": 3
   },
   "file_extension": ".py",
   "mimetype": "text/x-python",
   "name": "python",
   "nbconvert_exporter": "python",
   "pygments_lexer": "ipython3",
   "version": "3.7.3"
  }
 },
 "nbformat": 4,
 "nbformat_minor": 2
}
