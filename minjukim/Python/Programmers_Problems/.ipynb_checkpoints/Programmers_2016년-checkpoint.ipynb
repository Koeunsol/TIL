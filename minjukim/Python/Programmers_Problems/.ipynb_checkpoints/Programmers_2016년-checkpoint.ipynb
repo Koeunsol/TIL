{
 "cells": [
  {
   "cell_type": "code",
   "execution_count": 2,
   "metadata": {},
   "outputs": [],
   "source": [
    "import pandas as pd    "
   ]
  },
  {
   "cell_type": "code",
   "execution_count": 31,
   "metadata": {},
   "outputs": [],
   "source": [
    "a = 5\n",
    "b = 25\n",
    "date_form = '2016-{}-{}'\n",
    "date = pd.to_datetime(date_form.format(a,b))"
   ]
  },
  {
   "cell_type": "code",
   "execution_count": 32,
   "metadata": {},
   "outputs": [
    {
     "data": {
      "text/plain": [
       "2"
      ]
     },
     "execution_count": 32,
     "metadata": {},
     "output_type": "execute_result"
    }
   ],
   "source": [
    "date.weekday()"
   ]
  },
  {
   "cell_type": "code",
   "execution_count": null,
   "metadata": {},
   "outputs": [],
   "source": [
    "# 통과\n",
    "def solution(a, b):\n",
    "    import pandas as pd\n",
    "    date_form = '2016-{}-{}'\n",
    "    input_date = pd.to_datetime(date_form.format(a, b))\n",
    "    day_of_week = ['MON', 'TUE', 'WED', 'THU', 'FRI', 'SAT', 'SUN']\n",
    "    return day_of_week[input_date.weekday()]"
   ]
  },
  {
   "cell_type": "markdown",
   "metadata": {},
   "source": [
    "# 예슬님 코드"
   ]
  },
  {
   "cell_type": "code",
   "execution_count": null,
   "metadata": {},
   "outputs": [],
   "source": [
    "def solution(a, b):\n",
    "    answer = ''\n",
    "    month = [31, 29, 31, 30, 31, 30, 31, 31, 30, 31, 30, 31]\n",
    "    day = ['FRI', 'SAT', 'SUN', 'MON', 'TUE', 'WED', 'THU']\n",
    "    month_sum = 0\n",
    "    for num in range(a-1):\n",
    "        month_sum += month[num]\n",
    "\n",
    "    day_num = (month_sum + b) % 7\n",
    "    answer = day[day_num - 1]\n",
    "\n",
    "    return answer"
   ]
  },
  {
   "cell_type": "code",
   "execution_count": null,
   "metadata": {},
   "outputs": [],
   "source": [
    "DAYS = ['THU', 'FRI', 'SAT', 'SUN', 'MON', 'TUE', 'WED']\n",
    "MONTH_DAYS = [0, 31, 29, 31, 30, 31, 30,\n",
    "                 31, 31, 30, 31, 30, 31]\n",
    "\n",
    "CUM_MONTH_DAYS = [0] * 13\n",
    "for m in range(2, len(CUM_MONTH_DAYS)):\n",
    "    CUM_MONTH_DAYS[m] = CUM_MONTH_DAYS[m-1] + MONTH_DAYS[m-1]\n",
    "# cum_month_days[m] : 1월부터 m-1월까지의 일의 누적합\n",
    "# [0, 0, 31, 60, 91, 121, 152, 182, 213, 244, 274, 305, 335]\n",
    "\n",
    "def solution(month, day):\n",
    "    days = CUM_MONTH_DAYS[month] + day\n",
    "    return DAYS[days % 7]"
   ]
  }
 ],
 "metadata": {
  "kernelspec": {
   "display_name": "Python 3",
   "language": "python",
   "name": "python3"
  },
  "language_info": {
   "codemirror_mode": {
    "name": "ipython",
    "version": 3
   },
   "file_extension": ".py",
   "mimetype": "text/x-python",
   "name": "python",
   "nbconvert_exporter": "python",
   "pygments_lexer": "ipython3",
   "version": "3.7.3"
  }
 },
 "nbformat": 4,
 "nbformat_minor": 2
}
