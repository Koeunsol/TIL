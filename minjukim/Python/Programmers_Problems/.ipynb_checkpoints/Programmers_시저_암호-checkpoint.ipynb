{
 "cells": [
  {
   "cell_type": "code",
   "execution_count": 14,
   "metadata": {},
   "outputs": [
    {
     "name": "stdout",
     "output_type": "stream",
     "text": [
      "Help on built-in function ascii in module builtins:\n",
      "\n",
      "ascii(obj, /)\n",
      "    Return an ASCII-only representation of an object.\n",
      "    \n",
      "    As repr(), return a string containing a printable representation of an\n",
      "    object, but escape the non-ASCII characters in the string returned by\n",
      "    repr() using \\\\x, \\\\u or \\\\U escapes. This generates a string similar\n",
      "    to that returned by repr() in Python 2.\n",
      "\n"
     ]
    }
   ],
   "source": [
    "help(ascii)"
   ]
  },
  {
   "cell_type": "code",
   "execution_count": 59,
   "metadata": {},
   "outputs": [],
   "source": [
    "def solution(s, n):\n",
    "    import string\n",
    "    encode_lower = list(string.ascii_lowercase)*2    \n",
    "    print(encode_lower)\n",
    "    encode_upper = list(string.ascii_uppercase)*2\n",
    "    print(encode_upper)\n",
    "    \n",
    "    answer = []\n",
    "    print(list(s))\n",
    "    for element in list(s):\n",
    "        if element == ' ':\n",
    "            answer.append(' ')\n",
    "        if element.islower():\n",
    "            print('lower: ', element)\n",
    "            element_index = encode_lower.index(element)\n",
    "            answer.append(encode_lower[element_index + n])\n",
    "        if element.isupper():\n",
    "            print('upper: ', element)\n",
    "            element_index = encode_upper.index(element)\n",
    "            answer.append(encode_upper[element_index + n])\n",
    "            \n",
    "    return ''.join(answer)"
   ]
  },
  {
   "cell_type": "code",
   "execution_count": 58,
   "metadata": {},
   "outputs": [
    {
     "name": "stdout",
     "output_type": "stream",
     "text": [
      "['a', 'b', 'c', 'd', 'e', 'f', 'g', 'h', 'i', 'j', 'k', 'l', 'm', 'n', 'o', 'p', 'q', 'r', 's', 't', 'u', 'v', 'w', 'x', 'y', 'z']\n",
      "['A', 'B', 'C', 'D', 'E', 'F', 'G', 'H', 'I', 'J', 'K', 'L', 'M', 'N', 'O', 'P', 'Q', 'R', 'S', 'T', 'U', 'V', 'W', 'X', 'Y', 'Z']\n",
      "['A', 'B']\n",
      "upper:  A\n",
      "upper:  B\n"
     ]
    },
    {
     "data": {
      "text/plain": [
       "['B', 'C']"
      ]
     },
     "execution_count": 58,
     "metadata": {},
     "output_type": "execute_result"
    }
   ],
   "source": [
    "solution('AB', 1)"
   ]
  },
  {
   "cell_type": "code",
   "execution_count": null,
   "metadata": {},
   "outputs": [],
   "source": []
  }
 ],
 "metadata": {
  "kernelspec": {
   "display_name": "Python 3",
   "language": "python",
   "name": "python3"
  },
  "language_info": {
   "codemirror_mode": {
    "name": "ipython",
    "version": 3
   },
   "file_extension": ".py",
   "mimetype": "text/x-python",
   "name": "python",
   "nbconvert_exporter": "python",
   "pygments_lexer": "ipython3",
   "version": "3.7.3"
  }
 },
 "nbformat": 4,
 "nbformat_minor": 2
}
