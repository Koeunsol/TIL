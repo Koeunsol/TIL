{
 "cells": [
  {
   "cell_type": "code",
   "execution_count": 38,
   "metadata": {},
   "outputs": [],
   "source": [
    "def solution(n, lost, reserve):\n",
    "    \n",
    "    # 전체 - 잃어버린 애들 수 \n",
    "#     answer = n - len(lost)\n",
    "    # 잃어버린 애들 중 빌릴 수 있는 애들\n",
    "#     borrow = len(reserve)\n",
    "\n",
    "    # 잃어버렸지만 여벌 있는 경우\n",
    "    for number in lost:\n",
    "        if number in reserve:\n",
    "            lost.remove(number)\n",
    "            reserve.remove(number)\n",
    "     \n",
    "    # # 앞 뒤 번호에 리버스가 있는지, 빌려주면 리무브\n",
    "    for number in lost:\n",
    "        if number == 1 or number == n:\n",
    "            pass\n",
    "        if (number - 1) in reserve:\n",
    "            lost.remove(number)\n",
    "        elif (number + 1) in reserve:\n",
    "            lost.remove(number)\n",
    "    answer = n - len(lost)\n",
    "    \n",
    "#     borrow_from_front = 0\n",
    "# #     앞 번호에 여벌 있는지\n",
    "#     for number in lost:\n",
    "#         if number == 1:\n",
    "#             pass\n",
    "#         elif (number - 1) in reserve:\n",
    "#             borrow_from_front += 1\n",
    "# #     뒷 번호에 여벌 있는지\n",
    "#     borrow_from_back = 0\n",
    "#     for number in lost:\n",
    "#         if number == n:\n",
    "#             pass\n",
    "#         elif (number + 1) in reserve:\n",
    "#             borrow_from_back += 1\n",
    "# #     둘 중에 큰 수 비교\n",
    "#     answer += max(borrow_from_front, borrow_from_back)\n",
    "    \n",
    "#     answer += borrow\n",
    "    \n",
    "#     if answer > n:\n",
    "#         answer = n\n",
    "\n",
    "#     if reserve == [3]:\n",
    "#         answer = 4\n",
    "#     elif reserve == [1]:\n",
    "#         answer = 2\n",
    "#     else:\n",
    "#         answer = 5\n",
    "    \n",
    "    return answer"
   ]
  },
  {
   "cell_type": "code",
   "execution_count": 136,
   "metadata": {},
   "outputs": [],
   "source": [
    "def solution(n, lost, reserve):\n",
    "    \n",
    "    # 잃어버렸지만 여벌 있는 경우\n",
    "    for number in lost:\n",
    "        if number in reserve:\n",
    "            print('잃어버리고 여벌: ', number)\n",
    "            lost.remove(number)\n",
    "            reserve.remove(number)\n",
    "            print('반영 lost: ', lost)\n",
    "            print('반영 reserve: ', reserve)\n",
    "\n",
    "     \n",
    "    # # 앞 뒤 번호에 리버스가 있는지, 빌려주면 리무브\n",
    "    for number in lost:\n",
    "        print('지금: ', number)\n",
    "\n",
    "        if (number - 1) in reserve:\n",
    "            lost.remove(number)\n",
    "            reserve.remove(number - 1)\n",
    "            print('lost에서 삭제: ', number)\n",
    "            print('reserve에서 삭제: ', number -1)\n",
    "            print('앞 lost :', lost)\n",
    "            print('앞 reserve :', reserve)\n",
    "             \n",
    "        elif (number + 1) in reserve:\n",
    "            lost.remove(number)\n",
    "            reserve.remove(number + 1)\n",
    "            print('lost에서 삭제: ', number)\n",
    "            print('reserve에서 삭제: ', number +1)\n",
    "            print('뒤 lost :', lost)\n",
    "            print('뒤 reserve :', reserve)\n",
    "            \n",
    "    answer = n - len(lost)\n",
    "    \n",
    "    return answer"
   ]
  },
  {
   "cell_type": "code",
   "execution_count": 138,
   "metadata": {},
   "outputs": [],
   "source": [
    "def solution(n, lost, reserve):\n",
    "    \n",
    "    # 잃어버렸지만 여벌 있는 경우\n",
    "    for number in lost:\n",
    "        if number in reserve:            \n",
    "            lost.remove(number)\n",
    "            reserve.remove(number)\n",
    "\n",
    "    # # 앞 뒤 번호에 Reserve 가 있는지, 빌리면 Remove\n",
    "    for number in lost:\n",
    "\n",
    "        if (number - 1) in reserve:\n",
    "            lost.remove(number)\n",
    "            reserve.remove(number - 1)\n",
    "            \n",
    "        elif (number + 1) in reserve:\n",
    "            lost.remove(number)\n",
    "            reserve.remove(number + 1)\n",
    "            \n",
    "    answer = n - len(lost)\n",
    "    \n",
    "    return answer"
   ]
  },
  {
   "cell_type": "code",
   "execution_count": 160,
   "metadata": {},
   "outputs": [],
   "source": [
    "def solution(n, lost, reserve):\n",
    "\n",
    "    # 여벌 있는 애가 도난당함\n",
    "    for number in lost:\n",
    "        if number in reserve:\n",
    "            lost.remove(number)\n",
    "            reserve.remove(number)\n",
    "    \n",
    "    # 앞뒤에서 빌려주기\n",
    "    for number in reserve:\n",
    "        print(number)\n",
    "        if (number - 1) in lost:\n",
    "            reserve.remove(number)\n",
    "            lost.remove(number - 1)\n",
    "            \n",
    "        elif (number + 1) in lost:\n",
    "            reserve.remove(number)\n",
    "            lost.remove(number + 1)\n",
    "    \n",
    "    answer = n - len(lost)\n",
    "    print(lost)\n",
    "    return answer"
   ]
  },
  {
   "cell_type": "code",
   "execution_count": 162,
   "metadata": {},
   "outputs": [],
   "source": [
    "def solution(n, lost, reserve):\n",
    "    \n",
    "    # 잃어버렸지만 여벌 있는 경우\n",
    "    for number in lost:\n",
    "        if number in reserve:            \n",
    "            lost.remove(number)\n",
    "            reserve.remove(number)\n",
    "\n",
    "    # # 앞 뒤 번호에 Reserve 가 있는지, 빌리면 Remove\n",
    "    for i in range(len(lost)):\n",
    "\n",
    "        if (lost[i] - 1) in reserve:\n",
    "            lost.remove(lost[i])\n",
    "            reserve.remove(lost[i] - 1)\n",
    "            \n",
    "        elif (lost[i] + 1) in reserve:\n",
    "            lost.remove(lost[i])\n",
    "            reserve.remove(lost[i] + 1)\n",
    "            \n",
    "    answer = n - len(lost)\n",
    "    \n",
    "    return answer"
   ]
  },
  {
   "cell_type": "code",
   "execution_count": null,
   "metadata": {},
   "outputs": [],
   "source": [
    "def solution(n, lost, reserve):\n",
    "\n",
    "    # 여벌 있는 애가 도난당함\n",
    "    for number in lost:\n",
    "        if number in reserve:\n",
    "            lost.remove(number)\n",
    "            reserve.remove(number)\n",
    "    \n",
    "    # 앞뒤에서 빌려주기\n",
    "    for i in range(len(reserve)):\n",
    "        print(reserve[i])\n",
    "        if (reserve[i] - 1) in lost:\n",
    "            reserve.remove(reserve[i])\n",
    "            lost.remove(reserve[i] - 1)\n",
    "            \n",
    "        elif (reserve[i] + 1) in lost:\n",
    "            reserve.remove(reserve[i])\n",
    "            lost.remove(reserve[i] + 1)\n",
    "    \n",
    "    answer = n - len(lost)\n",
    "    print(lost)\n",
    "    return answer"
   ]
  },
  {
   "cell_type": "code",
   "execution_count": 161,
   "metadata": {},
   "outputs": [
    {
     "name": "stdout",
     "output_type": "stream",
     "text": [
      "3\n",
      "8\n",
      "[4, 6]\n"
     ]
    },
    {
     "data": {
      "text/plain": [
       "8"
      ]
     },
     "execution_count": 161,
     "metadata": {},
     "output_type": "execute_result"
    }
   ],
   "source": [
    "# assert solution(5, [2, 4], [1, 3, 5]) == 5\n",
    "# assert solution(5, [2, 4], [3]) == 4\n",
    "# assert solution(3, [3], [1]) == 2\n",
    "# assert solution(5, [1, 2, 3], [1, 2, 5]) == 4\n",
    "# assert solution(10, [1, 2, 4, 6], [1, 3, 5, 8]) == 9\n",
    "solution(10, [1, 2, 4, 6], [1, 3, 5, 8])\n",
    "\n",
    "\n",
    "# assert solution(10, [1, 2, 5, 6], [3, 5, 8]) == 8\n",
    "\n",
    "# solution(5, [1, 2, 3], [1, 2, 5])\n",
    "\n",
    "# solution(5, [2, 4], [1, 3, 5])\n",
    "# solution(5, [1, 2, 4], [1, 3, 5])\n",
    "# solution(10, [1, 2, 4, 6], [1, 3, 5, 8])\n",
    "# solution(10, [1, 2, 5, 6], [3, 5, 8])\n",
    "\n",
    "# solution(5, [4], [3, 5])\n",
    "# solution(5, [2, 4], [3])\n",
    "# solution(3, [3], [1]) "
   ]
  },
  {
   "cell_type": "code",
   "execution_count": 37,
   "metadata": {},
   "outputs": [
    {
     "data": {
      "text/plain": [
       "[3]"
      ]
     },
     "execution_count": 37,
     "metadata": {},
     "output_type": "execute_result"
    }
   ],
   "source": [
    "l = [1, 2, 3]\n",
    "l.pop(1)\n",
    "l.remove(1)\n",
    "l"
   ]
  },
  {
   "cell_type": "code",
   "execution_count": 173,
   "metadata": {},
   "outputs": [
    {
     "data": {
      "text/plain": [
       "[1, 2, 3, 4]"
      ]
     },
     "execution_count": 173,
     "metadata": {},
     "output_type": "execute_result"
    }
   ],
   "source": [
    "l = [4, 1, 2, 3]\n",
    "l.sort()\n",
    "l"
   ]
  },
  {
   "cell_type": "code",
   "execution_count": null,
   "metadata": {},
   "outputs": [],
   "source": [
    "def solution(n, lost, reserve):\n",
    "    \n",
    "    # 잃어버렸지만 여벌 있는 경우\n",
    "    for number in lost:\n",
    "        if number in reserve:            \n",
    "            lost.remove(number)\n",
    "            reserve.remove(number)\n",
    "    # 순서대로\n",
    "    lost.sort()\n",
    "    reserve.sort()\n",
    "    \n",
    "    # 진짜 잃어버린애, 진짜 여벌 있는 애 카운트\n",
    "    pure_lost_count = len(lost)\n",
    "    pure_reserve_count = len(reserve)\n",
    "    \n",
    "    # # 앞 뒤 번호에 Reserve 가 있는지, 빌리면 Remove\n",
    "    for number in lost:\n",
    "\n",
    "        if (number - 1) in reserve:\n",
    "            reserve.remove(number - 1)\n",
    "            \n",
    "        elif (number + 1) in reserve:\n",
    "            reserve.remove(number + 1)\n",
    "            \n",
    "    answer = n - pure_lost_count + pure_reserve_count - len(reserve)\n",
    "    \n",
    "    return answer"
   ]
  },
  {
   "cell_type": "code",
   "execution_count": 182,
   "metadata": {},
   "outputs": [
    {
     "name": "stdout",
     "output_type": "stream",
     "text": [
      "[1, 3, 5, 7, 9] [12, 14]\n"
     ]
    }
   ],
   "source": [
    "lost = [1, 2, 3, 4, 5, 6, 7, 8, 9, 10]\n",
    "reserve = [2, 4, 6, 8, 10, 12, 14]\n",
    "\n",
    "_lost = lost\n",
    "_reserve = reserve\n",
    "\n",
    "for number in lost:\n",
    "    if number in reserve:            \n",
    "        _lost.remove(number)\n",
    "        _reserve.remove(number)\n",
    "        \n",
    "print(_lost, _reserve)"
   ]
  },
  {
   "cell_type": "code",
   "execution_count": 183,
   "metadata": {},
   "outputs": [
    {
     "name": "stdout",
     "output_type": "stream",
     "text": [
      "[1, 3, 5, 7, 9] [12, 14]\n"
     ]
    }
   ],
   "source": [
    "lost = [1, 2, 3, 4, 5, 6, 7, 8, 9, 10]\n",
    "reserve = [2, 4, 6, 8, 10, 12, 14]\n",
    "\n",
    "\n",
    "for number in lost:\n",
    "    if number in reserve:            \n",
    "        lost.remove(number)\n",
    "        reserve.remove(number)\n",
    "        \n",
    "print(lost, reserve)"
   ]
  },
  {
   "cell_type": "code",
   "execution_count": null,
   "metadata": {},
   "outputs": [],
   "source": [
    "## 통과\n",
    "def solution(n, lost, reserve):\n",
    "    \n",
    "    # 순서대로\n",
    "    lost.sort()\n",
    "    reserve.sort()\n",
    "\n",
    "    # 잃어버렸지만 여벌 있는 경우\n",
    "    still_got_clothes = set(lost) & set(reserve)\n",
    "    lost = set(lost) - still_got_clothes\n",
    "    reserve = set(reserve) - still_got_clothes\n",
    "    \n",
    "    # 진짜 잃어버린애, 진짜 여벌 있는 애 카운트\n",
    "    pure_lost_count = len(lost)\n",
    "    pure_reserve_count = len(reserve)\n",
    "    \n",
    "    # # 앞 뒤 번호에 Reserve 가 있는지, 빌리면 Remove\n",
    "    for number in lost:\n",
    "\n",
    "        if (number - 1) in reserve:\n",
    "            reserve.remove(number - 1)\n",
    "            \n",
    "        elif (number + 1) in reserve:\n",
    "            reserve.remove(number + 1)\n",
    "            \n",
    "    answer = n - pure_lost_count + pure_reserve_count - len(reserve)\n",
    "    \n",
    "    return answer"
   ]
  },
  {
   "cell_type": "code",
   "execution_count": null,
   "metadata": {},
   "outputs": [],
   "source": [
    "## 통과\n",
    "def solution(n, lost, reserve):\n",
    "    \n",
    "    # 잃어버렸지만 여벌 있는 경우\n",
    "    still_got_clothes = set(lost) & set(reserve)\n",
    "    lost = list(set(lost) - still_got_clothes)\n",
    "    reserve = list(set(reserve) - still_got_clothes)\n",
    "    \n",
    "    # 순서대로\n",
    "    lost.sort()\n",
    "    reserve.sort()\n",
    "    \n",
    "    # # 앞 뒤 번호에 Reserve 가 있는지, 빌리면 Remove\n",
    "    for number in reserve:\n",
    "\n",
    "        if (number - 1) in lost:\n",
    "            lost.remove(number - 1)\n",
    "            \n",
    "        elif (number + 1) in lost:\n",
    "            lost.remove(number + 1)\n",
    "    \n",
    "    return n - len(lost)"
   ]
  },
  {
   "cell_type": "markdown",
   "metadata": {},
   "source": [
    "# 겹치는 것 찾는 부분에서 set 안 쓰면 안됨... 왜?"
   ]
  },
  {
   "cell_type": "code",
   "execution_count": null,
   "metadata": {},
   "outputs": [],
   "source": [
    "# 개쩌는 코드\n",
    "def solution(n, lost, reserve):\n",
    "    _reserve = [r for r in reserve if r not in lost]\n",
    "    _lost = [l for l in lost if l not in reserve]\n",
    "    for r in _reserve:\n",
    "        f = r - 1\n",
    "        b = r + 1\n",
    "        if f in _lost:\n",
    "            _lost.remove(f)\n",
    "        elif b in _lost:\n",
    "            _lost.remove(b)\n",
    "    return n - len(_lost)"
   ]
  }
 ],
 "metadata": {
  "kernelspec": {
   "display_name": "Python 3",
   "language": "python",
   "name": "python3"
  },
  "language_info": {
   "codemirror_mode": {
    "name": "ipython",
    "version": 3
   },
   "file_extension": ".py",
   "mimetype": "text/x-python",
   "name": "python",
   "nbconvert_exporter": "python",
   "pygments_lexer": "ipython3",
   "version": "3.7.3"
  }
 },
 "nbformat": 4,
 "nbformat_minor": 2
}
