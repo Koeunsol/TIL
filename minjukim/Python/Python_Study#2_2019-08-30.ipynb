{
 "cells": [
  {
   "cell_type": "markdown",
   "metadata": {},
   "source": [
    "# 김왼손#3. First Word"
   ]
  },
  {
   "cell_type": "markdown",
   "metadata": {},
   "source": [
    "You are given a string where you have to find its first word.\n",
    "\n",
    "When sloving a task pay attention to the following points:\n",
    "- There can be dots and commas in a string.\n",
    "- A string can start with a letter or, for example, a dot or space.\n",
    "- A word can contain an apostrophe and it's a part of a word.\n",
    "- The whole text can be represented with one word and that's it.\n",
    "\n",
    "#### Example:\n",
    "- first_word('Hello world') == 'Hello'\n",
    "- first_word('greetings, friends') == 'greetings'"
   ]
  },
  {
   "cell_type": "code",
   "execution_count": 52,
   "metadata": {},
   "outputs": [],
   "source": [
    "# 예슬님 코드 \n",
    "\n",
    "def first_word(text: str) -> str:\n",
    "   text = text.replace(',', ' ').replace('.', ' ').strip()\n",
    "   text = text.split()\n",
    "   return text[0]"
   ]
  },
  {
   "cell_type": "code",
   "execution_count": null,
   "metadata": {},
   "outputs": [],
   "source": [
    "def first_word(word):\n",
    "    if ' ' in word :\n",
    "        word_split_blank = word.split(' ')\n",
    "\n",
    "        for word in word_split_dot:\n",
    "            first_word_dotless = word\n",
    "            if word != '':\n",
    "                break\n",
    "        \n",
    "        word = first_word_blankless\n",
    "        \n",
    "    if '.' in word :\n",
    "        word_split_dot = word.split('.')\n",
    "\n",
    "        for word in word_split_dot:\n",
    "            first_word_dotless = word\n",
    "            if word != '':\n",
    "                break\n",
    "    \n",
    "        word = first_word_dotless\n",
    "        \n",
    "    if ',' in word :\n",
    "        word_split_comma = word.split(',')\n",
    "        first_word_commaless = word_split_comma[0]\n",
    "        word = first_word_commaless\n",
    "\n",
    "    return word"
   ]
  },
  {
   "cell_type": "code",
   "execution_count": 3,
   "metadata": {},
   "outputs": [],
   "source": [
    "def first_word(word):\n",
    "    if ' ' in word :\n",
    "        word_split_blank = word.split(' ')\n",
    "\n",
    "        for word in word_split_dot:\n",
    "            first_word_dotless = word\n",
    "            if word != '':\n",
    "                break\n",
    "        \n",
    "#         if (word_split_blank[0] == '') and (word_split_blank[1] != ''):\n",
    "#             first_word_blankless = word_split_blank[1]\n",
    "#         else:\n",
    "#             first_word_blankless = word_split_blank[0]\n",
    "        word = first_word_blankless\n",
    "        \n",
    "    if '.' in word :\n",
    "        word_split_dot = word.split('.')\n",
    "\n",
    "        for word in word_split_dot:\n",
    "            first_word_dotless = word\n",
    "            if word != '':\n",
    "                break\n",
    "    \n",
    "#         if (word_split_dot[0] == '') and (word_split_dot[1] != ''):\n",
    "#             first_word_dotless = word_split_dot[1]\n",
    "#         else:    \n",
    "#             first_word_dotless = word_split_dot[0]\n",
    "        word = first_word_dotless\n",
    "        \n",
    "    if ',' in word :\n",
    "        word_split_comma = word.split(',')\n",
    "        first_word_commaless = word_split_comma[0]\n",
    "        word = first_word_commaless\n",
    "\n",
    "    return word"
   ]
  },
  {
   "cell_type": "code",
   "execution_count": 26,
   "metadata": {},
   "outputs": [
    {
     "data": {
      "text/plain": [
       "' strip'"
      ]
     },
     "execution_count": 26,
     "metadata": {},
     "output_type": "execute_result"
    }
   ],
   "source": [
    "' strip,'.strip(',')"
   ]
  },
  {
   "cell_type": "code",
   "execution_count": 53,
   "metadata": {},
   "outputs": [],
   "source": [
    "# 통과\n",
    "def first_word(text: str) -> str:\n",
    "\n",
    "    answer = text.replace(',', ' ').replace('.', ' ').strip()\n",
    "    return answer.split()[0]"
   ]
  },
  {
   "cell_type": "code",
   "execution_count": 54,
   "metadata": {},
   "outputs": [
    {
     "data": {
      "text/plain": [
       "'greetings'"
      ]
     },
     "execution_count": 54,
     "metadata": {},
     "output_type": "execute_result"
    }
   ],
   "source": [
    "first_word('greetings, friends')"
   ]
  },
  {
   "cell_type": "code",
   "execution_count": 55,
   "metadata": {},
   "outputs": [],
   "source": [
    "assert first_word('Hello world') == 'Hello'\n",
    "assert first_word('greetings, friends') == 'greetings'\n",
    "assert first_word('ho ho ho') == 'ho'\n",
    "assert first_word('yes. and you') == 'yes'\n",
    "assert first_word(' hi') == 'hi'\n",
    "assert first_word('.hi') == 'hi'\n",
    "assert first_word('hi') == 'hi'\n",
    "assert first_word('...and so on...') == 'and'\n",
    "assert first_word(\"hi\") == \"hi\"\n",
    "assert first_word(\"Hello.World\") == \"Hello\""
   ]
  },
  {
   "cell_type": "markdown",
   "metadata": {},
   "source": [
    "# 김왼손#4. Second Index"
   ]
  },
  {
   "cell_type": "code",
   "execution_count": null,
   "metadata": {},
   "outputs": [],
   "source": [
    "# 왼손님 코드\n",
    "if text.count(symbol) < 2:\n",
    "        return None\n",
    "    \n",
    "    first = text.find(symbol)\n",
    "    \n",
    "    return text.find(symbol, first + 1)"
   ]
  },
  {
   "cell_type": "code",
   "execution_count": 17,
   "metadata": {},
   "outputs": [],
   "source": [
    "def second_index(text, key):\n",
    "    count = 0\n",
    "    index = None\n",
    "    \n",
    "    for i in range(len(text)):\n",
    "        if text[i] == key:\n",
    "            index = i\n",
    "            count += 1\n",
    "            if count > 1:break\n",
    "        \n",
    "    return index if count > 1 else None"
   ]
  },
  {
   "cell_type": "code",
   "execution_count": 18,
   "metadata": {},
   "outputs": [],
   "source": [
    "# second_index(\"sims\", \"s\")\n",
    "second_index(\"hi mayor\", \" \")"
   ]
  },
  {
   "cell_type": "code",
   "execution_count": 19,
   "metadata": {},
   "outputs": [],
   "source": [
    "    assert second_index(\"sims\", \"s\") == 3, \"First\"\n",
    "    assert second_index(\"find the river\", \"e\") == 12, \"Second\"\n",
    "    assert second_index(\"hi\", \" \") is None, \"Third\"\n",
    "    assert second_index(\"hi mayor\", \" \") is None, \"Fourth\"\n",
    "    assert second_index(\"hi mr Mayor\", \" \") == 5, \"Fifth\"\n"
   ]
  },
  {
   "cell_type": "code",
   "execution_count": null,
   "metadata": {},
   "outputs": [],
   "source": []
  }
 ],
 "metadata": {
  "kernelspec": {
   "display_name": "Python 3",
   "language": "python",
   "name": "python3"
  },
  "language_info": {
   "codemirror_mode": {
    "name": "ipython",
    "version": 3
   },
   "file_extension": ".py",
   "mimetype": "text/x-python",
   "name": "python",
   "nbconvert_exporter": "python",
   "pygments_lexer": "ipython3",
   "version": "3.7.3"
  }
 },
 "nbformat": 4,
 "nbformat_minor": 2
}
