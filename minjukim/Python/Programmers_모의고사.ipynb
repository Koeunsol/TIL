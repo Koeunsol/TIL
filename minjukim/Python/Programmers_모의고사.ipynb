{
 "cells": [
  {
   "cell_type": "code",
   "execution_count": 5,
   "metadata": {},
   "outputs": [],
   "source": [
    "def solution(answers):\n",
    "    answer = []\n",
    "    student1_mark = 0\n",
    "    # 1번 수포자 정답률\n",
    "    student1 = list(range(1, 6)) * 2000\n",
    "    for i in range(len(answers)):\n",
    "        if answers[i] == student1[i]:\n",
    "            student1_mark += 1\n",
    "\n",
    "    # 2번 수포자 정답률\n",
    "#     student2 = []\n",
    "#     for i in range(1, 11):\n",
    "#         if i % 2 == 1:\n",
    "#             student2.append(2)\n",
    "#         else:\n",
    "#             student2.append()\n",
    "    student2_mark = 0\n",
    "    student2 = [2, 1, 2, 3, 2, 4, 2, 5] * 1250\n",
    "    \n",
    "    for i in range(len(answers)):\n",
    "        if answers[i] == student2[i]:\n",
    "            student2_mark += 1\n",
    "        \n",
    "    # 3번 수포자 정답률\n",
    "    student3_mark = 0\n",
    "    student3 = [3, 3, 1, 1, 2, 2, 4, 4, 5, 5] * 1000\n",
    "        \n",
    "    for i in range(len(answers)):\n",
    "        if answers[i] == student3[i]:\n",
    "            student3_mark += 1\n",
    "    \n",
    "    # dict = {'student1': student1, 'student2': student2, 'student3':student3}\n",
    "    \n",
    "\n",
    "    all_mark = [student1_mark, student2_mark, student3_mark]\n",
    "    max_mark = max(all_mark)\n",
    "    for i in range(3):\n",
    "        if max_mark == all_mark[i]:\n",
    "            answer.append(i+1)\n",
    "    return answer"
   ]
  },
  {
   "cell_type": "code",
   "execution_count": 4,
   "metadata": {},
   "outputs": [
    {
     "data": {
      "text/plain": [
       "3"
      ]
     },
     "execution_count": 4,
     "metadata": {},
     "output_type": "execute_result"
    }
   ],
   "source": [
    "max([1, 2, 3])"
   ]
  },
  {
   "cell_type": "code",
   "execution_count": null,
   "metadata": {},
   "outputs": [],
   "source": []
  }
 ],
 "metadata": {
  "kernelspec": {
   "display_name": "Python 3",
   "language": "python",
   "name": "python3"
  },
  "language_info": {
   "codemirror_mode": {
    "name": "ipython",
    "version": 3
   },
   "file_extension": ".py",
   "mimetype": "text/x-python",
   "name": "python",
   "nbconvert_exporter": "python",
   "pygments_lexer": "ipython3",
   "version": "3.7.3"
  }
 },
 "nbformat": 4,
 "nbformat_minor": 2
}
