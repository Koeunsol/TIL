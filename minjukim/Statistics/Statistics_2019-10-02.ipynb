{
 "cells": [
  {
   "cell_type": "markdown",
   "metadata": {},
   "source": [
    "# Dimensionality Reduction 차원 축소\n",
    "- 데이터에서 차원 = 변수의 수\n",
    "\n",
    "#### Dimensionality Reduction 의 필요성\n",
    "- 차원이 크면 시각화/이해하기/분석하기 어렵다\n",
    "\n",
    "#### Dimensionality Reduction 방법\n",
    "- 안 중요한 변수를 뺀다\n",
    "- 축소 후에도 원래의 변수를 알 수 있어야 좋다\n",
    "\n",
    "#### Dimensionality Reduction 예시\n",
    "- 평균 점수\n",
    "- 하나의 점수로 축소해서 이해/비교하기 쉽다\n",
    "- 특정 변수에 가중치를 두기도 한다"
   ]
  },
  {
   "cell_type": "markdown",
   "metadata": {},
   "source": [
    "## 선형모형을 이용한 차원 축소\n",
    "\n",
    "> $X = WZ$ \n",
    "\n",
    "$X$: 관찰변수, $Z$: 잠재변수\n",
    "\n",
    "#### cf. 선형모형\n",
    "> $y = ax$  \n",
    "\n",
    "$x, y$: 관찰변수"
   ]
  },
  {
   "cell_type": "markdown",
   "metadata": {},
   "source": [
    "## PCA Principal Component Analysis\n",
    "- 변수를 줄이고 싶을 때 쓴다\n",
    "- 축을 회전시켜 새로운 축(Component)을 찾아낸다\n",
    "- 분산이 큰 순서대로 Component 를 정한다\n",
    "- 분산이 작은 Component 를 제거하여 차원을 축소한다\n",
    "#### PCA 방법\n",
    "- 크게 움직이는 방향 하나만 남기고 나머지는 지운다\n",
    "- 데이터가 가장 크게 움직이는 방향으로 새로운 축을 만든다"
   ]
  },
  {
   "cell_type": "code",
   "execution_count": 1,
   "metadata": {},
   "outputs": [],
   "source": [
    "import pandas as pd"
   ]
  },
  {
   "cell_type": "code",
   "execution_count": 2,
   "metadata": {},
   "outputs": [],
   "source": [
    "from sklearn.decomposition import PCA"
   ]
  },
  {
   "cell_type": "code",
   "execution_count": 3,
   "metadata": {},
   "outputs": [],
   "source": [
    "import seaborn as sns"
   ]
  },
  {
   "cell_type": "code",
   "execution_count": 5,
   "metadata": {},
   "outputs": [
    {
     "data": {
      "text/html": [
       "<div>\n",
       "<style scoped>\n",
       "    .dataframe tbody tr th:only-of-type {\n",
       "        vertical-align: middle;\n",
       "    }\n",
       "\n",
       "    .dataframe tbody tr th {\n",
       "        vertical-align: top;\n",
       "    }\n",
       "\n",
       "    .dataframe thead th {\n",
       "        text-align: right;\n",
       "    }\n",
       "</style>\n",
       "<table border=\"1\" class=\"dataframe\">\n",
       "  <thead>\n",
       "    <tr style=\"text-align: right;\">\n",
       "      <th></th>\n",
       "      <th>Class</th>\n",
       "      <th>Alcohol</th>\n",
       "      <th>MalicAcid</th>\n",
       "      <th>Ash</th>\n",
       "      <th>AlcalinityOfAsh</th>\n",
       "      <th>Magnesium</th>\n",
       "      <th>TotalPhenols</th>\n",
       "      <th>Flavanoids</th>\n",
       "      <th>NonflavanoidPhenols</th>\n",
       "      <th>Proanthocyanins</th>\n",
       "      <th>Color intensity</th>\n",
       "      <th>Hue</th>\n",
       "      <th>OD</th>\n",
       "      <th>Proline</th>\n",
       "    </tr>\n",
       "  </thead>\n",
       "  <tbody>\n",
       "    <tr>\n",
       "      <th>99</th>\n",
       "      <td>2</td>\n",
       "      <td>12.29</td>\n",
       "      <td>3.17</td>\n",
       "      <td>2.21</td>\n",
       "      <td>18.0</td>\n",
       "      <td>88</td>\n",
       "      <td>2.85</td>\n",
       "      <td>2.99</td>\n",
       "      <td>0.45</td>\n",
       "      <td>2.81</td>\n",
       "      <td>2.3</td>\n",
       "      <td>1.42</td>\n",
       "      <td>2.83</td>\n",
       "      <td>406</td>\n",
       "    </tr>\n",
       "  </tbody>\n",
       "</table>\n",
       "</div>"
      ],
      "text/plain": [
       "    Class  Alcohol  MalicAcid   Ash  AlcalinityOfAsh  Magnesium  TotalPhenols  \\\n",
       "99      2    12.29       3.17  2.21             18.0         88          2.85   \n",
       "\n",
       "    Flavanoids  NonflavanoidPhenols  Proanthocyanins  Color intensity   Hue  \\\n",
       "99        2.99                 0.45             2.81              2.3  1.42   \n",
       "\n",
       "      OD  Proline  \n",
       "99  2.83      406  "
      ]
     },
     "execution_count": 5,
     "metadata": {},
     "output_type": "execute_result"
    }
   ],
   "source": [
    "wine = pd.read_csv('wine.csv')\n",
    "\n",
    "wine.sample()"
   ]
  },
  {
   "cell_type": "code",
   "execution_count": 6,
   "metadata": {},
   "outputs": [
    {
     "data": {
      "text/plain": [
       "PCA(copy=True, iterated_power='auto', n_components=2, random_state=None,\n",
       "  svd_solver='auto', tol=0.0, whiten=False)"
      ]
     },
     "execution_count": 6,
     "metadata": {},
     "output_type": "execute_result"
    }
   ],
   "source": [
    "pca = PCA(n_components=2)\n",
    "\n",
    "pca"
   ]
  },
  {
   "cell_type": "markdown",
   "metadata": {},
   "source": [
    "### 전체 Column 을 2개로 축소"
   ]
  },
  {
   "cell_type": "code",
   "execution_count": 7,
   "metadata": {},
   "outputs": [
    {
     "data": {
      "text/plain": [
       "array([[ 3.18562979e+02,  2.14921307e+01],\n",
       "       [ 3.03097420e+02, -5.36471768e+00],\n",
       "       [ 4.38061133e+02, -6.53730945e+00],\n",
       "       [ 7.33240139e+02,  1.92729032e-01],\n",
       "       [-1.15714285e+01,  1.84899946e+01],\n",
       "       [ 7.03231192e+02, -3.32158674e-01],\n",
       "       [ 5.42971581e+02, -1.35189666e+01],\n",
       "       [ 5.48401860e+02,  1.14494324e+01],\n",
       "       [ 2.98036863e+02, -8.18015784e+00],\n",
       "       [ 2.98049553e+02, -7.10154294e+00],\n",
       "       [ 7.63079712e+02, -8.33431723e+00],\n",
       "       [ 5.32943228e+02, -1.42876338e+01],\n",
       "       [ 5.72834410e+02, -2.10050143e+01],\n",
       "       [ 4.02925358e+02, -1.61026352e+01],\n",
       "       [ 8.00053394e+02, -1.21184472e+01],\n",
       "       [ 5.63245578e+02,  2.21482866e+00],\n",
       "       [ 5.33379651e+02,  1.08048022e+01],\n",
       "       [ 3.83317591e+02,  8.47741982e+00],\n",
       "       [ 9.33118387e+02, -8.35447844e+00],\n",
       "       [ 9.84031775e+01,  1.43926594e+01],\n",
       "       [ 3.35935940e+01,  2.55679565e+01],\n",
       "       [ 2.31464375e+01,  1.81747309e+00],\n",
       "       [ 2.88093030e+02, -3.96304175e+00],\n",
       "       [ 2.67981513e+02, -9.57070401e+00],\n",
       "       [ 9.80198858e+01, -5.49584606e+00],\n",
       "       [ 8.34987440e+01,  2.28916215e+01],\n",
       "       [ 4.47925596e+02, -1.47973313e+01],\n",
       "       [ 5.37919165e+02, -1.53883461e+01],\n",
       "       [ 1.68210468e+02,  4.25531096e+00],\n",
       "       [ 2.88008247e+02, -8.95973155e+00],\n",
       "       [ 5.38026452e+02, -8.21273882e+00],\n",
       "       [ 7.68092939e+02, -7.37989737e+00],\n",
       "       [ 2.43150751e+02, -1.43914928e-01],\n",
       "       [ 4.88601280e+02,  2.35653250e+01],\n",
       "       [ 3.48231007e+02,  4.03808015e+00],\n",
       "       [ 1.73079957e+02, -2.79292165e+00],\n",
       "       [ 1.33286424e+02,  7.77272958e+00],\n",
       "       [ 3.58018559e+02, -8.15798412e+00],\n",
       "       [ 2.73044432e+02, -6.72507431e+00],\n",
       "       [ 1.36430021e+01,  2.78468321e+01],\n",
       "       [ 4.84296422e+01,  1.63219498e+01],\n",
       "       [ 2.87884092e+02, -1.48851185e+01],\n",
       "       [ 3.48095348e+02, -5.04342609e+00],\n",
       "       [-6.68146554e+01,  4.38482992e+00],\n",
       "       [ 1.38227010e+02,  4.73068836e+00],\n",
       "       [ 3.33254806e+02,  5.31933116e+00],\n",
       "       [ 3.18111848e+02, -3.48694494e+00],\n",
       "       [ 2.38111485e+02, -3.05152100e+00],\n",
       "       [ 3.13119915e+02, -2.30536316e+00],\n",
       "       [ 5.13187748e+02, -8.63759235e-01],\n",
       "       [ 4.02939017e+02, -1.50533028e+01],\n",
       "       [ 5.17928963e+02, -1.49975549e+01],\n",
       "       [ 4.43266411e+02,  3.26050204e+00],\n",
       "       [ 6.28286071e+02,  4.04114538e+00],\n",
       "       [ 3.13397613e+02,  1.26089135e+01],\n",
       "       [ 3.73333291e+02,  9.66419863e+00],\n",
       "       [ 2.23417106e+02,  1.42168924e+01],\n",
       "       [ 5.23072851e+02, -7.09662526e+00],\n",
       "       [ 5.38182097e+02, -1.35678013e+00],\n",
       "       [-2.27032690e+02, -7.99496797e+00],\n",
       "       [-6.68501220e+01,  2.31986654e+00],\n",
       "       [-2.96824437e+02,  5.46847570e+00],\n",
       "       [-1.16970473e+02, -3.72638342e+00],\n",
       "       [-3.27059126e+02, -6.94813081e+00],\n",
       "       [-3.91752486e+02,  1.11716783e+01],\n",
       "       [-6.89057604e+01, -5.58620537e-01],\n",
       "       [-2.45212524e+02, -1.74936393e+01],\n",
       "       [-2.37241410e+02, -1.75310256e+01],\n",
       "       [ 3.29615599e+00,  1.00958116e+01],\n",
       "       [-2.79661207e+01,  5.16301252e+01],\n",
       "       [ 1.23130138e+02,  1.05983451e+00],\n",
       "       [-3.37104122e+02, -7.62385512e+00],\n",
       "       [-2.75096026e+02, -7.75315213e+00],\n",
       "       [ 2.38716757e+02,  3.52518274e+01],\n",
       "       [ 1.39094057e+02, -1.20747620e+00],\n",
       "       [-3.18876329e+02,  2.81077113e+00],\n",
       "       [-3.55060253e+02, -7.53070183e+00],\n",
       "       [-2.46633597e+02,  1.65584367e+01],\n",
       "       [ 3.77168966e+00,  3.60310924e+01],\n",
       "       [-2.83842248e+02,  6.36186080e+00],\n",
       "       [-4.69059350e+02, -5.45892398e+00],\n",
       "       [-3.31313392e+01, -1.31871050e+01],\n",
       "       [-1.17290392e+02, -1.95786125e+01],\n",
       "       [-2.32132988e+02, -1.05301033e+01],\n",
       "       [-2.26953299e+02, -1.77605879e+00],\n",
       "       [-2.96852152e+02,  4.45280309e+00],\n",
       "       [-2.52046392e+02, -5.21261759e+00],\n",
       "       [-1.85108857e+02, -8.31858202e+00],\n",
       "       [-6.71807518e+01, -1.45246902e+01],\n",
       "       [-1.22431326e+02, -2.75040387e+01],\n",
       "       [-2.67185333e+02, -1.40538901e+01],\n",
       "       [-2.97104415e+02, -8.41503161e+00],\n",
       "       [-2.52213885e+02, -1.52515702e+01],\n",
       "       [-4.57022215e+02, -3.69733793e+00],\n",
       "       [-4.01851274e+02,  5.33140022e+00],\n",
       "       [ 1.91183397e+02,  5.87937624e+01],\n",
       "       [-1.21279178e+02,  3.64175149e+01],\n",
       "       [-3.19088273e+02, -9.19307820e+00],\n",
       "       [-8.70802926e+01, -1.02265727e+01],\n",
       "       [-3.41040900e+02, -5.75056559e+00],\n",
       "       [-3.69316146e+01, -2.17041593e+00],\n",
       "       [-1.85073713e+02, -8.52051902e+00],\n",
       "       [-3.08882387e+02,  3.75165655e+00],\n",
       "       [-3.32089296e+02, -7.88372875e+00],\n",
       "       [-7.51531378e+01, -1.34138279e+01],\n",
       "       [-4.32009742e+02, -2.03294673e+00],\n",
       "       [-2.37206697e+02, -1.55619679e+01],\n",
       "       [-2.59148368e+02, -1.10788163e+01],\n",
       "       [-4.34957780e+02, -5.95260295e-02],\n",
       "       [-6.69906958e+01, -4.57145764e+00],\n",
       "       [-1.84736439e+02,  1.05164632e+01],\n",
       "       [-4.22042874e+02, -4.24492194e+00],\n",
       "       [-1.39818663e+02,  5.73555207e+00],\n",
       "       [-3.13060948e+02, -6.16709401e+00],\n",
       "       [-3.62129633e+02, -9.25929540e+00],\n",
       "       [-3.40115006e+02, -8.68973443e+00],\n",
       "       [-2.52109472e+02, -9.27587015e+00],\n",
       "       [-4.01695973e+02,  1.54258903e+01],\n",
       "       [-3.75171092e+02, -1.31850503e+01],\n",
       "       [-1.83097929e+02, -9.55354432e+00],\n",
       "       [-1.21945241e+02, -1.58889428e+00],\n",
       "       [-2.81534569e+02,  2.45082612e+01],\n",
       "       [-3.81826778e+02,  9.18910976e+00],\n",
       "       [-3.67089380e+02, -7.18821589e+00],\n",
       "       [-3.67157175e+02, -1.11963202e+01],\n",
       "       [-3.69103601e+02, -8.17580491e+00],\n",
       "       [-3.95078836e+02, -6.67983187e+00],\n",
       "       [-2.81030369e+02, -2.53586007e+00],\n",
       "       [-4.05061288e+02, -4.45107367e+00],\n",
       "       [-1.67237642e+02, -1.67311857e+01],\n",
       "       [-1.16473000e+02,  2.42660201e+01],\n",
       "       [-2.16784540e+02,  8.13044956e+00],\n",
       "       [-1.86915112e+02,  1.71005736e+00],\n",
       "       [-1.46769530e+02,  8.92033411e+00],\n",
       "       [-9.71329736e+01, -1.30582838e+01],\n",
       "       [-5.19820469e+01, -4.81229310e+00],\n",
       "       [-2.70979307e+01, -1.02299962e+01],\n",
       "       [-2.31951534e+02,  5.34907410e-01],\n",
       "       [-1.67076246e+02, -8.75672311e+00],\n",
       "       [-1.56868045e+02,  4.16316249e+00],\n",
       "       [-1.46946490e+02, -1.09672896e+00],\n",
       "       [ 3.29042927e+01, -1.13053656e+01],\n",
       "       [-2.26926210e+02,  1.38827837e+00],\n",
       "       [-1.97004347e+02, -4.22842870e+00],\n",
       "       [ 1.08312677e+02,  1.03513304e+01],\n",
       "       [ 8.31182626e+01,  8.06869695e-01],\n",
       "       [-3.32195840e+02, -1.38132989e+01],\n",
       "       [-1.22126092e+02, -1.14699259e+01],\n",
       "       [-9.70193893e+01, -5.90644258e+00],\n",
       "       [-1.96624807e+02,  1.68731139e+01],\n",
       "       [-2.46449199e+02,  2.78100954e+01],\n",
       "       [-2.66628788e+02,  1.71502320e+01],\n",
       "       [-3.21570741e+02,  2.21643401e+01],\n",
       "       [-7.18976587e+01, -3.99656400e-01],\n",
       "       [-1.06816618e+02,  5.20612307e+00],\n",
       "       [-2.20202568e+01, -6.22943925e+00],\n",
       "       [-2.67031732e+02, -5.92308914e+00],\n",
       "       [ 1.32999841e+02, -4.86770544e+00],\n",
       "       [-8.69139986e+01,  7.96357772e-02],\n",
       "       [-1.27061290e+02, -8.29141684e+00],\n",
       "       [-2.27068836e+02, -7.61863030e+00],\n",
       "       [-6.67554312e+01,  8.47028990e+00],\n",
       "       [-1.76765098e+02,  9.47319000e+00],\n",
       "       [-7.17683979e+01,  7.51063784e+00],\n",
       "       [-1.32048248e+02, -7.25503031e+00],\n",
       "       [-2.27077845e+02, -7.59337930e+00],\n",
       "       [-5.16895065e+01,  1.23580850e+01],\n",
       "       [-6.20850111e+01, -1.05540153e+01],\n",
       "       [ 3.18276465e+00,  5.39136150e+00],\n",
       "       [-1.16674818e+02,  1.45333703e+01],\n",
       "       [-2.36921208e+02,  4.63036998e-01],\n",
       "       [-2.77083578e+02, -8.74033191e+00],\n",
       "       [-8.70274026e+01, -7.10459575e+00],\n",
       "       [-6.98021096e+00, -4.54113657e+00],\n",
       "       [ 3.13160468e+00,  2.33519051e+00],\n",
       "       [ 8.84580737e+01,  1.87762846e+01],\n",
       "       [ 9.34562419e+01,  1.86708191e+01],\n",
       "       [-1.86943190e+02, -2.13330803e-01]])"
      ]
     },
     "execution_count": 7,
     "metadata": {},
     "output_type": "execute_result"
    }
   ],
   "source": [
    "score = pca.fit_transform(wine.iloc[:, 1:])\n",
    "\n",
    "score"
   ]
  },
  {
   "cell_type": "code",
   "execution_count": 9,
   "metadata": {},
   "outputs": [
    {
     "data": {
      "text/plain": [
       "array([0.99809123, 0.00173592])"
      ]
     },
     "execution_count": 9,
     "metadata": {},
     "output_type": "execute_result"
    }
   ],
   "source": [
    "# 첫번째 차원이 99 % 설명하고, \n",
    "# 두번째 차원이 전체 데이터를 0.1 % 설명한다\n",
    "\n",
    "pca.explained_variance_ratio_ # 설명된 분산의 비율, R-squared 와 같다"
   ]
  },
  {
   "cell_type": "code",
   "execution_count": 29,
   "metadata": {},
   "outputs": [],
   "source": [
    "score_df = pd.DataFrame(score, columns=['Comp1', 'Comp2'])"
   ]
  },
  {
   "cell_type": "markdown",
   "metadata": {},
   "source": [
    "### 원래 Class 정보를 가져와서 붙인다"
   ]
  },
  {
   "cell_type": "code",
   "execution_count": 30,
   "metadata": {},
   "outputs": [],
   "source": [
    "score_df['Class'] = wine['Class'] "
   ]
  },
  {
   "cell_type": "code",
   "execution_count": 31,
   "metadata": {},
   "outputs": [
    {
     "data": {
      "text/plain": [
       "<matplotlib.axes._subplots.AxesSubplot at 0x15a1d8cf828>"
      ]
     },
     "execution_count": 31,
     "metadata": {},
     "output_type": "execute_result"
    },
    {
     "data": {
      "image/png": "[encoded data removed]",
      "text/plain": [
       "<Figure size 432x288 with 1 Axes>"
      ]
     },
     "metadata": {
      "needs_background": "light"
     },
     "output_type": "display_data"
    }
   ],
   "source": [
    "sns.scatterplot('Comp1', 'Comp2', hue='Class', data=score_df, palette=['r', 'g', 'b'])"
   ]
  },
  {
   "cell_type": "markdown",
   "metadata": {},
   "source": [
    "### → 와인 종류는 Comp1 에 따라 결정된다 "
   ]
  },
  {
   "cell_type": "markdown",
   "metadata": {},
   "source": [
    "## 몇 차원으로 줄일지 결정하는 방법"
   ]
  },
  {
   "cell_type": "code",
   "execution_count": 33,
   "metadata": {},
   "outputs": [],
   "source": [
    "# 차원을 정하지 않는다\n",
    "\n",
    "p = PCA()"
   ]
  },
  {
   "cell_type": "code",
   "execution_count": 34,
   "metadata": {},
   "outputs": [
    {
     "data": {
      "text/plain": [
       "PCA(copy=True, iterated_power='auto', n_components=None, random_state=None,\n",
       "  svd_solver='auto', tol=0.0, whiten=False)"
      ]
     },
     "execution_count": 34,
     "metadata": {},
     "output_type": "execute_result"
    }
   ],
   "source": [
    "p.fit(x)"
   ]
  },
  {
   "cell_type": "code",
   "execution_count": 36,
   "metadata": {},
   "outputs": [
    {
     "data": {
      "text/plain": [
       "array([4.73243698, 2.51108093, 1.45424187, 0.92416587, 0.85804868,\n",
       "       0.64528221, 0.55414147, 0.35046627, 0.29051203, 0.25232001,\n",
       "       0.22706428, 0.16972374, 0.10396199])"
      ]
     },
     "execution_count": 36,
     "metadata": {},
     "output_type": "execute_result"
    }
   ],
   "source": [
    "# 이 값을 전체 분산으로 나누면 ratio\n",
    "# 각 분산이 자기자신을 설명하는 비율 1\n",
    "# 차원 축소를 해서 전체 변수의 분산을 확인\n",
    "# 설명된 분산이 1 이상인 축만 남긴다\n",
    "\n",
    "p.explained_variance_ "
   ]
  },
  {
   "cell_type": "markdown",
   "metadata": {},
   "source": [
    "## 표준화 후에 PCA\n",
    "- 모든 변수가 골고루 반영된다\n",
    "- 변수 간 경중이 없다. 실제로 더 중요한 변수가 있어도 반영 안된다"
   ]
  },
  {
   "cell_type": "markdown",
   "metadata": {},
   "source": [
    "#### 표준화"
   ]
  },
  {
   "cell_type": "code",
   "execution_count": 19,
   "metadata": {},
   "outputs": [],
   "source": [
    "from sklearn.preprocessing import StandardScaler"
   ]
  },
  {
   "cell_type": "code",
   "execution_count": 20,
   "metadata": {},
   "outputs": [],
   "source": [
    "scale = StandardScaler()"
   ]
  },
  {
   "cell_type": "code",
   "execution_count": 21,
   "metadata": {},
   "outputs": [
    {
     "name": "stderr",
     "output_type": "stream",
     "text": [
      "C:\\Users\\Minju\\Anaconda3\\lib\\site-packages\\sklearn\\preprocessing\\data.py:645: DataConversionWarning: Data with input dtype int64, float64 were all converted to float64 by StandardScaler.\n",
      "  return self.partial_fit(X, y)\n",
      "C:\\Users\\Minju\\Anaconda3\\lib\\site-packages\\sklearn\\base.py:464: DataConversionWarning: Data with input dtype int64, float64 were all converted to float64 by StandardScaler.\n",
      "  return self.fit(X, **fit_params).transform(X)\n"
     ]
    }
   ],
   "source": [
    "x = scale.fit_transform(wine.iloc[:, 1:])"
   ]
  },
  {
   "cell_type": "markdown",
   "metadata": {},
   "source": [
    "#### PCA"
   ]
  },
  {
   "cell_type": "code",
   "execution_count": 22,
   "metadata": {},
   "outputs": [],
   "source": [
    "sp = PCA(n_components=2)"
   ]
  },
  {
   "cell_type": "code",
   "execution_count": 23,
   "metadata": {},
   "outputs": [],
   "source": [
    "# fit: 파라미터 추정(축 회전)\n",
    "# transform: 변환 → 축소된 차원으로 점수를 변환해서 새로운 점수 부여\n",
    "\n",
    "score2 = sp.fit_transform(x)"
   ]
  },
  {
   "cell_type": "code",
   "execution_count": 25,
   "metadata": {},
   "outputs": [
    {
     "data": {
      "text/plain": [
       "array([0.36198848, 0.1920749 ])"
      ]
     },
     "execution_count": 25,
     "metadata": {},
     "output_type": "execute_result"
    }
   ],
   "source": [
    "# 표준화하여 모든 변수가 고르게 움직이기 때문에 \n",
    "# 설명할 수 있는 비율 줄어들었다\n",
    "# 그래도 2 개 변수로 50 % 이상 설명\n",
    "\n",
    "sp.explained_variance_ratio_ "
   ]
  },
  {
   "cell_type": "code",
   "execution_count": 51,
   "metadata": {},
   "outputs": [],
   "source": [
    "score_df = pd.DataFrame(score2, columns=['Comp1', 'Comp2'])"
   ]
  },
  {
   "cell_type": "code",
   "execution_count": 52,
   "metadata": {},
   "outputs": [],
   "source": [
    "score_df['Class'] = wine['Class']"
   ]
  },
  {
   "cell_type": "code",
   "execution_count": 53,
   "metadata": {},
   "outputs": [
    {
     "data": {
      "text/plain": [
       "<matplotlib.axes._subplots.AxesSubplot at 0x15a1d6c95c0>"
      ]
     },
     "execution_count": 53,
     "metadata": {},
     "output_type": "execute_result"
    },
    {
     "data": {
      "image/png": "[encoded data removed]",
      "text/plain": [
       "<Figure size 432x288 with 1 Axes>"
      ]
     },
     "metadata": {
      "needs_background": "light"
     },
     "output_type": "display_data"
    }
   ],
   "source": [
    "sns.scatterplot('Comp1', 'Comp2', hue='Class', data=score_df, palette=['r', 'g', 'b'])"
   ]
  },
  {
   "cell_type": "markdown",
   "metadata": {},
   "source": [
    "### → 표준화해서 2 개의 축이 좀 더 고르게 설명"
   ]
  },
  {
   "cell_type": "markdown",
   "metadata": {},
   "source": [
    "## HistPlot 으로 1차원으로 확인"
   ]
  },
  {
   "cell_type": "code",
   "execution_count": 55,
   "metadata": {},
   "outputs": [],
   "source": [
    "import numpy as np"
   ]
  },
  {
   "cell_type": "markdown",
   "metadata": {},
   "source": [
    "#### 표준화 안 한 것"
   ]
  },
  {
   "cell_type": "code",
   "execution_count": 58,
   "metadata": {},
   "outputs": [
    {
     "data": {
      "image/png": "[encoded data removed]",
      "text/plain": [
       "<Figure size 432x288 with 1 Axes>"
      ]
     },
     "metadata": {
      "needs_background": "light"
     },
     "output_type": "display_data"
    }
   ],
   "source": [
    "for c in range(1, 4):\n",
    "    d = np.extract(wine['Class'] == c, score[:, 0])\n",
    "    \n",
    "    sns.distplot(d, hist=False)"
   ]
  },
  {
   "cell_type": "markdown",
   "metadata": {},
   "source": [
    "#### 표준화한 것"
   ]
  },
  {
   "cell_type": "code",
   "execution_count": 66,
   "metadata": {},
   "outputs": [
    {
     "data": {
      "image/png": "[encoded data removed]",
      "text/plain": [
       "<Figure size 432x288 with 1 Axes>"
      ]
     },
     "metadata": {
      "needs_background": "light"
     },
     "output_type": "display_data"
    }
   ],
   "source": [
    "for c in range(1, 4):\n",
    "    d = np.extract(wine['Class'] == c, score2[:, 0])\n",
    "    \n",
    "    sns.distplot(d, hist=False)\n",
    "\n",
    "# 똑같은 것 다른 문법\n",
    "for c in range(1, 4):\n",
    "    d = score_df.query(f'Class == {c}')['Comp1']\n",
    "    \n",
    "    sns.distplot(d, rug=True, hist=False)"
   ]
  },
  {
   "cell_type": "code",
   "execution_count": 60,
   "metadata": {},
   "outputs": [
    {
     "data": {
      "text/plain": [
       "array([13, 14])"
      ]
     },
     "execution_count": 60,
     "metadata": {},
     "output_type": "execute_result"
    }
   ],
   "source": [
    "a = np.array([1, 2, 3, 4, 5])\n",
    "b = np.array([10, 11, 12, 13, 14])\n",
    "np.extract(a > 3, b)"
   ]
  },
  {
   "cell_type": "markdown",
   "metadata": {},
   "source": [
    "#### 위의 그래프 그리기 연습"
   ]
  },
  {
   "cell_type": "code",
   "execution_count": 62,
   "metadata": {},
   "outputs": [
    {
     "data": {
      "text/plain": [
       "<matplotlib.axes._subplots.AxesSubplot at 0x15a1dae1550>"
      ]
     },
     "execution_count": 62,
     "metadata": {},
     "output_type": "execute_result"
    },
    {
     "data": {
      "image/png": "[encoded data removed]",
      "text/plain": [
       "<Figure size 432x288 with 1 Axes>"
      ]
     },
     "metadata": {
      "needs_background": "light"
     },
     "output_type": "display_data"
    }
   ],
   "source": [
    "score_df.query('Class == 1')['Comp1']\n",
    "sns.distplot(d, rug=True, hist=False)"
   ]
  },
  {
   "cell_type": "markdown",
   "metadata": {},
   "source": [
    "# 실습) hsb \n",
    "read write math science socst 다섯 과목을 PCA 해서 2차원에 성별(female)에 따라 시각화 해보세요"
   ]
  },
  {
   "cell_type": "code",
   "execution_count": 70,
   "metadata": {},
   "outputs": [
    {
     "data": {
      "text/html": [
       "<div>\n",
       "<style scoped>\n",
       "    .dataframe tbody tr th:only-of-type {\n",
       "        vertical-align: middle;\n",
       "    }\n",
       "\n",
       "    .dataframe tbody tr th {\n",
       "        vertical-align: top;\n",
       "    }\n",
       "\n",
       "    .dataframe thead th {\n",
       "        text-align: right;\n",
       "    }\n",
       "</style>\n",
       "<table border=\"1\" class=\"dataframe\">\n",
       "  <thead>\n",
       "    <tr style=\"text-align: right;\">\n",
       "      <th></th>\n",
       "      <th>id</th>\n",
       "      <th>female</th>\n",
       "      <th>race</th>\n",
       "      <th>ses</th>\n",
       "      <th>schtyp</th>\n",
       "      <th>prog</th>\n",
       "      <th>read</th>\n",
       "      <th>write</th>\n",
       "      <th>math</th>\n",
       "      <th>science</th>\n",
       "      <th>socst</th>\n",
       "    </tr>\n",
       "  </thead>\n",
       "  <tbody>\n",
       "    <tr>\n",
       "      <th>65</th>\n",
       "      <td>140</td>\n",
       "      <td>0</td>\n",
       "      <td>4</td>\n",
       "      <td>2</td>\n",
       "      <td>1</td>\n",
       "      <td>3</td>\n",
       "      <td>44</td>\n",
       "      <td>41</td>\n",
       "      <td>40</td>\n",
       "      <td>50</td>\n",
       "      <td>26</td>\n",
       "    </tr>\n",
       "  </tbody>\n",
       "</table>\n",
       "</div>"
      ],
      "text/plain": [
       "     id  female  race  ses  schtyp  prog  read  write  math  science  socst\n",
       "65  140       0     4    2       1     3    44     41    40       50     26"
      ]
     },
     "execution_count": 70,
     "metadata": {},
     "output_type": "execute_result"
    }
   ],
   "source": [
    "hsb = pd.read_csv('hsb2.csv')\n",
    "\n",
    "hsb.sample()"
   ]
  },
  {
   "cell_type": "markdown",
   "metadata": {},
   "source": [
    "#### PCA Componenet 갯수 찾기"
   ]
  },
  {
   "cell_type": "code",
   "execution_count": 91,
   "metadata": {},
   "outputs": [],
   "source": [
    "p = PCA()"
   ]
  },
  {
   "cell_type": "code",
   "execution_count": 101,
   "metadata": {},
   "outputs": [],
   "source": [
    "score = p.fit_transform(hsb.iloc[:, 6:])"
   ]
  },
  {
   "cell_type": "code",
   "execution_count": 102,
   "metadata": {},
   "outputs": [
    {
     "data": {
      "text/plain": [
       "array([334.84364479,  59.23317622,  38.79998358,  33.51044507,\n",
       "        29.63177044])"
      ]
     },
     "execution_count": 102,
     "metadata": {},
     "output_type": "execute_result"
    }
   ],
   "source": [
    "p.explained_variance_"
   ]
  },
  {
   "cell_type": "code",
   "execution_count": 103,
   "metadata": {},
   "outputs": [
    {
     "data": {
      "text/plain": [
       "array([0.67506211, 0.11941715, 0.07822277, 0.06755879, 0.05973918])"
      ]
     },
     "execution_count": 103,
     "metadata": {},
     "output_type": "execute_result"
    }
   ],
   "source": [
    "p.explained_variance_ratio_"
   ]
  },
  {
   "cell_type": "markdown",
   "metadata": {},
   "source": [
    "#### Component 2 개로 차원 축소"
   ]
  },
  {
   "cell_type": "code",
   "execution_count": 104,
   "metadata": {},
   "outputs": [],
   "source": [
    "pca = PCA(n_components=2)"
   ]
  },
  {
   "cell_type": "code",
   "execution_count": 105,
   "metadata": {},
   "outputs": [],
   "source": [
    "score = pca.fit_transform(hsb.iloc[:, 6:])"
   ]
  },
  {
   "cell_type": "code",
   "execution_count": 106,
   "metadata": {},
   "outputs": [
    {
     "data": {
      "text/plain": [
       "array([0.67506211, 0.11941715])"
      ]
     },
     "execution_count": 106,
     "metadata": {},
     "output_type": "execute_result"
    }
   ],
   "source": [
    "pca.explained_variance_ratio_"
   ]
  },
  {
   "cell_type": "code",
   "execution_count": 107,
   "metadata": {},
   "outputs": [],
   "source": [
    "score_df = pd.DataFrame(hsb_, columns=['Comp1', 'Comp2'])"
   ]
  },
  {
   "cell_type": "code",
   "execution_count": 108,
   "metadata": {},
   "outputs": [],
   "source": [
    "score_df['female'] = hsb['female']"
   ]
  },
  {
   "cell_type": "code",
   "execution_count": 109,
   "metadata": {},
   "outputs": [
    {
     "data": {
      "text/plain": [
       "<matplotlib.axes._subplots.AxesSubplot at 0x15a1f186390>"
      ]
     },
     "execution_count": 109,
     "metadata": {},
     "output_type": "execute_result"
    },
    {
     "data": {
      "image/png": "[encoded data removed]",
      "text/plain": [
       "<Figure size 432x288 with 1 Axes>"
      ]
     },
     "metadata": {
      "needs_background": "light"
     },
     "output_type": "display_data"
    }
   ],
   "source": [
    "sns.scatterplot('Comp1', 'Comp2', hue='female', data=score_df)"
   ]
  },
  {
   "cell_type": "markdown",
   "metadata": {},
   "source": [
    "## NMF Non-negative Matrix Factorization\n",
    "$X = WH$\n",
    "\n",
    "- 해석에 초점을 두고 싶을 때 쓴다\n",
    "- PCA 에 비해 점수의 해석이 좀 더 쉽다(음수가 나오지 않기 때문에)\n",
    "- 원 데이터를 보존하지 않는다\n",
    "> cf. PCA 는 축을 회전시킬 뿐이라 원 데이터를 보존한다\n",
    "- 의도를 반영할 방법이 없다\n",
    "\n",
    "#### NMF 방법\n",
    "- 하나의 데이터 $X$ 를 가중치 $W$ 와 점수 $H$ 의 곱으로 쪼갠다 Factorization\n",
    "- 이때 $W$ 와 $H$ 는 모두 $>= 0$ Non-negative\n",
    "\n",
    "#### 텍스트 분석에서 NMF 적용\n",
    "- Term Document Matrix\n",
    "- 리뷰 별로 한 행으로 치고\n",
    "- 리뷰별로 어떤 단어를 얼마나 썼는지 Count\n",
    "\n",
    "-| 화면| 가격| 터치| 디자인\n",
    "-|-|-|-|-\n",
    "1번 리뷰|3|2|1|4\n",
    "2번 리뷰|1|2|0|0|7\n",
    "3번 리뷰|1|1|0|0|0\n",
    "\n",
    "> ex. Comp1 : 가격, 결제, 할인 많이 언급 → 가격에 민감\n",
    ">\n",
    "> ex. Comp2 : 화면, 터치, 사용감 많이 언급 → 기능에 민감\n",
    ">\n",
    "> 이런 식으로 카테고리로 나눠서 분석"
   ]
  },
  {
   "cell_type": "code",
   "execution_count": 111,
   "metadata": {},
   "outputs": [],
   "source": [
    "from sklearn.decomposition import NMF"
   ]
  },
  {
   "cell_type": "code",
   "execution_count": 112,
   "metadata": {},
   "outputs": [],
   "source": [
    "nmf = NMF(n_components=2)"
   ]
  },
  {
   "cell_type": "code",
   "execution_count": 113,
   "metadata": {},
   "outputs": [],
   "source": [
    "score = nmf.fit_transform(hsb.iloc[:, 6:]) # score 값 모두 Non-negative"
   ]
  },
  {
   "cell_type": "code",
   "execution_count": 119,
   "metadata": {},
   "outputs": [
    {
     "data": {
      "text/plain": [
       "143.12732842523727"
      ]
     },
     "execution_count": 119,
     "metadata": {},
     "output_type": "execute_result"
    }
   ],
   "source": [
    "# 원 데이터를 재구성할 때 이만큼 에러가 생긴다\n",
    "# 너무 크면 복원이 안된다. 에러 크기의 기준은 상대적\n",
    "\n",
    "nmf.reconstruction_err_"
   ]
  },
  {
   "cell_type": "code",
   "execution_count": 117,
   "metadata": {},
   "outputs": [
    {
     "data": {
      "text/plain": [
       "array([[17.10271518, 16.15759752, 18.78260808, 21.04648333, 10.11797503],\n",
       "       [ 8.97102696, 11.34934325,  5.56484605,  0.        , 24.19692873]])"
      ]
     },
     "execution_count": 117,
     "metadata": {},
     "output_type": "execute_result"
    }
   ],
   "source": [
    "# read = 17*Comp1 + 8*Comp2 \n",
    "# write = 16*Comp1 + 11*Comp2\n",
    "# ...\n",
    "# science 에는 Comp2 에 영향을 받지 않는다\n",
    "#\n",
    "# Comp1 이 Comp2 보다 영향이 크다 등 해석 가능\n",
    "# Comp1(지능), Comp2(문과성향) 에 이름을 잘 붙이는게 중요하다\n",
    "\n",
    "nmf.components_"
   ]
  },
  {
   "cell_type": "code",
   "execution_count": 120,
   "metadata": {
    "collapsed": true
   },
   "outputs": [
    {
     "data": {
      "text/plain": [
       "array([[50.23369812, 51.73798321, 48.78281813, 45.37616621, 57.85010278],\n",
       "       [60.73092935, 61.16326015, 61.04485817, 60.18330377, 60.82751741],\n",
       "       [45.18953311, 42.730558  , 49.57115147, 55.46298272, 26.98558397],\n",
       "       [52.39699097, 53.07373799, 52.21473462, 50.75779297, 54.476666  ],\n",
       "       [53.64579155, 54.70935601, 52.9062224 , 50.54366152, 58.21136294],\n",
       "       [54.04625658, 54.6160699 , 54.04955657, 52.84803169, 55.34857235],\n",
       "       [52.40236007, 53.9844118 , 50.86971277, 47.28586091, 60.43186417],\n",
       "       [40.17365298, 40.03081009, 41.02101992, 41.45859502, 37.41907682],\n",
       "       [56.84926744, 56.5805025 , 58.14776034, 58.92350749, 52.51337877],\n",
       "       [52.96365486, 53.33153134, 53.25109864, 52.52125623, 52.9876813 ],\n",
       "       [53.81158765, 54.91840363, 53.01011633, 50.54636115, 58.65393401],\n",
       "       [59.24775149, 59.87215917, 59.25173508, 57.93515003, 60.67379155],\n",
       "       [66.89740748, 67.92084994, 66.42691334, 64.19225403, 70.60033924],\n",
       "       [55.39068427, 54.84162186, 57.08427814, 58.5148539 , 49.2784782 ],\n",
       "       [46.88271115, 49.24824031, 44.09417512, 38.65560907, 60.3110573 ],\n",
       "       [47.56399839, 48.75551844, 46.53753066, 43.85891228, 53.24543356],\n",
       "       [50.89418739, 51.83828119, 50.28939314, 48.20053186, 54.79890923],\n",
       "       [57.6914218 , 57.78858164, 58.45734786, 58.37552871, 55.72249298],\n",
       "       [62.00997331, 62.7843349 , 61.83387668, 60.1720016 , 64.29673275],\n",
       "       [50.40530928, 49.74071008, 52.19254178, 53.88190452, 43.75906967],\n",
       "       [51.48543236, 50.13421011, 54.31397881, 57.61923632, 40.27757688],\n",
       "       [68.08369203, 67.79368699, 69.59124462, 70.4454116 , 63.10043608],\n",
       "       [48.99809197, 49.63592092, 48.82022749, 47.44609199, 50.9756015 ],\n",
       "       [58.12831101, 58.55318685, 58.41226912, 57.56162271, 58.29353354],\n",
       "       [41.92527697, 42.77243922, 41.32347307, 39.4395755 , 45.59829306],\n",
       "       [37.84797167, 37.0661684 , 39.61177978, 41.54462539, 30.998974  ],\n",
       "       [64.41208398, 65.17694848, 64.28808028, 62.65461535, 66.52785494],\n",
       "       [53.47763517, 52.70014018, 55.48178591, 57.44418517, 45.95053199],\n",
       "       [43.0268958 , 43.64475854, 42.7845392 , 41.44215457, 45.14306148],\n",
       "       [48.74971304, 47.74893775, 51.01229211, 53.48726462, 39.96880101],\n",
       "       [45.57543675, 45.84156781, 45.89800872, 45.38845229, 45.2646752 ],\n",
       "       [63.57707774, 63.47704099, 64.73009495, 65.12651029, 60.04606692],\n",
       "       [66.07912677, 67.12323939, 65.56487874, 63.27957975, 69.9548964 ],\n",
       "       [50.42319687, 47.63674729, 55.3759526 , 62.05043826, 29.83038902],\n",
       "       [56.3742212 , 57.13782315, 56.12519486, 54.47429228, 58.84498522],\n",
       "       [61.67289326, 62.71630512, 61.09012261, 58.79528485, 65.74320791],\n",
       "       [65.94476216, 65.94934175, 66.97910167, 67.1357416 , 62.99432378],\n",
       "       [65.40324961, 65.72605832, 65.95432557, 65.36194305, 64.56883185],\n",
       "       [38.95295587, 38.81461257, 39.77433759, 40.19824264, 36.28312548],\n",
       "       [39.46139555, 40.83078679, 38.04166272, 34.9245853 , 46.6780979 ],\n",
       "       [45.14451894, 46.39012744, 43.99916551, 41.18732988, 51.29080221],\n",
       "       [57.34195468, 56.89565355, 58.91306351, 60.10716502, 51.81694976],\n",
       "       [53.97959636, 53.86415638, 55.00406099, 55.41230174, 50.78113052],\n",
       "       [43.68358874, 43.24820674, 45.02276356, 46.15654024, 38.84767304],\n",
       "       [60.99445924, 62.17699006, 60.19344835, 57.57004219, 66.00979005],\n",
       "       [59.32204175, 57.56230941, 62.88370601, 67.16861061, 45.07507826],\n",
       "       [44.94122093, 45.25727856, 45.17930231, 44.55083842, 44.98726427],\n",
       "       [62.24798391, 61.14324922, 64.87876087, 67.63224073, 52.1737158 ],\n",
       "       [54.013083  , 53.41959343, 55.75120015, 57.2826561 , 47.67114572],\n",
       "       [53.5840603 , 53.9342553 , 53.90767547, 53.22094883, 53.46383529],\n",
       "       [57.65215672, 57.85435145, 58.26077853, 57.93209067, 56.37533926],\n",
       "       [39.73023215, 39.59459017, 40.55985625, 40.97938789, 37.04302518],\n",
       "       [49.32708524, 48.86784103, 50.79095872, 51.99512318, 44.07926445],\n",
       "       [58.54780412, 60.72254373, 56.22805046, 51.26733714, 70.19496223],\n",
       "       [68.79618861, 68.70539698, 70.01781663, 70.40576006, 65.09005022],\n",
       "       [37.52327108, 38.83290651, 36.16207802, 33.18047109, 44.43482955],\n",
       "       [36.3676267 , 36.21288548, 37.17265123, 37.62851877, 33.70687215],\n",
       "       [44.57743435, 44.34096213, 45.63400078, 46.30272761, 41.00844407],\n",
       "       [55.52844291, 54.19944343, 58.38767206, 61.65098247, 44.28391157],\n",
       "       [48.57210537, 49.3521255 , 48.17540348, 46.46612252, 51.50341312],\n",
       "       [51.63898303, 52.64428235, 50.95464552, 48.72387857, 55.91231234],\n",
       "       [60.92976458, 61.37101552, 61.23352622, 60.35151955, 61.075993  ],\n",
       "       [40.90311556, 42.24183188, 39.55190426, 36.5105543 , 47.85304635],\n",
       "       [36.06009755, 36.11564419, 36.54657267, 36.50760905, 34.79534936],\n",
       "       [46.86269631, 49.20737121, 44.10495335, 38.71533152, 60.15488344],\n",
       "       [41.13905082, 39.24028686, 44.6210308 , 49.18641933, 26.80013421],\n",
       "       [58.55528994, 59.84149054, 57.56112019, 54.68796036, 64.36222972],\n",
       "       [41.02054282, 39.4242168 , 44.04949416, 47.90403386, 28.67474127],\n",
       "       [55.70490518, 53.92699628, 59.23657479, 63.55500141, 41.50196259],\n",
       "       [42.8755766 , 42.02623553, 44.81951178, 46.9237932 , 35.35545492],\n",
       "       [44.33067561, 45.6182968 , 43.10980092, 40.19719471, 50.78986895],\n",
       "       [58.04700506, 58.67107803, 58.03252991, 56.71368315, 59.52511602],\n",
       "       [67.96876969, 68.41058437, 68.38282592, 67.51736314, 67.80055797],\n",
       "       [65.10909902, 65.13343521, 66.10077298, 66.2088754 , 62.32627989],\n",
       "       [51.13673689, 51.04055729, 52.08758553, 52.44335937, 48.19334911],\n",
       "       [41.8146303 , 40.65774448, 44.20059029, 47.02472449, 32.32113763],\n",
       "       [55.47634753, 56.95597339, 54.14502636, 50.8096172 , 62.69372599],\n",
       "       [62.14542226, 62.99951178, 61.85253113, 60.003687  , 64.95006775],\n",
       "       [39.34603977, 40.11629763, 38.81823454, 37.10846889, 42.63018052],\n",
       "       [47.5315314 , 48.82706056, 46.34939693, 43.42633703, 53.89802886],\n",
       "       [57.96700279, 58.35015329, 58.31065728, 57.55763095, 57.86527825],\n",
       "       [48.17549397, 46.23711934, 51.82765774, 56.50396947, 33.25820858],\n",
       "       [64.53167671, 63.68268819, 66.81700403, 68.97543068, 56.03507085],\n",
       "       [59.05195197, 59.21755611, 59.73725798, 59.49808942, 57.47137742],\n",
       "       [44.29622341, 44.29227502, 45.00148575, 45.12320701, 42.26819485],\n",
       "       [61.8195311 , 62.53732882, 61.72480602, 60.1953387 , 63.74313477],\n",
       "       [50.43352792, 51.023231  , 50.35011796, 49.09269325, 52.0298544 ],\n",
       "       [43.23525031, 45.15842663, 41.04899993, 36.64043912, 53.92110972],\n",
       "       [37.47185377, 37.06379513, 38.67219516, 39.72600997, 33.09627436],\n",
       "       [56.61540327, 56.40155287, 57.82828579, 58.47442299, 52.65100788],\n",
       "       [54.88450111, 54.61720184, 56.14978683, 56.91710301, 50.64704801],\n",
       "       [55.269893  , 53.99987404, 58.03705664, 61.16114182, 44.42469416],\n",
       "       [65.28885981, 64.96197807, 66.80729642, 67.74100694, 60.18955291],\n",
       "       [45.29818531, 45.77312166, 45.30489749, 44.30406989, 46.37231757],\n",
       "       [46.17269272, 46.90188907, 45.81392328, 44.21795689, 48.87841108],\n",
       "       [57.85318422, 57.15081895, 59.81434475, 61.6113414 , 50.62210368],\n",
       "       [66.53847158, 65.70224328, 68.83644837, 70.96999035, 58.03502957],\n",
       "       [67.69326609, 68.27189359, 67.89888392, 66.71129363, 68.43670206],\n",
       "       [39.47053414, 39.97637925, 39.33912856, 38.25089055, 41.01120789],\n",
       "       [63.49007075, 63.6390199 , 64.27029301, 64.08151977, 61.59944024],\n",
       "       [65.44754742, 65.64551534, 66.18555228, 65.8865833 , 63.79061741],\n",
       "       [57.80261375, 58.06231334, 58.32782896, 57.86442102, 56.89694401],\n",
       "       [43.06258701, 43.64909812, 42.86756229, 41.59892584, 44.9710824 ],\n",
       "       [54.02225319, 54.26004457, 54.52046331, 54.09893019, 53.1434556 ],\n",
       "       [55.48429989, 55.12574813, 56.8951802 , 57.87840767, 50.61998474],\n",
       "       [54.30286783, 55.31234701, 53.6543539 , 51.42052899, 58.48326816],\n",
       "       [58.9519098 , 59.4241235 , 59.17825575, 58.21848442, 59.39103351],\n",
       "       [39.43465961, 38.17991003, 41.92903026, 44.97704418, 29.40553078],\n",
       "       [50.21092819, 51.33056732, 49.33347897, 46.83045688, 55.30029486],\n",
       "       [66.35451386, 67.71350158, 65.37490323, 62.35053539, 72.28733821],\n",
       "       [53.08814884, 53.54322255, 53.24748294, 52.31309528, 53.67964809],\n",
       "       [44.43541412, 45.94007544, 42.89242649, 39.47017183, 52.31635943],\n",
       "       [57.83724081, 59.86554594, 55.72471001, 51.10622627, 68.55408099],\n",
       "       [61.30103735, 61.40538738, 62.11322809, 62.02367925, 59.21622011],\n",
       "       [61.92843344, 63.29986494, 60.86037867, 57.79553993, 68.14309159],\n",
       "       [39.92116685, 40.29813313, 39.98912931, 39.20482329, 40.59442319],\n",
       "       [50.95251498, 50.43992392, 52.52163104, 53.85525478, 45.2806092 ],\n",
       "       [64.87844449, 65.94791096, 64.30741819, 61.95950493, 68.97511893],\n",
       "       [57.53765042, 57.54184261, 58.43983186, 58.57604069, 54.96464622],\n",
       "       [43.01961753, 44.54263974, 41.42688695, 37.95790124, 51.08522933],\n",
       "       [52.9450989 , 53.34599844, 53.18298802, 52.3755141 , 53.18700648],\n",
       "       [50.42627603, 51.50664534, 49.61080703, 47.20059214, 55.24781055],\n",
       "       [49.40166378, 51.03315015, 47.74789645, 44.04028559, 57.89169863],\n",
       "       [47.93086201, 47.89208526, 48.74546467, 48.95823814, 45.50964923],\n",
       "       [46.35116163, 47.67232468, 45.11215185, 42.1258713 , 52.93948638],\n",
       "       [57.1915223 , 57.93950623, 56.97869788, 55.36656296, 59.52269776],\n",
       "       [46.66231787, 48.07835467, 45.28669419, 42.07830703, 53.86013229],\n",
       "       [47.80820292, 47.17527232, 49.50718971, 51.1155575 , 41.48748638],\n",
       "       [49.76276129, 49.68254801, 50.66809933, 50.98287408, 46.98641164],\n",
       "       [33.30605529, 32.8416961 , 34.52461039, 35.70012298, 28.74872687],\n",
       "       [54.95069387, 55.81278347, 54.53227453, 52.64637135, 58.13310313],\n",
       "       [60.93182801, 61.01967488, 61.76280783, 61.7110943 , 58.75523188],\n",
       "       [57.43872852, 57.68746707, 57.97454948, 57.5359697 , 56.47746459],\n",
       "       [47.18376941, 47.483454  , 47.48168159, 46.89737719, 47.02084418],\n",
       "       [54.84066138, 57.28094594, 52.06625439, 46.472259  , 68.40065446],\n",
       "       [66.3411595 , 66.78429998, 66.72754042, 65.85483117, 66.25522537],\n",
       "       [53.22527919, 52.56141036, 55.05594536, 56.7507506 , 46.45638434],\n",
       "       [50.17136544, 51.41661366, 49.10591595, 46.30768728, 56.08808002],\n",
       "       [39.07770882, 39.52886991, 39.02167521, 38.0609147 , 40.27672924],\n",
       "       [50.27448894, 52.15196623, 48.26754872, 43.9842222 , 60.34183775],\n",
       "       [41.97973129, 43.1307493 , 40.92551454, 38.32787618, 47.64736355],\n",
       "       [49.44264635, 50.05760784, 49.30591295, 47.98663076, 51.24976789],\n",
       "       [45.83873311, 46.90132698, 44.97734983, 42.59725121, 50.75078478],\n",
       "       [47.54690264, 47.5106499 , 48.35167799, 48.5575469 , 45.15963278],\n",
       "       [57.02395506, 58.61294264, 55.55392951, 51.96551436, 64.89016023],\n",
       "       [49.47820829, 51.32422246, 47.50563064, 43.29420228, 59.37475712],\n",
       "       [48.62958258, 47.04628393, 51.7592361 , 55.60248466, 36.0254933 ],\n",
       "       [46.41157689, 47.52605093, 45.48184645, 42.98131465, 51.63871739],\n",
       "       [43.04300001, 43.18189962, 43.51538426, 43.298317  , 42.01047564],\n",
       "       [43.58234482, 44.35956233, 43.11104267, 41.39567977, 46.7207572 ],\n",
       "       [42.83728981, 43.40260464, 42.67032724, 41.45091743, 44.61665654],\n",
       "       [58.94079964, 58.92648571, 59.89274101, 60.07599001, 56.18274599],\n",
       "       [47.92861647, 48.77519328, 47.42246982, 45.55518702, 51.32644893],\n",
       "       [52.31617751, 53.64816605, 51.15519782, 48.15862592, 58.70604851],\n",
       "       [59.35088864, 60.65303029, 58.34550038, 55.43690824, 65.22664116],\n",
       "       [62.14880128, 63.92115519, 60.48615536, 56.47994846, 70.98854269],\n",
       "       [53.97445852, 55.18518738, 53.02054807, 50.31307328, 59.49240602],\n",
       "       [50.94098836, 52.69186815, 49.13342125, 45.14921493, 60.14615708],\n",
       "       [41.23212116, 41.36537618, 41.68433454, 41.47593182, 40.24434514],\n",
       "       [65.22465001, 65.9731282 , 65.1379196 , 63.54501538, 67.19599676],\n",
       "       [54.75397939, 56.0451192 , 53.69242451, 50.79801095, 60.76519162],\n",
       "       [52.85339994, 53.88201644, 52.15345321, 49.87098762, 57.22509169],\n",
       "       [51.81976969, 49.37659906, 56.28249365, 62.15402455, 33.42002468],\n",
       "       [62.72073277, 62.80347428, 63.58757263, 63.55239474, 60.42972788],\n",
       "       [54.56180515, 55.80614489, 53.56702949, 50.78208023, 60.27411192],\n",
       "       [40.19566578, 39.54069146, 41.80734521, 43.4481783 , 34.07413546],\n",
       "       [56.61434491, 57.29741637, 56.48924   , 55.02814535, 58.54497322],\n",
       "       [43.31453368, 42.85114239, 44.68966412, 45.88830901, 38.31120866],\n",
       "       [56.32760314, 55.04924962, 59.12389944, 62.27025081, 45.37981996],\n",
       "       [52.2731702 , 51.07348053, 54.88810727, 57.83935365, 42.02565151],\n",
       "       [47.57373805, 47.44827111, 48.51202114, 48.9275581 , 44.59889923],\n",
       "       [47.20415314, 49.18156653, 44.99965851, 40.47374803, 58.06709867],\n",
       "       [37.80109411, 38.46520719, 37.40723648, 35.94292571, 40.45743098],\n",
       "       [59.04828892, 58.3617078 , 61.00477261, 62.76771969, 51.86693324],\n",
       "       [43.96376097, 45.64438226, 42.1508408 , 38.31398834, 53.02251223],\n",
       "       [61.19363912, 62.43856471, 60.30269646, 57.53320558, 66.6100541 ],\n",
       "       [63.54635324, 65.35830001, 61.84671051, 57.75103177, 72.58315098],\n",
       "       [48.69595876, 47.86399256, 50.70587053, 52.78410634, 41.02696589],\n",
       "       [48.98028924, 47.47464338, 51.99964241, 55.66134366, 36.87071821],\n",
       "       [57.02319705, 56.85918593, 58.16817098, 58.69825091, 53.36793666],\n",
       "       [54.30564272, 54.82049146, 54.39503069, 53.3232981 , 55.23498281],\n",
       "       [45.74657597, 47.0241465 , 44.56304921, 41.67765025, 52.07571672],\n",
       "       [59.91888219, 60.40915045, 60.13356257, 59.13382846, 60.43296393],\n",
       "       [56.710049  , 58.13040697, 55.4866182 , 52.29358478, 63.48213195],\n",
       "       [61.37433391, 60.87426739, 63.08931188, 64.41996598, 55.31370509],\n",
       "       [64.05856241, 65.60939288, 62.75652333, 59.27561174, 71.35603521],\n",
       "       [53.08818886, 53.17427425, 53.79795679, 53.73047079, 51.25452827],\n",
       "       [42.46455805, 42.10417342, 43.67260988, 44.62709318, 38.1766561 ],\n",
       "       [59.11068754, 60.07055621, 58.61208782, 56.50702243, 62.7477238 ],\n",
       "       [52.9794733 , 54.60074895, 51.39742604, 47.72288647, 61.24069064],\n",
       "       [43.97166097, 44.29148111, 44.18882174, 43.54905698, 44.08625494],\n",
       "       [45.40143459, 45.20003624, 46.41868984, 47.00710582, 42.02572283],\n",
       "       [53.085698  , 53.6003347 , 53.15614115, 52.08180994, 54.06878288],\n",
       "       [44.66325319, 46.59785619, 42.4825033 , 38.0507216 , 55.35967174],\n",
       "       [55.39424446, 56.19456013, 55.07497854, 53.33533304, 58.15060017],\n",
       "       [52.2715424 , 53.76632428, 50.86701328, 47.48786123, 59.73338222],\n",
       "       [41.13593595, 42.39910133, 39.90110263, 37.03784315, 47.57878887],\n",
       "       [52.58780923, 52.40956793, 53.68398258, 54.23623579, 49.03949003],\n",
       "       [58.60742266, 59.34535594, 58.43194617, 56.8470185 , 60.80854552],\n",
       "       [61.18024605, 62.03220577, 60.87529329, 59.02900282, 64.01451711]])"
      ]
     },
     "execution_count": 120,
     "metadata": {},
     "output_type": "execute_result"
    }
   ],
   "source": [
    "# score 이용해 원점수 구하기\n",
    "# @ 행렬의 곱셈\n",
    "\n",
    "score @ nmf.components_"
   ]
  },
  {
   "cell_type": "code",
   "execution_count": 115,
   "metadata": {},
   "outputs": [],
   "source": [
    "score_df = pd.DataFrame(score, columns=['Comp1', 'Comp2'])"
   ]
  },
  {
   "cell_type": "code",
   "execution_count": 121,
   "metadata": {},
   "outputs": [],
   "source": [
    "score_df['female'] = hsb['female']"
   ]
  },
  {
   "cell_type": "code",
   "execution_count": 122,
   "metadata": {},
   "outputs": [
    {
     "data": {
      "text/plain": [
       "<matplotlib.axes._subplots.AxesSubplot at 0x15a1f238cf8>"
      ]
     },
     "execution_count": 122,
     "metadata": {},
     "output_type": "execute_result"
    },
    {
     "data": {
      "image/png": "[encoded data removed]",
      "text/plain": [
       "<Figure size 432x288 with 1 Axes>"
      ]
     },
     "metadata": {
      "needs_background": "light"
     },
     "output_type": "display_data"
    }
   ],
   "source": [
    "sns.scatterplot('Comp1', 'Comp2', hue='female', data=score_df)"
   ]
  },
  {
   "cell_type": "markdown",
   "metadata": {},
   "source": [
    "## NMF 실습) med.csv"
   ]
  },
  {
   "cell_type": "code",
   "execution_count": 125,
   "metadata": {
    "scrolled": true
   },
   "outputs": [
    {
     "data": {
      "text/html": [
       "<div>\n",
       "<style scoped>\n",
       "    .dataframe tbody tr th:only-of-type {\n",
       "        vertical-align: middle;\n",
       "    }\n",
       "\n",
       "    .dataframe tbody tr th {\n",
       "        vertical-align: top;\n",
       "    }\n",
       "\n",
       "    .dataframe thead th {\n",
       "        text-align: right;\n",
       "    }\n",
       "</style>\n",
       "<table border=\"1\" class=\"dataframe\">\n",
       "  <thead>\n",
       "    <tr style=\"text-align: right;\">\n",
       "      <th></th>\n",
       "      <th>Unnamed: 0</th>\n",
       "      <th>Accept</th>\n",
       "      <th>Acceptance</th>\n",
       "      <th>Sex</th>\n",
       "      <th>BCPM</th>\n",
       "      <th>GPA</th>\n",
       "      <th>VR</th>\n",
       "      <th>PS</th>\n",
       "      <th>WS</th>\n",
       "      <th>BS</th>\n",
       "      <th>MCAT</th>\n",
       "      <th>Apps</th>\n",
       "    </tr>\n",
       "  </thead>\n",
       "  <tbody>\n",
       "    <tr>\n",
       "      <th>17</th>\n",
       "      <td>17</td>\n",
       "      <td>A</td>\n",
       "      <td>1</td>\n",
       "      <td>M</td>\n",
       "      <td>3.51</td>\n",
       "      <td>3.54</td>\n",
       "      <td>9</td>\n",
       "      <td>10</td>\n",
       "      <td>9.0</td>\n",
       "      <td>11</td>\n",
       "      <td>39</td>\n",
       "      <td>1</td>\n",
       "    </tr>\n",
       "  </tbody>\n",
       "</table>\n",
       "</div>"
      ],
      "text/plain": [
       "    Unnamed: 0 Accept  Acceptance Sex  BCPM   GPA  VR  PS   WS  BS  MCAT  Apps\n",
       "17          17      A           1   M  3.51  3.54   9  10  9.0  11    39     1"
      ]
     },
     "execution_count": 125,
     "metadata": {},
     "output_type": "execute_result"
    }
   ],
   "source": [
    "med = pd.read_csv('med.csv')\n",
    "\n",
    "med.sample()"
   ]
  },
  {
   "cell_type": "markdown",
   "metadata": {},
   "source": [
    "#### 결측치 처리 방법1"
   ]
  },
  {
   "cell_type": "code",
   "execution_count": null,
   "metadata": {},
   "outputs": [],
   "source": [
    "med.dropna(implace=True) # 빈 값이 있는 행을 없애고 med 에 덮어쓴다"
   ]
  },
  {
   "cell_type": "markdown",
   "metadata": {},
   "source": [
    "#### 결측치 처리 방법 2"
   ]
  },
  {
   "cell_type": "code",
   "execution_count": 127,
   "metadata": {},
   "outputs": [
    {
     "data": {
      "text/plain": [
       "Unnamed: 0    0\n",
       "Accept        0\n",
       "Acceptance    0\n",
       "Sex           0\n",
       "BCPM          0\n",
       "GPA           0\n",
       "VR            0\n",
       "PS            0\n",
       "WS            1\n",
       "BS            0\n",
       "MCAT          0\n",
       "Apps          0\n",
       "dtype: int64"
      ]
     },
     "execution_count": 127,
     "metadata": {},
     "output_type": "execute_result"
    }
   ],
   "source": [
    "med.isnull().sum()"
   ]
  },
  {
   "cell_type": "code",
   "execution_count": 131,
   "metadata": {},
   "outputs": [],
   "source": [
    "WS_mean = np.mean(med['WS'])"
   ]
  },
  {
   "cell_type": "code",
   "execution_count": 132,
   "metadata": {},
   "outputs": [],
   "source": [
    "med.loc[med['WS'].isnull(), 'WS'] = WS_mean"
   ]
  },
  {
   "cell_type": "code",
   "execution_count": 133,
   "metadata": {},
   "outputs": [
    {
     "data": {
      "text/plain": [
       "Unnamed: 0    0\n",
       "Accept        0\n",
       "Acceptance    0\n",
       "Sex           0\n",
       "BCPM          0\n",
       "GPA           0\n",
       "VR            0\n",
       "PS            0\n",
       "WS            0\n",
       "BS            0\n",
       "MCAT          0\n",
       "Apps          0\n",
       "dtype: int64"
      ]
     },
     "execution_count": 133,
     "metadata": {},
     "output_type": "execute_result"
    }
   ],
   "source": [
    "med.isnull().sum()"
   ]
  },
  {
   "cell_type": "code",
   "execution_count": 151,
   "metadata": {},
   "outputs": [],
   "source": [
    "nmf = NMF(n_components=3)"
   ]
  },
  {
   "cell_type": "code",
   "execution_count": 152,
   "metadata": {},
   "outputs": [
    {
     "data": {
      "text/html": [
       "<div>\n",
       "<style scoped>\n",
       "    .dataframe tbody tr th:only-of-type {\n",
       "        vertical-align: middle;\n",
       "    }\n",
       "\n",
       "    .dataframe tbody tr th {\n",
       "        vertical-align: top;\n",
       "    }\n",
       "\n",
       "    .dataframe thead th {\n",
       "        text-align: right;\n",
       "    }\n",
       "</style>\n",
       "<table border=\"1\" class=\"dataframe\">\n",
       "  <thead>\n",
       "    <tr style=\"text-align: right;\">\n",
       "      <th></th>\n",
       "      <th>BCPM</th>\n",
       "      <th>GPA</th>\n",
       "      <th>VR</th>\n",
       "      <th>PS</th>\n",
       "      <th>WS</th>\n",
       "      <th>BS</th>\n",
       "      <th>MCAT</th>\n",
       "    </tr>\n",
       "  </thead>\n",
       "  <tbody>\n",
       "    <tr>\n",
       "      <th>34</th>\n",
       "      <td>3.22</td>\n",
       "      <td>3.24</td>\n",
       "      <td>11</td>\n",
       "      <td>12</td>\n",
       "      <td>8.0</td>\n",
       "      <td>10</td>\n",
       "      <td>41</td>\n",
       "    </tr>\n",
       "  </tbody>\n",
       "</table>\n",
       "</div>"
      ],
      "text/plain": [
       "    BCPM   GPA  VR  PS   WS  BS  MCAT\n",
       "34  3.22  3.24  11  12  8.0  10    41"
      ]
     },
     "execution_count": 152,
     "metadata": {},
     "output_type": "execute_result"
    }
   ],
   "source": [
    "med.iloc[:, 4:11].sample()"
   ]
  },
  {
   "cell_type": "code",
   "execution_count": 153,
   "metadata": {},
   "outputs": [],
   "source": [
    "score = nmf.fit_transform(med.iloc[:, 4:11])"
   ]
  },
  {
   "cell_type": "code",
   "execution_count": 154,
   "metadata": {},
   "outputs": [
    {
     "data": {
      "text/plain": [
       "8.978041767766852"
      ]
     },
     "execution_count": 154,
     "metadata": {},
     "output_type": "execute_result"
    }
   ],
   "source": [
    "nmf.reconstruction_err_"
   ]
  },
  {
   "cell_type": "code",
   "execution_count": 155,
   "metadata": {},
   "outputs": [
    {
     "data": {
      "text/plain": [
       "array([[ 1.45600773,  1.43112029,  2.9518667 ,  4.53949009,  1.74509885,\n",
       "         4.66498737, 14.13788117],\n",
       "       [ 0.39626398,  0.51687627,  5.29501276,  0.6493332 ,  0.27680499,\n",
       "         0.        ,  6.1119688 ],\n",
       "       [ 0.43312751,  0.4621145 ,  0.        ,  0.        ,  6.72212617,\n",
       "         0.4858724 ,  6.25847944]])"
      ]
     },
     "execution_count": 155,
     "metadata": {},
     "output_type": "execute_result"
    }
   ],
   "source": [
    "nmf.components_"
   ]
  },
  {
   "cell_type": "code",
   "execution_count": 156,
   "metadata": {},
   "outputs": [],
   "source": [
    "score_df = pd.DataFrame(score, columns=['Comp1', 'Comp2', 'Comp3'])"
   ]
  },
  {
   "cell_type": "code",
   "execution_count": 160,
   "metadata": {},
   "outputs": [],
   "source": [
    "score_df['Sex'] = med['Sex'].replace({'M':0, 'F':1})"
   ]
  },
  {
   "cell_type": "code",
   "execution_count": 163,
   "metadata": {},
   "outputs": [
    {
     "data": {
      "text/plain": [
       "<matplotlib.axes._subplots.AxesSubplot at 0x15a1d78e438>"
      ]
     },
     "execution_count": 163,
     "metadata": {},
     "output_type": "execute_result"
    },
    {
     "data": {
      "image/png": "[encoded data removed]",
      "text/plain": [
       "<Figure size 432x288 with 1 Axes>"
      ]
     },
     "metadata": {
      "needs_background": "light"
     },
     "output_type": "display_data"
    }
   ],
   "source": [
    "sns.scatterplot('Comp1', 'Comp2', 'Comp3', data=score_df)"
   ]
  },
  {
   "cell_type": "markdown",
   "metadata": {},
   "source": [
    "### Imputation \n",
    "결측치 예측해서 채워넣는 방법"
   ]
  },
  {
   "cell_type": "markdown",
   "metadata": {},
   "source": [
    "### Listwise Deletion \n",
    "행 단위로 통째로 지운다"
   ]
  },
  {
   "cell_type": "markdown",
   "metadata": {},
   "source": [
    "## Factor Analysis 요인 분석\n",
    "- 가설을 세워서 의도를 반영할 수 있다\n",
    "\n",
    "탐색적 요인분석 | 확인적 요인분석\n",
    "-|-\n",
    "~= PCA | 어떤 잠재변수가 어떤 관찰변수에 영향을 줄지 우리가 정할 수 있다\n",
    "\n",
    "#### Factor Analysis 해석\n",
    "- Communality \n",
    "요인에 의해서 설명되는 부분 (%)\n",
    "\n",
    "- Uniqueness\n",
    "요인에 의해서 설명되지 않는 부분 (%)"
   ]
  },
  {
   "cell_type": "code",
   "execution_count": 174,
   "metadata": {},
   "outputs": [],
   "source": [
    "test = pd.read_csv('test.csv')"
   ]
  },
  {
   "cell_type": "code",
   "execution_count": 175,
   "metadata": {},
   "outputs": [
    {
     "name": "stdout",
     "output_type": "stream",
     "text": [
      "^C\n"
     ]
    }
   ],
   "source": [
    "!pip install factor_analyzer"
   ]
  },
  {
   "cell_type": "markdown",
   "metadata": {},
   "source": [
    "#### 요인 수 결정하기"
   ]
  },
  {
   "cell_type": "code",
   "execution_count": 196,
   "metadata": {},
   "outputs": [],
   "source": [
    "from sklearn.preprocessing import StandardScaler"
   ]
  },
  {
   "cell_type": "code",
   "execution_count": 197,
   "metadata": {},
   "outputs": [],
   "source": [
    "pc = PCA()"
   ]
  },
  {
   "cell_type": "code",
   "execution_count": 198,
   "metadata": {},
   "outputs": [
    {
     "name": "stderr",
     "output_type": "stream",
     "text": [
      "C:\\Users\\Minju\\Anaconda3\\lib\\site-packages\\sklearn\\preprocessing\\data.py:645: DataConversionWarning: Data with input dtype int64 were all converted to float64 by StandardScaler.\n",
      "  return self.partial_fit(X, y)\n",
      "C:\\Users\\Minju\\Anaconda3\\lib\\site-packages\\sklearn\\base.py:464: DataConversionWarning: Data with input dtype int64 were all converted to float64 by StandardScaler.\n",
      "  return self.fit(X, **fit_params).transform(X)\n"
     ]
    }
   ],
   "source": [
    "std = StandardScaler()\n",
    "x = std.fit_transform(test)"
   ]
  },
  {
   "cell_type": "code",
   "execution_count": 199,
   "metadata": {},
   "outputs": [
    {
     "data": {
      "text/plain": [
       "PCA(copy=True, iterated_power='auto', n_components=None, random_state=None,\n",
       "  svd_solver='auto', tol=0.0, whiten=False)"
      ]
     },
     "execution_count": 199,
     "metadata": {},
     "output_type": "execute_result"
    }
   ],
   "source": [
    "pc.fit(x)"
   ]
  },
  {
   "cell_type": "code",
   "execution_count": 200,
   "metadata": {},
   "outputs": [],
   "source": [
    "from factor_analyzer import FactorAnalyzer"
   ]
  },
  {
   "cell_type": "code",
   "execution_count": 201,
   "metadata": {},
   "outputs": [
    {
     "data": {
      "text/plain": [
       "array([3.6397564 , 1.5731283 , 1.25920295, 0.71169667, 0.53641336,\n",
       "       0.42424778, 0.36053782, 0.30005605, 0.25746066])"
      ]
     },
     "execution_count": 201,
     "metadata": {},
     "output_type": "execute_result"
    }
   ],
   "source": [
    "pc.explained_variance_"
   ]
  },
  {
   "cell_type": "markdown",
   "metadata": {},
   "source": [
    "#### 회전"
   ]
  },
  {
   "cell_type": "code",
   "execution_count": 177,
   "metadata": {},
   "outputs": [],
   "source": [
    "# method='ml' 써야 다른 툴(R 등)과 결과가 같게 나온다\n",
    "\n",
    "fa = FactorAnalyzer(n_factors=3, method='ml', rotation=None)"
   ]
  },
  {
   "cell_type": "code",
   "execution_count": 209,
   "metadata": {},
   "outputs": [
    {
     "data": {
      "text/plain": [
       "FactorAnalyzer(bounds=(0.005, 1), impute='median', is_corr_matrix=False,\n",
       "        method='ml', n_factors=3, rotation=None, rotation_kwargs={},\n",
       "        use_smc=True)"
      ]
     },
     "execution_count": 209,
     "metadata": {},
     "output_type": "execute_result"
    }
   ],
   "source": [
    "fa.fit(test)"
   ]
  },
  {
   "cell_type": "code",
   "execution_count": 189,
   "metadata": {},
   "outputs": [
    {
     "data": {
      "text/plain": [
       "array([[ 0.51955858,  0.16175197,  0.45309734],\n",
       "       [ 0.32602017,  0.08272213,  0.38326476],\n",
       "       [ 0.48792281,  0.07938354,  0.46943598],\n",
       "       [ 0.80764208, -0.31831809, -0.07341943],\n",
       "       [ 0.79325452, -0.21423989, -0.15082861],\n",
       "       [ 0.76449536, -0.30110154, -0.0575084 ],\n",
       "       [ 0.41831056,  0.54127857, -0.37907994],\n",
       "       [ 0.41926543,  0.70942401, -0.06367496],\n",
       "       [ 0.57303763,  0.43495835,  0.16127781]])"
      ]
     },
     "execution_count": 189,
     "metadata": {},
     "output_type": "execute_result"
    }
   ],
   "source": [
    "# 계수 안본다\n",
    "# 각 컬럼에 각 요인이 미치는 영향\n",
    "# [요인1, 요인2, 요인3]\n",
    "\n",
    "fa.loadings_"
   ]
  },
  {
   "cell_type": "code",
   "execution_count": 185,
   "metadata": {},
   "outputs": [
    {
     "data": {
      "text/plain": [
       "array([0.50140201, 0.26002398, 0.46474055, 0.75900255, 0.69790073,\n",
       "       0.6784225 , 0.61166782, 0.68312044, 0.54357143])"
      ]
     },
     "execution_count": 185,
     "metadata": {},
     "output_type": "execute_result"
    }
   ],
   "source": [
    "# 이걸 본다\n",
    "fa.get_communalities()"
   ]
  },
  {
   "cell_type": "code",
   "execution_count": 184,
   "metadata": {},
   "outputs": [
    {
     "data": {
      "text/plain": [
       "array([0.49859799, 0.73997602, 0.53525945, 0.24099745, 0.30209927,\n",
       "       0.3215775 , 0.38833218, 0.31687956, 0.45642857])"
      ]
     },
     "execution_count": 184,
     "metadata": {},
     "output_type": "execute_result"
    }
   ],
   "source": [
    "fa.get_uniquenesses()"
   ]
  },
  {
   "cell_type": "code",
   "execution_count": 210,
   "metadata": {},
   "outputs": [],
   "source": [
    "fa.phi_ # 요인간 상관 행렬"
   ]
  },
  {
   "cell_type": "markdown",
   "metadata": {},
   "source": [
    "## 확인적 요인분석"
   ]
  },
  {
   "cell_type": "code",
   "execution_count": 192,
   "metadata": {},
   "outputs": [],
   "source": [
    "from factor_analyzer import ConfirmatoryFactorAnalyzer, ModelSpecificationParser"
   ]
  },
  {
   "cell_type": "markdown",
   "metadata": {},
   "source": [
    "#### 모형"
   ]
  },
  {
   "cell_type": "code",
   "execution_count": 191,
   "metadata": {},
   "outputs": [],
   "source": [
    "from sklearn.preprocessing import StandardScaler"
   ]
  },
  {
   "cell_type": "code",
   "execution_count": 202,
   "metadata": {},
   "outputs": [],
   "source": [
    "std_test = pd.DataFrame(x, columns=test.columns)"
   ]
  },
  {
   "cell_type": "code",
   "execution_count": 203,
   "metadata": {},
   "outputs": [],
   "source": [
    "model_dict = {\n",
    "    'F1': ['Visual', 'Cubes', 'Lozenges'],\n",
    "    'F2': ['Comprehension', 'Completion', 'Word'],\n",
    "    'F3': ['Addition', 'Counting', 'Curve']\n",
    "}"
   ]
  },
  {
   "cell_type": "code",
   "execution_count": 204,
   "metadata": {},
   "outputs": [],
   "source": [
    "model_spec = ModelSpecificationParser.parse_model_specification_from_dict(\n",
    "    std_test,\n",
    "    model_dict)"
   ]
  },
  {
   "cell_type": "markdown",
   "metadata": {},
   "source": [
    "#### 분석"
   ]
  },
  {
   "cell_type": "code",
   "execution_count": 205,
   "metadata": {},
   "outputs": [],
   "source": [
    "cfa = ConfirmatoryFactorAnalyzer(model_spec)"
   ]
  },
  {
   "cell_type": "code",
   "execution_count": 206,
   "metadata": {},
   "outputs": [
    {
     "data": {
      "text/plain": [
       "ConfirmatoryFactorAnalyzer(bounds=None, disp=True, impute='median',\n",
       "              is_cov_matrix=False, max_iter=200, n_obs=145,\n",
       "              specification=<factor_analyzer.confirmatory_factor_analyzer.ModelSpecification object at 0x0000015A1F819BE0>,\n",
       "              tol=None)"
      ]
     },
     "execution_count": 206,
     "metadata": {},
     "output_type": "execute_result"
    }
   ],
   "source": [
    "cfa.fit(std_test)"
   ]
  },
  {
   "cell_type": "code",
   "execution_count": 207,
   "metadata": {},
   "outputs": [
    {
     "data": {
      "text/plain": [
       "array([[0.67664828, 0.        , 0.        ],\n",
       "       [0.51650839, 0.        , 0.        ],\n",
       "       [0.69358303, 0.        , 0.        ],\n",
       "       [0.        , 0.86556615, 0.        ],\n",
       "       [0.        , 0.82932926, 0.        ],\n",
       "       [0.        , 0.82633548, 0.        ],\n",
       "       [0.        , 0.        , 0.65912644],\n",
       "       [0.        , 0.        , 0.79587121],\n",
       "       [0.        , 0.        , 0.70084256]])"
      ]
     },
     "execution_count": 207,
     "metadata": {},
     "output_type": "execute_result"
    }
   ],
   "source": [
    "cfa.loadings_"
   ]
  },
  {
   "cell_type": "code",
   "execution_count": 208,
   "metadata": {},
   "outputs": [
    {
     "data": {
      "text/plain": [
       "array([[1.        , 0.54066395, 0.52334521],\n",
       "       [0.54066395, 1.        , 0.33613303],\n",
       "       [0.52334521, 0.33613303, 1.        ]])"
      ]
     },
     "execution_count": 208,
     "metadata": {},
     "output_type": "execute_result"
    }
   ],
   "source": [
    "cfa.factor_varcovs_ # 요인간 상관"
   ]
  },
  {
   "cell_type": "markdown",
   "metadata": {},
   "source": [
    "#### 적합도"
   ]
  },
  {
   "cell_type": "code",
   "execution_count": 211,
   "metadata": {},
   "outputs": [
    {
     "data": {
      "text/plain": [
       "3351.2051178389684"
      ]
     },
     "execution_count": 211,
     "metadata": {},
     "output_type": "execute_result"
    }
   ],
   "source": [
    "cfa.aic_"
   ]
  },
  {
   "cell_type": "code",
   "execution_count": 212,
   "metadata": {},
   "outputs": [
    {
     "data": {
      "text/plain": [
       "3503.0185387024176"
      ]
     },
     "execution_count": 212,
     "metadata": {},
     "output_type": "execute_result"
    }
   ],
   "source": [
    "cfa.bic_"
   ]
  },
  {
   "cell_type": "code",
   "execution_count": null,
   "metadata": {},
   "outputs": [],
   "source": []
  }
 ],
 "metadata": {
  "kernelspec": {
   "display_name": "Python 3",
   "language": "python",
   "name": "python3"
  },
  "language_info": {
   "codemirror_mode": {
    "name": "ipython",
    "version": 3
   },
   "file_extension": ".py",
   "mimetype": "text/x-python",
   "name": "python",
   "nbconvert_exporter": "python",
   "pygments_lexer": "ipython3",
   "version": "3.7.3"
  }
 },
 "nbformat": 4,
 "nbformat_minor": 2
}
