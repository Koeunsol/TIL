{
 "cells": [
  {
   "cell_type": "markdown",
   "metadata": {},
   "source": [
    "# 강의 목차\n",
    "### 확률\n",
    "- 확률분포\n",
    "- 변수 사이의 관계\n",
    "\n",
    "### 추정\n",
    "- MSE Mean Squre Error\n",
    "- 우도 Likelihood\n",
    "- 선형모형/로지스틱 선형모형\n",
    "- 신뢰구간\n",
    "\n",
    "### 실험\n",
    "- 설계\n",
    "- 평균차이\n",
    "- MAB Multi-Armed Bar\n",
    "\n",
    "--------------------여기까지----------------\n",
    "### 예측\n",
    ": 데이터 분석의 핵심\n",
    "- 회귀분석 Regression\n",
    "- 예측의 다양한 문제들\n",
    "\n",
    "### 잠재\n",
    ": 관찰이 안되는(눈에 안보이는) 변수를 다루는 방법\n",
    "- 클러스터링\n",
    "- 요인분석과 차원축소\n",
    "\n",
    "### 시간\n",
    ": 미래\n",
    "- 시계열분석과 생존분석\n",
    "- 마케팅 효과"
   ]
  },
  {
   "cell_type": "markdown",
   "metadata": {},
   "source": [
    "# 상관 Correlation\n",
    "- 회귀분석의 밑바탕\n",
    "- 두 변수가 서로 관계가 있다"
   ]
  },
  {
   "cell_type": "markdown",
   "metadata": {},
   "source": [
    "### 산점도 Scatterplot\n",
    "- 두 연속 변수의 관계를 시각화\n",
    "- 한 건의 데이터를 점으로 표시"
   ]
  },
  {
   "cell_type": "markdown",
   "metadata": {},
   "source": [
    "### 공분산 Covariance\n",
    "- 두 연속 변수의 관계를 수치화\n",
    "> $∑i(Xi -X평균)(Yi-Y평균)/N$\n",
    "- 두 변수가 같은 방향으로 변하면 +, 반대방향으로 변하면 -\n",
    "- 함께 변하는 경향이 강할수록 절대적 크기가 커진다"
   ]
  },
  {
   "cell_type": "markdown",
   "metadata": {},
   "source": [
    "### 상관계수 Correlation Coefficient(Pearson)\n",
    "- 공분산을 두 변수의 표준편차로 나눈 것\n",
    "- 항상 -1 ~ +1\n",
    "- 얼마나 퍼져있는지에 따라 정해진다. 기울기와는 관계 없다\n",
    "- **직선이 아니면 패턴을 잡아내지 못한다**: 산점도 그리기가 중요한 이유\n",
    "\n",
    "공분산 | 해석\n",
    "--|--\n",
    "+1|완벽하게 같은 방향으로 움직인다\n",
    "0|아무 관계 없다\n",
    "-1|완벽하게 반대 방향으로 움직인다"
   ]
  },
  {
   "cell_type": "markdown",
   "metadata": {},
   "source": [
    "# 산점도와 상관계수를 함께 보는 습관을 기르자\n",
    "이런 분포일 때 상관계수가 몇 정도인지"
   ]
  },
  {
   "cell_type": "markdown",
   "metadata": {},
   "source": [
    "### 허위 상관관계 Spurious Correlation\n",
    "- 두 변수 사이에 실제로는 관계가 없어도 상관관계가 나타나는 경우\n",
    "- 데이터가 적을수록 나타나기 쉽다\n",
    "- 상관계수의 신뢰구간을 확인해야한다"
   ]
  },
  {
   "cell_type": "code",
   "execution_count": 1,
   "metadata": {},
   "outputs": [],
   "source": [
    "import pandas as pd"
   ]
  },
  {
   "cell_type": "code",
   "execution_count": 3,
   "metadata": {},
   "outputs": [
    {
     "data": {
      "text/html": [
       "<div>\n",
       "<style scoped>\n",
       "    .dataframe tbody tr th:only-of-type {\n",
       "        vertical-align: middle;\n",
       "    }\n",
       "\n",
       "    .dataframe tbody tr th {\n",
       "        vertical-align: top;\n",
       "    }\n",
       "\n",
       "    .dataframe thead th {\n",
       "        text-align: right;\n",
       "    }\n",
       "</style>\n",
       "<table border=\"1\" class=\"dataframe\">\n",
       "  <thead>\n",
       "    <tr style=\"text-align: right;\">\n",
       "      <th></th>\n",
       "      <th>Unnamed: 0</th>\n",
       "      <th>speed</th>\n",
       "      <th>dist</th>\n",
       "    </tr>\n",
       "  </thead>\n",
       "  <tbody>\n",
       "    <tr>\n",
       "      <th>0</th>\n",
       "      <td>1</td>\n",
       "      <td>4</td>\n",
       "      <td>2</td>\n",
       "    </tr>\n",
       "    <tr>\n",
       "      <th>1</th>\n",
       "      <td>2</td>\n",
       "      <td>4</td>\n",
       "      <td>10</td>\n",
       "    </tr>\n",
       "    <tr>\n",
       "      <th>2</th>\n",
       "      <td>3</td>\n",
       "      <td>7</td>\n",
       "      <td>4</td>\n",
       "    </tr>\n",
       "    <tr>\n",
       "      <th>3</th>\n",
       "      <td>4</td>\n",
       "      <td>7</td>\n",
       "      <td>22</td>\n",
       "    </tr>\n",
       "    <tr>\n",
       "      <th>4</th>\n",
       "      <td>5</td>\n",
       "      <td>8</td>\n",
       "      <td>16</td>\n",
       "    </tr>\n",
       "  </tbody>\n",
       "</table>\n",
       "</div>"
      ],
      "text/plain": [
       "   Unnamed: 0  speed  dist\n",
       "0           1      4     2\n",
       "1           2      4    10\n",
       "2           3      7     4\n",
       "3           4      7    22\n",
       "4           5      8    16"
      ]
     },
     "execution_count": 3,
     "metadata": {},
     "output_type": "execute_result"
    }
   ],
   "source": [
    "cars = pd.read_csv('cars.csv')\n",
    "cars.head()"
   ]
  },
  {
   "cell_type": "markdown",
   "metadata": {},
   "source": [
    "### 상관계수 확인"
   ]
  },
  {
   "cell_type": "code",
   "execution_count": 4,
   "metadata": {},
   "outputs": [],
   "source": [
    "# (피어슨 상관계수, p값)\n",
    "from scipy.stats import pearsonr"
   ]
  },
  {
   "cell_type": "markdown",
   "metadata": {},
   "source": [
    "(상관계수, p 값)\n",
    "- $p < 0.05$ : 95 % 신뢰구간 안에 반대 부포가 포함 X\n",
    "- $p < 0.01$ : 99 % 신뢰구간 안에 반대 부포가 포함 X\n",
    "- $p < 0.001$: 99.9 % 신뢰구간 안에 반대 부포가 포함 X"
   ]
  },
  {
   "cell_type": "code",
   "execution_count": 6,
   "metadata": {},
   "outputs": [
    {
     "data": {
      "text/plain": [
       "(0.8068949006892105, 1.4898364962950702e-12)"
      ]
     },
     "execution_count": 6,
     "metadata": {},
     "output_type": "execute_result"
    }
   ],
   "source": [
    "pearsonr(cars['speed'], cars['dist'])"
   ]
  },
  {
   "cell_type": "markdown",
   "metadata": {},
   "source": [
    "### p 값 해석\n",
    "\n",
    "    유의수준을 1.48e-10 % 까지 낮춰야 신뢰구간에 포함된다\n",
    "    = 99.999999 % 신뢰구간 안에 포함된다"
   ]
  },
  {
   "cell_type": "markdown",
   "metadata": {},
   "source": [
    "### Bootstrapping 으로 상관계수의 신뢰구간 구하기"
   ]
  },
  {
   "cell_type": "code",
   "execution_count": 8,
   "metadata": {},
   "outputs": [],
   "source": [
    "from sklearn.utils import resample"
   ]
  },
  {
   "cell_type": "code",
   "execution_count": 15,
   "metadata": {},
   "outputs": [],
   "source": [
    "df = resample(cars)"
   ]
  },
  {
   "cell_type": "code",
   "execution_count": 16,
   "metadata": {},
   "outputs": [
    {
     "data": {
      "text/plain": [
       "(0.7518267818144415, 3.121723057687681e-10)"
      ]
     },
     "execution_count": 16,
     "metadata": {},
     "output_type": "execute_result"
    }
   ],
   "source": [
    "res = pearsonr(df['speed'], df['dist'])\n",
    "res"
   ]
  },
  {
   "cell_type": "code",
   "execution_count": 17,
   "metadata": {},
   "outputs": [
    {
     "data": {
      "text/plain": [
       "0.7518267818144415"
      ]
     },
     "execution_count": 17,
     "metadata": {},
     "output_type": "execute_result"
    }
   ],
   "source": [
    "res[0]"
   ]
  },
  {
   "cell_type": "code",
   "execution_count": 22,
   "metadata": {},
   "outputs": [],
   "source": [
    "cors = [] \n",
    "for _ in range(10000):\n",
    "    df = resample(cars)\n",
    "    res = pearsonr(df['speed'], df['dist'])\n",
    "    cors.append(res[0])"
   ]
  },
  {
   "cell_type": "code",
   "execution_count": 23,
   "metadata": {},
   "outputs": [],
   "source": [
    "import numpy as np"
   ]
  },
  {
   "cell_type": "code",
   "execution_count": 24,
   "metadata": {},
   "outputs": [
    {
     "data": {
      "text/plain": [
       "array([0.6994029, 0.8828204])"
      ]
     },
     "execution_count": 24,
     "metadata": {},
     "output_type": "execute_result"
    }
   ],
   "source": [
    "np.quantile(cors, [.025, .975]) # 상관계수의 95 % 신뢰구간"
   ]
  },
  {
   "cell_type": "code",
   "execution_count": 25,
   "metadata": {},
   "outputs": [
    {
     "data": {
      "text/plain": [
       "array([0.64847972, 0.90094786])"
      ]
     },
     "execution_count": 25,
     "metadata": {},
     "output_type": "execute_result"
    }
   ],
   "source": [
    "np.quantile(cors, [.005, .995]) # 상관계수의 99 % 신뢰구간"
   ]
  },
  {
   "cell_type": "markdown",
   "metadata": {},
   "source": [
    "# 여러가지 상관계수\n",
    "- 피어슨Pearson 상관계수(Default)\n",
    "- 스피어만Spearman 상관계수 $ρ$\n",
    "    - 실제 변수값 대신 서열을 나타낸다\n",
    "    - 서열의 상관관계\n",
    "- 켄달Kendall 상관계수 $τ$\n",
    "    - 실제 변수값 대신 서열을 나타낸다\n",
    "    - 서열의 상관관계"
   ]
  },
  {
   "cell_type": "markdown",
   "metadata": {},
   "source": [
    "### Spearman , Kendall 예시"
   ]
  },
  {
   "cell_type": "code",
   "execution_count": 27,
   "metadata": {},
   "outputs": [
    {
     "data": {
      "text/html": [
       "<div>\n",
       "<style scoped>\n",
       "    .dataframe tbody tr th:only-of-type {\n",
       "        vertical-align: middle;\n",
       "    }\n",
       "\n",
       "    .dataframe tbody tr th {\n",
       "        vertical-align: top;\n",
       "    }\n",
       "\n",
       "    .dataframe thead th {\n",
       "        text-align: right;\n",
       "    }\n",
       "</style>\n",
       "<table border=\"1\" class=\"dataframe\">\n",
       "  <thead>\n",
       "    <tr style=\"text-align: right;\">\n",
       "      <th></th>\n",
       "      <th>Creativity</th>\n",
       "      <th>Position</th>\n",
       "      <th>Novice</th>\n",
       "    </tr>\n",
       "  </thead>\n",
       "  <tbody>\n",
       "    <tr>\n",
       "      <th>0</th>\n",
       "      <td>53</td>\n",
       "      <td>1</td>\n",
       "      <td>0</td>\n",
       "    </tr>\n",
       "    <tr>\n",
       "      <th>1</th>\n",
       "      <td>36</td>\n",
       "      <td>3</td>\n",
       "      <td>1</td>\n",
       "    </tr>\n",
       "    <tr>\n",
       "      <th>2</th>\n",
       "      <td>31</td>\n",
       "      <td>4</td>\n",
       "      <td>0</td>\n",
       "    </tr>\n",
       "    <tr>\n",
       "      <th>3</th>\n",
       "      <td>43</td>\n",
       "      <td>2</td>\n",
       "      <td>0</td>\n",
       "    </tr>\n",
       "    <tr>\n",
       "      <th>4</th>\n",
       "      <td>30</td>\n",
       "      <td>4</td>\n",
       "      <td>1</td>\n",
       "    </tr>\n",
       "  </tbody>\n",
       "</table>\n",
       "</div>"
      ],
      "text/plain": [
       "   Creativity  Position  Novice\n",
       "0          53         1       0\n",
       "1          36         3       1\n",
       "2          31         4       0\n",
       "3          43         2       0\n",
       "4          30         4       1"
      ]
     },
     "execution_count": 27,
     "metadata": {},
     "output_type": "execute_result"
    }
   ],
   "source": [
    "liar = pd.read_csv('liar.csv')\n",
    "liar.head()\n",
    "# Position: Ranking"
   ]
  },
  {
   "cell_type": "code",
   "execution_count": 28,
   "metadata": {},
   "outputs": [],
   "source": [
    "from scipy.stats import spearmanr"
   ]
  },
  {
   "cell_type": "code",
   "execution_count": 30,
   "metadata": {},
   "outputs": [
    {
     "data": {
      "text/plain": [
       "SpearmanrResult(correlation=-0.37321838128767815, pvalue=0.0017204168895658578)"
      ]
     },
     "execution_count": 30,
     "metadata": {},
     "output_type": "execute_result"
    }
   ],
   "source": [
    "spearmanr(liar['Creativity'], liar['Position'])"
   ]
  },
  {
   "cell_type": "code",
   "execution_count": 38,
   "metadata": {},
   "outputs": [],
   "source": [
    "cors = []\n",
    "for _ in range(10000):\n",
    "    df = resample(liar)\n",
    "    res = spearmanr(liar['Creativity'], liar['Position'])\n",
    "    cors.append(res[0])"
   ]
  },
  {
   "cell_type": "code",
   "execution_count": 39,
   "metadata": {},
   "outputs": [
    {
     "data": {
      "text/plain": [
       "array([-0.37321838, -0.37321838])"
      ]
     },
     "execution_count": 39,
     "metadata": {},
     "output_type": "execute_result"
    }
   ],
   "source": [
    "np.quantile(cors, [.025, .975])"
   ]
  },
  {
   "cell_type": "code",
   "execution_count": 36,
   "metadata": {},
   "outputs": [],
   "source": [
    "from scipy.stats import kendalltau"
   ]
  },
  {
   "cell_type": "code",
   "execution_count": 37,
   "metadata": {},
   "outputs": [
    {
     "data": {
      "text/plain": [
       "KendalltauResult(correlation=-0.3002413080651747, pvalue=0.001258802279346817)"
      ]
     },
     "execution_count": 37,
     "metadata": {},
     "output_type": "execute_result"
    }
   ],
   "source": [
    "kendalltau(liar['Creativity'], liar['Position'])"
   ]
  },
  {
   "cell_type": "code",
   "execution_count": 40,
   "metadata": {},
   "outputs": [],
   "source": [
    "cors = []\n",
    "for _ in range(10000):\n",
    "    df = resample(liar)\n",
    "    res = kendalltau(liar['Creativity'], liar['Position'])\n",
    "    cors.append(res[0])"
   ]
  },
  {
   "cell_type": "code",
   "execution_count": 41,
   "metadata": {},
   "outputs": [
    {
     "data": {
      "text/plain": [
       "array([-0.30024131, -0.30024131])"
      ]
     },
     "execution_count": 41,
     "metadata": {},
     "output_type": "execute_result"
    }
   ],
   "source": [
    "np.quantile(cors, [.025, .975])"
   ]
  },
  {
   "cell_type": "code",
   "execution_count": 42,
   "metadata": {},
   "outputs": [
    {
     "data": {
      "text/plain": [
       "array([-0.30024131, -0.30024131])"
      ]
     },
     "execution_count": 42,
     "metadata": {},
     "output_type": "execute_result"
    }
   ],
   "source": [
    "np.quantile(cors, [.005, .995])"
   ]
  },
  {
   "cell_type": "code",
   "execution_count": 43,
   "metadata": {},
   "outputs": [
    {
     "data": {
      "text/plain": [
       "array([-0.30024131, -0.30024131])"
      ]
     },
     "execution_count": 43,
     "metadata": {},
     "output_type": "execute_result"
    }
   ],
   "source": [
    "np.quantile(cors, [.0005, .9995])"
   ]
  },
  {
   "cell_type": "code",
   "execution_count": 44,
   "metadata": {},
   "outputs": [
    {
     "data": {
      "text/plain": [
       "array([-0.30024131, -0.30024131])"
      ]
     },
     "execution_count": 44,
     "metadata": {},
     "output_type": "execute_result"
    }
   ],
   "source": [
    "np.quantile(cors, [.00005, .99995])"
   ]
  },
  {
   "cell_type": "markdown",
   "metadata": {},
   "source": [
    "1. Bootstrapping 신뢰구간 적정\n",
    "2. P-value 0.05 보다 작은지"
   ]
  },
  {
   "cell_type": "markdown",
   "metadata": {},
   "source": [
    "# 회귀분석 Regression\n",
    "- 가장 넒은 의미: $X$ → $Y$ 를 예측\n",
    "- 중간 의미: $Y$ 가 연속인 경우($Y$가 범주형인 경우는 분류 라고 한다)\n",
    "- **가장 좁은 의미**(일반적): 선형 회귀 분석(선형 모형을 이용한 회귀분석)"
   ]
  },
  {
   "cell_type": "markdown",
   "metadata": {},
   "source": [
    "#### 회귀 - 다시 돌아간다는 것의 의미\n",
    ": 추세선에서 벗어난 값이 있더라도 결국에는 추세선(회귀선)으로 다시 돌아간다"
   ]
  },
  {
   "cell_type": "markdown",
   "metadata": {},
   "source": [
    "## 절편과 계수\n",
    "- 절편 intercept: 독립변수가 모두 0 일때 종속변수의 값 : 큰 의미 없다\n",
    "- 계수 coefficient: 독립변수가 1 증가할 때 종속변수의 변화"
   ]
  },
  {
   "cell_type": "markdown",
   "metadata": {},
   "source": [
    "## 예시) 자동차 데이터로 회귀분석"
   ]
  },
  {
   "cell_type": "code",
   "execution_count": 1,
   "metadata": {},
   "outputs": [],
   "source": [
    "from statsmodels.formula.api import ols"
   ]
  },
  {
   "cell_type": "code",
   "execution_count": 2,
   "metadata": {},
   "outputs": [],
   "source": [
    "import pandas as pd\n",
    "\n",
    "cars = pd.read_csv('cars.csv')"
   ]
  },
  {
   "cell_type": "code",
   "execution_count": 6,
   "metadata": {},
   "outputs": [],
   "source": [
    "# dist 종속변수 y\n",
    "# speed 독립변수 x\n",
    "res = ols('dist ~ speed', data=cars).fit()"
   ]
  },
  {
   "cell_type": "code",
   "execution_count": 7,
   "metadata": {},
   "outputs": [
    {
     "data": {
      "text/html": [
       "<table class=\"simpletable\">\n",
       "<caption>OLS Regression Results</caption>\n",
       "<tr>\n",
       "  <th>Dep. Variable:</th>          <td>dist</td>       <th>  R-squared:         </th> <td>   0.651</td>\n",
       "</tr>\n",
       "<tr>\n",
       "  <th>Model:</th>                   <td>OLS</td>       <th>  Adj. R-squared:    </th> <td>   0.644</td>\n",
       "</tr>\n",
       "<tr>\n",
       "  <th>Method:</th>             <td>Least Squares</td>  <th>  F-statistic:       </th> <td>   89.57</td>\n",
       "</tr>\n",
       "<tr>\n",
       "  <th>Date:</th>             <td>Mon, 16 Sep 2019</td> <th>  Prob (F-statistic):</th> <td>1.49e-12</td>\n",
       "</tr>\n",
       "<tr>\n",
       "  <th>Time:</th>                 <td>14:01:32</td>     <th>  Log-Likelihood:    </th> <td> -206.58</td>\n",
       "</tr>\n",
       "<tr>\n",
       "  <th>No. Observations:</th>      <td>    50</td>      <th>  AIC:               </th> <td>   417.2</td>\n",
       "</tr>\n",
       "<tr>\n",
       "  <th>Df Residuals:</th>          <td>    48</td>      <th>  BIC:               </th> <td>   421.0</td>\n",
       "</tr>\n",
       "<tr>\n",
       "  <th>Df Model:</th>              <td>     1</td>      <th>                     </th>     <td> </td>   \n",
       "</tr>\n",
       "<tr>\n",
       "  <th>Covariance Type:</th>      <td>nonrobust</td>    <th>                     </th>     <td> </td>   \n",
       "</tr>\n",
       "</table>\n",
       "<table class=\"simpletable\">\n",
       "<tr>\n",
       "      <td></td>         <th>coef</th>     <th>std err</th>      <th>t</th>      <th>P>|t|</th>  <th>[0.025</th>    <th>0.975]</th>  \n",
       "</tr>\n",
       "<tr>\n",
       "  <th>Intercept</th> <td>  -17.5791</td> <td>    6.758</td> <td>   -2.601</td> <td> 0.012</td> <td>  -31.168</td> <td>   -3.990</td>\n",
       "</tr>\n",
       "<tr>\n",
       "  <th>speed</th>     <td>    3.9324</td> <td>    0.416</td> <td>    9.464</td> <td> 0.000</td> <td>    3.097</td> <td>    4.768</td>\n",
       "</tr>\n",
       "</table>\n",
       "<table class=\"simpletable\">\n",
       "<tr>\n",
       "  <th>Omnibus:</th>       <td> 8.975</td> <th>  Durbin-Watson:     </th> <td>   1.676</td>\n",
       "</tr>\n",
       "<tr>\n",
       "  <th>Prob(Omnibus):</th> <td> 0.011</td> <th>  Jarque-Bera (JB):  </th> <td>   8.189</td>\n",
       "</tr>\n",
       "<tr>\n",
       "  <th>Skew:</th>          <td> 0.885</td> <th>  Prob(JB):          </th> <td>  0.0167</td>\n",
       "</tr>\n",
       "<tr>\n",
       "  <th>Kurtosis:</th>      <td> 3.893</td> <th>  Cond. No.          </th> <td>    50.7</td>\n",
       "</tr>\n",
       "</table><br/><br/>Warnings:<br/>[1] Standard Errors assume that the covariance matrix of the errors is correctly specified."
      ],
      "text/plain": [
       "<class 'statsmodels.iolib.summary.Summary'>\n",
       "\"\"\"\n",
       "                            OLS Regression Results                            \n",
       "==============================================================================\n",
       "Dep. Variable:                   dist   R-squared:                       0.651\n",
       "Model:                            OLS   Adj. R-squared:                  0.644\n",
       "Method:                 Least Squares   F-statistic:                     89.57\n",
       "Date:                Mon, 16 Sep 2019   Prob (F-statistic):           1.49e-12\n",
       "Time:                        14:01:32   Log-Likelihood:                -206.58\n",
       "No. Observations:                  50   AIC:                             417.2\n",
       "Df Residuals:                      48   BIC:                             421.0\n",
       "Df Model:                           1                                         \n",
       "Covariance Type:            nonrobust                                         \n",
       "==============================================================================\n",
       "                 coef    std err          t      P>|t|      [0.025      0.975]\n",
       "------------------------------------------------------------------------------\n",
       "Intercept    -17.5791      6.758     -2.601      0.012     -31.168      -3.990\n",
       "speed          3.9324      0.416      9.464      0.000       3.097       4.768\n",
       "==============================================================================\n",
       "Omnibus:                        8.975   Durbin-Watson:                   1.676\n",
       "Prob(Omnibus):                  0.011   Jarque-Bera (JB):                8.189\n",
       "Skew:                           0.885   Prob(JB):                       0.0167\n",
       "Kurtosis:                       3.893   Cond. No.                         50.7\n",
       "==============================================================================\n",
       "\n",
       "Warnings:\n",
       "[1] Standard Errors assume that the covariance matrix of the errors is correctly specified.\n",
       "\"\"\""
      ]
     },
     "execution_count": 7,
     "metadata": {},
     "output_type": "execute_result"
    }
   ],
   "source": [
    "res.summary()"
   ]
  },
  {
   "cell_type": "markdown",
   "metadata": {},
   "source": [
    "### 계수Coefficient의 신뢰구간\n",
    ": intercept 의 신뢰구간은 보지 않는다\n",
    "- 표준오차Standard Error: 표본 분포에서 표준 편차\n",
    "\n",
    "> $표준오차Std Err * 2 = 신뢰구간의 길이$\n",
    "\n",
    "- $t$: 회귀계수 / 표준오차\n",
    "- $P (P>|t|)$: 추정된 회귀계수부터 무한대까지 범위, 낮을수록 좋다\n",
    "\n",
    "        P값을 보는 것과 신뢰구간을 해석하는 것이 일치해야한다\n",
    "($P < 0.05$) (신뢰구간 내에서 부호가 같다)"
   ]
  },
  {
   "cell_type": "markdown",
   "metadata": {},
   "source": [
    "### R-제곱 R-squared\n",
    "- R-squared($ζ²$ 에타제곱): 모형 적합도 지수, 높을수록 좋다\n",
    "        \n",
    "        65 % 는 이 모형으로 설명할 수 있다\n",
    "- Adj. R-squared 수정 R-제곱: R-squared 를 보정한다, 비교하기 위한 지표\n",
    "        \n",
    "        R-squared 로 비교하면 무조건 독립변수가 많은 쪽이 적합도가 높아진다.\n",
    "- 독립변수가 1개 일 때는 $R-squared$ 값과 $(x와 y의 상관계수)²$ 값이 같다"
   ]
  },
  {
   "cell_type": "markdown",
   "metadata": {},
   "source": [
    "### F 통계량 F-statistics: 모형 전체의 데이터가 충분한지\n",
    "- Prob(F-statistics): 독립변수들이 하나도 없다고 쳤을 때도(독립변수의 계수가 0) 해당 결과가 나올 수 있는지\n",
    "- p 값과 비슷하게 해석(0.05 보다 작아야 한다)\n",
    "\n",
    "        F-statistics 가 0 에 가까우면 독립변수가 유효하다"
   ]
  },
  {
   "cell_type": "markdown",
   "metadata": {},
   "source": [
    "- Log-Likelihood: 높을수록 좋다\n",
    "- AIC 낮을수록 좋다\n",
    "- BIC 낮을수록 좋다"
   ]
  },
  {
   "cell_type": "markdown",
   "metadata": {},
   "source": [
    "# 요약\n",
    "1. 독립변수의 계수의 신뢰구간을 구한다 \n",
    "        +~+ OR -~- 인지 확인\n",
    "2. Prob(F-statistics) < 0.05\n",
    "3. 모형 비교 \n",
    "        Adj. R-squard(↑), AIC(↓), BIC(↓) 세가지를 비교한다"
   ]
  },
  {
   "cell_type": "markdown",
   "metadata": {},
   "source": [
    "## 예시) 아동 공격성"
   ]
  },
  {
   "cell_type": "code",
   "execution_count": 8,
   "metadata": {},
   "outputs": [],
   "source": [
    "child = pd.read_csv('child.csv')"
   ]
  },
  {
   "cell_type": "code",
   "execution_count": 9,
   "metadata": {},
   "outputs": [
    {
     "data": {
      "text/html": [
       "<div>\n",
       "<style scoped>\n",
       "    .dataframe tbody tr th:only-of-type {\n",
       "        vertical-align: middle;\n",
       "    }\n",
       "\n",
       "    .dataframe tbody tr th {\n",
       "        vertical-align: top;\n",
       "    }\n",
       "\n",
       "    .dataframe thead th {\n",
       "        text-align: right;\n",
       "    }\n",
       "</style>\n",
       "<table border=\"1\" class=\"dataframe\">\n",
       "  <thead>\n",
       "    <tr style=\"text-align: right;\">\n",
       "      <th></th>\n",
       "      <th>Aggression</th>\n",
       "      <th>Television</th>\n",
       "      <th>Computer_Games</th>\n",
       "      <th>Sibling_Aggression</th>\n",
       "      <th>Diet</th>\n",
       "      <th>Parenting_Style</th>\n",
       "    </tr>\n",
       "  </thead>\n",
       "  <tbody>\n",
       "    <tr>\n",
       "      <th>0</th>\n",
       "      <td>0.374160</td>\n",
       "      <td>0.172671</td>\n",
       "      <td>0.141907</td>\n",
       "      <td>-0.328216</td>\n",
       "      <td>-0.110303</td>\n",
       "      <td>-0.279034</td>\n",
       "    </tr>\n",
       "    <tr>\n",
       "      <th>1</th>\n",
       "      <td>0.771153</td>\n",
       "      <td>-0.032872</td>\n",
       "      <td>0.709918</td>\n",
       "      <td>0.576837</td>\n",
       "      <td>-0.022990</td>\n",
       "      <td>-1.248167</td>\n",
       "    </tr>\n",
       "    <tr>\n",
       "      <th>2</th>\n",
       "      <td>-0.097728</td>\n",
       "      <td>-0.074460</td>\n",
       "      <td>-0.390141</td>\n",
       "      <td>-0.217184</td>\n",
       "      <td>0.280301</td>\n",
       "      <td>-0.328063</td>\n",
       "    </tr>\n",
       "    <tr>\n",
       "      <th>3</th>\n",
       "      <td>0.015935</td>\n",
       "      <td>-0.004427</td>\n",
       "      <td>-0.408080</td>\n",
       "      <td>0.046223</td>\n",
       "      <td>-0.263479</td>\n",
       "      <td>-1.005119</td>\n",
       "    </tr>\n",
       "    <tr>\n",
       "      <th>4</th>\n",
       "      <td>-0.275385</td>\n",
       "      <td>-0.675239</td>\n",
       "      <td>-0.277778</td>\n",
       "      <td>-0.891045</td>\n",
       "      <td>0.226581</td>\n",
       "      <td>0.489478</td>\n",
       "    </tr>\n",
       "  </tbody>\n",
       "</table>\n",
       "</div>"
      ],
      "text/plain": [
       "   Aggression  Television  Computer_Games  Sibling_Aggression      Diet  \\\n",
       "0    0.374160    0.172671        0.141907           -0.328216 -0.110303   \n",
       "1    0.771153   -0.032872        0.709918            0.576837 -0.022990   \n",
       "2   -0.097728   -0.074460       -0.390141           -0.217184  0.280301   \n",
       "3    0.015935   -0.004427       -0.408080            0.046223 -0.263479   \n",
       "4   -0.275385   -0.675239       -0.277778           -0.891045  0.226581   \n",
       "\n",
       "   Parenting_Style  \n",
       "0        -0.279034  \n",
       "1        -1.248167  \n",
       "2        -0.328063  \n",
       "3        -1.005119  \n",
       "4         0.489478  "
      ]
     },
     "execution_count": 9,
     "metadata": {},
     "output_type": "execute_result"
    }
   ],
   "source": [
    "child.head()"
   ]
  },
  {
   "cell_type": "code",
   "execution_count": 11,
   "metadata": {},
   "outputs": [],
   "source": [
    "res = ols('Aggression ~ Computer_Games', child).fit()"
   ]
  },
  {
   "cell_type": "code",
   "execution_count": 13,
   "metadata": {},
   "outputs": [
    {
     "data": {
      "text/html": [
       "<table class=\"simpletable\">\n",
       "<caption>OLS Regression Results</caption>\n",
       "<tr>\n",
       "  <th>Dep. Variable:</th>       <td>Aggression</td>    <th>  R-squared:         </th> <td>   0.035</td>\n",
       "</tr>\n",
       "<tr>\n",
       "  <th>Model:</th>                   <td>OLS</td>       <th>  Adj. R-squared:    </th> <td>   0.033</td>\n",
       "</tr>\n",
       "<tr>\n",
       "  <th>Method:</th>             <td>Least Squares</td>  <th>  F-statistic:       </th> <td>   23.90</td>\n",
       "</tr>\n",
       "<tr>\n",
       "  <th>Date:</th>             <td>Mon, 16 Sep 2019</td> <th>  Prob (F-statistic):</th> <td>1.27e-06</td>\n",
       "</tr>\n",
       "<tr>\n",
       "  <th>Time:</th>                 <td>14:56:55</td>     <th>  Log-Likelihood:    </th> <td> -172.63</td>\n",
       "</tr>\n",
       "<tr>\n",
       "  <th>No. Observations:</th>      <td>   666</td>      <th>  AIC:               </th> <td>   349.3</td>\n",
       "</tr>\n",
       "<tr>\n",
       "  <th>Df Residuals:</th>          <td>   664</td>      <th>  BIC:               </th> <td>   358.3</td>\n",
       "</tr>\n",
       "<tr>\n",
       "  <th>Df Model:</th>              <td>     1</td>      <th>                     </th>     <td> </td>   \n",
       "</tr>\n",
       "<tr>\n",
       "  <th>Covariance Type:</th>      <td>nonrobust</td>    <th>                     </th>     <td> </td>   \n",
       "</tr>\n",
       "</table>\n",
       "<table class=\"simpletable\">\n",
       "<tr>\n",
       "         <td></td>           <th>coef</th>     <th>std err</th>      <th>t</th>      <th>P>|t|</th>  <th>[0.025</th>    <th>0.975]</th>  \n",
       "</tr>\n",
       "<tr>\n",
       "  <th>Intercept</th>      <td>   -0.0068</td> <td>    0.012</td> <td>   -0.560</td> <td> 0.576</td> <td>   -0.031</td> <td>    0.017</td>\n",
       "</tr>\n",
       "<tr>\n",
       "  <th>Computer_Games</th> <td>    0.1742</td> <td>    0.036</td> <td>    4.889</td> <td> 0.000</td> <td>    0.104</td> <td>    0.244</td>\n",
       "</tr>\n",
       "</table>\n",
       "<table class=\"simpletable\">\n",
       "<tr>\n",
       "  <th>Omnibus:</th>       <td>25.478</td> <th>  Durbin-Watson:     </th> <td>   1.929</td>\n",
       "</tr>\n",
       "<tr>\n",
       "  <th>Prob(Omnibus):</th> <td> 0.000</td> <th>  Jarque-Bera (JB):  </th> <td>  66.334</td>\n",
       "</tr>\n",
       "<tr>\n",
       "  <th>Skew:</th>          <td>-0.011</td> <th>  Prob(JB):          </th> <td>3.94e-15</td>\n",
       "</tr>\n",
       "<tr>\n",
       "  <th>Kurtosis:</th>      <td> 4.546</td> <th>  Cond. No.          </th> <td>    2.93</td>\n",
       "</tr>\n",
       "</table><br/><br/>Warnings:<br/>[1] Standard Errors assume that the covariance matrix of the errors is correctly specified."
      ],
      "text/plain": [
       "<class 'statsmodels.iolib.summary.Summary'>\n",
       "\"\"\"\n",
       "                            OLS Regression Results                            \n",
       "==============================================================================\n",
       "Dep. Variable:             Aggression   R-squared:                       0.035\n",
       "Model:                            OLS   Adj. R-squared:                  0.033\n",
       "Method:                 Least Squares   F-statistic:                     23.90\n",
       "Date:                Mon, 16 Sep 2019   Prob (F-statistic):           1.27e-06\n",
       "Time:                        14:56:55   Log-Likelihood:                -172.63\n",
       "No. Observations:                 666   AIC:                             349.3\n",
       "Df Residuals:                     664   BIC:                             358.3\n",
       "Df Model:                           1                                         \n",
       "Covariance Type:            nonrobust                                         \n",
       "==================================================================================\n",
       "                     coef    std err          t      P>|t|      [0.025      0.975]\n",
       "----------------------------------------------------------------------------------\n",
       "Intercept         -0.0068      0.012     -0.560      0.576      -0.031       0.017\n",
       "Computer_Games     0.1742      0.036      4.889      0.000       0.104       0.244\n",
       "==============================================================================\n",
       "Omnibus:                       25.478   Durbin-Watson:                   1.929\n",
       "Prob(Omnibus):                  0.000   Jarque-Bera (JB):               66.334\n",
       "Skew:                          -0.011   Prob(JB):                     3.94e-15\n",
       "Kurtosis:                       4.546   Cond. No.                         2.93\n",
       "==============================================================================\n",
       "\n",
       "Warnings:\n",
       "[1] Standard Errors assume that the covariance matrix of the errors is correctly specified.\n",
       "\"\"\""
      ]
     },
     "execution_count": 13,
     "metadata": {},
     "output_type": "execute_result"
    }
   ],
   "source": [
    "res.summary()"
   ]
  },
  {
   "cell_type": "markdown",
   "metadata": {},
   "source": [
    "R-squared 를 보면 모형이 데이터를 3.5 % 만 설명한다\n",
    "        \n",
    "    → 큰 영향 없다"
   ]
  },
  {
   "cell_type": "code",
   "execution_count": 20,
   "metadata": {},
   "outputs": [
    {
     "data": {
      "text/html": [
       "<table class=\"simpletable\">\n",
       "<caption>OLS Regression Results</caption>\n",
       "<tr>\n",
       "  <th>Dep. Variable:</th>       <td>Aggression</td>    <th>  R-squared:         </th> <td>   0.017</td>\n",
       "</tr>\n",
       "<tr>\n",
       "  <th>Model:</th>                   <td>OLS</td>       <th>  Adj. R-squared:    </th> <td>   0.015</td>\n",
       "</tr>\n",
       "<tr>\n",
       "  <th>Method:</th>             <td>Least Squares</td>  <th>  F-statistic:       </th> <td>   11.30</td>\n",
       "</tr>\n",
       "<tr>\n",
       "  <th>Date:</th>             <td>Mon, 16 Sep 2019</td> <th>  Prob (F-statistic):</th> <td>0.000821</td>\n",
       "</tr>\n",
       "<tr>\n",
       "  <th>Time:</th>                 <td>15:25:36</td>     <th>  Log-Likelihood:    </th> <td> -178.79</td>\n",
       "</tr>\n",
       "<tr>\n",
       "  <th>No. Observations:</th>      <td>   666</td>      <th>  AIC:               </th> <td>   361.6</td>\n",
       "</tr>\n",
       "<tr>\n",
       "  <th>Df Residuals:</th>          <td>   664</td>      <th>  BIC:               </th> <td>   370.6</td>\n",
       "</tr>\n",
       "<tr>\n",
       "  <th>Df Model:</th>              <td>     1</td>      <th>                     </th>     <td> </td>   \n",
       "</tr>\n",
       "<tr>\n",
       "  <th>Covariance Type:</th>      <td>nonrobust</td>    <th>                     </th>     <td> </td>   \n",
       "</tr>\n",
       "</table>\n",
       "<table class=\"simpletable\">\n",
       "<tr>\n",
       "           <td></td>             <th>coef</th>     <th>std err</th>      <th>t</th>      <th>P>|t|</th>  <th>[0.025</th>    <th>0.975]</th>  \n",
       "</tr>\n",
       "<tr>\n",
       "  <th>Intercept</th>          <td>   -0.0061</td> <td>    0.012</td> <td>   -0.493</td> <td> 0.622</td> <td>   -0.030</td> <td>    0.018</td>\n",
       "</tr>\n",
       "<tr>\n",
       "  <th>Sibling_Aggression</th> <td>    0.1264</td> <td>    0.038</td> <td>    3.361</td> <td> 0.001</td> <td>    0.053</td> <td>    0.200</td>\n",
       "</tr>\n",
       "</table>\n",
       "<table class=\"simpletable\">\n",
       "<tr>\n",
       "  <th>Omnibus:</th>       <td>24.126</td> <th>  Durbin-Watson:     </th> <td>   1.903</td>\n",
       "</tr>\n",
       "<tr>\n",
       "  <th>Prob(Omnibus):</th> <td> 0.000</td> <th>  Jarque-Bera (JB):  </th> <td>  60.452</td>\n",
       "</tr>\n",
       "<tr>\n",
       "  <th>Skew:</th>          <td>-0.025</td> <th>  Prob(JB):          </th> <td>7.47e-14</td>\n",
       "</tr>\n",
       "<tr>\n",
       "  <th>Kurtosis:</th>      <td> 4.475</td> <th>  Cond. No.          </th> <td>    3.06</td>\n",
       "</tr>\n",
       "</table><br/><br/>Warnings:<br/>[1] Standard Errors assume that the covariance matrix of the errors is correctly specified."
      ],
      "text/plain": [
       "<class 'statsmodels.iolib.summary.Summary'>\n",
       "\"\"\"\n",
       "                            OLS Regression Results                            \n",
       "==============================================================================\n",
       "Dep. Variable:             Aggression   R-squared:                       0.017\n",
       "Model:                            OLS   Adj. R-squared:                  0.015\n",
       "Method:                 Least Squares   F-statistic:                     11.30\n",
       "Date:                Mon, 16 Sep 2019   Prob (F-statistic):           0.000821\n",
       "Time:                        15:25:36   Log-Likelihood:                -178.79\n",
       "No. Observations:                 666   AIC:                             361.6\n",
       "Df Residuals:                     664   BIC:                             370.6\n",
       "Df Model:                           1                                         \n",
       "Covariance Type:            nonrobust                                         \n",
       "======================================================================================\n",
       "                         coef    std err          t      P>|t|      [0.025      0.975]\n",
       "--------------------------------------------------------------------------------------\n",
       "Intercept             -0.0061      0.012     -0.493      0.622      -0.030       0.018\n",
       "Sibling_Aggression     0.1264      0.038      3.361      0.001       0.053       0.200\n",
       "==============================================================================\n",
       "Omnibus:                       24.126   Durbin-Watson:                   1.903\n",
       "Prob(Omnibus):                  0.000   Jarque-Bera (JB):               60.452\n",
       "Skew:                          -0.025   Prob(JB):                     7.47e-14\n",
       "Kurtosis:                       4.475   Cond. No.                         3.06\n",
       "==============================================================================\n",
       "\n",
       "Warnings:\n",
       "[1] Standard Errors assume that the covariance matrix of the errors is correctly specified.\n",
       "\"\"\""
      ]
     },
     "execution_count": 20,
     "metadata": {},
     "output_type": "execute_result"
    }
   ],
   "source": [
    "res = ols('Aggression ~ Sibling_Aggression', child).fit()\n",
    "\n",
    "res.summary()"
   ]
  },
  {
   "cell_type": "code",
   "execution_count": 19,
   "metadata": {},
   "outputs": [
    {
     "data": {
      "text/html": [
       "<table class=\"simpletable\">\n",
       "<caption>OLS Regression Results</caption>\n",
       "<tr>\n",
       "  <th>Dep. Variable:</th>       <td>Aggression</td>    <th>  R-squared:         </th> <td>   0.044</td>\n",
       "</tr>\n",
       "<tr>\n",
       "  <th>Model:</th>                   <td>OLS</td>       <th>  Adj. R-squared:    </th> <td>   0.043</td>\n",
       "</tr>\n",
       "<tr>\n",
       "  <th>Method:</th>             <td>Least Squares</td>  <th>  F-statistic:       </th> <td>   30.84</td>\n",
       "</tr>\n",
       "<tr>\n",
       "  <th>Date:</th>             <td>Mon, 16 Sep 2019</td> <th>  Prob (F-statistic):</th> <td>4.05e-08</td>\n",
       "</tr>\n",
       "<tr>\n",
       "  <th>Time:</th>                 <td>15:25:14</td>     <th>  Log-Likelihood:    </th> <td> -169.29</td>\n",
       "</tr>\n",
       "<tr>\n",
       "  <th>No. Observations:</th>      <td>   666</td>      <th>  AIC:               </th> <td>   342.6</td>\n",
       "</tr>\n",
       "<tr>\n",
       "  <th>Df Residuals:</th>          <td>   664</td>      <th>  BIC:               </th> <td>   351.6</td>\n",
       "</tr>\n",
       "<tr>\n",
       "  <th>Df Model:</th>              <td>     1</td>      <th>                     </th>     <td> </td>   \n",
       "</tr>\n",
       "<tr>\n",
       "  <th>Covariance Type:</th>      <td>nonrobust</td>    <th>                     </th>     <td> </td>   \n",
       "</tr>\n",
       "</table>\n",
       "<table class=\"simpletable\">\n",
       "<tr>\n",
       "         <td></td>            <th>coef</th>     <th>std err</th>      <th>t</th>      <th>P>|t|</th>  <th>[0.025</th>    <th>0.975]</th>  \n",
       "</tr>\n",
       "<tr>\n",
       "  <th>Intercept</th>       <td>   -0.0050</td> <td>    0.012</td> <td>   -0.414</td> <td> 0.679</td> <td>   -0.029</td> <td>    0.019</td>\n",
       "</tr>\n",
       "<tr>\n",
       "  <th>Parenting_Style</th> <td>    0.0673</td> <td>    0.012</td> <td>    5.554</td> <td> 0.000</td> <td>    0.044</td> <td>    0.091</td>\n",
       "</tr>\n",
       "</table>\n",
       "<table class=\"simpletable\">\n",
       "<tr>\n",
       "  <th>Omnibus:</th>       <td>27.440</td> <th>  Durbin-Watson:     </th> <td>   1.907</td>\n",
       "</tr>\n",
       "<tr>\n",
       "  <th>Prob(Omnibus):</th> <td> 0.000</td> <th>  Jarque-Bera (JB):  </th> <td>  72.583</td>\n",
       "</tr>\n",
       "<tr>\n",
       "  <th>Skew:</th>          <td> 0.080</td> <th>  Prob(JB):          </th> <td>1.73e-16</td>\n",
       "</tr>\n",
       "<tr>\n",
       "  <th>Kurtosis:</th>      <td> 4.609</td> <th>  Cond. No.          </th> <td>    1.00</td>\n",
       "</tr>\n",
       "</table><br/><br/>Warnings:<br/>[1] Standard Errors assume that the covariance matrix of the errors is correctly specified."
      ],
      "text/plain": [
       "<class 'statsmodels.iolib.summary.Summary'>\n",
       "\"\"\"\n",
       "                            OLS Regression Results                            \n",
       "==============================================================================\n",
       "Dep. Variable:             Aggression   R-squared:                       0.044\n",
       "Model:                            OLS   Adj. R-squared:                  0.043\n",
       "Method:                 Least Squares   F-statistic:                     30.84\n",
       "Date:                Mon, 16 Sep 2019   Prob (F-statistic):           4.05e-08\n",
       "Time:                        15:25:14   Log-Likelihood:                -169.29\n",
       "No. Observations:                 666   AIC:                             342.6\n",
       "Df Residuals:                     664   BIC:                             351.6\n",
       "Df Model:                           1                                         \n",
       "Covariance Type:            nonrobust                                         \n",
       "===================================================================================\n",
       "                      coef    std err          t      P>|t|      [0.025      0.975]\n",
       "-----------------------------------------------------------------------------------\n",
       "Intercept          -0.0050      0.012     -0.414      0.679      -0.029       0.019\n",
       "Parenting_Style     0.0673      0.012      5.554      0.000       0.044       0.091\n",
       "==============================================================================\n",
       "Omnibus:                       27.440   Durbin-Watson:                   1.907\n",
       "Prob(Omnibus):                  0.000   Jarque-Bera (JB):               72.583\n",
       "Skew:                           0.080   Prob(JB):                     1.73e-16\n",
       "Kurtosis:                       4.609   Cond. No.                         1.00\n",
       "==============================================================================\n",
       "\n",
       "Warnings:\n",
       "[1] Standard Errors assume that the covariance matrix of the errors is correctly specified.\n",
       "\"\"\""
      ]
     },
     "execution_count": 19,
     "metadata": {},
     "output_type": "execute_result"
    }
   ],
   "source": [
    "res = ols('Aggression ~ Parenting_Style', child).fit()\n",
    "\n",
    "res.summary()"
   ]
  },
  {
   "cell_type": "code",
   "execution_count": 14,
   "metadata": {},
   "outputs": [
    {
     "data": {
      "text/html": [
       "<table class=\"simpletable\">\n",
       "<caption>OLS Regression Results</caption>\n",
       "<tr>\n",
       "  <th>Dep. Variable:</th>       <td>Aggression</td>    <th>  R-squared:         </th> <td>   0.051</td>\n",
       "</tr>\n",
       "<tr>\n",
       "  <th>Model:</th>                   <td>OLS</td>       <th>  Adj. R-squared:    </th> <td>   0.049</td>\n",
       "</tr>\n",
       "<tr>\n",
       "  <th>Method:</th>             <td>Least Squares</td>  <th>  F-statistic:       </th> <td>   17.99</td>\n",
       "</tr>\n",
       "<tr>\n",
       "  <th>Date:</th>             <td>Mon, 16 Sep 2019</td> <th>  Prob (F-statistic):</th> <td>2.45e-08</td>\n",
       "</tr>\n",
       "<tr>\n",
       "  <th>Time:</th>                 <td>15:21:28</td>     <th>  Log-Likelihood:    </th> <td> -166.81</td>\n",
       "</tr>\n",
       "<tr>\n",
       "  <th>No. Observations:</th>      <td>   666</td>      <th>  AIC:               </th> <td>   339.6</td>\n",
       "</tr>\n",
       "<tr>\n",
       "  <th>Df Residuals:</th>          <td>   663</td>      <th>  BIC:               </th> <td>   353.1</td>\n",
       "</tr>\n",
       "<tr>\n",
       "  <th>Df Model:</th>              <td>     2</td>      <th>                     </th>     <td> </td>   \n",
       "</tr>\n",
       "<tr>\n",
       "  <th>Covariance Type:</th>      <td>nonrobust</td>    <th>                     </th>     <td> </td>   \n",
       "</tr>\n",
       "</table>\n",
       "<table class=\"simpletable\">\n",
       "<tr>\n",
       "         <td></td>           <th>coef</th>     <th>std err</th>      <th>t</th>      <th>P>|t|</th>  <th>[0.025</th>    <th>0.975]</th>  \n",
       "</tr>\n",
       "<tr>\n",
       "  <th>Intercept</th>      <td>   -0.0029</td> <td>    0.012</td> <td>   -0.237</td> <td> 0.813</td> <td>   -0.027</td> <td>    0.021</td>\n",
       "</tr>\n",
       "<tr>\n",
       "  <th>Television</th>     <td>    0.1353</td> <td>    0.040</td> <td>    3.420</td> <td> 0.001</td> <td>    0.058</td> <td>    0.213</td>\n",
       "</tr>\n",
       "<tr>\n",
       "  <th>Computer_Games</th> <td>    0.1539</td> <td>    0.036</td> <td>    4.293</td> <td> 0.000</td> <td>    0.083</td> <td>    0.224</td>\n",
       "</tr>\n",
       "</table>\n",
       "<table class=\"simpletable\">\n",
       "<tr>\n",
       "  <th>Omnibus:</th>       <td>24.166</td> <th>  Durbin-Watson:     </th> <td>   1.934</td>\n",
       "</tr>\n",
       "<tr>\n",
       "  <th>Prob(Omnibus):</th> <td> 0.000</td> <th>  Jarque-Bera (JB):  </th> <td>  57.964</td>\n",
       "</tr>\n",
       "<tr>\n",
       "  <th>Skew:</th>          <td> 0.091</td> <th>  Prob(JB):          </th> <td>2.59e-13</td>\n",
       "</tr>\n",
       "<tr>\n",
       "  <th>Kurtosis:</th>      <td> 4.434</td> <th>  Cond. No.          </th> <td>    3.42</td>\n",
       "</tr>\n",
       "</table><br/><br/>Warnings:<br/>[1] Standard Errors assume that the covariance matrix of the errors is correctly specified."
      ],
      "text/plain": [
       "<class 'statsmodels.iolib.summary.Summary'>\n",
       "\"\"\"\n",
       "                            OLS Regression Results                            \n",
       "==============================================================================\n",
       "Dep. Variable:             Aggression   R-squared:                       0.051\n",
       "Model:                            OLS   Adj. R-squared:                  0.049\n",
       "Method:                 Least Squares   F-statistic:                     17.99\n",
       "Date:                Mon, 16 Sep 2019   Prob (F-statistic):           2.45e-08\n",
       "Time:                        15:21:28   Log-Likelihood:                -166.81\n",
       "No. Observations:                 666   AIC:                             339.6\n",
       "Df Residuals:                     663   BIC:                             353.1\n",
       "Df Model:                           2                                         \n",
       "Covariance Type:            nonrobust                                         \n",
       "==================================================================================\n",
       "                     coef    std err          t      P>|t|      [0.025      0.975]\n",
       "----------------------------------------------------------------------------------\n",
       "Intercept         -0.0029      0.012     -0.237      0.813      -0.027       0.021\n",
       "Television         0.1353      0.040      3.420      0.001       0.058       0.213\n",
       "Computer_Games     0.1539      0.036      4.293      0.000       0.083       0.224\n",
       "==============================================================================\n",
       "Omnibus:                       24.166   Durbin-Watson:                   1.934\n",
       "Prob(Omnibus):                  0.000   Jarque-Bera (JB):               57.964\n",
       "Skew:                           0.091   Prob(JB):                     2.59e-13\n",
       "Kurtosis:                       4.434   Cond. No.                         3.42\n",
       "==============================================================================\n",
       "\n",
       "Warnings:\n",
       "[1] Standard Errors assume that the covariance matrix of the errors is correctly specified.\n",
       "\"\"\""
      ]
     },
     "execution_count": 14,
     "metadata": {},
     "output_type": "execute_result"
    }
   ],
   "source": [
    "# 독립변수로 Television, Computer_Games 두 가지를 넣는다는 뜻\n",
    "res = ols('Aggression ~ Television + Computer_Games', child).fit()\n",
    "\n",
    "res.summary()"
   ]
  },
  {
   "cell_type": "code",
   "execution_count": 18,
   "metadata": {},
   "outputs": [
    {
     "data": {
      "text/html": [
       "<table class=\"simpletable\">\n",
       "<caption>OLS Regression Results</caption>\n",
       "<tr>\n",
       "  <th>Dep. Variable:</th>       <td>Aggression</td>    <th>  R-squared:         </th> <td>   0.067</td>\n",
       "</tr>\n",
       "<tr>\n",
       "  <th>Model:</th>                   <td>OLS</td>       <th>  Adj. R-squared:    </th> <td>   0.063</td>\n",
       "</tr>\n",
       "<tr>\n",
       "  <th>Method:</th>             <td>Least Squares</td>  <th>  F-statistic:       </th> <td>   15.97</td>\n",
       "</tr>\n",
       "<tr>\n",
       "  <th>Date:</th>             <td>Mon, 16 Sep 2019</td> <th>  Prob (F-statistic):</th> <td>4.92e-10</td>\n",
       "</tr>\n",
       "<tr>\n",
       "  <th>Time:</th>                 <td>15:24:17</td>     <th>  Log-Likelihood:    </th> <td> -161.14</td>\n",
       "</tr>\n",
       "<tr>\n",
       "  <th>No. Observations:</th>      <td>   666</td>      <th>  AIC:               </th> <td>   330.3</td>\n",
       "</tr>\n",
       "<tr>\n",
       "  <th>Df Residuals:</th>          <td>   662</td>      <th>  BIC:               </th> <td>   348.3</td>\n",
       "</tr>\n",
       "<tr>\n",
       "  <th>Df Model:</th>              <td>     3</td>      <th>                     </th>     <td> </td>   \n",
       "</tr>\n",
       "<tr>\n",
       "  <th>Covariance Type:</th>      <td>nonrobust</td>    <th>                     </th>     <td> </td>   \n",
       "</tr>\n",
       "</table>\n",
       "<table class=\"simpletable\">\n",
       "<tr>\n",
       "         <td></td>            <th>coef</th>     <th>std err</th>      <th>t</th>      <th>P>|t|</th>  <th>[0.025</th>    <th>0.975]</th>  \n",
       "</tr>\n",
       "<tr>\n",
       "  <th>Intercept</th>       <td>   -0.0048</td> <td>    0.012</td> <td>   -0.402</td> <td> 0.688</td> <td>   -0.029</td> <td>    0.019</td>\n",
       "</tr>\n",
       "<tr>\n",
       "  <th>Television</th>      <td>    0.0569</td> <td>    0.046</td> <td>    1.248</td> <td> 0.212</td> <td>   -0.033</td> <td>    0.146</td>\n",
       "</tr>\n",
       "<tr>\n",
       "  <th>Computer_Games</th>  <td>    0.1355</td> <td>    0.036</td> <td>    3.765</td> <td> 0.000</td> <td>    0.065</td> <td>    0.206</td>\n",
       "</tr>\n",
       "<tr>\n",
       "  <th>Parenting_Style</th> <td>    0.0481</td> <td>    0.014</td> <td>    3.370</td> <td> 0.001</td> <td>    0.020</td> <td>    0.076</td>\n",
       "</tr>\n",
       "</table>\n",
       "<table class=\"simpletable\">\n",
       "<tr>\n",
       "  <th>Omnibus:</th>       <td>25.946</td> <th>  Durbin-Watson:     </th> <td>   1.915</td>\n",
       "</tr>\n",
       "<tr>\n",
       "  <th>Prob(Omnibus):</th> <td> 0.000</td> <th>  Jarque-Bera (JB):  </th> <td>  64.910</td>\n",
       "</tr>\n",
       "<tr>\n",
       "  <th>Skew:</th>          <td> 0.097</td> <th>  Prob(JB):          </th> <td>8.03e-15</td>\n",
       "</tr>\n",
       "<tr>\n",
       "  <th>Kurtosis:</th>      <td> 4.517</td> <th>  Cond. No.          </th> <td>    3.93</td>\n",
       "</tr>\n",
       "</table><br/><br/>Warnings:<br/>[1] Standard Errors assume that the covariance matrix of the errors is correctly specified."
      ],
      "text/plain": [
       "<class 'statsmodels.iolib.summary.Summary'>\n",
       "\"\"\"\n",
       "                            OLS Regression Results                            \n",
       "==============================================================================\n",
       "Dep. Variable:             Aggression   R-squared:                       0.067\n",
       "Model:                            OLS   Adj. R-squared:                  0.063\n",
       "Method:                 Least Squares   F-statistic:                     15.97\n",
       "Date:                Mon, 16 Sep 2019   Prob (F-statistic):           4.92e-10\n",
       "Time:                        15:24:17   Log-Likelihood:                -161.14\n",
       "No. Observations:                 666   AIC:                             330.3\n",
       "Df Residuals:                     662   BIC:                             348.3\n",
       "Df Model:                           3                                         \n",
       "Covariance Type:            nonrobust                                         \n",
       "===================================================================================\n",
       "                      coef    std err          t      P>|t|      [0.025      0.975]\n",
       "-----------------------------------------------------------------------------------\n",
       "Intercept          -0.0048      0.012     -0.402      0.688      -0.029       0.019\n",
       "Television          0.0569      0.046      1.248      0.212      -0.033       0.146\n",
       "Computer_Games      0.1355      0.036      3.765      0.000       0.065       0.206\n",
       "Parenting_Style     0.0481      0.014      3.370      0.001       0.020       0.076\n",
       "==============================================================================\n",
       "Omnibus:                       25.946   Durbin-Watson:                   1.915\n",
       "Prob(Omnibus):                  0.000   Jarque-Bera (JB):               64.910\n",
       "Skew:                           0.097   Prob(JB):                     8.03e-15\n",
       "Kurtosis:                       4.517   Cond. No.                         3.93\n",
       "==============================================================================\n",
       "\n",
       "Warnings:\n",
       "[1] Standard Errors assume that the covariance matrix of the errors is correctly specified.\n",
       "\"\"\""
      ]
     },
     "execution_count": 18,
     "metadata": {},
     "output_type": "execute_result"
    }
   ],
   "source": [
    "res = ols('Aggression ~ Television + Computer_Games + Parenting_Style', child).fit()\n",
    "\n",
    "res.summary()"
   ]
  },
  {
   "cell_type": "code",
   "execution_count": 22,
   "metadata": {},
   "outputs": [
    {
     "data": {
      "text/html": [
       "<table class=\"simpletable\">\n",
       "<caption>OLS Regression Results</caption>\n",
       "<tr>\n",
       "  <th>Dep. Variable:</th>       <td>Aggression</td>    <th>  R-squared:         </th> <td>   0.071</td>\n",
       "</tr>\n",
       "<tr>\n",
       "  <th>Model:</th>                   <td>OLS</td>       <th>  Adj. R-squared:    </th> <td>   0.066</td>\n",
       "</tr>\n",
       "<tr>\n",
       "  <th>Method:</th>             <td>Least Squares</td>  <th>  F-statistic:       </th> <td>   12.66</td>\n",
       "</tr>\n",
       "<tr>\n",
       "  <th>Date:</th>             <td>Mon, 16 Sep 2019</td> <th>  Prob (F-statistic):</th> <td>6.19e-10</td>\n",
       "</tr>\n",
       "<tr>\n",
       "  <th>Time:</th>                 <td>15:27:05</td>     <th>  Log-Likelihood:    </th> <td> -159.82</td>\n",
       "</tr>\n",
       "<tr>\n",
       "  <th>No. Observations:</th>      <td>   666</td>      <th>  AIC:               </th> <td>   329.6</td>\n",
       "</tr>\n",
       "<tr>\n",
       "  <th>Df Residuals:</th>          <td>   661</td>      <th>  BIC:               </th> <td>   352.1</td>\n",
       "</tr>\n",
       "<tr>\n",
       "  <th>Df Model:</th>              <td>     4</td>      <th>                     </th>     <td> </td>   \n",
       "</tr>\n",
       "<tr>\n",
       "  <th>Covariance Type:</th>      <td>nonrobust</td>    <th>                     </th>     <td> </td>   \n",
       "</tr>\n",
       "</table>\n",
       "<table class=\"simpletable\">\n",
       "<tr>\n",
       "           <td></td>             <th>coef</th>     <th>std err</th>      <th>t</th>      <th>P>|t|</th>  <th>[0.025</th>    <th>0.975]</th>  \n",
       "</tr>\n",
       "<tr>\n",
       "  <th>Intercept</th>          <td>   -0.0056</td> <td>    0.012</td> <td>   -0.462</td> <td> 0.644</td> <td>   -0.029</td> <td>    0.018</td>\n",
       "</tr>\n",
       "<tr>\n",
       "  <th>Television</th>         <td>    0.0455</td> <td>    0.046</td> <td>    0.986</td> <td> 0.324</td> <td>   -0.045</td> <td>    0.136</td>\n",
       "</tr>\n",
       "<tr>\n",
       "  <th>Computer_Games</th>     <td>    0.1244</td> <td>    0.037</td> <td>    3.399</td> <td> 0.001</td> <td>    0.053</td> <td>    0.196</td>\n",
       "</tr>\n",
       "<tr>\n",
       "  <th>Parenting_Style</th>    <td>    0.0472</td> <td>    0.014</td> <td>    3.312</td> <td> 0.001</td> <td>    0.019</td> <td>    0.075</td>\n",
       "</tr>\n",
       "<tr>\n",
       "  <th>Sibling_Aggression</th> <td>    0.0622</td> <td>    0.038</td> <td>    1.621</td> <td> 0.106</td> <td>   -0.013</td> <td>    0.138</td>\n",
       "</tr>\n",
       "</table>\n",
       "<table class=\"simpletable\">\n",
       "<tr>\n",
       "  <th>Omnibus:</th>       <td>24.527</td> <th>  Durbin-Watson:     </th> <td>   1.904</td>\n",
       "</tr>\n",
       "<tr>\n",
       "  <th>Prob(Omnibus):</th> <td> 0.000</td> <th>  Jarque-Bera (JB):  </th> <td>  60.107</td>\n",
       "</tr>\n",
       "<tr>\n",
       "  <th>Skew:</th>          <td> 0.079</td> <th>  Prob(JB):          </th> <td>8.87e-14</td>\n",
       "</tr>\n",
       "<tr>\n",
       "  <th>Kurtosis:</th>      <td> 4.463</td> <th>  Cond. No.          </th> <td>    4.06</td>\n",
       "</tr>\n",
       "</table><br/><br/>Warnings:<br/>[1] Standard Errors assume that the covariance matrix of the errors is correctly specified."
      ],
      "text/plain": [
       "<class 'statsmodels.iolib.summary.Summary'>\n",
       "\"\"\"\n",
       "                            OLS Regression Results                            \n",
       "==============================================================================\n",
       "Dep. Variable:             Aggression   R-squared:                       0.071\n",
       "Model:                            OLS   Adj. R-squared:                  0.066\n",
       "Method:                 Least Squares   F-statistic:                     12.66\n",
       "Date:                Mon, 16 Sep 2019   Prob (F-statistic):           6.19e-10\n",
       "Time:                        15:27:05   Log-Likelihood:                -159.82\n",
       "No. Observations:                 666   AIC:                             329.6\n",
       "Df Residuals:                     661   BIC:                             352.1\n",
       "Df Model:                           4                                         \n",
       "Covariance Type:            nonrobust                                         \n",
       "======================================================================================\n",
       "                         coef    std err          t      P>|t|      [0.025      0.975]\n",
       "--------------------------------------------------------------------------------------\n",
       "Intercept             -0.0056      0.012     -0.462      0.644      -0.029       0.018\n",
       "Television             0.0455      0.046      0.986      0.324      -0.045       0.136\n",
       "Computer_Games         0.1244      0.037      3.399      0.001       0.053       0.196\n",
       "Parenting_Style        0.0472      0.014      3.312      0.001       0.019       0.075\n",
       "Sibling_Aggression     0.0622      0.038      1.621      0.106      -0.013       0.138\n",
       "==============================================================================\n",
       "Omnibus:                       24.527   Durbin-Watson:                   1.904\n",
       "Prob(Omnibus):                  0.000   Jarque-Bera (JB):               60.107\n",
       "Skew:                           0.079   Prob(JB):                     8.87e-14\n",
       "Kurtosis:                       4.463   Cond. No.                         4.06\n",
       "==============================================================================\n",
       "\n",
       "Warnings:\n",
       "[1] Standard Errors assume that the covariance matrix of the errors is correctly specified.\n",
       "\"\"\""
      ]
     },
     "execution_count": 22,
     "metadata": {},
     "output_type": "execute_result"
    }
   ],
   "source": [
    "res = ols('Aggression ~ Television + Computer_Games + Parenting_Style + Sibling_Aggression', child).fit()\n",
    "\n",
    "res.summary()"
   ]
  },
  {
   "cell_type": "code",
   "execution_count": 23,
   "metadata": {},
   "outputs": [
    {
     "data": {
      "text/html": [
       "<table class=\"simpletable\">\n",
       "<caption>OLS Regression Results</caption>\n",
       "<tr>\n",
       "  <th>Dep. Variable:</th>       <td>Aggression</td>    <th>  R-squared:         </th> <td>   0.070</td>\n",
       "</tr>\n",
       "<tr>\n",
       "  <th>Model:</th>                   <td>OLS</td>       <th>  Adj. R-squared:    </th> <td>   0.066</td>\n",
       "</tr>\n",
       "<tr>\n",
       "  <th>Method:</th>             <td>Least Squares</td>  <th>  F-statistic:       </th> <td>   16.56</td>\n",
       "</tr>\n",
       "<tr>\n",
       "  <th>Date:</th>             <td>Mon, 16 Sep 2019</td> <th>  Prob (F-statistic):</th> <td>2.19e-10</td>\n",
       "</tr>\n",
       "<tr>\n",
       "  <th>Time:</th>                 <td>15:27:51</td>     <th>  Log-Likelihood:    </th> <td> -160.31</td>\n",
       "</tr>\n",
       "<tr>\n",
       "  <th>No. Observations:</th>      <td>   666</td>      <th>  AIC:               </th> <td>   328.6</td>\n",
       "</tr>\n",
       "<tr>\n",
       "  <th>Df Residuals:</th>          <td>   662</td>      <th>  BIC:               </th> <td>   346.6</td>\n",
       "</tr>\n",
       "<tr>\n",
       "  <th>Df Model:</th>              <td>     3</td>      <th>                     </th>     <td> </td>   \n",
       "</tr>\n",
       "<tr>\n",
       "  <th>Covariance Type:</th>      <td>nonrobust</td>    <th>                     </th>     <td> </td>   \n",
       "</tr>\n",
       "</table>\n",
       "<table class=\"simpletable\">\n",
       "<tr>\n",
       "           <td></td>             <th>coef</th>     <th>std err</th>      <th>t</th>      <th>P>|t|</th>  <th>[0.025</th>    <th>0.975]</th>  \n",
       "</tr>\n",
       "<tr>\n",
       "  <th>Intercept</th>          <td>   -0.0069</td> <td>    0.012</td> <td>   -0.574</td> <td> 0.566</td> <td>   -0.030</td> <td>    0.017</td>\n",
       "</tr>\n",
       "<tr>\n",
       "  <th>Computer_Games</th>     <td>    0.1256</td> <td>    0.037</td> <td>    3.433</td> <td> 0.001</td> <td>    0.054</td> <td>    0.197</td>\n",
       "</tr>\n",
       "<tr>\n",
       "  <th>Parenting_Style</th>    <td>    0.0542</td> <td>    0.012</td> <td>    4.385</td> <td> 0.000</td> <td>    0.030</td> <td>    0.079</td>\n",
       "</tr>\n",
       "<tr>\n",
       "  <th>Sibling_Aggression</th> <td>    0.0680</td> <td>    0.038</td> <td>    1.793</td> <td> 0.073</td> <td>   -0.006</td> <td>    0.142</td>\n",
       "</tr>\n",
       "</table>\n",
       "<table class=\"simpletable\">\n",
       "<tr>\n",
       "  <th>Omnibus:</th>       <td>25.031</td> <th>  Durbin-Watson:     </th> <td>   1.901</td>\n",
       "</tr>\n",
       "<tr>\n",
       "  <th>Prob(Omnibus):</th> <td> 0.000</td> <th>  Jarque-Bera (JB):  </th> <td>  63.246</td>\n",
       "</tr>\n",
       "<tr>\n",
       "  <th>Skew:</th>          <td> 0.057</td> <th>  Prob(JB):          </th> <td>1.85e-14</td>\n",
       "</tr>\n",
       "<tr>\n",
       "  <th>Kurtosis:</th>      <td> 4.505</td> <th>  Cond. No.          </th> <td>    3.42</td>\n",
       "</tr>\n",
       "</table><br/><br/>Warnings:<br/>[1] Standard Errors assume that the covariance matrix of the errors is correctly specified."
      ],
      "text/plain": [
       "<class 'statsmodels.iolib.summary.Summary'>\n",
       "\"\"\"\n",
       "                            OLS Regression Results                            \n",
       "==============================================================================\n",
       "Dep. Variable:             Aggression   R-squared:                       0.070\n",
       "Model:                            OLS   Adj. R-squared:                  0.066\n",
       "Method:                 Least Squares   F-statistic:                     16.56\n",
       "Date:                Mon, 16 Sep 2019   Prob (F-statistic):           2.19e-10\n",
       "Time:                        15:27:51   Log-Likelihood:                -160.31\n",
       "No. Observations:                 666   AIC:                             328.6\n",
       "Df Residuals:                     662   BIC:                             346.6\n",
       "Df Model:                           3                                         \n",
       "Covariance Type:            nonrobust                                         \n",
       "======================================================================================\n",
       "                         coef    std err          t      P>|t|      [0.025      0.975]\n",
       "--------------------------------------------------------------------------------------\n",
       "Intercept             -0.0069      0.012     -0.574      0.566      -0.030       0.017\n",
       "Computer_Games         0.1256      0.037      3.433      0.001       0.054       0.197\n",
       "Parenting_Style        0.0542      0.012      4.385      0.000       0.030       0.079\n",
       "Sibling_Aggression     0.0680      0.038      1.793      0.073      -0.006       0.142\n",
       "==============================================================================\n",
       "Omnibus:                       25.031   Durbin-Watson:                   1.901\n",
       "Prob(Omnibus):                  0.000   Jarque-Bera (JB):               63.246\n",
       "Skew:                           0.057   Prob(JB):                     1.85e-14\n",
       "Kurtosis:                       4.505   Cond. No.                         3.42\n",
       "==============================================================================\n",
       "\n",
       "Warnings:\n",
       "[1] Standard Errors assume that the covariance matrix of the errors is correctly specified.\n",
       "\"\"\""
      ]
     },
     "execution_count": 23,
     "metadata": {},
     "output_type": "execute_result"
    }
   ],
   "source": [
    "res = ols('Aggression ~ Computer_Games + Parenting_Style + Sibling_Aggression', child).fit()\n",
    "\n",
    "res.summary()"
   ]
  },
  {
   "cell_type": "code",
   "execution_count": 24,
   "metadata": {},
   "outputs": [
    {
     "data": {
      "text/html": [
       "<table class=\"simpletable\">\n",
       "<caption>OLS Regression Results</caption>\n",
       "<tr>\n",
       "  <th>Dep. Variable:</th>       <td>Aggression</td>    <th>  R-squared:         </th> <td>   0.055</td>\n",
       "</tr>\n",
       "<tr>\n",
       "  <th>Model:</th>                   <td>OLS</td>       <th>  Adj. R-squared:    </th> <td>   0.051</td>\n",
       "</tr>\n",
       "<tr>\n",
       "  <th>Method:</th>             <td>Least Squares</td>  <th>  F-statistic:       </th> <td>   12.83</td>\n",
       "</tr>\n",
       "<tr>\n",
       "  <th>Date:</th>             <td>Mon, 16 Sep 2019</td> <th>  Prob (F-statistic):</th> <td>3.71e-08</td>\n",
       "</tr>\n",
       "<tr>\n",
       "  <th>Time:</th>                 <td>15:28:11</td>     <th>  Log-Likelihood:    </th> <td> -165.59</td>\n",
       "</tr>\n",
       "<tr>\n",
       "  <th>No. Observations:</th>      <td>   666</td>      <th>  AIC:               </th> <td>   339.2</td>\n",
       "</tr>\n",
       "<tr>\n",
       "  <th>Df Residuals:</th>          <td>   662</td>      <th>  BIC:               </th> <td>   357.2</td>\n",
       "</tr>\n",
       "<tr>\n",
       "  <th>Df Model:</th>              <td>     3</td>      <th>                     </th>     <td> </td>   \n",
       "</tr>\n",
       "<tr>\n",
       "  <th>Covariance Type:</th>      <td>nonrobust</td>    <th>                     </th>     <td> </td>   \n",
       "</tr>\n",
       "</table>\n",
       "<table class=\"simpletable\">\n",
       "<tr>\n",
       "           <td></td>             <th>coef</th>     <th>std err</th>      <th>t</th>      <th>P>|t|</th>  <th>[0.025</th>    <th>0.975]</th>  \n",
       "</tr>\n",
       "<tr>\n",
       "  <th>Intercept</th>          <td>   -0.0043</td> <td>    0.012</td> <td>   -0.357</td> <td> 0.721</td> <td>   -0.028</td> <td>    0.019</td>\n",
       "</tr>\n",
       "<tr>\n",
       "  <th>Television</th>         <td>    0.0507</td> <td>    0.046</td> <td>    1.091</td> <td> 0.276</td> <td>   -0.041</td> <td>    0.142</td>\n",
       "</tr>\n",
       "<tr>\n",
       "  <th>Parenting_Style</th>    <td>    0.0541</td> <td>    0.014</td> <td>    3.804</td> <td> 0.000</td> <td>    0.026</td> <td>    0.082</td>\n",
       "</tr>\n",
       "<tr>\n",
       "  <th>Sibling_Aggression</th> <td>    0.0867</td> <td>    0.038</td> <td>    2.281</td> <td> 0.023</td> <td>    0.012</td> <td>    0.161</td>\n",
       "</tr>\n",
       "</table>\n",
       "<table class=\"simpletable\">\n",
       "<tr>\n",
       "  <th>Omnibus:</th>       <td>24.853</td> <th>  Durbin-Watson:     </th> <td>   1.894</td>\n",
       "</tr>\n",
       "<tr>\n",
       "  <th>Prob(Omnibus):</th> <td> 0.000</td> <th>  Jarque-Bera (JB):  </th> <td>  60.930</td>\n",
       "</tr>\n",
       "<tr>\n",
       "  <th>Skew:</th>          <td> 0.088</td> <th>  Prob(JB):          </th> <td>5.88e-14</td>\n",
       "</tr>\n",
       "<tr>\n",
       "  <th>Kurtosis:</th>      <td> 4.471</td> <th>  Cond. No.          </th> <td>    4.04</td>\n",
       "</tr>\n",
       "</table><br/><br/>Warnings:<br/>[1] Standard Errors assume that the covariance matrix of the errors is correctly specified."
      ],
      "text/plain": [
       "<class 'statsmodels.iolib.summary.Summary'>\n",
       "\"\"\"\n",
       "                            OLS Regression Results                            \n",
       "==============================================================================\n",
       "Dep. Variable:             Aggression   R-squared:                       0.055\n",
       "Model:                            OLS   Adj. R-squared:                  0.051\n",
       "Method:                 Least Squares   F-statistic:                     12.83\n",
       "Date:                Mon, 16 Sep 2019   Prob (F-statistic):           3.71e-08\n",
       "Time:                        15:28:11   Log-Likelihood:                -165.59\n",
       "No. Observations:                 666   AIC:                             339.2\n",
       "Df Residuals:                     662   BIC:                             357.2\n",
       "Df Model:                           3                                         \n",
       "Covariance Type:            nonrobust                                         \n",
       "======================================================================================\n",
       "                         coef    std err          t      P>|t|      [0.025      0.975]\n",
       "--------------------------------------------------------------------------------------\n",
       "Intercept             -0.0043      0.012     -0.357      0.721      -0.028       0.019\n",
       "Television             0.0507      0.046      1.091      0.276      -0.041       0.142\n",
       "Parenting_Style        0.0541      0.014      3.804      0.000       0.026       0.082\n",
       "Sibling_Aggression     0.0867      0.038      2.281      0.023       0.012       0.161\n",
       "==============================================================================\n",
       "Omnibus:                       24.853   Durbin-Watson:                   1.894\n",
       "Prob(Omnibus):                  0.000   Jarque-Bera (JB):               60.930\n",
       "Skew:                           0.088   Prob(JB):                     5.88e-14\n",
       "Kurtosis:                       4.471   Cond. No.                         4.04\n",
       "==============================================================================\n",
       "\n",
       "Warnings:\n",
       "[1] Standard Errors assume that the covariance matrix of the errors is correctly specified.\n",
       "\"\"\""
      ]
     },
     "execution_count": 24,
     "metadata": {},
     "output_type": "execute_result"
    }
   ],
   "source": [
    "res = ols('Aggression ~ Television + Parenting_Style + Sibling_Aggression', child).fit()\n",
    "\n",
    "res.summary()"
   ]
  },
  {
   "cell_type": "code",
   "execution_count": 25,
   "metadata": {},
   "outputs": [
    {
     "data": {
      "text/html": [
       "<table class=\"simpletable\">\n",
       "<caption>OLS Regression Results</caption>\n",
       "<tr>\n",
       "  <th>Dep. Variable:</th>       <td>Aggression</td>    <th>  R-squared:         </th> <td>   0.076</td>\n",
       "</tr>\n",
       "<tr>\n",
       "  <th>Model:</th>                   <td>OLS</td>       <th>  Adj. R-squared:    </th> <td>   0.071</td>\n",
       "</tr>\n",
       "<tr>\n",
       "  <th>Method:</th>             <td>Least Squares</td>  <th>  F-statistic:       </th> <td>   13.67</td>\n",
       "</tr>\n",
       "<tr>\n",
       "  <th>Date:</th>             <td>Mon, 16 Sep 2019</td> <th>  Prob (F-statistic):</th> <td>1.02e-10</td>\n",
       "</tr>\n",
       "<tr>\n",
       "  <th>Time:</th>                 <td>15:28:52</td>     <th>  Log-Likelihood:    </th> <td> -157.94</td>\n",
       "</tr>\n",
       "<tr>\n",
       "  <th>No. Observations:</th>      <td>   666</td>      <th>  AIC:               </th> <td>   325.9</td>\n",
       "</tr>\n",
       "<tr>\n",
       "  <th>Df Residuals:</th>          <td>   661</td>      <th>  BIC:               </th> <td>   348.4</td>\n",
       "</tr>\n",
       "<tr>\n",
       "  <th>Df Model:</th>              <td>     4</td>      <th>                     </th>     <td> </td>   \n",
       "</tr>\n",
       "<tr>\n",
       "  <th>Covariance Type:</th>      <td>nonrobust</td>    <th>                     </th>     <td> </td>   \n",
       "</tr>\n",
       "</table>\n",
       "<table class=\"simpletable\">\n",
       "<tr>\n",
       "         <td></td>            <th>coef</th>     <th>std err</th>      <th>t</th>      <th>P>|t|</th>  <th>[0.025</th>    <th>0.975]</th>  \n",
       "</tr>\n",
       "<tr>\n",
       "  <th>Intercept</th>       <td>   -0.0042</td> <td>    0.012</td> <td>   -0.346</td> <td> 0.730</td> <td>   -0.028</td> <td>    0.019</td>\n",
       "</tr>\n",
       "<tr>\n",
       "  <th>Television</th>      <td>    0.0491</td> <td>    0.046</td> <td>    1.079</td> <td> 0.281</td> <td>   -0.040</td> <td>    0.139</td>\n",
       "</tr>\n",
       "<tr>\n",
       "  <th>Computer_Games</th>  <td>    0.1540</td> <td>    0.037</td> <td>    4.210</td> <td> 0.000</td> <td>    0.082</td> <td>    0.226</td>\n",
       "</tr>\n",
       "<tr>\n",
       "  <th>Parenting_Style</th> <td>    0.0565</td> <td>    0.015</td> <td>    3.873</td> <td> 0.000</td> <td>    0.028</td> <td>    0.085</td>\n",
       "</tr>\n",
       "<tr>\n",
       "  <th>Diet</th>            <td>   -0.0950</td> <td>    0.038</td> <td>   -2.527</td> <td> 0.012</td> <td>   -0.169</td> <td>   -0.021</td>\n",
       "</tr>\n",
       "</table>\n",
       "<table class=\"simpletable\">\n",
       "<tr>\n",
       "  <th>Omnibus:</th>       <td>27.141</td> <th>  Durbin-Watson:     </th> <td>   1.923</td>\n",
       "</tr>\n",
       "<tr>\n",
       "  <th>Prob(Omnibus):</th> <td> 0.000</td> <th>  Jarque-Bera (JB):  </th> <td>  70.409</td>\n",
       "</tr>\n",
       "<tr>\n",
       "  <th>Skew:</th>          <td> 0.092</td> <th>  Prob(JB):          </th> <td>5.14e-16</td>\n",
       "</tr>\n",
       "<tr>\n",
       "  <th>Kurtosis:</th>      <td> 4.582</td> <th>  Cond. No.          </th> <td>    4.01</td>\n",
       "</tr>\n",
       "</table><br/><br/>Warnings:<br/>[1] Standard Errors assume that the covariance matrix of the errors is correctly specified."
      ],
      "text/plain": [
       "<class 'statsmodels.iolib.summary.Summary'>\n",
       "\"\"\"\n",
       "                            OLS Regression Results                            \n",
       "==============================================================================\n",
       "Dep. Variable:             Aggression   R-squared:                       0.076\n",
       "Model:                            OLS   Adj. R-squared:                  0.071\n",
       "Method:                 Least Squares   F-statistic:                     13.67\n",
       "Date:                Mon, 16 Sep 2019   Prob (F-statistic):           1.02e-10\n",
       "Time:                        15:28:52   Log-Likelihood:                -157.94\n",
       "No. Observations:                 666   AIC:                             325.9\n",
       "Df Residuals:                     661   BIC:                             348.4\n",
       "Df Model:                           4                                         \n",
       "Covariance Type:            nonrobust                                         \n",
       "===================================================================================\n",
       "                      coef    std err          t      P>|t|      [0.025      0.975]\n",
       "-----------------------------------------------------------------------------------\n",
       "Intercept          -0.0042      0.012     -0.346      0.730      -0.028       0.019\n",
       "Television          0.0491      0.046      1.079      0.281      -0.040       0.139\n",
       "Computer_Games      0.1540      0.037      4.210      0.000       0.082       0.226\n",
       "Parenting_Style     0.0565      0.015      3.873      0.000       0.028       0.085\n",
       "Diet               -0.0950      0.038     -2.527      0.012      -0.169      -0.021\n",
       "==============================================================================\n",
       "Omnibus:                       27.141   Durbin-Watson:                   1.923\n",
       "Prob(Omnibus):                  0.000   Jarque-Bera (JB):               70.409\n",
       "Skew:                           0.092   Prob(JB):                     5.14e-16\n",
       "Kurtosis:                       4.582   Cond. No.                         4.01\n",
       "==============================================================================\n",
       "\n",
       "Warnings:\n",
       "[1] Standard Errors assume that the covariance matrix of the errors is correctly specified.\n",
       "\"\"\""
      ]
     },
     "execution_count": 25,
     "metadata": {},
     "output_type": "execute_result"
    }
   ],
   "source": [
    "res = ols('Aggression ~ Television + Computer_Games + Parenting_Style + Diet', child).fit()\n",
    "\n",
    "res.summary()"
   ]
  },
  {
   "cell_type": "code",
   "execution_count": null,
   "metadata": {},
   "outputs": [],
   "source": []
  },
  {
   "cell_type": "code",
   "execution_count": 21,
   "metadata": {
    "scrolled": true
   },
   "outputs": [
    {
     "data": {
      "text/html": [
       "<table class=\"simpletable\">\n",
       "<caption>OLS Regression Results</caption>\n",
       "<tr>\n",
       "  <th>Dep. Variable:</th>       <td>Aggression</td>    <th>  R-squared:         </th> <td>   0.083</td>\n",
       "</tr>\n",
       "<tr>\n",
       "  <th>Model:</th>                   <td>OLS</td>       <th>  Adj. R-squared:    </th> <td>   0.076</td>\n",
       "</tr>\n",
       "<tr>\n",
       "  <th>Method:</th>             <td>Least Squares</td>  <th>  F-statistic:       </th> <td>   11.88</td>\n",
       "</tr>\n",
       "<tr>\n",
       "  <th>Date:</th>             <td>Mon, 16 Sep 2019</td> <th>  Prob (F-statistic):</th> <td>5.02e-11</td>\n",
       "</tr>\n",
       "<tr>\n",
       "  <th>Time:</th>                 <td>15:26:42</td>     <th>  Log-Likelihood:    </th> <td> -155.71</td>\n",
       "</tr>\n",
       "<tr>\n",
       "  <th>No. Observations:</th>      <td>   666</td>      <th>  AIC:               </th> <td>   323.4</td>\n",
       "</tr>\n",
       "<tr>\n",
       "  <th>Df Residuals:</th>          <td>   660</td>      <th>  BIC:               </th> <td>   350.4</td>\n",
       "</tr>\n",
       "<tr>\n",
       "  <th>Df Model:</th>              <td>     5</td>      <th>                     </th>     <td> </td>   \n",
       "</tr>\n",
       "<tr>\n",
       "  <th>Covariance Type:</th>      <td>nonrobust</td>    <th>                     </th>     <td> </td>   \n",
       "</tr>\n",
       "</table>\n",
       "<table class=\"simpletable\">\n",
       "<tr>\n",
       "           <td></td>             <th>coef</th>     <th>std err</th>      <th>t</th>      <th>P>|t|</th>  <th>[0.025</th>    <th>0.975]</th>  \n",
       "</tr>\n",
       "<tr>\n",
       "  <th>Intercept</th>          <td>   -0.0050</td> <td>    0.012</td> <td>   -0.416</td> <td> 0.677</td> <td>   -0.029</td> <td>    0.019</td>\n",
       "</tr>\n",
       "<tr>\n",
       "  <th>Television</th>         <td>    0.0329</td> <td>    0.046</td> <td>    0.715</td> <td> 0.475</td> <td>   -0.058</td> <td>    0.123</td>\n",
       "</tr>\n",
       "<tr>\n",
       "  <th>Computer_Games</th>     <td>    0.1422</td> <td>    0.037</td> <td>    3.851</td> <td> 0.000</td> <td>    0.070</td> <td>    0.215</td>\n",
       "</tr>\n",
       "<tr>\n",
       "  <th>Parenting_Style</th>    <td>    0.0566</td> <td>    0.015</td> <td>    3.891</td> <td> 0.000</td> <td>    0.028</td> <td>    0.085</td>\n",
       "</tr>\n",
       "<tr>\n",
       "  <th>Sibling_Aggression</th> <td>    0.0817</td> <td>    0.039</td> <td>    2.106</td> <td> 0.036</td> <td>    0.006</td> <td>    0.158</td>\n",
       "</tr>\n",
       "<tr>\n",
       "  <th>Diet</th>               <td>   -0.1091</td> <td>    0.038</td> <td>   -2.864</td> <td> 0.004</td> <td>   -0.184</td> <td>   -0.034</td>\n",
       "</tr>\n",
       "</table>\n",
       "<table class=\"simpletable\">\n",
       "<tr>\n",
       "  <th>Omnibus:</th>       <td>24.817</td> <th>  Durbin-Watson:     </th> <td>   1.913</td>\n",
       "</tr>\n",
       "<tr>\n",
       "  <th>Prob(Omnibus):</th> <td> 0.000</td> <th>  Jarque-Bera (JB):  </th> <td>  61.941</td>\n",
       "</tr>\n",
       "<tr>\n",
       "  <th>Skew:</th>          <td> 0.067</td> <th>  Prob(JB):          </th> <td>3.55e-14</td>\n",
       "</tr>\n",
       "<tr>\n",
       "  <th>Kurtosis:</th>      <td> 4.488</td> <th>  Cond. No.          </th> <td>    4.19</td>\n",
       "</tr>\n",
       "</table><br/><br/>Warnings:<br/>[1] Standard Errors assume that the covariance matrix of the errors is correctly specified."
      ],
      "text/plain": [
       "<class 'statsmodels.iolib.summary.Summary'>\n",
       "\"\"\"\n",
       "                            OLS Regression Results                            \n",
       "==============================================================================\n",
       "Dep. Variable:             Aggression   R-squared:                       0.083\n",
       "Model:                            OLS   Adj. R-squared:                  0.076\n",
       "Method:                 Least Squares   F-statistic:                     11.88\n",
       "Date:                Mon, 16 Sep 2019   Prob (F-statistic):           5.02e-11\n",
       "Time:                        15:26:42   Log-Likelihood:                -155.71\n",
       "No. Observations:                 666   AIC:                             323.4\n",
       "Df Residuals:                     660   BIC:                             350.4\n",
       "Df Model:                           5                                         \n",
       "Covariance Type:            nonrobust                                         \n",
       "======================================================================================\n",
       "                         coef    std err          t      P>|t|      [0.025      0.975]\n",
       "--------------------------------------------------------------------------------------\n",
       "Intercept             -0.0050      0.012     -0.416      0.677      -0.029       0.019\n",
       "Television             0.0329      0.046      0.715      0.475      -0.058       0.123\n",
       "Computer_Games         0.1422      0.037      3.851      0.000       0.070       0.215\n",
       "Parenting_Style        0.0566      0.015      3.891      0.000       0.028       0.085\n",
       "Sibling_Aggression     0.0817      0.039      2.106      0.036       0.006       0.158\n",
       "Diet                  -0.1091      0.038     -2.864      0.004      -0.184      -0.034\n",
       "==============================================================================\n",
       "Omnibus:                       24.817   Durbin-Watson:                   1.913\n",
       "Prob(Omnibus):                  0.000   Jarque-Bera (JB):               61.941\n",
       "Skew:                           0.067   Prob(JB):                     3.55e-14\n",
       "Kurtosis:                       4.488   Cond. No.                         4.19\n",
       "==============================================================================\n",
       "\n",
       "Warnings:\n",
       "[1] Standard Errors assume that the covariance matrix of the errors is correctly specified.\n",
       "\"\"\""
      ]
     },
     "execution_count": 21,
     "metadata": {},
     "output_type": "execute_result"
    }
   ],
   "source": [
    "res = ols('Aggression ~ Television + Computer_Games + Parenting_Style + Sibling_Aggression + Diet', child).fit()\n",
    "\n",
    "res.summary()"
   ]
  },
  {
   "cell_type": "code",
   "execution_count": 26,
   "metadata": {},
   "outputs": [
    {
     "data": {
      "text/html": [
       "<table class=\"simpletable\">\n",
       "<caption>OLS Regression Results</caption>\n",
       "<tr>\n",
       "  <th>Dep. Variable:</th>       <td>Aggression</td>    <th>  R-squared:         </th> <td>   0.082</td>\n",
       "</tr>\n",
       "<tr>\n",
       "  <th>Model:</th>                   <td>OLS</td>       <th>  Adj. R-squared:    </th> <td>   0.076</td>\n",
       "</tr>\n",
       "<tr>\n",
       "  <th>Method:</th>             <td>Least Squares</td>  <th>  F-statistic:       </th> <td>   14.74</td>\n",
       "</tr>\n",
       "<tr>\n",
       "  <th>Date:</th>             <td>Mon, 16 Sep 2019</td> <th>  Prob (F-statistic):</th> <td>1.54e-11</td>\n",
       "</tr>\n",
       "<tr>\n",
       "  <th>Time:</th>                 <td>15:35:27</td>     <th>  Log-Likelihood:    </th> <td> -155.96</td>\n",
       "</tr>\n",
       "<tr>\n",
       "  <th>No. Observations:</th>      <td>   666</td>      <th>  AIC:               </th> <td>   321.9</td>\n",
       "</tr>\n",
       "<tr>\n",
       "  <th>Df Residuals:</th>          <td>   661</td>      <th>  BIC:               </th> <td>   344.4</td>\n",
       "</tr>\n",
       "<tr>\n",
       "  <th>Df Model:</th>              <td>     4</td>      <th>                     </th>     <td> </td>   \n",
       "</tr>\n",
       "<tr>\n",
       "  <th>Covariance Type:</th>      <td>nonrobust</td>    <th>                     </th>     <td> </td>   \n",
       "</tr>\n",
       "</table>\n",
       "<table class=\"simpletable\">\n",
       "<tr>\n",
       "           <td></td>             <th>coef</th>     <th>std err</th>      <th>t</th>      <th>P>|t|</th>  <th>[0.025</th>    <th>0.975]</th>  \n",
       "</tr>\n",
       "<tr>\n",
       "  <th>Intercept</th>          <td>   -0.0059</td> <td>    0.012</td> <td>   -0.497</td> <td> 0.619</td> <td>   -0.029</td> <td>    0.017</td>\n",
       "</tr>\n",
       "<tr>\n",
       "  <th>Computer_Games</th>     <td>    0.1434</td> <td>    0.037</td> <td>    3.891</td> <td> 0.000</td> <td>    0.071</td> <td>    0.216</td>\n",
       "</tr>\n",
       "<tr>\n",
       "  <th>Parenting_Style</th>    <td>    0.0619</td> <td>    0.013</td> <td>    4.925</td> <td> 0.000</td> <td>    0.037</td> <td>    0.087</td>\n",
       "</tr>\n",
       "<tr>\n",
       "  <th>Sibling_Aggression</th> <td>    0.0863</td> <td>    0.038</td> <td>    2.258</td> <td> 0.024</td> <td>    0.011</td> <td>    0.161</td>\n",
       "</tr>\n",
       "<tr>\n",
       "  <th>Diet</th>               <td>   -0.1116</td> <td>    0.038</td> <td>   -2.947</td> <td> 0.003</td> <td>   -0.186</td> <td>   -0.037</td>\n",
       "</tr>\n",
       "</table>\n",
       "<table class=\"simpletable\">\n",
       "<tr>\n",
       "  <th>Omnibus:</th>       <td>25.206</td> <th>  Durbin-Watson:     </th> <td>   1.911</td>\n",
       "</tr>\n",
       "<tr>\n",
       "  <th>Prob(Omnibus):</th> <td> 0.000</td> <th>  Jarque-Bera (JB):  </th> <td>  64.229</td>\n",
       "</tr>\n",
       "<tr>\n",
       "  <th>Skew:</th>          <td> 0.051</td> <th>  Prob(JB):          </th> <td>1.13e-14</td>\n",
       "</tr>\n",
       "<tr>\n",
       "  <th>Kurtosis:</th>      <td> 4.518</td> <th>  Cond. No.          </th> <td>    3.48</td>\n",
       "</tr>\n",
       "</table><br/><br/>Warnings:<br/>[1] Standard Errors assume that the covariance matrix of the errors is correctly specified."
      ],
      "text/plain": [
       "<class 'statsmodels.iolib.summary.Summary'>\n",
       "\"\"\"\n",
       "                            OLS Regression Results                            \n",
       "==============================================================================\n",
       "Dep. Variable:             Aggression   R-squared:                       0.082\n",
       "Model:                            OLS   Adj. R-squared:                  0.076\n",
       "Method:                 Least Squares   F-statistic:                     14.74\n",
       "Date:                Mon, 16 Sep 2019   Prob (F-statistic):           1.54e-11\n",
       "Time:                        15:35:27   Log-Likelihood:                -155.96\n",
       "No. Observations:                 666   AIC:                             321.9\n",
       "Df Residuals:                     661   BIC:                             344.4\n",
       "Df Model:                           4                                         \n",
       "Covariance Type:            nonrobust                                         \n",
       "======================================================================================\n",
       "                         coef    std err          t      P>|t|      [0.025      0.975]\n",
       "--------------------------------------------------------------------------------------\n",
       "Intercept             -0.0059      0.012     -0.497      0.619      -0.029       0.017\n",
       "Computer_Games         0.1434      0.037      3.891      0.000       0.071       0.216\n",
       "Parenting_Style        0.0619      0.013      4.925      0.000       0.037       0.087\n",
       "Sibling_Aggression     0.0863      0.038      2.258      0.024       0.011       0.161\n",
       "Diet                  -0.1116      0.038     -2.947      0.003      -0.186      -0.037\n",
       "==============================================================================\n",
       "Omnibus:                       25.206   Durbin-Watson:                   1.911\n",
       "Prob(Omnibus):                  0.000   Jarque-Bera (JB):               64.229\n",
       "Skew:                           0.051   Prob(JB):                     1.13e-14\n",
       "Kurtosis:                       4.518   Cond. No.                         3.48\n",
       "==============================================================================\n",
       "\n",
       "Warnings:\n",
       "[1] Standard Errors assume that the covariance matrix of the errors is correctly specified.\n",
       "\"\"\""
      ]
     },
     "execution_count": 26,
     "metadata": {},
     "output_type": "execute_result"
    }
   ],
   "source": [
    "res = ols('Aggression ~ Computer_Games + Parenting_Style + Sibling_Aggression + Diet', child).fit()\n",
    "\n",
    "res.summary()"
   ]
  },
  {
   "cell_type": "markdown",
   "metadata": {},
   "source": [
    "# 여러개의 독립변수가 있을 때\n",
    "- B 와 C 가 동시에 A 를 설명하게 되면, B 와 C 사이의 간접적인 관계가 형성된다\n",
    "\n",
    "ex. 형제 Sibling Aggression: 직/간접적인 여러가지 요인을 포함하고 있다.      \n",
    "- 유전적 요인\n",
    "- TV 나 공통의 환경적 요인\n",
    "- 형제가 때려서 같이 때리는 직접적 요인"
   ]
  },
  {
   "cell_type": "markdown",
   "metadata": {},
   "source": [
    "### TV, Computer_Games, Sibling_Aggression"
   ]
  },
  {
   "cell_type": "code",
   "execution_count": 32,
   "metadata": {},
   "outputs": [
    {
     "data": {
      "text/html": [
       "<table class=\"simpletable\">\n",
       "<caption>OLS Regression Results</caption>\n",
       "<tr>\n",
       "  <th>Dep. Variable:</th>       <td>Aggression</td>    <th>  R-squared:         </th> <td>   0.056</td>\n",
       "</tr>\n",
       "<tr>\n",
       "  <th>Model:</th>                   <td>OLS</td>       <th>  Adj. R-squared:    </th> <td>   0.051</td>\n",
       "</tr>\n",
       "<tr>\n",
       "  <th>Method:</th>             <td>Least Squares</td>  <th>  F-statistic:       </th> <td>   13.03</td>\n",
       "</tr>\n",
       "<tr>\n",
       "  <th>Date:</th>             <td>Mon, 16 Sep 2019</td> <th>  Prob (F-statistic):</th> <td>2.81e-08</td>\n",
       "</tr>\n",
       "<tr>\n",
       "  <th>Time:</th>                 <td>16:05:02</td>     <th>  Log-Likelihood:    </th> <td> -165.30</td>\n",
       "</tr>\n",
       "<tr>\n",
       "  <th>No. Observations:</th>      <td>   666</td>      <th>  AIC:               </th> <td>   338.6</td>\n",
       "</tr>\n",
       "<tr>\n",
       "  <th>Df Residuals:</th>          <td>   662</td>      <th>  BIC:               </th> <td>   356.6</td>\n",
       "</tr>\n",
       "<tr>\n",
       "  <th>Df Model:</th>              <td>     3</td>      <th>                     </th>     <td> </td>   \n",
       "</tr>\n",
       "<tr>\n",
       "  <th>Covariance Type:</th>      <td>nonrobust</td>    <th>                     </th>     <td> </td>   \n",
       "</tr>\n",
       "</table>\n",
       "<table class=\"simpletable\">\n",
       "<tr>\n",
       "           <td></td>             <th>coef</th>     <th>std err</th>      <th>t</th>      <th>P>|t|</th>  <th>[0.025</th>    <th>0.975]</th>  \n",
       "</tr>\n",
       "<tr>\n",
       "  <th>Intercept</th>          <td>   -0.0037</td> <td>    0.012</td> <td>   -0.304</td> <td> 0.761</td> <td>   -0.027</td> <td>    0.020</td>\n",
       "</tr>\n",
       "<tr>\n",
       "  <th>Television</th>         <td>    0.1214</td> <td>    0.040</td> <td>    3.015</td> <td> 0.003</td> <td>    0.042</td> <td>    0.201</td>\n",
       "</tr>\n",
       "<tr>\n",
       "  <th>Computer_Games</th>     <td>    0.1416</td> <td>    0.036</td> <td>    3.879</td> <td> 0.000</td> <td>    0.070</td> <td>    0.213</td>\n",
       "</tr>\n",
       "<tr>\n",
       "  <th>Sibling_Aggression</th> <td>    0.0669</td> <td>    0.039</td> <td>    1.731</td> <td> 0.084</td> <td>   -0.009</td> <td>    0.143</td>\n",
       "</tr>\n",
       "</table>\n",
       "<table class=\"simpletable\">\n",
       "<tr>\n",
       "  <th>Omnibus:</th>       <td>22.454</td> <th>  Durbin-Watson:     </th> <td>   1.923</td>\n",
       "</tr>\n",
       "<tr>\n",
       "  <th>Prob(Omnibus):</th> <td> 0.000</td> <th>  Jarque-Bera (JB):  </th> <td>  52.404</td>\n",
       "</tr>\n",
       "<tr>\n",
       "  <th>Skew:</th>          <td> 0.070</td> <th>  Prob(JB):          </th> <td>4.18e-12</td>\n",
       "</tr>\n",
       "<tr>\n",
       "  <th>Kurtosis:</th>      <td> 4.367</td> <th>  Cond. No.          </th> <td>    3.60</td>\n",
       "</tr>\n",
       "</table><br/><br/>Warnings:<br/>[1] Standard Errors assume that the covariance matrix of the errors is correctly specified."
      ],
      "text/plain": [
       "<class 'statsmodels.iolib.summary.Summary'>\n",
       "\"\"\"\n",
       "                            OLS Regression Results                            \n",
       "==============================================================================\n",
       "Dep. Variable:             Aggression   R-squared:                       0.056\n",
       "Model:                            OLS   Adj. R-squared:                  0.051\n",
       "Method:                 Least Squares   F-statistic:                     13.03\n",
       "Date:                Mon, 16 Sep 2019   Prob (F-statistic):           2.81e-08\n",
       "Time:                        16:05:02   Log-Likelihood:                -165.30\n",
       "No. Observations:                 666   AIC:                             338.6\n",
       "Df Residuals:                     662   BIC:                             356.6\n",
       "Df Model:                           3                                         \n",
       "Covariance Type:            nonrobust                                         \n",
       "======================================================================================\n",
       "                         coef    std err          t      P>|t|      [0.025      0.975]\n",
       "--------------------------------------------------------------------------------------\n",
       "Intercept             -0.0037      0.012     -0.304      0.761      -0.027       0.020\n",
       "Television             0.1214      0.040      3.015      0.003       0.042       0.201\n",
       "Computer_Games         0.1416      0.036      3.879      0.000       0.070       0.213\n",
       "Sibling_Aggression     0.0669      0.039      1.731      0.084      -0.009       0.143\n",
       "==============================================================================\n",
       "Omnibus:                       22.454   Durbin-Watson:                   1.923\n",
       "Prob(Omnibus):                  0.000   Jarque-Bera (JB):               52.404\n",
       "Skew:                           0.070   Prob(JB):                     4.18e-12\n",
       "Kurtosis:                       4.367   Cond. No.                         3.60\n",
       "==============================================================================\n",
       "\n",
       "Warnings:\n",
       "[1] Standard Errors assume that the covariance matrix of the errors is correctly specified.\n",
       "\"\"\""
      ]
     },
     "execution_count": 32,
     "metadata": {},
     "output_type": "execute_result"
    }
   ],
   "source": [
    "res = ols('Aggression ~ Television + Computer_Games + Sibling_Aggression', child).fit()\n",
    "res.summary()"
   ]
  },
  {
   "cell_type": "markdown",
   "metadata": {},
   "source": [
    "#### TV 와 게임을 **통계적으로 통제**했을 떄 \n",
    ": 형제의 공격성Sibling Aggression은 아동의 공격성Aggression을 설명하지 못한다\n",
    "\n",
    "ex. 사교육비가 늘어날수록 성적이 올라가지만, \n",
    "- 보호자의 관심을 통계적으로 통제했을 때,\n",
    "- 보호자의 관심이라는 변수를 추가하면 사교육비가 성적을 설명하지 못한다\n",
    "\n",
    "cf. 실험적으로 통제"
   ]
  },
  {
   "cell_type": "markdown",
   "metadata": {},
   "source": [
    "    모형 전체가 잘 맞는지와 각 변수가 영향을 주느냐는 다른 문제\n",
    "    모형 전체가 잘 맞으면 각 변수가 설명을 잘 못해도 냅둬야함"
   ]
  },
  {
   "cell_type": "markdown",
   "metadata": {},
   "source": [
    "# 통계 vs 머신러닝\n",
    "\n",
    "분석 과정|통계 | 머신러닝\n",
    "--|--|--\n",
    "모형 선택|O|O\n",
    "변수 해석|O|X\n",
    "중점|해석|예측\n",
    "\n",
    "→ 머신러닝에서는 예측만 잘 맞으면 변수가 어떤 의미를 가지는지 관심 없다"
   ]
  },
  {
   "cell_type": "markdown",
   "metadata": {},
   "source": [
    "# 변수 선택 Variable Selection"
   ]
  },
  {
   "cell_type": "markdown",
   "metadata": {},
   "source": [
    "### 전방선택 Forward Selection: 통계적 사고에 좀 더 부합\n",
    "- 절편만 있는 모형으로 시작\n",
    "- 추가했을 때 모형을 가장 많이 개선할 수 있는 변수를 추가\n",
    "- 더 이상 개선되지 않으면 중단\n",
    "- 지나치게 적은 변수를 포함시킬 위험이 존재"
   ]
  },
  {
   "cell_type": "markdown",
   "metadata": {},
   "source": [
    "### 후방선택 Backward Selection\n",
    "- 모든 변수를 투입한 모형으로 시작\n",
    "- 제외했을 때 모형을 가장 많이 개선하는 변수를 제외\n",
    "- 더 이상 개선되지 않으면 중단\n",
    "- 지나치게 많은 변수를 포함시킬 위험이 존재"
   ]
  },
  {
   "cell_type": "markdown",
   "metadata": {},
   "source": [
    "### 더 좋은 방법은 다음 시간에"
   ]
  },
  {
   "cell_type": "markdown",
   "metadata": {},
   "source": [
    "OLS Ordinary Least Square: 보통 최소 MSE"
   ]
  },
  {
   "cell_type": "code",
   "execution_count": null,
   "metadata": {},
   "outputs": [],
   "source": []
  }
 ],
 "metadata": {
  "kernelspec": {
   "display_name": "Python 3",
   "language": "python",
   "name": "python3"
  },
  "language_info": {
   "codemirror_mode": {
    "name": "ipython",
    "version": 3
   },
   "file_extension": ".py",
   "mimetype": "text/x-python",
   "name": "python",
   "nbconvert_exporter": "python",
   "pygments_lexer": "ipython3",
   "version": "3.7.3"
  }
 },
 "nbformat": 4,
 "nbformat_minor": 2
}
