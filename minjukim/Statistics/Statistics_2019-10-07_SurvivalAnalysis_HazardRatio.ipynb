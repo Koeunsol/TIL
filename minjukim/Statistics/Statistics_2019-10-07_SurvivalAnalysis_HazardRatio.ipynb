{
 "cells": [
  {
   "cell_type": "markdown",
   "metadata": {},
   "source": [
    "# Review"
   ]
  },
  {
   "cell_type": "markdown",
   "metadata": {},
   "source": [
    "### 다중공선성\n",
    "$X1, X2 → Y$\n",
    "\n",
    "$X1, X2$ 독립변수 사이에 서로 예측이 가능할 때\n",
    "- 해결책: 둘 중 하나를 제거\n",
    "\n",
    "- 진단방법: 독립변수끼리 회귀\n",
    "\n",
    "$R² >= 0.9$ 이면 문제\n",
    "\n",
    "$VIF = 1/(1-R²)$\n",
    "\n",
    "R²|VIF\n",
    "-|-\n",
    "0|1\n",
    "0.5|2\n",
    "0.9|10\n",
    "1| 무한대"
   ]
  },
  {
   "cell_type": "markdown",
   "metadata": {},
   "source": [
    "### 통계적으로 통제\n",
    "\n",
    "$X1$ 섭취량\n",
    "$X2$ 커피에 관심\n",
    "$Y$ 맛보기 능력\n",
    "\n",
    "관심을 통계적으로 통제했을 때(관심과 섭취량 둘 다 회귀분석에 집어넣는다) \n",
    "\n",
    "→ 섭취량은 맛보기에 영향을 주지 않는다"
   ]
  },
  {
   "cell_type": "markdown",
   "metadata": {},
   "source": [
    "### Cross Validation\n",
    "Data 를 Train set, Test set 으로 나눠서 \n",
    "- Train set: Parameter 추정\n",
    "- Test set: 예측력 검증"
   ]
  },
  {
   "cell_type": "markdown",
   "metadata": {},
   "source": [
    "# Survival Analysis\n",
    "- 특정 사건(죽음, 회복, 고장, 가입, 이탈 등)까지 걸리는 기간을 분석한다\n",
    "- 우리가 관심있는 단 한 번의 사건"
   ]
  },
  {
   "cell_type": "markdown",
   "metadata": {},
   "source": [
    "## Censoring\n",
    "- 조사 기간 밖에서 죽는 경우\n",
    "- Right Censoring: 조사 기간 이후 \n",
    "- Left Censoring: 조사 기간 이전, 조사에는 포함\n",
    "- Left Truncation: 조사 이전에 죽어서 조사에 포함 안되는 경우\n",
    "- Interval Censoring: 주기적으로 관찰하는 경우 두 관찰 시점 사이 언젠가\n",
    "\n",
    "분석할 때 언제나 Right Censoring 을 감안해야 한다"
   ]
  },
  {
   "cell_type": "markdown",
   "metadata": {},
   "source": [
    "## Survival Function 생존함수\n",
    "$S(t) = P(T > t)$\n",
    "- 시점 $t$ 까지 살아남을 확률\n",
    "- $T$: 죽는 시점\n",
    "\n",
    "#### 평균이 아니라 커브가 어떤 모양인지가 중요하다\n",
    "- 일정하게 감소\n",
    "- 초기에 많이 감소하다가 무뎌진다 ex. Netflix\n",
    "- 초기에는 감소하지 않다가 급격히 감소 ex. 통신사\n",
    "\n",
    "#### 생존함수 추정\n",
    "- 전 기간을 관찰할 수 없으니 이후의 추세를 추정한다\n",
    "- 커브에서 언제 어떻게 감소하는지 보고 그에 맞는 정책 세운다"
   ]
  },
  {
   "cell_type": "markdown",
   "metadata": {},
   "source": [
    "## 실습) 생존함수를 그리고 커브를 개선하기 위한 액션\n",
    "질병의 경우 (죽는 경우, 낫는 경우) 두가지로 커브에서 빠져나가는 경우 생존함수와 맞지 않다"
   ]
  },
  {
   "cell_type": "code",
   "execution_count": 2,
   "metadata": {},
   "outputs": [
    {
     "name": "stdout",
     "output_type": "stream",
     "text": [
      "Collecting lifelines\n",
      "  Downloading https://files.pythonhosted.org/packages/b2/96/74e1f74cc00474b969e137ab65246189b1e5841c6ab2eed98c65027bcfcb/lifelines-0.22.8-py2.py3-none-any.whl (338kB)\n",
      "Requirement already satisfied: numpy>=1.14.0 in c:\\users\\minju\\anaconda3\\lib\\site-packages (from lifelines) (1.16.2)\n",
      "Requirement already satisfied: matplotlib>=3.0 in c:\\users\\minju\\anaconda3\\lib\\site-packages (from lifelines) (3.1.0)\n",
      "Requirement already satisfied: pandas>=0.23.0 in c:\\users\\minju\\anaconda3\\lib\\site-packages (from lifelines) (0.24.2)\n",
      "Collecting autograd-gamma>=0.3 (from lifelines)\n",
      "  Downloading https://files.pythonhosted.org/packages/3e/87/788c4bf90cc5c534cb3b7fdb5b719175e33e2658decce75e35e2ce69766f/autograd_gamma-0.4.1-py2.py3-none-any.whl\n",
      "Requirement already satisfied: scipy>=1.0 in c:\\users\\minju\\anaconda3\\lib\\site-packages (from lifelines) (1.2.1)\n",
      "Collecting autograd>=1.3 (from lifelines)\n",
      "  Downloading https://files.pythonhosted.org/packages/23/12/b58522dc2cbbd7ab939c7b8e5542c441c9a06a8eccb00b3ecac04a739896/autograd-1.3.tar.gz\n",
      "Requirement already satisfied: cycler>=0.10 in c:\\users\\minju\\anaconda3\\lib\\site-packages (from matplotlib>=3.0->lifelines) (0.10.0)\n",
      "Requirement already satisfied: kiwisolver>=1.0.1 in c:\\users\\minju\\anaconda3\\lib\\site-packages (from matplotlib>=3.0->lifelines) (1.0.1)\n",
      "Requirement already satisfied: pyparsing!=2.0.4,!=2.1.2,!=2.1.6,>=2.0.1 in c:\\users\\minju\\anaconda3\\lib\\site-packages (from matplotlib>=3.0->lifelines) (2.3.1)\n",
      "Requirement already satisfied: python-dateutil>=2.1 in c:\\users\\minju\\anaconda3\\lib\\site-packages (from matplotlib>=3.0->lifelines) (2.8.0)\n",
      "Requirement already satisfied: pytz>=2011k in c:\\users\\minju\\anaconda3\\lib\\site-packages (from pandas>=0.23.0->lifelines) (2018.9)\n",
      "Requirement already satisfied: future>=0.15.2 in c:\\users\\minju\\anaconda3\\lib\\site-packages (from autograd>=1.3->lifelines) (0.17.1)\n",
      "Requirement already satisfied: six in c:\\users\\minju\\anaconda3\\lib\\site-packages (from cycler>=0.10->matplotlib>=3.0->lifelines) (1.12.0)\n",
      "Requirement already satisfied: setuptools in c:\\users\\minju\\anaconda3\\lib\\site-packages (from kiwisolver>=1.0.1->matplotlib>=3.0->lifelines) (40.8.0)\n",
      "Building wheels for collected packages: autograd\n",
      "  Building wheel for autograd (setup.py): started\n",
      "  Building wheel for autograd (setup.py): finished with status 'done'\n",
      "  Created wheel for autograd: filename=autograd-1.3-cp37-none-any.whl size=47995 sha256=6efeb83cc7ec838e5354954db51a8acf0065b2fcdac8db1cbab2c113a5e3cb50\n",
      "  Stored in directory: C:\\Users\\Minju\\AppData\\Local\\pip\\Cache\\wheels\\42\\62\\66\\1121afe23ff96af4e452e0d15e68761e3f605952ee075ca99f\n",
      "Successfully built autograd\n",
      "Installing collected packages: autograd, autograd-gamma, lifelines\n",
      "Successfully installed autograd-1.3 autograd-gamma-0.4.1 lifelines-0.22.8\n"
     ]
    },
    {
     "name": "stderr",
     "output_type": "stream",
     "text": [
      "WARNING: You are using pip version 19.2.1, however version 19.2.3 is available.\n",
      "You should consider upgrading via the 'python -m pip install --upgrade pip' command.\n"
     ]
    }
   ],
   "source": [
    "!pip install lifelines"
   ]
  },
  {
   "cell_type": "code",
   "execution_count": 3,
   "metadata": {},
   "outputs": [],
   "source": [
    "import pandas as pd"
   ]
  },
  {
   "cell_type": "code",
   "execution_count": 5,
   "metadata": {},
   "outputs": [
    {
     "data": {
      "text/html": [
       "<div>\n",
       "<style scoped>\n",
       "    .dataframe tbody tr th:only-of-type {\n",
       "        vertical-align: middle;\n",
       "    }\n",
       "\n",
       "    .dataframe tbody tr th {\n",
       "        vertical-align: top;\n",
       "    }\n",
       "\n",
       "    .dataframe thead th {\n",
       "        text-align: right;\n",
       "    }\n",
       "</style>\n",
       "<table border=\"1\" class=\"dataframe\">\n",
       "  <thead>\n",
       "    <tr style=\"text-align: right;\">\n",
       "      <th></th>\n",
       "      <th>type</th>\n",
       "      <th>time</th>\n",
       "      <th>delta</th>\n",
       "    </tr>\n",
       "  </thead>\n",
       "  <tbody>\n",
       "    <tr>\n",
       "      <th>49</th>\n",
       "      <td>1</td>\n",
       "      <td>150</td>\n",
       "      <td>0</td>\n",
       "    </tr>\n",
       "  </tbody>\n",
       "</table>\n",
       "</div>"
      ],
      "text/plain": [
       "    type  time  delta\n",
       "49     1   150      0"
      ]
     },
     "execution_count": 5,
     "metadata": {},
     "output_type": "execute_result"
    }
   ],
   "source": [
    "cancer = pd.read_csv('cancer.csv', index_col=0)\n",
    "\n",
    "cancer.sample()\n",
    "# delta: 그 시점에 죽은 사람 숫자"
   ]
  },
  {
   "cell_type": "markdown",
   "metadata": {},
   "source": [
    "## Kaplan-Meier Estimate\n",
    "$S^(t) = Π(ti <= t) (ni - di)/ni$\n",
    "\n",
    "Π: product 곱\n",
    "\n",
    "ti: i 번째 시점\n",
    "ni: i 번째 시점까지 살아남은 수\n",
    "di: i 번째 시점에 죽은 수"
   ]
  },
  {
   "cell_type": "code",
   "execution_count": 7,
   "metadata": {},
   "outputs": [],
   "source": [
    "from lifelines import KaplanMeierFitter"
   ]
  },
  {
   "cell_type": "code",
   "execution_count": 20,
   "metadata": {
    "collapsed": true
   },
   "outputs": [
    {
     "data": {
      "text/html": [
       "<div>\n",
       "<style scoped>\n",
       "    .dataframe tbody tr th:only-of-type {\n",
       "        vertical-align: middle;\n",
       "    }\n",
       "\n",
       "    .dataframe tbody tr th {\n",
       "        vertical-align: top;\n",
       "    }\n",
       "\n",
       "    .dataframe thead th {\n",
       "        text-align: right;\n",
       "    }\n",
       "</style>\n",
       "<table border=\"1\" class=\"dataframe\">\n",
       "  <thead>\n",
       "    <tr style=\"text-align: right;\">\n",
       "      <th></th>\n",
       "      <th>type</th>\n",
       "      <th>time</th>\n",
       "      <th>delta</th>\n",
       "    </tr>\n",
       "  </thead>\n",
       "  <tbody>\n",
       "    <tr>\n",
       "      <th>32</th>\n",
       "      <td>1</td>\n",
       "      <td>61</td>\n",
       "      <td>0</td>\n",
       "    </tr>\n",
       "    <tr>\n",
       "      <th>33</th>\n",
       "      <td>1</td>\n",
       "      <td>74</td>\n",
       "      <td>0</td>\n",
       "    </tr>\n",
       "    <tr>\n",
       "      <th>34</th>\n",
       "      <td>1</td>\n",
       "      <td>79</td>\n",
       "      <td>0</td>\n",
       "    </tr>\n",
       "    <tr>\n",
       "      <th>35</th>\n",
       "      <td>1</td>\n",
       "      <td>80</td>\n",
       "      <td>0</td>\n",
       "    </tr>\n",
       "    <tr>\n",
       "      <th>36</th>\n",
       "      <td>1</td>\n",
       "      <td>81</td>\n",
       "      <td>0</td>\n",
       "    </tr>\n",
       "    <tr>\n",
       "      <th>37</th>\n",
       "      <td>1</td>\n",
       "      <td>87</td>\n",
       "      <td>0</td>\n",
       "    </tr>\n",
       "    <tr>\n",
       "      <th>38</th>\n",
       "      <td>1</td>\n",
       "      <td>87</td>\n",
       "      <td>0</td>\n",
       "    </tr>\n",
       "    <tr>\n",
       "      <th>39</th>\n",
       "      <td>1</td>\n",
       "      <td>88</td>\n",
       "      <td>0</td>\n",
       "    </tr>\n",
       "    <tr>\n",
       "      <th>40</th>\n",
       "      <td>1</td>\n",
       "      <td>89</td>\n",
       "      <td>0</td>\n",
       "    </tr>\n",
       "    <tr>\n",
       "      <th>41</th>\n",
       "      <td>1</td>\n",
       "      <td>93</td>\n",
       "      <td>0</td>\n",
       "    </tr>\n",
       "    <tr>\n",
       "      <th>42</th>\n",
       "      <td>1</td>\n",
       "      <td>97</td>\n",
       "      <td>0</td>\n",
       "    </tr>\n",
       "    <tr>\n",
       "      <th>43</th>\n",
       "      <td>1</td>\n",
       "      <td>101</td>\n",
       "      <td>0</td>\n",
       "    </tr>\n",
       "    <tr>\n",
       "      <th>44</th>\n",
       "      <td>1</td>\n",
       "      <td>104</td>\n",
       "      <td>0</td>\n",
       "    </tr>\n",
       "    <tr>\n",
       "      <th>45</th>\n",
       "      <td>1</td>\n",
       "      <td>108</td>\n",
       "      <td>0</td>\n",
       "    </tr>\n",
       "    <tr>\n",
       "      <th>46</th>\n",
       "      <td>1</td>\n",
       "      <td>109</td>\n",
       "      <td>0</td>\n",
       "    </tr>\n",
       "    <tr>\n",
       "      <th>47</th>\n",
       "      <td>1</td>\n",
       "      <td>120</td>\n",
       "      <td>0</td>\n",
       "    </tr>\n",
       "    <tr>\n",
       "      <th>48</th>\n",
       "      <td>1</td>\n",
       "      <td>131</td>\n",
       "      <td>0</td>\n",
       "    </tr>\n",
       "    <tr>\n",
       "      <th>49</th>\n",
       "      <td>1</td>\n",
       "      <td>150</td>\n",
       "      <td>0</td>\n",
       "    </tr>\n",
       "    <tr>\n",
       "      <th>50</th>\n",
       "      <td>1</td>\n",
       "      <td>231</td>\n",
       "      <td>0</td>\n",
       "    </tr>\n",
       "    <tr>\n",
       "      <th>51</th>\n",
       "      <td>1</td>\n",
       "      <td>240</td>\n",
       "      <td>0</td>\n",
       "    </tr>\n",
       "    <tr>\n",
       "      <th>52</th>\n",
       "      <td>1</td>\n",
       "      <td>400</td>\n",
       "      <td>0</td>\n",
       "    </tr>\n",
       "    <tr>\n",
       "      <th>75</th>\n",
       "      <td>2</td>\n",
       "      <td>8</td>\n",
       "      <td>0</td>\n",
       "    </tr>\n",
       "    <tr>\n",
       "      <th>76</th>\n",
       "      <td>2</td>\n",
       "      <td>67</td>\n",
       "      <td>0</td>\n",
       "    </tr>\n",
       "    <tr>\n",
       "      <th>77</th>\n",
       "      <td>2</td>\n",
       "      <td>76</td>\n",
       "      <td>0</td>\n",
       "    </tr>\n",
       "    <tr>\n",
       "      <th>78</th>\n",
       "      <td>2</td>\n",
       "      <td>104</td>\n",
       "      <td>0</td>\n",
       "    </tr>\n",
       "    <tr>\n",
       "      <th>79</th>\n",
       "      <td>2</td>\n",
       "      <td>176</td>\n",
       "      <td>0</td>\n",
       "    </tr>\n",
       "    <tr>\n",
       "      <th>80</th>\n",
       "      <td>2</td>\n",
       "      <td>231</td>\n",
       "      <td>0</td>\n",
       "    </tr>\n",
       "  </tbody>\n",
       "</table>\n",
       "</div>"
      ],
      "text/plain": [
       "    type  time  delta\n",
       "32     1    61      0\n",
       "33     1    74      0\n",
       "34     1    79      0\n",
       "35     1    80      0\n",
       "36     1    81      0\n",
       "37     1    87      0\n",
       "38     1    87      0\n",
       "39     1    88      0\n",
       "40     1    89      0\n",
       "41     1    93      0\n",
       "42     1    97      0\n",
       "43     1   101      0\n",
       "44     1   104      0\n",
       "45     1   108      0\n",
       "46     1   109      0\n",
       "47     1   120      0\n",
       "48     1   131      0\n",
       "49     1   150      0\n",
       "50     1   231      0\n",
       "51     1   240      0\n",
       "52     1   400      0\n",
       "75     2     8      0\n",
       "76     2    67      0\n",
       "77     2    76      0\n",
       "78     2   104      0\n",
       "79     2   176      0\n",
       "80     2   231      0"
      ]
     },
     "execution_count": 20,
     "metadata": {},
     "output_type": "execute_result"
    }
   ],
   "source": [
    "cancer.query('delta == 0') # delta == 0 인 경우, 즉, 그 시점에 추적이 안 된 사례"
   ]
  },
  {
   "cell_type": "code",
   "execution_count": 10,
   "metadata": {},
   "outputs": [],
   "source": [
    "cancer1 = cancer.query('type == 1')"
   ]
  },
  {
   "cell_type": "code",
   "execution_count": 16,
   "metadata": {},
   "outputs": [],
   "source": [
    "kmf = KaplanMeierFitter()"
   ]
  },
  {
   "cell_type": "code",
   "execution_count": 17,
   "metadata": {},
   "outputs": [
    {
     "data": {
      "text/plain": [
       "<lifelines.KaplanMeierFitter: fitted with 52 total observations, 21 right-censored observations>"
      ]
     },
     "execution_count": 17,
     "metadata": {},
     "output_type": "execute_result"
    }
   ],
   "source": [
    "kmf.fit(cancer1['time'], event_observed=cancer1['delta'], label='type 1')"
   ]
  },
  {
   "cell_type": "code",
   "execution_count": 14,
   "metadata": {},
   "outputs": [],
   "source": [
    "from matplotlib import pyplot"
   ]
  },
  {
   "cell_type": "code",
   "execution_count": 18,
   "metadata": {
    "collapsed": true
   },
   "outputs": [
    {
     "data": {
      "text/html": [
       "<div>\n",
       "<style scoped>\n",
       "    .dataframe tbody tr th:only-of-type {\n",
       "        vertical-align: middle;\n",
       "    }\n",
       "\n",
       "    .dataframe tbody tr th {\n",
       "        vertical-align: top;\n",
       "    }\n",
       "\n",
       "    .dataframe thead th {\n",
       "        text-align: right;\n",
       "    }\n",
       "</style>\n",
       "<table border=\"1\" class=\"dataframe\">\n",
       "  <thead>\n",
       "    <tr style=\"text-align: right;\">\n",
       "      <th></th>\n",
       "      <th>type 1</th>\n",
       "    </tr>\n",
       "    <tr>\n",
       "      <th>timeline</th>\n",
       "      <th></th>\n",
       "    </tr>\n",
       "  </thead>\n",
       "  <tbody>\n",
       "    <tr>\n",
       "      <th>0.0</th>\n",
       "      <td>1.000000</td>\n",
       "    </tr>\n",
       "    <tr>\n",
       "      <th>1.0</th>\n",
       "      <td>0.980769</td>\n",
       "    </tr>\n",
       "    <tr>\n",
       "      <th>3.0</th>\n",
       "      <td>0.942308</td>\n",
       "    </tr>\n",
       "    <tr>\n",
       "      <th>4.0</th>\n",
       "      <td>0.923077</td>\n",
       "    </tr>\n",
       "    <tr>\n",
       "      <th>10.0</th>\n",
       "      <td>0.903846</td>\n",
       "    </tr>\n",
       "    <tr>\n",
       "      <th>13.0</th>\n",
       "      <td>0.865385</td>\n",
       "    </tr>\n",
       "    <tr>\n",
       "      <th>16.0</th>\n",
       "      <td>0.826923</td>\n",
       "    </tr>\n",
       "    <tr>\n",
       "      <th>24.0</th>\n",
       "      <td>0.807692</td>\n",
       "    </tr>\n",
       "    <tr>\n",
       "      <th>26.0</th>\n",
       "      <td>0.788462</td>\n",
       "    </tr>\n",
       "    <tr>\n",
       "      <th>27.0</th>\n",
       "      <td>0.769231</td>\n",
       "    </tr>\n",
       "    <tr>\n",
       "      <th>28.0</th>\n",
       "      <td>0.750000</td>\n",
       "    </tr>\n",
       "    <tr>\n",
       "      <th>30.0</th>\n",
       "      <td>0.711538</td>\n",
       "    </tr>\n",
       "    <tr>\n",
       "      <th>32.0</th>\n",
       "      <td>0.692308</td>\n",
       "    </tr>\n",
       "    <tr>\n",
       "      <th>41.0</th>\n",
       "      <td>0.673077</td>\n",
       "    </tr>\n",
       "    <tr>\n",
       "      <th>51.0</th>\n",
       "      <td>0.653846</td>\n",
       "    </tr>\n",
       "    <tr>\n",
       "      <th>61.0</th>\n",
       "      <td>0.653846</td>\n",
       "    </tr>\n",
       "    <tr>\n",
       "      <th>65.0</th>\n",
       "      <td>0.634033</td>\n",
       "    </tr>\n",
       "    <tr>\n",
       "      <th>67.0</th>\n",
       "      <td>0.614219</td>\n",
       "    </tr>\n",
       "    <tr>\n",
       "      <th>70.0</th>\n",
       "      <td>0.594406</td>\n",
       "    </tr>\n",
       "    <tr>\n",
       "      <th>72.0</th>\n",
       "      <td>0.574592</td>\n",
       "    </tr>\n",
       "    <tr>\n",
       "      <th>73.0</th>\n",
       "      <td>0.554779</td>\n",
       "    </tr>\n",
       "    <tr>\n",
       "      <th>74.0</th>\n",
       "      <td>0.554779</td>\n",
       "    </tr>\n",
       "    <tr>\n",
       "      <th>77.0</th>\n",
       "      <td>0.534231</td>\n",
       "    </tr>\n",
       "    <tr>\n",
       "      <th>79.0</th>\n",
       "      <td>0.534231</td>\n",
       "    </tr>\n",
       "    <tr>\n",
       "      <th>80.0</th>\n",
       "      <td>0.534231</td>\n",
       "    </tr>\n",
       "    <tr>\n",
       "      <th>81.0</th>\n",
       "      <td>0.534231</td>\n",
       "    </tr>\n",
       "    <tr>\n",
       "      <th>87.0</th>\n",
       "      <td>0.534231</td>\n",
       "    </tr>\n",
       "    <tr>\n",
       "      <th>88.0</th>\n",
       "      <td>0.534231</td>\n",
       "    </tr>\n",
       "    <tr>\n",
       "      <th>89.0</th>\n",
       "      <td>0.534231</td>\n",
       "    </tr>\n",
       "    <tr>\n",
       "      <th>91.0</th>\n",
       "      <td>0.506114</td>\n",
       "    </tr>\n",
       "    <tr>\n",
       "      <th>93.0</th>\n",
       "      <td>0.477996</td>\n",
       "    </tr>\n",
       "    <tr>\n",
       "      <th>96.0</th>\n",
       "      <td>0.448122</td>\n",
       "    </tr>\n",
       "    <tr>\n",
       "      <th>97.0</th>\n",
       "      <td>0.448122</td>\n",
       "    </tr>\n",
       "    <tr>\n",
       "      <th>100.0</th>\n",
       "      <td>0.416113</td>\n",
       "    </tr>\n",
       "    <tr>\n",
       "      <th>101.0</th>\n",
       "      <td>0.416113</td>\n",
       "    </tr>\n",
       "    <tr>\n",
       "      <th>104.0</th>\n",
       "      <td>0.381437</td>\n",
       "    </tr>\n",
       "    <tr>\n",
       "      <th>108.0</th>\n",
       "      <td>0.381437</td>\n",
       "    </tr>\n",
       "    <tr>\n",
       "      <th>109.0</th>\n",
       "      <td>0.381437</td>\n",
       "    </tr>\n",
       "    <tr>\n",
       "      <th>120.0</th>\n",
       "      <td>0.381437</td>\n",
       "    </tr>\n",
       "    <tr>\n",
       "      <th>131.0</th>\n",
       "      <td>0.381437</td>\n",
       "    </tr>\n",
       "    <tr>\n",
       "      <th>150.0</th>\n",
       "      <td>0.381437</td>\n",
       "    </tr>\n",
       "    <tr>\n",
       "      <th>157.0</th>\n",
       "      <td>0.305149</td>\n",
       "    </tr>\n",
       "    <tr>\n",
       "      <th>167.0</th>\n",
       "      <td>0.228862</td>\n",
       "    </tr>\n",
       "    <tr>\n",
       "      <th>231.0</th>\n",
       "      <td>0.228862</td>\n",
       "    </tr>\n",
       "    <tr>\n",
       "      <th>240.0</th>\n",
       "      <td>0.228862</td>\n",
       "    </tr>\n",
       "    <tr>\n",
       "      <th>400.0</th>\n",
       "      <td>0.228862</td>\n",
       "    </tr>\n",
       "  </tbody>\n",
       "</table>\n",
       "</div>"
      ],
      "text/plain": [
       "            type 1\n",
       "timeline          \n",
       "0.0       1.000000\n",
       "1.0       0.980769\n",
       "3.0       0.942308\n",
       "4.0       0.923077\n",
       "10.0      0.903846\n",
       "13.0      0.865385\n",
       "16.0      0.826923\n",
       "24.0      0.807692\n",
       "26.0      0.788462\n",
       "27.0      0.769231\n",
       "28.0      0.750000\n",
       "30.0      0.711538\n",
       "32.0      0.692308\n",
       "41.0      0.673077\n",
       "51.0      0.653846\n",
       "61.0      0.653846\n",
       "65.0      0.634033\n",
       "67.0      0.614219\n",
       "70.0      0.594406\n",
       "72.0      0.574592\n",
       "73.0      0.554779\n",
       "74.0      0.554779\n",
       "77.0      0.534231\n",
       "79.0      0.534231\n",
       "80.0      0.534231\n",
       "81.0      0.534231\n",
       "87.0      0.534231\n",
       "88.0      0.534231\n",
       "89.0      0.534231\n",
       "91.0      0.506114\n",
       "93.0      0.477996\n",
       "96.0      0.448122\n",
       "97.0      0.448122\n",
       "100.0     0.416113\n",
       "101.0     0.416113\n",
       "104.0     0.381437\n",
       "108.0     0.381437\n",
       "109.0     0.381437\n",
       "120.0     0.381437\n",
       "131.0     0.381437\n",
       "150.0     0.381437\n",
       "157.0     0.305149\n",
       "167.0     0.228862\n",
       "231.0     0.228862\n",
       "240.0     0.228862\n",
       "400.0     0.228862"
      ]
     },
     "execution_count": 18,
     "metadata": {},
     "output_type": "execute_result"
    }
   ],
   "source": [
    "kmf.survival_function_"
   ]
  },
  {
   "cell_type": "code",
   "execution_count": 19,
   "metadata": {},
   "outputs": [
    {
     "data": {
      "text/plain": [
       "<matplotlib.axes._subplots.AxesSubplot at 0x289f1f7c358>"
      ]
     },
     "execution_count": 19,
     "metadata": {},
     "output_type": "execute_result"
    },
    {
     "data": {
      "image/png": "[encoded data removed]",
      "text/plain": [
       "<Figure size 432x288 with 1 Axes>"
      ]
     },
     "metadata": {
      "needs_background": "light"
     },
     "output_type": "display_data"
    }
   ],
   "source": [
    "kmf.plot_survival_function()"
   ]
  },
  {
   "cell_type": "markdown",
   "metadata": {},
   "source": [
    "#### (8 개월 이후에 병원에 안나오는 사람) 같은 사람들을 적당히 추정해서 그래프에 넣어준다\n",
    "- 병원에 계속 나온 사람과 비슷하게 완치됐을 것이라고 가정\n",
    "- 만약 8 개월차에 죽어서 병원에 안 나온거라면 왜곡이 발생"
   ]
  },
  {
   "cell_type": "code",
   "execution_count": 22,
   "metadata": {},
   "outputs": [
    {
     "data": {
      "text/plain": [
       "<matplotlib.axes._subplots.AxesSubplot at 0x289f2048710>"
      ]
     },
     "execution_count": 22,
     "metadata": {},
     "output_type": "execute_result"
    },
    {
     "data": {
      "image/png": "[encoded data removed]",
      "text/plain": [
       "<Figure size 432x288 with 1 Axes>"
      ]
     },
     "metadata": {
      "needs_background": "light"
     },
     "output_type": "display_data"
    }
   ],
   "source": [
    "cancer2 = cancer.query('type == 2')\n",
    "kmf2 = KaplanMeierFitter()\n",
    "kmf2.fit(cancer2['time'], event_observed=cancer2['delta'], label='type 2')\n",
    "kmf2.plot()"
   ]
  },
  {
   "cell_type": "code",
   "execution_count": 24,
   "metadata": {},
   "outputs": [
    {
     "data": {
      "text/plain": [
       "<matplotlib.axes._subplots.AxesSubplot at 0x289f296d780>"
      ]
     },
     "execution_count": 24,
     "metadata": {},
     "output_type": "execute_result"
    },
    {
     "data": {
      "image/png": "[encoded data removed]",
      "text/plain": [
       "<Figure size 432x288 with 1 Axes>"
      ]
     },
     "metadata": {
      "needs_background": "light"
     },
     "output_type": "display_data"
    }
   ],
   "source": [
    "# 같은 canvas 에 그리기\n",
    "\n",
    "ax = kmf1.survival_function_.plot()\n",
    "kmf2.survival_function_.plot(ax=ax)"
   ]
  },
  {
   "cell_type": "markdown",
   "metadata": {},
   "source": [
    "### Logrank Test\n",
    "신뢰구간을 반영해도 type 2 가 더 가파르게 감소하는지 확인하기"
   ]
  },
  {
   "cell_type": "code",
   "execution_count": 26,
   "metadata": {},
   "outputs": [],
   "source": [
    "from lifelines.statistics import logrank_test"
   ]
  },
  {
   "cell_type": "code",
   "execution_count": 29,
   "metadata": {},
   "outputs": [
    {
     "name": "stdout",
     "output_type": "stream",
     "text": [
      "<lifelines.StatisticalResult>\n",
      "               t_0 = -1\n",
      " null_distribution = chi squared\n",
      "degrees_of_freedom = 1\n",
      "             alpha = 0.95\n",
      "\n",
      "---\n",
      " test_statistic    p  -log2(p)\n",
      "           2.79 0.09      3.40\n"
     ]
    }
   ],
   "source": [
    "summary = logrank_test(cancer1['time'], cancer2['time'], cancer1['delta'], cancer2['delta'], alpha=.95)\n",
    "\n",
    "summary.print_summary()"
   ]
  },
  {
   "cell_type": "markdown",
   "metadata": {},
   "source": [
    "#### p value < 0.05 여야 차이가 난다고 할 수 있다.\n",
    "p value = 0.09 이므로 95 % 신뢰구간 오차범위 내에 있다"
   ]
  },
  {
   "cell_type": "markdown",
   "metadata": {},
   "source": [
    "### Hazard Function 위험함수\n",
    "- 순간 순간 얼마나 위험한지\n",
    "- 시점 t 에 죽을 확률\n",
    "- 위험함수는 시점 t 에 죽을 확률 \n",
    "> cf. 생존함수는 시점 t 까지 생존할 확률\n",
    "\n",
    "$S(t) = .5$ \n",
    "\n",
    "- t 까지 50 % 가 살아남는다\n",
    "\n",
    "$h(t) = .5$ \n",
    "\n",
    "- 시점 t 에 그 때까지 살아있던 사람 중에 50 % 가 죽는다"
   ]
  },
  {
   "cell_type": "markdown",
   "metadata": {},
   "source": [
    "### Cumulative Hazard Function 누적 위험함수\n",
    "- 시점 0 부터 시점 t 까지 위험함수의 적분(=합계)\n",
    "- 위험함수 = 시점 t 에서 누적위험함수의 변화량(미분값)\n",
    "- 생존함수 $S(t) = exp(-H(t))$\n",
    "\n",
    "#### Hazard Function vs Cumulative Hazard Function\n",
    "- 위험함수는 시점 t 의 순간적인 변화이기 때문에 추정이 어렵다\n",
    "- 누적 위험함수는 해석이 어렵지만 긴 시점의 누적된 양이므로 상대적으로 추정이 쉽다"
   ]
  },
  {
   "cell_type": "markdown",
   "metadata": {},
   "source": [
    "### Nelson-Aalen Estimate\n",
    "- 누적위험함수 H(t) 의 추정치\n",
    "\n",
    "H(t) = 합ti<=t di/ni\n",
    "\n",
    "- ti: i 번째 시점\n",
    "- ni: i 번째 시점까지 살아남은 수\n",
    "- di: i 번째 시점에 죽은 수"
   ]
  },
  {
   "cell_type": "code",
   "execution_count": 34,
   "metadata": {},
   "outputs": [],
   "source": [
    "from lifelines import NelsonAalenFitter"
   ]
  },
  {
   "cell_type": "code",
   "execution_count": 39,
   "metadata": {},
   "outputs": [
    {
     "data": {
      "text/plain": [
       "<matplotlib.axes._subplots.AxesSubplot at 0x289f260dbe0>"
      ]
     },
     "execution_count": 39,
     "metadata": {},
     "output_type": "execute_result"
    },
    {
     "data": {
      "image/png": "[encoded data removed]",
      "text/plain": [
       "<Figure size 432x288 with 1 Axes>"
      ]
     },
     "metadata": {
      "needs_background": "light"
     },
     "output_type": "display_data"
    }
   ],
   "source": [
    "naf1 = NelsonAalenFitter()\n",
    "\n",
    "naf1.fit(cancer1['time'], event_observed=cancer1['delta'], label='type 1 (NelsonAalen)')\n",
    "\n",
    "naf1.plot()"
   ]
  },
  {
   "cell_type": "markdown",
   "metadata": {},
   "source": [
    "### Exponential Model 지수 모형 \n",
    "$H(t) = t/λ$\n",
    "- 한가지 파라미터 $λ$ 로 누적위험함수를 나타낸다 \n",
    "- 매 시점마다 1/λ 의 확률로 일정하게 죽는다고 가정한다\n",
    "> 그래프가 매끄럽다. 일정한 확률로 가정했기 때문에"
   ]
  },
  {
   "cell_type": "code",
   "execution_count": 40,
   "metadata": {},
   "outputs": [],
   "source": [
    "from lifelines import ExponentialFitter"
   ]
  },
  {
   "cell_type": "code",
   "execution_count": 42,
   "metadata": {},
   "outputs": [
    {
     "data": {
      "text/plain": [
       "<matplotlib.axes._subplots.AxesSubplot at 0x289f231da58>"
      ]
     },
     "execution_count": 42,
     "metadata": {},
     "output_type": "execute_result"
    },
    {
     "data": {
      "image/png": "[encoded data removed]",
      "text/plain": [
       "<Figure size 432x288 with 1 Axes>"
      ]
     },
     "metadata": {
      "needs_background": "light"
     },
     "output_type": "display_data"
    }
   ],
   "source": [
    "ef1 = ExponentialFitter()\n",
    "\n",
    "ef1.fit(cancer1['time'], event_observed=cancer1['delta'], label='type 1 (Exponential)')\n",
    "\n",
    "ef1.plot_survival_function()"
   ]
  },
  {
   "cell_type": "code",
   "execution_count": 43,
   "metadata": {},
   "outputs": [
    {
     "data": {
      "text/plain": [
       "-183.24816317243193"
      ]
     },
     "execution_count": 43,
     "metadata": {},
     "output_type": "execute_result"
    }
   ],
   "source": [
    "ef1.log_likelihood_"
   ]
  },
  {
   "cell_type": "code",
   "execution_count": 44,
   "metadata": {},
   "outputs": [
    {
     "data": {
      "text/plain": [
       "366.9356548843635"
      ]
     },
     "execution_count": 44,
     "metadata": {},
     "output_type": "execute_result"
    }
   ],
   "source": [
    "2 * 1 - 2 * wf1.log_likelihood_ # AIC 작을수록 좋다"
   ]
  },
  {
   "cell_type": "markdown",
   "metadata": {},
   "source": [
    "### Weibull Model 베이불 모델\n",
    "지수모형의 확장"
   ]
  },
  {
   "cell_type": "code",
   "execution_count": 30,
   "metadata": {},
   "outputs": [],
   "source": [
    "from lifelines import WeibullFitter"
   ]
  },
  {
   "cell_type": "code",
   "execution_count": 48,
   "metadata": {},
   "outputs": [
    {
     "data": {
      "text/plain": [
       "<matplotlib.axes._subplots.AxesSubplot at 0x289f27ef5c0>"
      ]
     },
     "execution_count": 48,
     "metadata": {},
     "output_type": "execute_result"
    },
    {
     "data": {
      "image/png": "[encoded data removed]",
      "text/plain": [
       "<Figure size 432x288 with 1 Axes>"
      ]
     },
     "metadata": {
      "needs_background": "light"
     },
     "output_type": "display_data"
    }
   ],
   "source": [
    "wf1 = WeibullFitter()\n",
    "\n",
    "wf1.fit(cancer1['time'], event_observed=cancer1['delta'], label='type 1 (Weibull)')\n",
    "\n",
    "wf1.plot_survival_function() # Weibull 에서는 plot 하면 누적위험함수 곡선"
   ]
  },
  {
   "cell_type": "code",
   "execution_count": 49,
   "metadata": {},
   "outputs": [
    {
     "data": {
      "text/plain": [
       "368.9356548843635"
      ]
     },
     "execution_count": 49,
     "metadata": {},
     "output_type": "execute_result"
    }
   ],
   "source": [
    "2 * 2 - 2 * wf1.log_likelihood_ # AIC"
   ]
  },
  {
   "cell_type": "markdown",
   "metadata": {},
   "source": [
    "### 아래 처럼 겹쳐서 보는 것 추천"
   ]
  },
  {
   "cell_type": "code",
   "execution_count": 46,
   "metadata": {},
   "outputs": [
    {
     "data": {
      "text/plain": [
       "<matplotlib.axes._subplots.AxesSubplot at 0x289f21a9fd0>"
      ]
     },
     "execution_count": 46,
     "metadata": {},
     "output_type": "execute_result"
    },
    {
     "data": {
      "image/png": "[encoded data removed]",
      "text/plain": [
       "<Figure size 432x288 with 1 Axes>"
      ]
     },
     "metadata": {
      "needs_background": "light"
     },
     "output_type": "display_data"
    }
   ],
   "source": [
    "ax = kmf1.plot_survival_function()\n",
    "wf1.plot_survival_function(ax=ax)"
   ]
  },
  {
   "cell_type": "markdown",
   "metadata": {},
   "source": [
    "## Survival Regression\n",
    "- 위험을 종속변수로 회귀분석"
   ]
  },
  {
   "cell_type": "markdown",
   "metadata": {},
   "source": [
    "### Cox Model 콕스 모형\n",
    "- 생존분석과 회귀분석을 합친 것\n",
    "- 어떤 변수가 있으면 빨리 떨어지고, 천천히 떨어지는지"
   ]
  },
  {
   "cell_type": "markdown",
   "metadata": {},
   "source": [
    "### Hazard Ratio 위험비\n",
    "- 위험이 증가하는 비율\n",
    "- 독립변수 x 의 계수가 0.09 인 경우\n",
    "> exp(0.09) = 1.10\n",
    ">\n",
    "> x 가 1 증가할 때마다 위험이 1.10 배씩 증가\n",
    "- 콕스 모형의 주요 가정: 위험은 시간에 따라 변하지만, 위험비는 일정하다"
   ]
  },
  {
   "cell_type": "code",
   "execution_count": 50,
   "metadata": {},
   "outputs": [],
   "source": [
    "# 범죄자가 출소 후 다시 잡혀오는 것\n",
    "from lifelines.datasets import load_rossi"
   ]
  },
  {
   "cell_type": "code",
   "execution_count": 51,
   "metadata": {},
   "outputs": [
    {
     "data": {
      "text/html": [
       "<div>\n",
       "<style scoped>\n",
       "    .dataframe tbody tr th:only-of-type {\n",
       "        vertical-align: middle;\n",
       "    }\n",
       "\n",
       "    .dataframe tbody tr th {\n",
       "        vertical-align: top;\n",
       "    }\n",
       "\n",
       "    .dataframe thead th {\n",
       "        text-align: right;\n",
       "    }\n",
       "</style>\n",
       "<table border=\"1\" class=\"dataframe\">\n",
       "  <thead>\n",
       "    <tr style=\"text-align: right;\">\n",
       "      <th></th>\n",
       "      <th>week</th>\n",
       "      <th>arrest</th>\n",
       "      <th>fin</th>\n",
       "      <th>age</th>\n",
       "      <th>race</th>\n",
       "      <th>wexp</th>\n",
       "      <th>mar</th>\n",
       "      <th>paro</th>\n",
       "      <th>prio</th>\n",
       "    </tr>\n",
       "  </thead>\n",
       "  <tbody>\n",
       "    <tr>\n",
       "      <th>110</th>\n",
       "      <td>52</td>\n",
       "      <td>0</td>\n",
       "      <td>0</td>\n",
       "      <td>20</td>\n",
       "      <td>1</td>\n",
       "      <td>0</td>\n",
       "      <td>0</td>\n",
       "      <td>1</td>\n",
       "      <td>6</td>\n",
       "    </tr>\n",
       "  </tbody>\n",
       "</table>\n",
       "</div>"
      ],
      "text/plain": [
       "     week  arrest  fin  age  race  wexp  mar  paro  prio\n",
       "110    52       0    0   20     1     0    0     1     6"
      ]
     },
     "execution_count": 51,
     "metadata": {},
     "output_type": "execute_result"
    }
   ],
   "source": [
    "rossi = load_rossi()\n",
    "\n",
    "rossi.sample()"
   ]
  },
  {
   "cell_type": "markdown",
   "metadata": {},
   "source": [
    "- fin: 경제적 지원\n",
    "- age: 나이\n",
    "- race: 인종\n",
    "- wexp: 직업 경험\n",
    "- mar: 결혼\n",
    "- paro: 가석방\n",
    "- prio: 전과"
   ]
  },
  {
   "cell_type": "code",
   "execution_count": 53,
   "metadata": {},
   "outputs": [],
   "source": [
    "from lifelines import CoxPHFitter"
   ]
  },
  {
   "cell_type": "code",
   "execution_count": 54,
   "metadata": {},
   "outputs": [
    {
     "name": "stdout",
     "output_type": "stream",
     "text": [
      "\r",
      "Iteration 1: norm_delta = 0.50881, step_size = 0.9500, ll = -675.38063, newton_decrement = 16.76434, seconds_since_start = 0.0\r",
      "Iteration 2: norm_delta = 0.13852, step_size = 0.9500, ll = -659.79004, newton_decrement = 0.99157, seconds_since_start = 0.0\r",
      "Iteration 3: norm_delta = 0.01802, step_size = 0.9500, ll = -658.76197, newton_decrement = 0.01422, seconds_since_start = 0.0\r",
      "Iteration 4: norm_delta = 0.00108, step_size = 1.0000, ll = -658.74771, newton_decrement = 0.00005, seconds_since_start = 0.0\r",
      "Iteration 5: norm_delta = 0.00000, step_size = 1.0000, ll = -658.74766, newton_decrement = 0.00000, seconds_since_start = 0.0Convergence completed after 5 iterations.\n",
      "<lifelines.CoxPHFitter: fitted with 432 total observations, 318 right-censored observations>\n",
      "             duration col = 'week'\n",
      "                event col = 'arrest'\n",
      "   number of observations = 432\n",
      "number of events observed = 114\n",
      "   partial log-likelihood = -658.75\n",
      "         time fit was run = 2019-10-07 06:27:32 UTC\n",
      "\n",
      "---\n",
      "       coef  exp(coef)   se(coef)   coef lower 95%   coef upper 95%  exp(coef) lower 95%  exp(coef) upper 95%\n",
      "fin   -0.38       0.68       0.19            -0.75            -0.00                 0.47                 1.00\n",
      "age   -0.06       0.94       0.02            -0.10            -0.01                 0.90                 0.99\n",
      "race   0.31       1.37       0.31            -0.29             0.92                 0.75                 2.50\n",
      "wexp  -0.15       0.86       0.21            -0.57             0.27                 0.57                 1.30\n",
      "mar   -0.43       0.65       0.38            -1.18             0.31                 0.31                 1.37\n",
      "paro  -0.08       0.92       0.20            -0.47             0.30                 0.63                 1.35\n",
      "prio   0.09       1.10       0.03             0.04             0.15                 1.04                 1.16\n",
      "\n",
      "         z      p   -log2(p)\n",
      "fin  -1.98   0.05       4.40\n",
      "age  -2.61   0.01       6.79\n",
      "race  1.02   0.31       1.70\n",
      "wexp -0.71   0.48       1.06\n",
      "mar  -1.14   0.26       1.97\n",
      "paro -0.43   0.66       0.59\n",
      "prio  3.19 <0.005       9.48\n",
      "---\n",
      "Concordance = 0.64\n",
      "Log-likelihood ratio test = 33.27 on 7 df, -log2(p)=15.37\n"
     ]
    }
   ],
   "source": [
    "cph = CoxPHFitter()\n",
    "\n",
    "cph.fit(rossi, duration_col='week', event_col='arrest', show_progress=True)\n",
    "\n",
    "cph.print_summary()"
   ]
  },
  {
   "cell_type": "markdown",
   "metadata": {},
   "source": [
    "#### coef 해석\n",
    "\n",
    "> marr coef 0.65\n",
    "\n",
    ": marr == 0 (미혼)보다 marr == 1(기혼) 이 위험률이 0.65 배 낮아진다\n",
    "\n",
    "> race coef 1.37\n",
    "\n",
    ": race == 0 보다 race == 1 이 위험률이 1.37 배 높아진다\n",
    "\n",
    "#### coef lower upper 1보다 큰 쪽에 둘 다 있거나, 1보다 작은 쪽에 둘 다 있어야 한다\n",
    "\n",
    "#### p value 해석\n",
    "- fin, age, prio 에 따라서만 차이 있다"
   ]
  },
  {
   "cell_type": "markdown",
   "metadata": {},
   "source": [
    "### 해석의 철학적 차이\n",
    "\n",
    "- p 값을 기준으로 먼저 변수를 제거한다\n",
    "\n",
    "→ Fisher 식 논리: 확실하지 않으면 움직이지 않는다.\n",
    "\n",
    "- p 값 보다 coef 수치를 일단 믿는다\n",
    "\n",
    "→ 해결해주면 돈이 얼마 드는지 본다"
   ]
  },
  {
   "cell_type": "code",
   "execution_count": 58,
   "metadata": {},
   "outputs": [
    {
     "data": {
      "text/plain": [
       "<matplotlib.axes._subplots.AxesSubplot at 0x289f05d3e10>"
      ]
     },
     "execution_count": 58,
     "metadata": {},
     "output_type": "execute_result"
    },
    {
     "data": {
      "image/png": "[encoded data removed]",
      "text/plain": [
       "<Figure size 432x288 with 1 Axes>"
      ]
     },
     "metadata": {
      "needs_background": "light"
     },
     "output_type": "display_data"
    }
   ],
   "source": [
    "cph.plot_covariate_groups('mar', [0, 1])"
   ]
  },
  {
   "cell_type": "code",
   "execution_count": 56,
   "metadata": {},
   "outputs": [
    {
     "data": {
      "text/plain": [
       "<matplotlib.axes._subplots.AxesSubplot at 0x289ef0e79b0>"
      ]
     },
     "execution_count": 56,
     "metadata": {},
     "output_type": "execute_result"
    },
    {
     "data": {
      "image/png": "[encoded data removed]",
      "text/plain": [
       "<Figure size 432x288 with 1 Axes>"
      ]
     },
     "metadata": {
      "needs_background": "light"
     },
     "output_type": "display_data"
    }
   ],
   "source": [
    "cph.plot_covariate_groups('age', [20, 30, 40, 50, 60])"
   ]
  },
  {
   "cell_type": "markdown",
   "metadata": {},
   "source": [
    "### 위험비 사용 예시\n",
    "- 인사팀: 어떤 사람이 퇴사하지 않고 오래 다니는지\n",
    "- 공장: 누가 다루고, 어떻게 다루면 기계 고장 안나는지"
   ]
  },
  {
   "cell_type": "code",
   "execution_count": null,
   "metadata": {},
   "outputs": [],
   "source": []
  }
 ],
 "metadata": {
  "kernelspec": {
   "display_name": "Python 3",
   "language": "python",
   "name": "python3"
  },
  "language_info": {
   "codemirror_mode": {
    "name": "ipython",
    "version": 3
   },
   "file_extension": ".py",
   "mimetype": "text/x-python",
   "name": "python",
   "nbconvert_exporter": "python",
   "pygments_lexer": "ipython3",
   "version": "3.7.3"
  }
 },
 "nbformat": 4,
 "nbformat_minor": 2
}
