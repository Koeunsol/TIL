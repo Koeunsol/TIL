{
 "cells": [
  {
   "cell_type": "markdown",
   "metadata": {},
   "source": [
    "# Time Series 시계열\n",
    "- 동일한 변수의 시간에 따른 변동을 나타낸 데이터\n",
    "- ex. 고객 수, 가격, 온도\n",
    "\n",
    "### AutoCorrelation 자기 상관\n",
    "    - 시점 간의 상관\n",
    "> ex. 주식같이 오르락 내리락하는 것은 자기상관이 -\n",
    ">\n",
    "> : 오르면 내리고, 내리면 오른다\n",
    ">\n",
    "> ex. 자기상관이 + 인 경우\n",
    ">\n",
    "> 한 번 오르면 계속 올라가고, 한 번 내리면 계속 내려간다\n",
    "\n",
    "### Trend 추세\n",
    "### Seasonality 계절성\n",
    "\n",
    "    - 주기적인 변동\n",
    "    - 긴 기간에 걸친 자기상관이라고도 볼 수 있다\n",
    "### Stationary ↔ Non-Stationary\n",
    "\n",
    "    - 정체되어 있다\n",
    "    - Time Series 구조가 일정한 상태\n",
    "    - Non-Stationary 는 Time Series 분석하기 어렵다\n",
    "### Outlier\n",
    "    - 일반적인 데이터 분석에서는 Outlier 를 빼고 분석하면 된다\n",
    "    - Time Series 에서는 시간 순서이기 때문에 뺄 수 없다."
   ]
  },
  {
   "cell_type": "markdown",
   "metadata": {},
   "source": [
    "### 실습) 사례 만들기\n",
    "다이어리 판매량\n",
    "\n",
    "- AutoCorrelation: +\n",
    "- Trend: 감소\n",
    "- Seasonality: 11, 12, 1 월에 연간 판매량 60%, 3월 9월 소폭 상승, 나머지 0 에 수렴\n",
    "- Stationary: \n",
    "    - 공장에 불이나는 등 Outlier 가 있으면 Non-Stationary\n",
    "    - 내려가는/올라가는 트렌드가 있으면 엄밀한 의미에서 Non-Stationary\n",
    "- Outlier(원인)\n",
    "    - 공장에 불이 났거나해서 1-2 개월 매출 감소 등\n",
    "    - cf. 미디어의 노출, 스타벅스 다이어리: 트렌드가 바뀐 것\n",
    "    \n",
    "배고픔의 정도\n",
    "- 전형적인 Stationary 데이터\n",
    "- 하루단위 계절성(아침/점심/저녁)\n",
    "- 주단위 계절성(주중/주말)"
   ]
  },
  {
   "cell_type": "code",
   "execution_count": 1,
   "metadata": {},
   "outputs": [],
   "source": [
    "import pandas as pd"
   ]
  },
  {
   "cell_type": "code",
   "execution_count": 3,
   "metadata": {
    "scrolled": true
   },
   "outputs": [
    {
     "data": {
      "text/html": [
       "<div>\n",
       "<style scoped>\n",
       "    .dataframe tbody tr th:only-of-type {\n",
       "        vertical-align: middle;\n",
       "    }\n",
       "\n",
       "    .dataframe tbody tr th {\n",
       "        vertical-align: top;\n",
       "    }\n",
       "\n",
       "    .dataframe thead th {\n",
       "        text-align: right;\n",
       "    }\n",
       "</style>\n",
       "<table border=\"1\" class=\"dataframe\">\n",
       "  <thead>\n",
       "    <tr style=\"text-align: right;\">\n",
       "      <th></th>\n",
       "      <th>Month</th>\n",
       "      <th>Passengers</th>\n",
       "    </tr>\n",
       "  </thead>\n",
       "  <tbody>\n",
       "    <tr>\n",
       "      <th>96</th>\n",
       "      <td>1957-01-01</td>\n",
       "      <td>315</td>\n",
       "    </tr>\n",
       "  </tbody>\n",
       "</table>\n",
       "</div>"
      ],
      "text/plain": [
       "        Month  Passengers\n",
       "96 1957-01-01         315"
      ]
     },
     "execution_count": 3,
     "metadata": {},
     "output_type": "execute_result"
    }
   ],
   "source": [
    "airline = pd.read_csv('airline.csv', parse_dates=['Month'])\n",
    "\n",
    "airline.sample()"
   ]
  },
  {
   "cell_type": "code",
   "execution_count": 5,
   "metadata": {},
   "outputs": [
    {
     "data": {
      "text/plain": [
       "Month         datetime64[ns]\n",
       "Passengers             int64\n",
       "dtype: object"
      ]
     },
     "execution_count": 5,
     "metadata": {},
     "output_type": "execute_result"
    }
   ],
   "source": [
    "airline.dtypes"
   ]
  },
  {
   "cell_type": "code",
   "execution_count": 6,
   "metadata": {},
   "outputs": [],
   "source": [
    "import seaborn as sns"
   ]
  },
  {
   "cell_type": "code",
   "execution_count": 7,
   "metadata": {},
   "outputs": [
    {
     "name": "stderr",
     "output_type": "stream",
     "text": [
      "C:\\Users\\Minju\\Anaconda3\\lib\\site-packages\\pandas\\plotting\\_converter.py:129: FutureWarning: Using an implicitly registered datetime converter for a matplotlib plotting method. The converter was registered by pandas on import. Future versions of pandas will require you to explicitly register matplotlib converters.\n",
      "\n",
      "To register the converters:\n",
      "\t>>> from pandas.plotting import register_matplotlib_converters\n",
      "\t>>> register_matplotlib_converters()\n",
      "  warnings.warn(msg, FutureWarning)\n"
     ]
    },
    {
     "data": {
      "text/plain": [
       "<matplotlib.axes._subplots.AxesSubplot at 0x16433e86898>"
      ]
     },
     "execution_count": 7,
     "metadata": {},
     "output_type": "execute_result"
    },
    {
     "data": {
      "image/png": "[encoded data removed]",
      "text/plain": [
       "<Figure size 432x288 with 1 Axes>"
      ]
     },
     "metadata": {
      "needs_background": "light"
     },
     "output_type": "display_data"
    }
   ],
   "source": [
    "sns.lineplot('Month', 'Passengers', data=airline)"
   ]
  },
  {
   "cell_type": "markdown",
   "metadata": {},
   "source": [
    "올라가는 Trend 가 있어 Non-Stationary 이고,\n",
    "진폭도 점점 커지기 때문에 어려운 Non-Stationary 이다"
   ]
  },
  {
   "cell_type": "code",
   "execution_count": 13,
   "metadata": {
    "collapsed": true
   },
   "outputs": [
    {
     "data": {
      "text/plain": [
       "0             NaN\n",
       "1             NaN\n",
       "2             NaN\n",
       "3             NaN\n",
       "4             NaN\n",
       "5             NaN\n",
       "6             NaN\n",
       "7             NaN\n",
       "8             NaN\n",
       "9             NaN\n",
       "10            NaN\n",
       "11     126.666667\n",
       "12     126.916667\n",
       "13     127.583333\n",
       "14     128.333333\n",
       "15     128.833333\n",
       "16     129.166667\n",
       "17     130.333333\n",
       "18     132.166667\n",
       "19     134.000000\n",
       "20     135.833333\n",
       "21     137.000000\n",
       "22     137.833333\n",
       "23     139.666667\n",
       "24     142.166667\n",
       "25     144.166667\n",
       "26     147.250000\n",
       "27     149.583333\n",
       "28     153.500000\n",
       "29     155.916667\n",
       "          ...    \n",
       "114    376.333333\n",
       "115    379.500000\n",
       "116    379.500000\n",
       "117    380.500000\n",
       "118    380.916667\n",
       "119    381.000000\n",
       "120    382.666667\n",
       "121    384.666667\n",
       "122    388.333333\n",
       "123    392.333333\n",
       "124    397.083333\n",
       "125    400.166667\n",
       "126    404.916667\n",
       "127    409.416667\n",
       "128    414.333333\n",
       "129    418.333333\n",
       "130    422.666667\n",
       "131    428.333333\n",
       "132    433.083333\n",
       "133    437.166667\n",
       "134    438.250000\n",
       "135    443.666667\n",
       "136    448.000000\n",
       "137    453.250000\n",
       "138    459.416667\n",
       "139    463.333333\n",
       "140    467.083333\n",
       "141    471.583333\n",
       "142    473.916667\n",
       "143    476.166667\n",
       "Name: Passengers, Length: 144, dtype: float64"
      ]
     },
     "execution_count": 13,
     "metadata": {},
     "output_type": "execute_result"
    }
   ],
   "source": [
    "# rolling 이동 평균 (구간을 옮겨가며 평균 낸다)\n",
    "\n",
    "airline['Passengers'].rolling(window = 12).mean() # 12 달치 평균"
   ]
  },
  {
   "cell_type": "code",
   "execution_count": 16,
   "metadata": {},
   "outputs": [
    {
     "data": {
      "text/plain": [
       "<matplotlib.axes._subplots.AxesSubplot at 0x164353d0a20>"
      ]
     },
     "execution_count": 16,
     "metadata": {},
     "output_type": "execute_result"
    },
    {
     "data": {
      "image/png": "[encoded data removed]",
      "text/plain": [
       "<Figure size 432x288 with 1 Axes>"
      ]
     },
     "metadata": {
      "needs_background": "light"
     },
     "output_type": "display_data"
    }
   ],
   "source": [
    "sns.lineplot('Month', 'Passengers', data=airline)\n",
    "sns.lineplot(\n",
    "airline['Month']\n",
    ", airline['Passengers'].rolling(window=12).mean()\n",
    ", color='red')"
   ]
  },
  {
   "cell_type": "markdown",
   "metadata": {},
   "source": [
    "## ACF AutoCorrelation Function 자기상관 그래프\n",
    "통계를 아는 사람만 그리는 있어보이는 그래프"
   ]
  },
  {
   "cell_type": "code",
   "execution_count": 17,
   "metadata": {},
   "outputs": [],
   "source": [
    "from statsmodels.graphics.tsaplots import plot_acf"
   ]
  },
  {
   "cell_type": "code",
   "execution_count": 19,
   "metadata": {},
   "outputs": [
    {
     "data": {
      "image/png": "[encoded data removed]",
      "text/plain": [
       "<Figure size 432x288 with 1 Axes>"
      ]
     },
     "metadata": {
      "needs_background": "light"
     },
     "output_type": "display_data"
    }
   ],
   "source": [
    "fig = plot_acf(airline['Passengers'], lags=24) \n",
    "# lags 기간 지정\n",
    "# 0 개월의 상관은 무조건 1 자기자신이기 때문에"
   ]
  },
  {
   "cell_type": "markdown",
   "metadata": {},
   "source": [
    "#### ACF 그래프 해석\n",
    "- 바탕의 푸른색 배경 밖으로 벗어나야 상관이 있다고 볼 수 있다. \n",
    ">$p < 0.05$\n",
    "- 위 그래프에서는 위로만 벗어나는 부분이 있으므로 Positive Correlation\n",
    "\n",
    "#### ACF 로 보는 Stationary\n",
    "- 패턴이 강하면 ACF 가 급격하게 떨어진다\n",
    "- ACF 가 급격하게 뚝 떨어지면 Stationary\n",
    "- ACF 가 서서히 떨어지면 Non-Stationary\n",
    "- 위 데이터에서는 추세가 있기 때문에 빨리 떨어지지 않는다(추세가 있으면 엄밀한 의미에서 Non-Stationary)"
   ]
  },
  {
   "cell_type": "markdown",
   "metadata": {},
   "source": [
    "## PACF Partial ACF"
   ]
  },
  {
   "cell_type": "code",
   "execution_count": 31,
   "metadata": {},
   "outputs": [],
   "source": [
    "from statsmodels.graphics.tsaplots import plot_pacf"
   ]
  },
  {
   "cell_type": "code",
   "execution_count": 34,
   "metadata": {},
   "outputs": [
    {
     "data": {
      "image/png": "[encoded data removed]",
      "text/plain": [
       "<Figure size 432x288 with 1 Axes>"
      ]
     },
     "metadata": {
      "needs_background": "light"
     },
     "output_type": "display_data"
    }
   ],
   "source": [
    "fig = plot_pacf(airline['Passengers'], lags=24)"
   ]
  },
  {
   "cell_type": "markdown",
   "metadata": {},
   "source": [
    "### Stationary 정상성 검정 Augmented Dickey-Fuller Test \n",
    "$p < 0.05$ 여야 정상"
   ]
  },
  {
   "cell_type": "code",
   "execution_count": 20,
   "metadata": {},
   "outputs": [],
   "source": [
    "from statsmodels.tsa.stattools import adfuller"
   ]
  },
  {
   "cell_type": "code",
   "execution_count": 21,
   "metadata": {},
   "outputs": [
    {
     "name": "stdout",
     "output_type": "stream",
     "text": [
      "ADF Statistic: 0.8153688792060423\n",
      "p-value: 0.9918802434376409\n"
     ]
    }
   ],
   "source": [
    "result = adfuller(airline['Passengers'])\n",
    "\n",
    "print('ADF Statistic: {}'.format(result[0]))\n",
    "print('p-value: {}'.format(result[1]))"
   ]
  },
  {
   "cell_type": "markdown",
   "metadata": {},
   "source": [
    "## Differencing 차분\n",
    "- Time Series 데이터를 직전/직후 시점간의 차이로 바꾸는 것\n",
    "- 선형적인 추세가 있으면 Time Series 가 Non-Stationary\n",
    "- Differencing 으로 선형적 추세를 제거"
   ]
  },
  {
   "cell_type": "code",
   "execution_count": 22,
   "metadata": {},
   "outputs": [],
   "source": [
    "import numpy as np"
   ]
  },
  {
   "cell_type": "code",
   "execution_count": 25,
   "metadata": {},
   "outputs": [],
   "source": [
    "x = airline['Passengers'].values\n",
    "x = np.log(x) # 로그 변환 1, 10, 100, 1000 -> 1, 2, 3, 4\n",
    "\n",
    "diff = x[1:] - x[:-1] # Differencing"
   ]
  },
  {
   "cell_type": "code",
   "execution_count": 26,
   "metadata": {},
   "outputs": [
    {
     "data": {
      "text/plain": [
       "<matplotlib.axes._subplots.AxesSubplot at 0x16435c151d0>"
      ]
     },
     "execution_count": 26,
     "metadata": {},
     "output_type": "execute_result"
    },
    {
     "data": {
      "image/png": "[encoded data removed]",
      "text/plain": [
       "<Figure size 432x288 with 1 Axes>"
      ]
     },
     "metadata": {
      "needs_background": "light"
     },
     "output_type": "display_data"
    }
   ],
   "source": [
    "sns.lineplot(airline.iloc[1:, 0], diff)"
   ]
  },
  {
   "cell_type": "code",
   "execution_count": 29,
   "metadata": {},
   "outputs": [
    {
     "data": {
      "image/png": "[encoded data removed]",
      "text/plain": [
       "<Figure size 432x288 with 1 Axes>"
      ]
     },
     "metadata": {
      "needs_background": "light"
     },
     "output_type": "display_data"
    }
   ],
   "source": [
    "fig = plot_acf(diff, lags=24)"
   ]
  },
  {
   "cell_type": "code",
   "execution_count": 32,
   "metadata": {},
   "outputs": [
    {
     "data": {
      "image/png": "[encoded data removed]",
      "text/plain": [
       "<Figure size 432x288 with 1 Axes>"
      ]
     },
     "metadata": {
      "needs_background": "light"
     },
     "output_type": "display_data"
    }
   ],
   "source": [
    "fig = plot_pacf(diff, lags=24)"
   ]
  },
  {
   "cell_type": "markdown",
   "metadata": {},
   "source": [
    "## SARIMAX \n",
    "$S + AR + I + MA + X$\n",
    "- 고전적인 Time Series 분석의 끝판왕\n",
    "- 여러 기법을 합친 것\n",
    "- $S$: Seasonality\n",
    "- $I$: Differencing\n",
    "- $X$: eXogenous 외생변수"
   ]
  },
  {
   "cell_type": "markdown",
   "metadata": {},
   "source": [
    "### MA\n",
    "데이터가 평균 주변에 묶여있다고 가정한다\n",
    "\n",
    "> $y_t = μ+ ε_t -θ₁ε_{t-1}$\n",
    "\n",
    "- $y_t$ 시점 $t$ 의 값\n",
    "- $μ$ 평균\n",
    "- $ε$ 오차\n",
    "- $θ₁$ $t-1$ 의 가중치\n",
    "\n",
    "#### MA(q)\n",
    "$q$ 평균에서 벗어났을 때 그 영향이 얼마나 가느냐"
   ]
  },
  {
   "cell_type": "markdown",
   "metadata": {},
   "source": [
    "### AR\n",
    "$y_{y+1} = Φy_t + a_{t+1}$\n",
    "\n",
    "- $Φ$ 시점 $t$ 의 가중치\n",
    "\n",
    "MA | AR\n",
    "-|-\n",
    "이전 시점의 오차가 영향|이전 시점의 값이 영향"
   ]
  },
  {
   "cell_type": "code",
   "execution_count": 38,
   "metadata": {},
   "outputs": [],
   "source": [
    "from statsmodels.tsa.statespace.sarimax import SARIMAX"
   ]
  },
  {
   "cell_type": "code",
   "execution_count": 39,
   "metadata": {},
   "outputs": [],
   "source": [
    "x_train = airline.iloc[:-24, 1]\n",
    "x_test = airline.iloc[-24:, 1]"
   ]
  },
  {
   "cell_type": "code",
   "execution_count": 55,
   "metadata": {},
   "outputs": [
    {
     "data": {
      "text/html": [
       "<table class=\"simpletable\">\n",
       "<caption>Statespace Model Results</caption>\n",
       "<tr>\n",
       "  <th>Dep. Variable:</th>            <td>Passengers</td>           <th>  No. Observations:  </th>    <td>120</td>  \n",
       "</tr>\n",
       "<tr>\n",
       "  <th>Model:</th>           <td>SARIMAX(1, 1, 1)x(1, 1, 1, 1)</td> <th>  Log Likelihood     </th> <td>-550.921</td>\n",
       "</tr>\n",
       "<tr>\n",
       "  <th>Date:</th>                  <td>Wed, 09 Oct 2019</td>        <th>  AIC                </th> <td>1111.843</td>\n",
       "</tr>\n",
       "<tr>\n",
       "  <th>Time:</th>                      <td>16:15:49</td>            <th>  BIC                </th> <td>1125.696</td>\n",
       "</tr>\n",
       "<tr>\n",
       "  <th>Sample:</th>                        <td>0</td>               <th>  HQIC               </th> <td>1117.468</td>\n",
       "</tr>\n",
       "<tr>\n",
       "  <th></th>                            <td> - 120</td>             <th>                     </th>     <td> </td>   \n",
       "</tr>\n",
       "<tr>\n",
       "  <th>Covariance Type:</th>              <td>opg</td>              <th>                     </th>     <td> </td>   \n",
       "</tr>\n",
       "</table>\n",
       "<table class=\"simpletable\">\n",
       "<tr>\n",
       "     <td></td>        <th>coef</th>     <th>std err</th>      <th>z</th>      <th>P>|z|</th>  <th>[0.025</th>    <th>0.975]</th>  \n",
       "</tr>\n",
       "<tr>\n",
       "  <th>ar.L1</th>   <td>    0.5086</td> <td>    0.042</td> <td>   12.090</td> <td> 0.000</td> <td>    0.426</td> <td>    0.591</td>\n",
       "</tr>\n",
       "<tr>\n",
       "  <th>ma.L1</th>   <td>   -0.9997</td> <td>    2.157</td> <td>   -0.463</td> <td> 0.643</td> <td>   -5.228</td> <td>    3.228</td>\n",
       "</tr>\n",
       "<tr>\n",
       "  <th>ar.S.L1</th> <td>    0.5086</td> <td>    0.042</td> <td>   12.090</td> <td> 0.000</td> <td>    0.426</td> <td>    0.591</td>\n",
       "</tr>\n",
       "<tr>\n",
       "  <th>ma.S.L1</th> <td>   -0.9997</td> <td>    2.157</td> <td>   -0.463</td> <td> 0.643</td> <td>   -5.228</td> <td>    3.228</td>\n",
       "</tr>\n",
       "<tr>\n",
       "  <th>sigma2</th>  <td>  599.5691</td> <td> 2579.214</td> <td>    0.232</td> <td> 0.816</td> <td>-4455.598</td> <td> 5654.736</td>\n",
       "</tr>\n",
       "</table>\n",
       "<table class=\"simpletable\">\n",
       "<tr>\n",
       "  <th>Ljung-Box (Q):</th>          <td>255.86</td> <th>  Jarque-Bera (JB):  </th> <td>1.61</td>\n",
       "</tr>\n",
       "<tr>\n",
       "  <th>Prob(Q):</th>                 <td>0.00</td>  <th>  Prob(JB):          </th> <td>0.45</td>\n",
       "</tr>\n",
       "<tr>\n",
       "  <th>Heteroskedasticity (H):</th>  <td>7.35</td>  <th>  Skew:              </th> <td>0.23</td>\n",
       "</tr>\n",
       "<tr>\n",
       "  <th>Prob(H) (two-sided):</th>     <td>0.00</td>  <th>  Kurtosis:          </th> <td>3.33</td>\n",
       "</tr>\n",
       "</table><br/><br/>Warnings:<br/>[1] Covariance matrix calculated using the outer product of gradients (complex-step).<br/>[2] Covariance matrix is singular or near-singular, with condition number 7.42e+23. Standard errors may be unstable."
      ],
      "text/plain": [
       "<class 'statsmodels.iolib.summary.Summary'>\n",
       "\"\"\"\n",
       "                                 Statespace Model Results                                \n",
       "=========================================================================================\n",
       "Dep. Variable:                        Passengers   No. Observations:                  120\n",
       "Model:             SARIMAX(1, 1, 1)x(1, 1, 1, 1)   Log Likelihood                -550.921\n",
       "Date:                           Wed, 09 Oct 2019   AIC                           1111.843\n",
       "Time:                                   16:15:49   BIC                           1125.696\n",
       "Sample:                                        0   HQIC                          1117.468\n",
       "                                           - 120                                         \n",
       "Covariance Type:                             opg                                         \n",
       "==============================================================================\n",
       "                 coef    std err          z      P>|z|      [0.025      0.975]\n",
       "------------------------------------------------------------------------------\n",
       "ar.L1          0.5086      0.042     12.090      0.000       0.426       0.591\n",
       "ma.L1         -0.9997      2.157     -0.463      0.643      -5.228       3.228\n",
       "ar.S.L1        0.5086      0.042     12.090      0.000       0.426       0.591\n",
       "ma.S.L1       -0.9997      2.157     -0.463      0.643      -5.228       3.228\n",
       "sigma2       599.5691   2579.214      0.232      0.816   -4455.598    5654.736\n",
       "===================================================================================\n",
       "Ljung-Box (Q):                      255.86   Jarque-Bera (JB):                 1.61\n",
       "Prob(Q):                              0.00   Prob(JB):                         0.45\n",
       "Heteroskedasticity (H):               7.35   Skew:                             0.23\n",
       "Prob(H) (two-sided):                  0.00   Kurtosis:                         3.33\n",
       "===================================================================================\n",
       "\n",
       "Warnings:\n",
       "[1] Covariance matrix calculated using the outer product of gradients (complex-step).\n",
       "[2] Covariance matrix is singular or near-singular, with condition number 7.42e+23. Standard errors may be unstable.\n",
       "\"\"\""
      ]
     },
     "execution_count": 55,
     "metadata": {},
     "output_type": "execute_result"
    }
   ],
   "source": [
    "res = SARIMAX(\n",
    "x_train\n",
    ", order=(1, 1, 1)                    # (p, d, q)\n",
    ", seasonal_order=(1, 1, 1, 1)).fit() # (P, D, Q, m)\n",
    "\n",
    "res.summary()"
   ]
  },
  {
   "cell_type": "code",
   "execution_count": 56,
   "metadata": {},
   "outputs": [],
   "source": [
    "n = len(x_train)\n",
    "m = len(x_test)\n",
    "\n",
    "forecast = res.predict(n + 1, n + m)"
   ]
  },
  {
   "cell_type": "code",
   "execution_count": 57,
   "metadata": {},
   "outputs": [
    {
     "data": {
      "text/plain": [
       "<matplotlib.axes._subplots.AxesSubplot at 0x1643b80b470>"
      ]
     },
     "execution_count": 57,
     "metadata": {},
     "output_type": "execute_result"
    },
    {
     "data": {
      "image/png": "[encoded data removed]",
      "text/plain": [
       "<Figure size 432x288 with 1 Axes>"
      ]
     },
     "metadata": {
      "needs_background": "light"
     },
     "output_type": "display_data"
    }
   ],
   "source": [
    "sns.lineplot('Month', 'Passengers', data=airline, color='lightgrey')\n",
    "sns.lineplot(\n",
    "airline.iloc[-24:, 0]\n",
    ", forecast\n",
    ", color='red')"
   ]
  },
  {
   "cell_type": "markdown",
   "metadata": {},
   "source": [
    "#### 오차 확인"
   ]
  },
  {
   "cell_type": "code",
   "execution_count": 45,
   "metadata": {},
   "outputs": [],
   "source": [
    "from sklearn.metrics import mean_squared_error"
   ]
  },
  {
   "cell_type": "code",
   "execution_count": 46,
   "metadata": {},
   "outputs": [
    {
     "data": {
      "text/plain": [
       "5607.504087020228"
      ]
     },
     "execution_count": 46,
     "metadata": {},
     "output_type": "execute_result"
    }
   ],
   "source": [
    "mean_squared_error(x_test, forecast)"
   ]
  },
  {
   "cell_type": "markdown",
   "metadata": {},
   "source": [
    "### Facebook Prophet "
   ]
  },
  {
   "cell_type": "code",
   "execution_count": 49,
   "metadata": {
    "collapsed": true
   },
   "outputs": [
    {
     "name": "stdout",
     "output_type": "stream",
     "text": [
      "Collecting package metadata (repodata.json): ...working... done\n",
      "Solving environment: ...working... done\n",
      "\n",
      "# All requested packages already installed.\n",
      "\n"
     ]
    }
   ],
   "source": [
    "!conda install -y pystan"
   ]
  },
  {
   "cell_type": "code",
   "execution_count": 50,
   "metadata": {
    "collapsed": true
   },
   "outputs": [
    {
     "name": "stdout",
     "output_type": "stream",
     "text": [
      "Requirement already satisfied: fbprophet in c:\\users\\minju\\anaconda3\\lib\\site-packages (0.5)\n",
      "Requirement already satisfied: plotly in c:\\users\\minju\\anaconda3\\lib\\site-packages (4.1.1)\n",
      "Requirement already satisfied: lunardate>=0.1.5 in c:\\users\\minju\\anaconda3\\lib\\site-packages (from fbprophet) (0.2.0)\n",
      "Requirement already satisfied: matplotlib>=2.0.0 in c:\\users\\minju\\anaconda3\\lib\\site-packages (from fbprophet) (3.1.0)\n",
      "Requirement already satisfied: pystan>=2.14 in c:\\users\\minju\\anaconda3\\lib\\site-packages (from fbprophet) (2.19.0.0)\n",
      "Requirement already satisfied: setuptools-git>=1.2 in c:\\users\\minju\\anaconda3\\lib\\site-packages (from fbprophet) (1.2)\n",
      "Requirement already satisfied: numpy>=1.10.0 in c:\\users\\minju\\anaconda3\\lib\\site-packages (from fbprophet) (1.16.2)\n",
      "Requirement already satisfied: holidays>=0.9.5 in c:\\users\\minju\\anaconda3\\lib\\site-packages (from fbprophet) (0.9.11)\n",
      "Requirement already satisfied: Cython>=0.22 in c:\\users\\minju\\anaconda3\\lib\\site-packages (from fbprophet) (0.29.6)\n",
      "Requirement already satisfied: convertdate>=2.1.2 in c:\\users\\minju\\anaconda3\\lib\\site-packages (from fbprophet) (2.1.3)\n",
      "Requirement already satisfied: pandas>=0.23.4 in c:\\users\\minju\\anaconda3\\lib\\site-packages (from fbprophet) (0.24.2)\n",
      "Requirement already satisfied: retrying>=1.3.3 in c:\\users\\minju\\anaconda3\\lib\\site-packages (from plotly) (1.3.3)\n",
      "Requirement already satisfied: six in c:\\users\\minju\\anaconda3\\lib\\site-packages (from plotly) (1.12.0)\n",
      "Requirement already satisfied: kiwisolver>=1.0.1 in c:\\users\\minju\\anaconda3\\lib\\site-packages (from matplotlib>=2.0.0->fbprophet) (1.0.1)\n",
      "Requirement already satisfied: cycler>=0.10 in c:\\users\\minju\\anaconda3\\lib\\site-packages (from matplotlib>=2.0.0->fbprophet) (0.10.0)\n",
      "Requirement already satisfied: python-dateutil>=2.1 in c:\\users\\minju\\anaconda3\\lib\\site-packages (from matplotlib>=2.0.0->fbprophet) (2.8.0)\n",
      "Requirement already satisfied: pyparsing!=2.0.4,!=2.1.2,!=2.1.6,>=2.0.1 in c:\\users\\minju\\anaconda3\\lib\\site-packages (from matplotlib>=2.0.0->fbprophet) (2.3.1)\n",
      "Requirement already satisfied: ephem<3.8,>=3.7.5.3 in c:\\users\\minju\\anaconda3\\lib\\site-packages (from convertdate>=2.1.2->fbprophet) (3.7.7.0)\n",
      "Requirement already satisfied: pytz<2020,>=2014.10 in c:\\users\\minju\\anaconda3\\lib\\site-packages (from convertdate>=2.1.2->fbprophet) (2018.9)\n",
      "Requirement already satisfied: setuptools in c:\\users\\minju\\anaconda3\\lib\\site-packages (from kiwisolver>=1.0.1->matplotlib>=2.0.0->fbprophet) (40.8.0)\n"
     ]
    }
   ],
   "source": [
    "!pip install fbprophet plotly"
   ]
  },
  {
   "cell_type": "markdown",
   "metadata": {},
   "source": [
    "### Prophet 예측"
   ]
  },
  {
   "cell_type": "code",
   "execution_count": 51,
   "metadata": {},
   "outputs": [],
   "source": [
    "from fbprophet import Prophet"
   ]
  },
  {
   "cell_type": "markdown",
   "metadata": {},
   "source": [
    "prophet 에서는 컬럼 이름 고정\n",
    "\n",
    "날짜는 ds, 숫자는 y 라고 해야 한다"
   ]
  },
  {
   "cell_type": "code",
   "execution_count": 58,
   "metadata": {},
   "outputs": [],
   "source": [
    "df = airline.iloc[:-24, :].copy()"
   ]
  },
  {
   "cell_type": "code",
   "execution_count": 59,
   "metadata": {},
   "outputs": [],
   "source": [
    "df.columns = ['ds', 'y']"
   ]
  },
  {
   "cell_type": "code",
   "execution_count": 60,
   "metadata": {},
   "outputs": [
    {
     "name": "stderr",
     "output_type": "stream",
     "text": [
      "INFO:fbprophet:Disabling weekly seasonality. Run prophet with weekly_seasonality=True to override this.\n",
      "INFO:fbprophet:Disabling daily seasonality. Run prophet with daily_seasonality=True to override this.\n"
     ]
    },
    {
     "data": {
      "text/plain": [
       "<fbprophet.forecaster.Prophet at 0x16435d10128>"
      ]
     },
     "execution_count": 60,
     "metadata": {},
     "output_type": "execute_result"
    }
   ],
   "source": [
    "m = Prophet()\n",
    "m.fit(df)"
   ]
  },
  {
   "cell_type": "code",
   "execution_count": 62,
   "metadata": {},
   "outputs": [
    {
     "data": {
      "text/html": [
       "<div>\n",
       "<style scoped>\n",
       "    .dataframe tbody tr th:only-of-type {\n",
       "        vertical-align: middle;\n",
       "    }\n",
       "\n",
       "    .dataframe tbody tr th {\n",
       "        vertical-align: top;\n",
       "    }\n",
       "\n",
       "    .dataframe thead th {\n",
       "        text-align: right;\n",
       "    }\n",
       "</style>\n",
       "<table border=\"1\" class=\"dataframe\">\n",
       "  <thead>\n",
       "    <tr style=\"text-align: right;\">\n",
       "      <th></th>\n",
       "      <th>ds</th>\n",
       "    </tr>\n",
       "  </thead>\n",
       "  <tbody>\n",
       "    <tr>\n",
       "      <th>125</th>\n",
       "      <td>1959-06-01</td>\n",
       "    </tr>\n",
       "  </tbody>\n",
       "</table>\n",
       "</div>"
      ],
      "text/plain": [
       "            ds\n",
       "125 1959-06-01"
      ]
     },
     "execution_count": 62,
     "metadata": {},
     "output_type": "execute_result"
    }
   ],
   "source": [
    "future = pd.DataFrame({'ds': airline['Month'].values})\n",
    "\n",
    "future.sample()"
   ]
  },
  {
   "cell_type": "code",
   "execution_count": 63,
   "metadata": {},
   "outputs": [
    {
     "data": {
      "text/html": [
       "<div>\n",
       "<style scoped>\n",
       "    .dataframe tbody tr th:only-of-type {\n",
       "        vertical-align: middle;\n",
       "    }\n",
       "\n",
       "    .dataframe tbody tr th {\n",
       "        vertical-align: top;\n",
       "    }\n",
       "\n",
       "    .dataframe thead th {\n",
       "        text-align: right;\n",
       "    }\n",
       "</style>\n",
       "<table border=\"1\" class=\"dataframe\">\n",
       "  <thead>\n",
       "    <tr style=\"text-align: right;\">\n",
       "      <th></th>\n",
       "      <th>ds</th>\n",
       "      <th>trend</th>\n",
       "      <th>yhat_lower</th>\n",
       "      <th>yhat_upper</th>\n",
       "      <th>trend_lower</th>\n",
       "      <th>trend_upper</th>\n",
       "      <th>additive_terms</th>\n",
       "      <th>additive_terms_lower</th>\n",
       "      <th>additive_terms_upper</th>\n",
       "      <th>yearly</th>\n",
       "      <th>yearly_lower</th>\n",
       "      <th>yearly_upper</th>\n",
       "      <th>multiplicative_terms</th>\n",
       "      <th>multiplicative_terms_lower</th>\n",
       "      <th>multiplicative_terms_upper</th>\n",
       "      <th>yhat</th>\n",
       "    </tr>\n",
       "  </thead>\n",
       "  <tbody>\n",
       "    <tr>\n",
       "      <th>47</th>\n",
       "      <td>1952-12-01</td>\n",
       "      <td>208.636306</td>\n",
       "      <td>154.567581</td>\n",
       "      <td>202.920937</td>\n",
       "      <td>208.636306</td>\n",
       "      <td>208.636306</td>\n",
       "      <td>-29.976877</td>\n",
       "      <td>-29.976877</td>\n",
       "      <td>-29.976877</td>\n",
       "      <td>-29.976877</td>\n",
       "      <td>-29.976877</td>\n",
       "      <td>-29.976877</td>\n",
       "      <td>0.0</td>\n",
       "      <td>0.0</td>\n",
       "      <td>0.0</td>\n",
       "      <td>178.659428</td>\n",
       "    </tr>\n",
       "  </tbody>\n",
       "</table>\n",
       "</div>"
      ],
      "text/plain": [
       "           ds       trend  yhat_lower  yhat_upper  trend_lower  trend_upper  \\\n",
       "47 1952-12-01  208.636306  154.567581  202.920937   208.636306   208.636306   \n",
       "\n",
       "    additive_terms  additive_terms_lower  additive_terms_upper     yearly  \\\n",
       "47      -29.976877            -29.976877            -29.976877 -29.976877   \n",
       "\n",
       "    yearly_lower  yearly_upper  multiplicative_terms  \\\n",
       "47    -29.976877    -29.976877                   0.0   \n",
       "\n",
       "    multiplicative_terms_lower  multiplicative_terms_upper        yhat  \n",
       "47                         0.0                         0.0  178.659428  "
      ]
     },
     "execution_count": 63,
     "metadata": {},
     "output_type": "execute_result"
    }
   ],
   "source": [
    "pp = m.predict(future)\n",
    "\n",
    "pp.sample()"
   ]
  },
  {
   "cell_type": "code",
   "execution_count": 64,
   "metadata": {},
   "outputs": [
    {
     "data": {
      "text/plain": [
       "<matplotlib.axes._subplots.AxesSubplot at 0x16432847780>"
      ]
     },
     "execution_count": 64,
     "metadata": {},
     "output_type": "execute_result"
    },
    {
     "data": {
      "image/png": "[encoded data removed]",
      "text/plain": [
       "<Figure size 432x288 with 1 Axes>"
      ]
     },
     "metadata": {
      "needs_background": "light"
     },
     "output_type": "display_data"
    }
   ],
   "source": [
    "# 추세만 따로 확인할 수 있다\n",
    "# 1955 년쯤 미세하게 추세가 꺾인다\n",
    "\n",
    "sns.lineplot('ds', 'trend', data=pp)"
   ]
  },
  {
   "cell_type": "code",
   "execution_count": 66,
   "metadata": {},
   "outputs": [
    {
     "data": {
      "text/plain": [
       "<matplotlib.axes._subplots.AxesSubplot at 0x1643c09bcf8>"
      ]
     },
     "execution_count": 66,
     "metadata": {},
     "output_type": "execute_result"
    },
    {
     "data": {
      "image/png": "[encoded data removed]",
      "text/plain": [
       "<Figure size 432x288 with 1 Axes>"
      ]
     },
     "metadata": {
      "needs_background": "light"
     },
     "output_type": "display_data"
    }
   ],
   "source": [
    "sns.lineplot('ds', 'yearly', data=pp.iloc[:12])"
   ]
  },
  {
   "cell_type": "code",
   "execution_count": 67,
   "metadata": {},
   "outputs": [
    {
     "data": {
      "text/plain": [
       "<matplotlib.axes._subplots.AxesSubplot at 0x1643be94940>"
      ]
     },
     "execution_count": 67,
     "metadata": {},
     "output_type": "execute_result"
    },
    {
     "data": {
      "image/png": "[encoded data removed]",
      "text/plain": [
       "<Figure size 432x288 with 1 Axes>"
      ]
     },
     "metadata": {
      "needs_background": "light"
     },
     "output_type": "display_data"
    }
   ],
   "source": [
    "# 진폭이 커지는 건 못 잡아냄\n",
    "\n",
    "sns.lineplot('ds', 'yhat', data=pp)"
   ]
  },
  {
   "cell_type": "code",
   "execution_count": 68,
   "metadata": {},
   "outputs": [],
   "source": [
    "forecast = pp['yhat'].values[-24:]"
   ]
  },
  {
   "cell_type": "code",
   "execution_count": 69,
   "metadata": {},
   "outputs": [
    {
     "data": {
      "text/plain": [
       "<matplotlib.axes._subplots.AxesSubplot at 0x1643bf385f8>"
      ]
     },
     "execution_count": 69,
     "metadata": {},
     "output_type": "execute_result"
    },
    {
     "data": {
      "image/png": "[encoded data removed]",
      "text/plain": [
       "<Figure size 432x288 with 1 Axes>"
      ]
     },
     "metadata": {
      "needs_background": "light"
     },
     "output_type": "display_data"
    }
   ],
   "source": [
    "sns.lineplot('Month', 'Passengers', data=airline, color='lightgrey')\n",
    "sns.lineplot(\n",
    "airline.iloc[-24:, 0]\n",
    ", forecast\n",
    ", color='red')"
   ]
  },
  {
   "cell_type": "markdown",
   "metadata": {},
   "source": [
    "#### 오차 확인"
   ]
  },
  {
   "cell_type": "code",
   "execution_count": 70,
   "metadata": {},
   "outputs": [
    {
     "data": {
      "text/plain": [
       "1630.6312541454256"
      ]
     },
     "execution_count": 70,
     "metadata": {},
     "output_type": "execute_result"
    }
   ],
   "source": [
    "mean_squared_error(x_test, forecast)"
   ]
  },
  {
   "cell_type": "markdown",
   "metadata": {},
   "source": [
    "#### $R^2$ R-Squared\n",
    "예측이 얼마나 정확한지/구한 오차가 얼마나 큰지 확인하기\n",
    "\n",
    "$(1 - MSE)  /  Variance$"
   ]
  },
  {
   "cell_type": "code",
   "execution_count": 74,
   "metadata": {},
   "outputs": [
    {
     "data": {
      "text/plain": [
       "0.707598596093931"
      ]
     },
     "execution_count": 74,
     "metadata": {},
     "output_type": "execute_result"
    }
   ],
   "source": [
    "1 - mean_squared_error(x_test, forecast) / np.var(x_test)"
   ]
  },
  {
   "cell_type": "code",
   "execution_count": 71,
   "metadata": {},
   "outputs": [],
   "source": [
    "#### y hat 등 hat 은 통계에서 예측값"
   ]
  },
  {
   "cell_type": "code",
   "execution_count": null,
   "metadata": {},
   "outputs": [],
   "source": []
  }
 ],
 "metadata": {
  "kernelspec": {
   "display_name": "Python 3",
   "language": "python",
   "name": "python3"
  }
 },
 "nbformat": 4,
 "nbformat_minor": 2
}
