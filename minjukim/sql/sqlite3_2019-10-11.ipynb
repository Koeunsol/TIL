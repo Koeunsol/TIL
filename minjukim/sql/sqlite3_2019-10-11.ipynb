{
 "cells": [
  {
   "cell_type": "markdown",
   "metadata": {},
   "source": [
    "# SQLite 데이터베이스 사용\n",
    "SQLite는 메모리 또는 파일을 이용해 특별히 복잡한 설정 없이 SQL을 쓸 수 있는 데이터베이스입니다.\n",
    "\n",
    "파이썬에선 sqlite 모듈을 이용해 SQLite를 쓸 수 있습니다.\n",
    "\n",
    "공식 문서: https://docs.python.org/ko/3/library/sqlite3.html\n",
    "\n",
    "# 왜 SQLite를 쓰는가?\n",
    "SQLite는 파일을 이용해 데이터를 기록하고 관리할 수 있습니다.\n",
    "\n",
    "CSV 파일도 데이터를 기록하고 불러올 수 있지만, 일단 모두 불러온 다음에 Pandas 등을 통해 처리해야 합니다.\n",
    "\n",
    "이렇게 되면\n",
    "\n",
    "1. 데이터가 너무 크면 아예 불러오는 것 자체가 불가능합니다.\n",
    "2. 효과적인 데이터 처리가 어렵습니다.\n",
    "\n",
    "따라서 우리는 SQL을 사용해 이 문제를 해결할 수 있고, SQLite를 사용하면 가볍게 시작할 수 있습니다."
   ]
  },
  {
   "cell_type": "markdown",
   "metadata": {},
   "source": [
    "# sqlite 데이터베이스 파일 열기\n",
    "데이터베이스는 연결/접속이란 개념을 사용합니다. API 서버에 접속해서 데이터를 얻어온 것처럼, 우리는 데이터베이스에 접속해서 데이터를 CRUD할 겁니다.\n",
    "\n",
    "여기서 CRUD는 다음과 같습니다:\n",
    "\n",
    "1. Create\n",
    "2. Read\n",
    "3. Update\n",
    "4. Delete"
   ]
  },
  {
   "cell_type": "code",
   "execution_count": 3,
   "metadata": {},
   "outputs": [
    {
     "data": {
      "text/plain": [
       "'2.6.0'"
      ]
     },
     "execution_count": 3,
     "metadata": {},
     "output_type": "execute_result"
    }
   ],
   "source": [
    "import sqlite3\n",
    "\n",
    "sqlite3.version"
   ]
  },
  {
   "cell_type": "code",
   "execution_count": 5,
   "metadata": {},
   "outputs": [],
   "source": [
    "connection = sqlite3.connect('test.db')"
   ]
  },
  {
   "cell_type": "markdown",
   "metadata": {},
   "source": [
    "# Cursor\n",
    "실제로 데이터베이스를 사용할 땐 “커서(Cursor)”란 걸 활용합니다.\n",
    "\n",
    "참고로, 우리가 컴퓨터로 글자를 입력할 때 현재 위치를 표시하는 박스 또는 세로 선도 커서라고 부르죠."
   ]
  },
  {
   "cell_type": "code",
   "execution_count": 7,
   "metadata": {},
   "outputs": [],
   "source": [
    "cursor = connection.cursor()"
   ]
  },
  {
   "cell_type": "markdown",
   "metadata": {},
   "source": [
    "# 테이블 만들기\n",
    "SQL을 쓰려면 하나 이상의 테이블이 필요합니다. 테이블은 column과 row로 이뤄진 2차원 데이터라고 보시면 됩니다.\n",
    "\n",
    "CREATE TABLE 명령으로 테이블을 만들 수 있고, 어떤 항목이 들어가는지 지정해야 합니다. 이걸 우리는 “스키마(Schema)”라고도 부릅니다.\n",
    "\n",
    "SQL을 실행할 때는 cursor의 execute를 사용합니다."
   ]
  },
  {
   "cell_type": "markdown",
   "metadata": {},
   "source": [
    "#### 테이블 만들기\n",
    "CREATE TABLE 테이블 이름 (\n",
    "컬럼명 dtype\n",
    "컬럼명 dtype\n",
    "컬럼명 dtype\n",
    ")\n",
    "\n",
    "#### dtype\n",
    "REAL:실수 ~= float:부동소수점\n",
    "\n",
    "> float: 정수 * $10^n$\n",
    "\n",
    "중요한 데이터에서는 쓰지말라고 함"
   ]
  },
  {
   "cell_type": "code",
   "execution_count": 8,
   "metadata": {},
   "outputs": [],
   "source": [
    "sql = '''\n",
    "CREATE TABLE users (\n",
    "    name TEXT,\n",
    "    age INTEGER,\n",
    "    money REAL\n",
    ")\n",
    "'''"
   ]
  },
  {
   "cell_type": "code",
   "execution_count": 10,
   "metadata": {
    "scrolled": true
   },
   "outputs": [
    {
     "data": {
      "text/plain": [
       "<sqlite3.Cursor at 0x2896533ee30>"
      ]
     },
     "execution_count": 10,
     "metadata": {},
     "output_type": "execute_result"
    }
   ],
   "source": [
    "cursor.execute(sql)"
   ]
  },
  {
   "cell_type": "markdown",
   "metadata": {},
   "source": [
    "## 데이터 추가 Create"
   ]
  },
  {
   "cell_type": "code",
   "execution_count": 14,
   "metadata": {},
   "outputs": [
    {
     "data": {
      "text/plain": [
       "<sqlite3.Cursor at 0x2896533ee30>"
      ]
     },
     "execution_count": 14,
     "metadata": {},
     "output_type": "execute_result"
    }
   ],
   "source": [
    "cursor.execute('INSERT INTO users VALUES (?, ?, ?)', ['JOKER', 13, 3.14])"
   ]
  },
  {
   "cell_type": "code",
   "execution_count": 17,
   "metadata": {},
   "outputs": [],
   "source": [
    "# 데이터 저장하기 \n",
    "# 데이터를 실제로 파일에 기록하려면 commit\n",
    "# 모든 데이터 입력 다 한 후에 마지막에 commit 하면 된다\n",
    "\n",
    "connection.commit()"
   ]
  },
  {
   "cell_type": "markdown",
   "metadata": {},
   "source": [
    "## 데이터 얻기 Read"
   ]
  },
  {
   "cell_type": "code",
   "execution_count": 15,
   "metadata": {},
   "outputs": [
    {
     "name": "stdout",
     "output_type": "stream",
     "text": [
      "[('JOKER', 13, 3.14)]\n"
     ]
    }
   ],
   "source": [
    "# 전체 데이터 얻는다\n",
    "cursor.execute('SELECT * FROM users')\n",
    "\n",
    "rows = cursor.fetchall()\n",
    "\n",
    "print(rows)"
   ]
  },
  {
   "cell_type": "code",
   "execution_count": 16,
   "metadata": {},
   "outputs": [
    {
     "name": "stdout",
     "output_type": "stream",
     "text": [
      "('JOKER', 13, 3.14)\n"
     ]
    }
   ],
   "source": [
    "# 이름이 JOKER 인 데이터 하나만 얻는다\n",
    "cursor.execute('SELECT * FROM users WHERE name=?', ['JOKER'])\n",
    "\n",
    "row = cursor.fetchone()\n",
    "\n",
    "print(row)"
   ]
  },
  {
   "cell_type": "markdown",
   "metadata": {},
   "source": [
    "# Row"
   ]
  },
  {
   "cell_type": "code",
   "execution_count": 18,
   "metadata": {},
   "outputs": [],
   "source": [
    "# Row 를 사용하는 커서를 얻는다\n",
    "\n",
    "connection.row_factory = sqlite3.Row\n",
    "\n",
    "cursor = connection.cursor()"
   ]
  },
  {
   "cell_type": "code",
   "execution_count": 19,
   "metadata": {},
   "outputs": [
    {
     "name": "stdout",
     "output_type": "stream",
     "text": [
      "<sqlite3.Row object at 0x000002896528E950>\n"
     ]
    }
   ],
   "source": [
    "cursor.execute('SELECT * FROM users WHERE name=?', ['JOKER'])\n",
    "\n",
    "row = cursor.fetchone()\n",
    "\n",
    "print(row)"
   ]
  },
  {
   "cell_type": "code",
   "execution_count": 20,
   "metadata": {},
   "outputs": [
    {
     "data": {
      "text/plain": [
       "sqlite3.Row"
      ]
     },
     "execution_count": 20,
     "metadata": {},
     "output_type": "execute_result"
    }
   ],
   "source": [
    "type(row)"
   ]
  },
  {
   "cell_type": "code",
   "execution_count": 21,
   "metadata": {},
   "outputs": [
    {
     "data": {
      "text/plain": [
       "['name', 'age', 'money']"
      ]
     },
     "execution_count": 21,
     "metadata": {},
     "output_type": "execute_result"
    }
   ],
   "source": [
    "row.keys()"
   ]
  },
  {
   "cell_type": "code",
   "execution_count": 22,
   "metadata": {},
   "outputs": [
    {
     "data": {
      "text/plain": [
       "'JOKER'"
      ]
     },
     "execution_count": 22,
     "metadata": {},
     "output_type": "execute_result"
    }
   ],
   "source": [
    "row['name']"
   ]
  },
  {
   "cell_type": "code",
   "execution_count": 23,
   "metadata": {},
   "outputs": [
    {
     "name": "stdout",
     "output_type": "stream",
     "text": [
      "JOKER\n",
      "13\n",
      "3.14\n"
     ]
    }
   ],
   "source": [
    "for value in row:\n",
    "    print(value)"
   ]
  },
  {
   "cell_type": "code",
   "execution_count": 24,
   "metadata": {},
   "outputs": [
    {
     "name": "stdout",
     "output_type": "stream",
     "text": [
      "name JOKER\n",
      "age 13\n",
      "money 3.14\n"
     ]
    }
   ],
   "source": [
    "for key in row.keys():\n",
    "    print(key, row[key])"
   ]
  },
  {
   "cell_type": "markdown",
   "metadata": {},
   "source": [
    "#### 더 많은 데이터 추가"
   ]
  },
  {
   "cell_type": "code",
   "execution_count": 25,
   "metadata": {},
   "outputs": [],
   "source": [
    "for i in range(5):\n",
    "    cursor.execute(\n",
    "        'INSERT INTO users VALUES (?, ?, ?)'\n",
    "        , [f'User {i}', 10 + i, i * 100])\n",
    "\n",
    "connection.commit()"
   ]
  },
  {
   "cell_type": "code",
   "execution_count": 32,
   "metadata": {},
   "outputs": [],
   "source": [
    "def print_users():\n",
    "    cursor.execute('SELECT * FROM users')\n",
    "\n",
    "    rows = cursor.fetchall()\n",
    "\n",
    "    for row in rows:\n",
    "        for key in row.keys():\n",
    "            print(key, row[key])\n",
    "        print()"
   ]
  },
  {
   "cell_type": "code",
   "execution_count": 33,
   "metadata": {},
   "outputs": [
    {
     "name": "stdout",
     "output_type": "stream",
     "text": [
      "name JOKER\n",
      "age 13\n",
      "money 13579.0\n",
      "\n",
      "name User 0\n",
      "age 10\n",
      "money 0.0\n",
      "\n",
      "name User 1\n",
      "age 11\n",
      "money 100.0\n",
      "\n",
      "name User 2\n",
      "age 12\n",
      "money 200.0\n",
      "\n",
      "name User 3\n",
      "age 13\n",
      "money 300.0\n",
      "\n",
      "name User 4\n",
      "age 14\n",
      "money 400.0\n",
      "\n"
     ]
    }
   ],
   "source": [
    "print_users()"
   ]
  },
  {
   "cell_type": "markdown",
   "metadata": {},
   "source": [
    "## 데이터 수정 Update"
   ]
  },
  {
   "cell_type": "code",
   "execution_count": 29,
   "metadata": {},
   "outputs": [],
   "source": [
    "# 여기서 WHERE 를 빼먹고 쓰면 파멸... 전체 유저 패스워드를 바꿔버린다거나 됨\n",
    "\n",
    "cursor.execute('UPDATE users SET money=? WHERE name=?', [13_579, 'JOKER'])\n",
    "\n",
    "connection.commit()"
   ]
  },
  {
   "cell_type": "code",
   "execution_count": 34,
   "metadata": {},
   "outputs": [
    {
     "name": "stdout",
     "output_type": "stream",
     "text": [
      "name JOKER\n",
      "age 13\n",
      "money 13579.0\n",
      "\n",
      "name User 0\n",
      "age 10\n",
      "money 0.0\n",
      "\n",
      "name User 1\n",
      "age 11\n",
      "money 100.0\n",
      "\n",
      "name User 2\n",
      "age 12\n",
      "money 200.0\n",
      "\n",
      "name User 3\n",
      "age 13\n",
      "money 300.0\n",
      "\n",
      "name User 4\n",
      "age 14\n",
      "money 400.0\n",
      "\n"
     ]
    }
   ],
   "source": [
    "print_users()"
   ]
  },
  {
   "cell_type": "markdown",
   "metadata": {},
   "source": [
    "## 데이터 삭제 Delete"
   ]
  },
  {
   "cell_type": "code",
   "execution_count": 35,
   "metadata": {},
   "outputs": [],
   "source": [
    "cursor.execute('DELETE FROM users WHERE name=?', ['JOKER'])\n",
    "\n",
    "connection.commit()"
   ]
  },
  {
   "cell_type": "code",
   "execution_count": 37,
   "metadata": {},
   "outputs": [
    {
     "name": "stdout",
     "output_type": "stream",
     "text": [
      "name User 0\n",
      "age 10\n",
      "money 0.0\n",
      "\n",
      "name User 1\n",
      "age 11\n",
      "money 100.0\n",
      "\n",
      "name User 2\n",
      "age 12\n",
      "money 200.0\n",
      "\n",
      "name User 3\n",
      "age 13\n",
      "money 300.0\n",
      "\n",
      "name User 4\n",
      "age 14\n",
      "money 400.0\n",
      "\n"
     ]
    }
   ],
   "source": [
    "print_users()"
   ]
  },
  {
   "cell_type": "code",
   "execution_count": null,
   "metadata": {},
   "outputs": [],
   "source": []
  }
 ],
 "metadata": {
  "kernelspec": {
   "display_name": "Python 3",
   "language": "python",
   "name": "python3"
  },
  "language_info": {
   "codemirror_mode": {
    "name": "ipython",
    "version": 3
   },
   "file_extension": ".py",
   "mimetype": "text/x-python",
   "name": "python",
   "nbconvert_exporter": "python",
   "pygments_lexer": "ipython3",
   "version": "3.7.3"
  }
 },
 "nbformat": 4,
 "nbformat_minor": 2
}
