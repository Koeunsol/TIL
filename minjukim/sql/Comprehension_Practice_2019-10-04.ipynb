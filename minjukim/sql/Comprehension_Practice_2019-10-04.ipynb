{
 "cells": [
  {
   "cell_type": "markdown",
   "metadata": {},
   "source": [
    "단어에서 모음을 제거하는 List Comprehension\n",
    ">>> word = 'mathematics'\n",
    "\n",
    "결과는 이렇게 나와야 합니다.\n",
    "'mthmtcs'"
   ]
  },
  {
   "cell_type": "code",
   "execution_count": null,
   "metadata": {},
   "outputs": [],
   "source": [
    "def no_vowels(word):\n",
    "    answer = ''\n",
    "    vowels = ['a', 'e', 'i', 'o', 'u']\n",
    "\n",
    "    for i in (word):\n",
    "        if i in vowels: continue\n",
    "        answer += i\n",
    "\n",
    "    return answer"
   ]
  },
  {
   "cell_type": "code",
   "execution_count": 9,
   "metadata": {},
   "outputs": [],
   "source": [
    "def no_vowels(word):\n",
    "    vowels = ['a', 'e', 'i', 'o', 'u']\n",
    "\n",
    "    return ''.join([x for x in word if x not in vowels])"
   ]
  },
  {
   "cell_type": "code",
   "execution_count": 22,
   "metadata": {},
   "outputs": [],
   "source": [
    "def no_vowels(word):\n",
    "\n",
    "    return ''.join([x for x in word if x not in 'aeiou'])"
   ]
  },
  {
   "cell_type": "code",
   "execution_count": 26,
   "metadata": {},
   "outputs": [],
   "source": [
    "# 혜민님 코드\n",
    "\n",
    "def no_vowels(word):\n",
    "    return ''.join(['' if x in 'aeiou' else x for x in word])"
   ]
  },
  {
   "cell_type": "code",
   "execution_count": 27,
   "metadata": {},
   "outputs": [
    {
     "data": {
      "text/plain": [
       "'mthmtcs'"
      ]
     },
     "execution_count": 27,
     "metadata": {},
     "output_type": "execute_result"
    }
   ],
   "source": [
    "no_vowels('mathematics')"
   ]
  },
  {
   "cell_type": "markdown",
   "metadata": {},
   "source": [
    "두 리스트를 하나의 dict로 합치는 Dict Comprehension. 하나는 key, 또 다른 하나는 value로 사용한다\n",
    ">>> subjects = ['math', 'history', 'english', 'computer engineering']\n",
    ">>> scores = [90, 80, 95, 100]\n",
    "\n",
    "결과는 이렇게 나와야 합니다.\n",
    "{'math': 90, 'history': 80, 'english': 95, 'computer engineering': 100}\n",
    "\n",
    "힌트 1. zip() 함수\n",
    ">>> for k in zip(subjects, scores):\n",
    "...     print(k)\n",
    "... \n",
    "('math', 90)\n",
    "('history', 80)\n",
    "('english', 95)\n",
    "('computer engineering', 100)"
   ]
  },
  {
   "cell_type": "code",
   "execution_count": 12,
   "metadata": {},
   "outputs": [],
   "source": [
    "def all_scores(subjects, scores):\n",
    "    answer = {}\n",
    "    for i in range(len(subjects)):\n",
    "        answer[subjects[i]] = scores[i]\n",
    "    return answer"
   ]
  },
  {
   "cell_type": "code",
   "execution_count": 18,
   "metadata": {},
   "outputs": [],
   "source": [
    "def all_scores(subjects, scores):\n",
    "\n",
    "    return {x:y for x in subjects for y in scores}"
   ]
  },
  {
   "cell_type": "code",
   "execution_count": null,
   "metadata": {},
   "outputs": [],
   "source": [
    "# 예은님 풀이\n",
    "\n",
    "def all_scores(subjects, scores):\n",
    "    return {k:v for k,v in zip(subjects, scores)}"
   ]
  },
  {
   "cell_type": "code",
   "execution_count": 19,
   "metadata": {},
   "outputs": [
    {
     "data": {
      "text/plain": [
       "{'math': 100, 'history': 100, 'english': 100, 'computer engineering': 100}"
      ]
     },
     "execution_count": 19,
     "metadata": {},
     "output_type": "execute_result"
    }
   ],
   "source": [
    "all_scores(['math', 'history', 'english', 'computer engineering'], [90, 80, 95, 100])"
   ]
  },
  {
   "cell_type": "markdown",
   "metadata": {},
   "source": [
    "튜플 리스트를 dict 형태로 변환하는 DC\n",
    "    >>> score_tuples = [('math', 90), ('history', 80), ('english', 95), ('computer engineering', 100)]\n",
    "    \n",
    "    결과는 이렇게 나와야 합니다.\n",
    "    {'math': 90, 'history': 80, 'english': 95, 'computer engineering': 100}"
   ]
  },
  {
   "cell_type": "code",
   "execution_count": 20,
   "metadata": {},
   "outputs": [],
   "source": [
    "def tuple_to_dict(array):\n",
    "    return {x[0]:x[1] for x in array}"
   ]
  },
  {
   "cell_type": "code",
   "execution_count": null,
   "metadata": {},
   "outputs": [],
   "source": [
    "# 예은님 풀이\n",
    "\n",
    "def tuple_to_dict(array):\n",
    "    return {k:v for k,v in array}"
   ]
  },
  {
   "cell_type": "code",
   "execution_count": 21,
   "metadata": {},
   "outputs": [
    {
     "data": {
      "text/plain": [
       "{'math': 90, 'history': 80, 'english': 95, 'computer engineering': 100}"
      ]
     },
     "execution_count": 21,
     "metadata": {},
     "output_type": "execute_result"
    }
   ],
   "source": [
    "tuple_to_dict( [('math', 90), ('history', 80), ('english', 95), ('computer engineering', 100)])"
   ]
  },
  {
   "cell_type": "code",
   "execution_count": null,
   "metadata": {},
   "outputs": [],
   "source": []
  }
 ],
 "metadata": {
  "kernelspec": {
   "display_name": "Python 3",
   "language": "python",
   "name": "python3"
  },
  "language_info": {
   "codemirror_mode": {
    "name": "ipython",
    "version": 3
   },
   "file_extension": ".py",
   "mimetype": "text/x-python",
   "name": "python",
   "nbconvert_exporter": "python",
   "pygments_lexer": "ipython3",
   "version": "3.7.3"
  }
 },
 "nbformat": 4,
 "nbformat_minor": 2
}
