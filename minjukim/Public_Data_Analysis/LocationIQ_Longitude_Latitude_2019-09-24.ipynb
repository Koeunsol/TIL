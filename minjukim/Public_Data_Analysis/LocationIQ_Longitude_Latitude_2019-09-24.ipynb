{
 "cells": [
  {
   "cell_type": "markdown",
   "metadata": {},
   "source": [
    "# Tree\n",
    "\n",
    "부모-자녀 관계로 데이터 관리를 용이하게 한 구조\n",
    "\n",
    "`ex.`폴더를 기반으로 한 파일 시스템이 대표적, XML"
   ]
  },
  {
   "cell_type": "markdown",
   "metadata": {},
   "source": [
    "### XML\n",
    "\n",
    "- XML 은 한번 가공(XML Beautifier)해줘야 Tree 형식이 된다\n",
    "- pandas 에서 모든 <age> 를 한번에 불러올 수 있다(태그별 호출)\n",
    "- 태그 이름은 정하기 나름이다(줄여서 쓰는건 옛날 방식)\n",
    "\n",
    "#### XML - Json\n",
    "- XML 이 Json 보다 더 많은 정보를 담을 수 있다\n",
    "- json 파일로 변환할 수 있다"
   ]
  },
  {
   "cell_type": "markdown",
   "metadata": {},
   "source": [
    "# LocationIQ 로 위도, 경도 구하기\n",
    "LocationIQ - Free & Fast Geocoding and Reverse Geocoding service"
   ]
  },
  {
   "cell_type": "code",
   "execution_count": 2,
   "metadata": {},
   "outputs": [],
   "source": [
    "import os"
   ]
  },
  {
   "cell_type": "code",
   "execution_count": 6,
   "metadata": {},
   "outputs": [
    {
     "data": {
      "text/plain": [
       "'ba4fed066fb890'"
      ]
     },
     "execution_count": 6,
     "metadata": {},
     "output_type": "execute_result"
    }
   ],
   "source": [
    "LOCATIONIQ_TOKEN = os.environ['locationiq_token']\n",
    "LOCATIONIQ_TOKEN"
   ]
  },
  {
   "cell_type": "code",
   "execution_count": 7,
   "metadata": {},
   "outputs": [
    {
     "data": {
      "text/plain": [
       "'2.21.0'"
      ]
     },
     "execution_count": 7,
     "metadata": {},
     "output_type": "execute_result"
    }
   ],
   "source": [
    "import requests\n",
    "requests.__version__"
   ]
  },
  {
   "cell_type": "markdown",
   "metadata": {},
   "source": [
    "# API 호출\n",
    "parameter 이용\n",
    "\n",
    "cf. 카카오맵 API : header\n",
    "    보안수준이 더 높다"
   ]
  },
  {
   "cell_type": "code",
   "execution_count": 8,
   "metadata": {},
   "outputs": [
    {
     "name": "stdout",
     "output_type": "stream",
     "text": [
      "<Response [200]>\n"
     ]
    }
   ],
   "source": [
    "# LocationIQ로 “서울창업허브” 검색\n",
    "\n",
    "# 원래 URL: https://us1.locationiq.com/v1/search.php?key=블라블라&q=서울창업허브&format=json\n",
    "# URL을 물음표(?)를 중심으로 두 부분으로 나눕니다.\n",
    "\n",
    "# 1. 물음표 앞부분.\n",
    "url = 'https://us1.locationiq.com/v1/search.php'\n",
    "\n",
    "# 2. 물음표 뒷부분.\n",
    "payload = {\n",
    "    'key': LOCATIONIQ_TOKEN,\n",
    "    'q': '서울창업허브',\n",
    "    'format': 'json'\n",
    "}\n",
    "\n",
    "# API 호출\n",
    "response = requests.get(url, params=payload)\n",
    "\n",
    "print(response)"
   ]
  },
  {
   "cell_type": "markdown",
   "metadata": {},
   "source": [
    "Response(응답)는 여러 내용을 담고 있습니다.\n",
    "\n",
    "가장 기본적인 게 바로 HTTP Status Code 입니다.\n",
    "\n",
    "<https://en.wikipedia.org/wiki/List_of_HTTP_status_codes>\n",
    "\n",
    "Response code|의미\n",
    "-|-\n",
    "200 | 성공\n",
    "201 | 성공\n",
    "404 | 찾을 수 없다\n",
    "500 | 뭔가 잘못 됐다\n",
    "\n",
    "- 200번대는 다 성공"
   ]
  },
  {
   "cell_type": "code",
   "execution_count": 9,
   "metadata": {},
   "outputs": [
    {
     "name": "stdout",
     "output_type": "stream",
     "text": [
      "200\n"
     ]
    }
   ],
   "source": [
    "# Response의 HTTP Status Code 확인\n",
    "\n",
    "print(response.status_code)"
   ]
  },
  {
   "cell_type": "markdown",
   "metadata": {},
   "source": [
    "Json 도 XML 과 마찬가지로 Tree 가 되기 위한 재료"
   ]
  },
  {
   "cell_type": "code",
   "execution_count": 11,
   "metadata": {},
   "outputs": [
    {
     "name": "stdout",
     "output_type": "stream",
     "text": [
      "[{\"place_id\":\"206185511\",\"licence\":\"https:\\/\\/locationiq.com\\/attribution\",\"osm_type\":\"way\",\"osm_id\":\"608088218\",\"boundingbox\":[\"37.5463183\",\"37.5468967\",\"126.9492191\",\"126.9501552\"],\"lat\":\"37.54662875\",\"lon\":\"126.949684293519\",\"display_name\":\"Seoul Startup Hub, Baekbeom-ro 31-gil, Ahyeon-dong, Mapo-gu, Seoul, 04140, South Korea\",\"class\":\"office\",\"type\":\"government\",\"importance\":0.001}]\n"
     ]
    }
   ],
   "source": [
    "# Response의 Text 확인\n",
    "\n",
    "print(response.text)"
   ]
  },
  {
   "cell_type": "markdown",
   "metadata": {},
   "source": [
    "좀더 보기 좋게 JSON Beautifier로 바꿔봅니다.\n",
    "\n",
    "<https://www.jsonformatter.io/>"
   ]
  },
  {
   "cell_type": "code",
   "execution_count": null,
   "metadata": {},
   "outputs": [],
   "source": [
    "[\n",
    "   {\n",
    "      \"place_id\": \"206185511\",\n",
    "      \"licence\": \"https://locationiq.com/attribution\",\n",
    "      \"osm_type\": \"way\",\n",
    "      \"osm_id\": \"608088218\",\n",
    "      \"boundingbox\": [\n",
    "         \"37.5463183\",\n",
    "         \"37.5468967\",\n",
    "         \"126.9492191\",\n",
    "         \"126.9501552\"\n",
    "      ],\n",
    "      \"lat\": \"37.54662875\",\n",
    "      \"lon\": \"126.949684293519\",\n",
    "      \"display_name\": \"Seoul Startup Hub, Baekbeom-ro 31-gil, Ahyeon-dong, Mapo-gu, Seoul, 04140, South Korea\",\n",
    "      \"class\": \"office\",\n",
    "      \"type\": \"government\",\n",
    "      \"importance\": 0.001\n",
    "   }\n",
    "]"
   ]
  },
  {
   "cell_type": "code",
   "execution_count": 14,
   "metadata": {},
   "outputs": [
    {
     "data": {
      "text/plain": [
       "[{'place_id': '206185511',\n",
       "  'licence': 'https://locationiq.com/attribution',\n",
       "  'osm_type': 'way',\n",
       "  'osm_id': '608088218',\n",
       "  'boundingbox': ['37.5463183', '37.5468967', '126.9492191', '126.9501552'],\n",
       "  'lat': '37.54662875',\n",
       "  'lon': '126.949684293519',\n",
       "  'display_name': 'Seoul Startup Hub, Baekbeom-ro 31-gil, Ahyeon-dong, Mapo-gu, Seoul, 04140, South Korea',\n",
       "  'class': 'office',\n",
       "  'type': 'government',\n",
       "  'importance': 0.001}]"
      ]
     },
     "execution_count": 14,
     "metadata": {},
     "output_type": "execute_result"
    }
   ],
   "source": [
    "results = response.json()\n",
    "results"
   ]
  },
  {
   "cell_type": "code",
   "execution_count": 15,
   "metadata": {},
   "outputs": [
    {
     "data": {
      "text/plain": [
       "1"
      ]
     },
     "execution_count": 15,
     "metadata": {},
     "output_type": "execute_result"
    }
   ],
   "source": [
    "# 리스트 원소의 갯수\n",
    "len(results)"
   ]
  },
  {
   "cell_type": "code",
   "execution_count": 16,
   "metadata": {},
   "outputs": [
    {
     "data": {
      "text/plain": [
       "{'place_id': '206185511',\n",
       " 'licence': 'https://locationiq.com/attribution',\n",
       " 'osm_type': 'way',\n",
       " 'osm_id': '608088218',\n",
       " 'boundingbox': ['37.5463183', '37.5468967', '126.9492191', '126.9501552'],\n",
       " 'lat': '37.54662875',\n",
       " 'lon': '126.949684293519',\n",
       " 'display_name': 'Seoul Startup Hub, Baekbeom-ro 31-gil, Ahyeon-dong, Mapo-gu, Seoul, 04140, South Korea',\n",
       " 'class': 'office',\n",
       " 'type': 'government',\n",
       " 'importance': 0.001}"
      ]
     },
     "execution_count": 16,
     "metadata": {},
     "output_type": "execute_result"
    }
   ],
   "source": [
    "# 리스트의 첫번째 값\n",
    "results[0]"
   ]
  },
  {
   "cell_type": "code",
   "execution_count": 17,
   "metadata": {},
   "outputs": [
    {
     "data": {
      "text/plain": [
       "'37.54662875'"
      ]
     },
     "execution_count": 17,
     "metadata": {},
     "output_type": "execute_result"
    }
   ],
   "source": [
    "# 위도\n",
    "results[0]['lat']"
   ]
  },
  {
   "cell_type": "code",
   "execution_count": 19,
   "metadata": {},
   "outputs": [
    {
     "data": {
      "text/plain": [
       "'126.949684293519'"
      ]
     },
     "execution_count": 19,
     "metadata": {},
     "output_type": "execute_result"
    }
   ],
   "source": [
    "# 경도\n",
    "results[0]['lon']"
   ]
  },
  {
   "cell_type": "markdown",
   "metadata": {},
   "source": [
    "# DataFrame 만들기\n",
    "XML 보다 Json 이 훨씬 빠르다"
   ]
  },
  {
   "cell_type": "code",
   "execution_count": 20,
   "metadata": {},
   "outputs": [],
   "source": [
    "import pandas as pd"
   ]
  },
  {
   "cell_type": "code",
   "execution_count": 22,
   "metadata": {},
   "outputs": [
    {
     "data": {
      "text/plain": [
       "dict_keys(['place_id', 'licence', 'osm_type', 'osm_id', 'boundingbox', 'lat', 'lon', 'display_name', 'class', 'type', 'importance'])"
      ]
     },
     "execution_count": 22,
     "metadata": {},
     "output_type": "execute_result"
    }
   ],
   "source": [
    "columns = results[0].keys()\n",
    "columns"
   ]
  },
  {
   "cell_type": "code",
   "execution_count": 23,
   "metadata": {},
   "outputs": [
    {
     "data": {
      "text/html": [
       "<div>\n",
       "<style scoped>\n",
       "    .dataframe tbody tr th:only-of-type {\n",
       "        vertical-align: middle;\n",
       "    }\n",
       "\n",
       "    .dataframe tbody tr th {\n",
       "        vertical-align: top;\n",
       "    }\n",
       "\n",
       "    .dataframe thead th {\n",
       "        text-align: right;\n",
       "    }\n",
       "</style>\n",
       "<table border=\"1\" class=\"dataframe\">\n",
       "  <thead>\n",
       "    <tr style=\"text-align: right;\">\n",
       "      <th></th>\n",
       "      <th>place_id</th>\n",
       "      <th>licence</th>\n",
       "      <th>osm_type</th>\n",
       "      <th>osm_id</th>\n",
       "      <th>boundingbox</th>\n",
       "      <th>lat</th>\n",
       "      <th>lon</th>\n",
       "      <th>display_name</th>\n",
       "      <th>class</th>\n",
       "      <th>type</th>\n",
       "      <th>importance</th>\n",
       "    </tr>\n",
       "  </thead>\n",
       "  <tbody>\n",
       "    <tr>\n",
       "      <th>0</th>\n",
       "      <td>206185511</td>\n",
       "      <td>https://locationiq.com/attribution</td>\n",
       "      <td>way</td>\n",
       "      <td>608088218</td>\n",
       "      <td>[37.5463183, 37.5468967, 126.9492191, 126.9501...</td>\n",
       "      <td>37.54662875</td>\n",
       "      <td>126.949684293519</td>\n",
       "      <td>Seoul Startup Hub, Baekbeom-ro 31-gil, Ahyeon-...</td>\n",
       "      <td>office</td>\n",
       "      <td>government</td>\n",
       "      <td>0.001</td>\n",
       "    </tr>\n",
       "  </tbody>\n",
       "</table>\n",
       "</div>"
      ],
      "text/plain": [
       "    place_id                             licence osm_type     osm_id  \\\n",
       "0  206185511  https://locationiq.com/attribution      way  608088218   \n",
       "\n",
       "                                         boundingbox          lat  \\\n",
       "0  [37.5463183, 37.5468967, 126.9492191, 126.9501...  37.54662875   \n",
       "\n",
       "                lon                                       display_name  \\\n",
       "0  126.949684293519  Seoul Startup Hub, Baekbeom-ro 31-gil, Ahyeon-...   \n",
       "\n",
       "    class        type  importance  \n",
       "0  office  government       0.001  "
      ]
     },
     "execution_count": 23,
     "metadata": {},
     "output_type": "execute_result"
    }
   ],
   "source": [
    "pd.DataFrame(results, columns=columns)"
   ]
  },
  {
   "cell_type": "markdown",
   "metadata": {},
   "source": [
    "완전 틀린 주소를 찾으려고 하면 404 Not Found 에러를 얻게 됩니다."
   ]
  },
  {
   "cell_type": "code",
   "execution_count": 24,
   "metadata": {},
   "outputs": [
    {
     "name": "stdout",
     "output_type": "stream",
     "text": [
      "<Response [404]>\n"
     ]
    }
   ],
   "source": [
    "# 완전 틀린 주소를 찾을 때\n",
    "\n",
    "url = 'https://us1.locationiq.com/v1/search.php'\n",
    "payload = {\n",
    "    'key': LOCATIONIQ_TOKEN,\n",
    "    'q': '이 세계 어느 곳에도 없는 주소',\n",
    "    'format': 'json'\n",
    "}\n",
    "\n",
    "response = requests.get(url, params=payload)\n",
    "\n",
    "print(response)"
   ]
  },
  {
   "cell_type": "code",
   "execution_count": 25,
   "metadata": {},
   "outputs": [
    {
     "name": "stdout",
     "output_type": "stream",
     "text": [
      "{\"error\":\"Unable to geocode\"}\n"
     ]
    }
   ],
   "source": [
    "print(response.text)"
   ]
  },
  {
   "cell_type": "markdown",
   "metadata": {},
   "source": [
    "# 에러인지 확인하는 방법\n",
    "1. 코드에 넣어서 실행해보면 정보가 안 나온다\n",
    "2. Response code 가 200 이 아니다\n",
    "3. response.text 를 실행해봤는데 error 가 나온다"
   ]
  },
  {
   "cell_type": "code",
   "execution_count": null,
   "metadata": {},
   "outputs": [],
   "source": []
  }
 ],
 "metadata": {
  "kernelspec": {
   "display_name": "Python 3",
   "language": "python",
   "name": "python3"
  },
  "language_info": {
   "codemirror_mode": {
    "name": "ipython",
    "version": 3
   },
   "file_extension": ".py",
   "mimetype": "text/x-python",
   "name": "python",
   "nbconvert_exporter": "python",
   "pygments_lexer": "ipython3",
   "version": "3.7.3"
  }
 },
 "nbformat": 4,
 "nbformat_minor": 2
}
