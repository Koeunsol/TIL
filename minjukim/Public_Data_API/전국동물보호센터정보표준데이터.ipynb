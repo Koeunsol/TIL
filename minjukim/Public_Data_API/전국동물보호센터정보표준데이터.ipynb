{
 "cells": [
  {
   "cell_type": "code",
   "execution_count": 1,
   "metadata": {
    "scrolled": true
   },
   "outputs": [
    {
     "data": {
      "text/plain": [
       "'3.1.0'"
      ]
     },
     "execution_count": 1,
     "metadata": {},
     "output_type": "execute_result"
    }
   ],
   "source": [
    "import matplotlib\n",
    "import matplotlib.pyplot as plt\n",
    "\n",
    "matplotlib.__version__"
   ]
  },
  {
   "cell_type": "code",
   "execution_count": 2,
   "metadata": {},
   "outputs": [
    {
     "data": {
      "text/plain": [
       "'0.24.2'"
      ]
     },
     "execution_count": 2,
     "metadata": {},
     "output_type": "execute_result"
    }
   ],
   "source": [
    "import pandas as pd\n",
    "\n",
    "pd.__version__"
   ]
  },
  {
   "cell_type": "code",
   "execution_count": 5,
   "metadata": {},
   "outputs": [
    {
     "name": "stdout",
     "output_type": "stream",
     "text": [
      "Collecting folium\n",
      "  Downloading https://files.pythonhosted.org/packages/72/ff/004bfe344150a064e558cb2aedeaa02ecbf75e60e148a55a9198f0c41765/folium-0.10.0-py2.py3-none-any.whl (91kB)\n",
      "Requirement already satisfied: jinja2>=2.9 in c:\\users\\minju\\anaconda3\\lib\\site-packages (from folium) (2.10)\n",
      "Collecting branca>=0.3.0 (from folium)\n",
      "  Downloading https://files.pythonhosted.org/packages/63/36/1c93318e9653f4e414a2e0c3b98fc898b4970e939afeedeee6075dd3b703/branca-0.3.1-py3-none-any.whl\n",
      "Requirement already satisfied: numpy in c:\\users\\minju\\anaconda3\\lib\\site-packages (from folium) (1.16.2)\n",
      "Requirement already satisfied: requests in c:\\users\\minju\\anaconda3\\lib\\site-packages (from folium) (2.21.0)\n",
      "Requirement already satisfied: MarkupSafe>=0.23 in c:\\users\\minju\\anaconda3\\lib\\site-packages (from jinja2>=2.9->folium) (1.1.1)\n",
      "Requirement already satisfied: six in c:\\users\\minju\\anaconda3\\lib\\site-packages (from branca>=0.3.0->folium) (1.12.0)\n",
      "Requirement already satisfied: idna<2.9,>=2.5 in c:\\users\\minju\\anaconda3\\lib\\site-packages (from requests->folium) (2.8)\n",
      "Requirement already satisfied: urllib3<1.25,>=1.21.1 in c:\\users\\minju\\anaconda3\\lib\\site-packages (from requests->folium) (1.24.1)\n",
      "Requirement already satisfied: certifi>=2017.4.17 in c:\\users\\minju\\anaconda3\\lib\\site-packages (from requests->folium) (2019.3.9)\n",
      "Requirement already satisfied: chardet<3.1.0,>=3.0.2 in c:\\users\\minju\\anaconda3\\lib\\site-packages (from requests->folium) (3.0.4)\n",
      "Installing collected packages: branca, folium\n",
      "Successfully installed branca-0.3.1 folium-0.10.0\n",
      "Note: you may need to restart the kernel to use updated packages.\n"
     ]
    },
    {
     "name": "stderr",
     "output_type": "stream",
     "text": [
      "WARNING: You are using pip version 19.2.1, however version 19.2.3 is available.\n",
      "You should consider upgrading via the 'python -m pip install --upgrade pip' command.\n"
     ]
    }
   ],
   "source": [
    "pip install folium"
   ]
  },
  {
   "cell_type": "code",
   "execution_count": 6,
   "metadata": {},
   "outputs": [
    {
     "data": {
      "text/plain": [
       "'0.10.0'"
      ]
     },
     "execution_count": 6,
     "metadata": {},
     "output_type": "execute_result"
    }
   ],
   "source": [
    "import folium\n",
    "from folium import Map\n",
    "from folium.plugins import HeatMap\n",
    "\n",
    "folium.__version__"
   ]
  },
  {
   "cell_type": "code",
   "execution_count": 8,
   "metadata": {},
   "outputs": [
    {
     "data": {
      "text/plain": [
       "[<Font 'Century Gothic' (GOTHICBI.TTF) italic normal bold normal>,\n",
       " <Font 'Century Gothic' (GOTHICB.TTF) normal normal bold normal>,\n",
       " <Font 'HYGothic-Extra' (H2GTRE.TTF) normal normal 400 normal>,\n",
       " <Font 'Yu Gothic' (YuGothR.ttc) normal normal regular normal>,\n",
       " <Font 'Franklin Gothic Demi Cond' (FRADMCN.TTF) normal normal demi condensed>,\n",
       " <Font 'Franklin Gothic Medium' (framd.ttf) normal normal medium normal>,\n",
       " <Font 'Yu Gothic' (YuGothM.ttc) normal normal medium normal>,\n",
       " <Font 'Copperplate Gothic Bold' (COPRGTB.TTF) normal normal bold normal>,\n",
       " <Font 'NanumGothic' (NanumGothicBold.ttf) normal normal bold normal>,\n",
       " <Font 'Franklin Gothic Heavy' (FRAHV.TTF) normal normal heavy normal>,\n",
       " <Font 'Franklin Gothic Demi' (FRADM.TTF) normal normal demi normal>,\n",
       " <Font 'Showcard Gothic' (SHOWG.TTF) normal normal 400 normal>,\n",
       " <Font 'Yu Gothic' (YuGothL.ttc) normal normal light normal>,\n",
       " <Font 'NanumGothic' (NanumGothic.ttf) normal normal 400 normal>,\n",
       " <Font 'Franklin Gothic Medium Cond' (FRAMDCN.TTF) normal normal medium condensed>,\n",
       " <Font 'Century Gothic' (GOTHICI.TTF) italic normal 400 normal>,\n",
       " <Font 'NanumBarunGothic' (NanumBarunGothicLight.ttf) normal normal light normal>,\n",
       " <Font 'MS Gothic' (msgothic.ttc) normal normal 400 normal>,\n",
       " <Font 'Franklin Gothic Medium' (framdit.ttf) italic normal medium normal>,\n",
       " <Font 'NanumGothic' (NanumGothicExtraBold.ttf) normal normal bold normal>,\n",
       " <Font 'Malgun Gothic' (malgunbd.ttf) normal normal bold normal>,\n",
       " <Font 'Century Gothic' (GOTHIC.TTF) normal normal 400 normal>,\n",
       " <Font 'Franklin Gothic Book' (FRABKIT.TTF) italic normal book normal>,\n",
       " <Font 'NanumGothic' (NanumGothicLight.ttf) normal normal light normal>,\n",
       " <Font 'NanumBarunGothic' (NanumBarunGothicUltraLight.ttf) normal normal ultralight normal>,\n",
       " <Font 'HYGothic-Medium' (H2GTRM.TTF) normal normal medium normal>,\n",
       " <Font 'Franklin Gothic Demi' (FRADMIT.TTF) italic normal demi normal>,\n",
       " <Font 'Franklin Gothic Book' (FRABK.TTF) normal normal book normal>,\n",
       " <Font 'NanumBarunGothic' (NanumBarunGothic.ttf) normal normal 400 normal>,\n",
       " <Font 'Copperplate Gothic Light' (COPRGTL.TTF) normal normal light normal>,\n",
       " <Font 'Hancom Gothic' (Hancom Gothic Bold.ttf) normal normal bold normal>,\n",
       " <Font 'Yu Gothic' (YuGothB.ttc) normal normal bold normal>,\n",
       " <Font 'Hancom Gothic' (Hancom Gothic Regular.ttf) normal normal regular normal>,\n",
       " <Font 'Malgun Gothic' (malgunsl.ttf) normal normal light normal>,\n",
       " <Font 'Franklin Gothic Heavy' (FRAHVIT.TTF) italic normal heavy normal>,\n",
       " <Font 'Malgun Gothic' (malgun.ttf) normal normal 400 normal>,\n",
       " <Font 'NanumBarunGothic' (NanumBarunGothicBold.ttf) normal normal bold normal>]"
      ]
     },
     "execution_count": 8,
     "metadata": {},
     "output_type": "execute_result"
    }
   ],
   "source": [
    "import matplotlib.font_manager as fm\n",
    "\n",
    "[font for font in fm.fontManager.ttflist if 'Gothic' in font.name]"
   ]
  },
  {
   "cell_type": "code",
   "execution_count": 25,
   "metadata": {},
   "outputs": [],
   "source": [
    "plt.rcParams['font.family'] = 'NanumGothic'"
   ]
  },
  {
   "cell_type": "code",
   "execution_count": 12,
   "metadata": {},
   "outputs": [
    {
     "data": {
      "text/plain": [
       "Index(['동물보호센터명', '관리기관명', '동물보호센터유형', '구조대상동물', '소재지도로명주소', '소재지지번주소', '위도',\n",
       "       '경도', '동물보호센터지정일자', '평일운영시작시각', '평일운영종료시각', '평일분양시작시각', '평일분양종료시각',\n",
       "       '주말운영시작시각', '주말운영종료시각', '주말분양시작시각', '주말분양종료시각', '휴무일', '수의사인원수',\n",
       "       '사양관리사인원수', '진료실수', '사육실수', '격리실수', '사료보관실수', '구조운반용차량보유대수', '전화번호',\n",
       "       '데이터기준일자', '제공기관코드', '제공기관명', 'Unnamed: 29'],\n",
       "      dtype='object')"
      ]
     },
     "execution_count": 12,
     "metadata": {},
     "output_type": "execute_result"
    }
   ],
   "source": [
    "df = pd.read_csv('animal.csv', encoding='euc-kr')\n",
    "\n",
    "df.columns"
   ]
  },
  {
   "cell_type": "code",
   "execution_count": 13,
   "metadata": {},
   "outputs": [
    {
     "data": {
      "text/plain": [
       "(188, 30)"
      ]
     },
     "execution_count": 13,
     "metadata": {},
     "output_type": "execute_result"
    }
   ],
   "source": [
    "df.shape"
   ]
  },
  {
   "cell_type": "code",
   "execution_count": 15,
   "metadata": {},
   "outputs": [
    {
     "data": {
      "text/html": [
       "<div>\n",
       "<style scoped>\n",
       "    .dataframe tbody tr th:only-of-type {\n",
       "        vertical-align: middle;\n",
       "    }\n",
       "\n",
       "    .dataframe tbody tr th {\n",
       "        vertical-align: top;\n",
       "    }\n",
       "\n",
       "    .dataframe thead th {\n",
       "        text-align: right;\n",
       "    }\n",
       "</style>\n",
       "<table border=\"1\" class=\"dataframe\">\n",
       "  <thead>\n",
       "    <tr style=\"text-align: right;\">\n",
       "      <th></th>\n",
       "      <th>동물보호센터명</th>\n",
       "      <th>관리기관명</th>\n",
       "      <th>동물보호센터유형</th>\n",
       "      <th>구조대상동물</th>\n",
       "      <th>소재지도로명주소</th>\n",
       "      <th>소재지지번주소</th>\n",
       "      <th>위도</th>\n",
       "      <th>경도</th>\n",
       "      <th>동물보호센터지정일자</th>\n",
       "      <th>평일운영시작시각</th>\n",
       "      <th>...</th>\n",
       "      <th>진료실수</th>\n",
       "      <th>사육실수</th>\n",
       "      <th>격리실수</th>\n",
       "      <th>사료보관실수</th>\n",
       "      <th>구조운반용차량보유대수</th>\n",
       "      <th>전화번호</th>\n",
       "      <th>데이터기준일자</th>\n",
       "      <th>제공기관코드</th>\n",
       "      <th>제공기관명</th>\n",
       "      <th>Unnamed: 29</th>\n",
       "    </tr>\n",
       "  </thead>\n",
       "  <tbody>\n",
       "    <tr>\n",
       "      <th>0</th>\n",
       "      <td>인천수의사회 유기동물보호소</td>\n",
       "      <td>인천수의사회</td>\n",
       "      <td>법인</td>\n",
       "      <td>「동물보호법」에 따른 유실·유기동물</td>\n",
       "      <td>인천광역시 계양구 다남로165번길 56(다남동)</td>\n",
       "      <td>NaN</td>\n",
       "      <td>37.566196</td>\n",
       "      <td>126.71963</td>\n",
       "      <td>2006-10-18</td>\n",
       "      <td>09:00</td>\n",
       "      <td>...</td>\n",
       "      <td>NaN</td>\n",
       "      <td>NaN</td>\n",
       "      <td>NaN</td>\n",
       "      <td>NaN</td>\n",
       "      <td>NaN</td>\n",
       "      <td>032-515-7567</td>\n",
       "      <td>2018-08-13</td>\n",
       "      <td>3520000</td>\n",
       "      <td>인천광역시 연수구</td>\n",
       "      <td>NaN</td>\n",
       "    </tr>\n",
       "  </tbody>\n",
       "</table>\n",
       "<p>1 rows × 30 columns</p>\n",
       "</div>"
      ],
      "text/plain": [
       "          동물보호센터명   관리기관명 동물보호센터유형               구조대상동물  \\\n",
       "0  인천수의사회 유기동물보호소  인천수의사회       법인  「동물보호법」에 따른 유실·유기동물   \n",
       "\n",
       "                     소재지도로명주소 소재지지번주소         위도         경도  동물보호센터지정일자  \\\n",
       "0  인천광역시 계양구 다남로165번길 56(다남동)     NaN  37.566196  126.71963  2006-10-18   \n",
       "\n",
       "  평일운영시작시각  ... 진료실수 사육실수 격리실수 사료보관실수 구조운반용차량보유대수          전화번호     데이터기준일자  \\\n",
       "0    09:00  ...  NaN  NaN  NaN    NaN         NaN  032-515-7567  2018-08-13   \n",
       "\n",
       "    제공기관코드      제공기관명  Unnamed: 29  \n",
       "0  3520000  인천광역시 연수구          NaN  \n",
       "\n",
       "[1 rows x 30 columns]"
      ]
     },
     "execution_count": 15,
     "metadata": {},
     "output_type": "execute_result"
    }
   ],
   "source": [
    "df.head(1)"
   ]
  },
  {
   "cell_type": "code",
   "execution_count": 16,
   "metadata": {},
   "outputs": [
    {
     "data": {
      "text/plain": [
       "동물보호센터명          0\n",
       "관리기관명            0\n",
       "동물보호센터유형         0\n",
       "구조대상동물           0\n",
       "소재지도로명주소         4\n",
       "소재지지번주소         30\n",
       "위도               0\n",
       "경도               0\n",
       "동물보호센터지정일자       0\n",
       "평일운영시작시각         0\n",
       "평일운영종료시각         0\n",
       "평일분양시작시각        39\n",
       "평일분양종료시각        39\n",
       "주말운영시작시각        69\n",
       "주말운영종료시각        69\n",
       "주말분양시작시각        84\n",
       "주말분양종료시각        84\n",
       "휴무일              0\n",
       "수의사인원수           0\n",
       "사양관리사인원수         0\n",
       "진료실수            45\n",
       "사육실수            39\n",
       "격리실수            39\n",
       "사료보관실수          43\n",
       "구조운반용차량보유대수     36\n",
       "전화번호             0\n",
       "데이터기준일자          0\n",
       "제공기관코드           0\n",
       "제공기관명            0\n",
       "Unnamed: 29    188\n",
       "dtype: int64"
      ]
     },
     "execution_count": 16,
     "metadata": {},
     "output_type": "execute_result"
    }
   ],
   "source": [
    "df.isnull().sum()"
   ]
  },
  {
   "cell_type": "code",
   "execution_count": 17,
   "metadata": {},
   "outputs": [
    {
     "data": {
      "text/html": [
       "<div>\n",
       "<style scoped>\n",
       "    .dataframe tbody tr th:only-of-type {\n",
       "        vertical-align: middle;\n",
       "    }\n",
       "\n",
       "    .dataframe tbody tr th {\n",
       "        vertical-align: top;\n",
       "    }\n",
       "\n",
       "    .dataframe thead th {\n",
       "        text-align: right;\n",
       "    }\n",
       "</style>\n",
       "<table border=\"1\" class=\"dataframe\">\n",
       "  <thead>\n",
       "    <tr style=\"text-align: right;\">\n",
       "      <th></th>\n",
       "      <th>동물보호센터명</th>\n",
       "      <th>관리기관명</th>\n",
       "      <th>동물보호센터유형</th>\n",
       "      <th>구조대상동물</th>\n",
       "      <th>소재지도로명주소</th>\n",
       "      <th>위도</th>\n",
       "      <th>경도</th>\n",
       "      <th>휴무일</th>\n",
       "      <th>수의사인원수</th>\n",
       "      <th>사양관리사인원수</th>\n",
       "    </tr>\n",
       "  </thead>\n",
       "  <tbody>\n",
       "    <tr>\n",
       "      <th>0</th>\n",
       "      <td>인천수의사회 유기동물보호소</td>\n",
       "      <td>인천수의사회</td>\n",
       "      <td>법인</td>\n",
       "      <td>「동물보호법」에 따른 유실·유기동물</td>\n",
       "      <td>인천광역시 계양구 다남로165번길 56(다남동)</td>\n",
       "      <td>37.566196</td>\n",
       "      <td>126.719630</td>\n",
       "      <td>연중무휴</td>\n",
       "      <td>1</td>\n",
       "      <td>3</td>\n",
       "    </tr>\n",
       "    <tr>\n",
       "      <th>1</th>\n",
       "      <td>사단법인 한국동물구조관리협회</td>\n",
       "      <td>도봉구청</td>\n",
       "      <td>법인</td>\n",
       "      <td>유실·유기 및 피학대동물</td>\n",
       "      <td>경기도 양주시 남면 감악산로 63-37</td>\n",
       "      <td>37.870072</td>\n",
       "      <td>126.983225</td>\n",
       "      <td>연중무휴</td>\n",
       "      <td>1</td>\n",
       "      <td>6</td>\n",
       "    </tr>\n",
       "    <tr>\n",
       "      <th>2</th>\n",
       "      <td>수성동물병원</td>\n",
       "      <td>화성시</td>\n",
       "      <td>개인</td>\n",
       "      <td>개, 고양이</td>\n",
       "      <td>경기도 화성시 남양읍 남양성지로34</td>\n",
       "      <td>37.205577</td>\n",
       "      <td>126.807191</td>\n",
       "      <td>일요일</td>\n",
       "      <td>1</td>\n",
       "      <td>1</td>\n",
       "    </tr>\n",
       "    <tr>\n",
       "      <th>3</th>\n",
       "      <td>청산동물병원</td>\n",
       "      <td>화성시</td>\n",
       "      <td>개인</td>\n",
       "      <td>개, 고양이</td>\n",
       "      <td>경기도 화성시 우정읍 3.1만세로29</td>\n",
       "      <td>37.082177</td>\n",
       "      <td>126.817192</td>\n",
       "      <td>일요일</td>\n",
       "      <td>1</td>\n",
       "      <td>2</td>\n",
       "    </tr>\n",
       "    <tr>\n",
       "      <th>4</th>\n",
       "      <td>인천광역시수의사회유기동물보호소</td>\n",
       "      <td>인천시수의사회</td>\n",
       "      <td>단체</td>\n",
       "      <td>유기, 유실동물</td>\n",
       "      <td>인천광역시 계양구 다남로165번길 56(다남동)</td>\n",
       "      <td>37.566196</td>\n",
       "      <td>126.719630</td>\n",
       "      <td>없음</td>\n",
       "      <td>1</td>\n",
       "      <td>3</td>\n",
       "    </tr>\n",
       "  </tbody>\n",
       "</table>\n",
       "</div>"
      ],
      "text/plain": [
       "            동물보호센터명    관리기관명 동물보호센터유형               구조대상동물  \\\n",
       "0    인천수의사회 유기동물보호소   인천수의사회       법인  「동물보호법」에 따른 유실·유기동물   \n",
       "1   사단법인 한국동물구조관리협회     도봉구청       법인        유실·유기 및 피학대동물   \n",
       "2            수성동물병원      화성시       개인               개, 고양이   \n",
       "3            청산동물병원      화성시       개인               개, 고양이   \n",
       "4  인천광역시수의사회유기동물보호소  인천시수의사회       단체             유기, 유실동물   \n",
       "\n",
       "                     소재지도로명주소         위도          경도   휴무일  수의사인원수  사양관리사인원수  \n",
       "0  인천광역시 계양구 다남로165번길 56(다남동)  37.566196  126.719630  연중무휴       1         3  \n",
       "1       경기도 양주시 남면 감악산로 63-37  37.870072  126.983225  연중무휴       1         6  \n",
       "2         경기도 화성시 남양읍 남양성지로34  37.205577  126.807191   일요일       1         1  \n",
       "3        경기도 화성시 우정읍 3.1만세로29  37.082177  126.817192   일요일       1         2  \n",
       "4  인천광역시 계양구 다남로165번길 56(다남동)  37.566196  126.719630    없음       1         3  "
      ]
     },
     "execution_count": 17,
     "metadata": {},
     "output_type": "execute_result"
    }
   ],
   "source": [
    "simple_df = df.drop(columns=[\n",
    "    '소재지지번주소', '동물보호센터지정일자',\n",
    "    '평일운영시작시각', '평일운영종료시각', '평일분양시작시각', '평일분양종료시각',\n",
    "    '주말운영시작시각', '주말운영종료시각', '주말분양시작시각', '주말분양종료시각',\n",
    "    '진료실수', '사육실수', '격리실수', '사료보관실수', '구조운반용차량보유대수', '전화번호',\n",
    "    '데이터기준일자', '제공기관코드', '제공기관명', 'Unnamed: 29'\n",
    "])\n",
    "\n",
    "simple_df.head()"
   ]
  },
  {
   "cell_type": "code",
   "execution_count": 18,
   "metadata": {},
   "outputs": [
    {
     "data": {
      "text/plain": [
       "(188, 10)"
      ]
     },
     "execution_count": 18,
     "metadata": {},
     "output_type": "execute_result"
    }
   ],
   "source": [
    "simple_df.shape"
   ]
  },
  {
   "cell_type": "code",
   "execution_count": 21,
   "metadata": {},
   "outputs": [
    {
     "data": {
      "text/html": [
       "<div>\n",
       "<style scoped>\n",
       "    .dataframe tbody tr th:only-of-type {\n",
       "        vertical-align: middle;\n",
       "    }\n",
       "\n",
       "    .dataframe tbody tr th {\n",
       "        vertical-align: top;\n",
       "    }\n",
       "\n",
       "    .dataframe thead th {\n",
       "        text-align: right;\n",
       "    }\n",
       "</style>\n",
       "<table border=\"1\" class=\"dataframe\">\n",
       "  <thead>\n",
       "    <tr style=\"text-align: right;\">\n",
       "      <th></th>\n",
       "      <th>동물보호센터유형</th>\n",
       "    </tr>\n",
       "  </thead>\n",
       "  <tbody>\n",
       "    <tr>\n",
       "      <th>동물병원</th>\n",
       "      <td>85</td>\n",
       "    </tr>\n",
       "    <tr>\n",
       "      <th>법인</th>\n",
       "      <td>44</td>\n",
       "    </tr>\n",
       "    <tr>\n",
       "      <th>개인</th>\n",
       "      <td>32</td>\n",
       "    </tr>\n",
       "    <tr>\n",
       "      <th>단체</th>\n",
       "      <td>27</td>\n",
       "    </tr>\n",
       "  </tbody>\n",
       "</table>\n",
       "</div>"
      ],
      "text/plain": [
       "      동물보호센터유형\n",
       "동물병원        85\n",
       "법인          44\n",
       "개인          32\n",
       "단체          27"
      ]
     },
     "execution_count": 21,
     "metadata": {},
     "output_type": "execute_result"
    }
   ],
   "source": [
    "data = simple_df['동물보호센터유형'].value_counts()\n",
    "\n",
    "pd.DataFrame(data)"
   ]
  },
  {
   "cell_type": "code",
   "execution_count": 27,
   "metadata": {},
   "outputs": [
    {
     "data": {
      "image/png": "[encoded data removed]",
      "text/plain": [
       "<Figure size 432x288 with 1 Axes>"
      ]
     },
     "metadata": {},
     "output_type": "display_data"
    }
   ],
   "source": [
    "data = simple_df['동물보호센터유형'].value_counts()\n",
    "data.plot.pie()\n",
    "\n",
    "plt.show()"
   ]
  },
  {
   "cell_type": "code",
   "execution_count": 28,
   "metadata": {},
   "outputs": [
    {
     "data": {
      "text/html": [
       "<div>\n",
       "<style scoped>\n",
       "    .dataframe tbody tr th:only-of-type {\n",
       "        vertical-align: middle;\n",
       "    }\n",
       "\n",
       "    .dataframe tbody tr th {\n",
       "        vertical-align: top;\n",
       "    }\n",
       "\n",
       "    .dataframe thead th {\n",
       "        text-align: right;\n",
       "    }\n",
       "</style>\n",
       "<table border=\"1\" class=\"dataframe\">\n",
       "  <thead>\n",
       "    <tr style=\"text-align: right;\">\n",
       "      <th></th>\n",
       "      <th>휴무일</th>\n",
       "    </tr>\n",
       "  </thead>\n",
       "  <tbody>\n",
       "    <tr>\n",
       "      <th>연중무휴</th>\n",
       "      <td>39</td>\n",
       "    </tr>\n",
       "    <tr>\n",
       "      <th>일요일</th>\n",
       "      <td>32</td>\n",
       "    </tr>\n",
       "    <tr>\n",
       "      <th>없음</th>\n",
       "      <td>22</td>\n",
       "    </tr>\n",
       "    <tr>\n",
       "      <th>공휴일</th>\n",
       "      <td>18</td>\n",
       "    </tr>\n",
       "    <tr>\n",
       "      <th>매주 일요일</th>\n",
       "      <td>6</td>\n",
       "    </tr>\n",
       "    <tr>\n",
       "      <th>토요일+일요일</th>\n",
       "      <td>6</td>\n",
       "    </tr>\n",
       "    <tr>\n",
       "      <th>일요일+공휴일</th>\n",
       "      <td>5</td>\n",
       "    </tr>\n",
       "    <tr>\n",
       "      <th>토요일+일요일+공휴일</th>\n",
       "      <td>4</td>\n",
       "    </tr>\n",
       "    <tr>\n",
       "      <th>주말+공휴일</th>\n",
       "      <td>4</td>\n",
       "    </tr>\n",
       "    <tr>\n",
       "      <th>주말 및 공휴일</th>\n",
       "      <td>3</td>\n",
       "    </tr>\n",
       "  </tbody>\n",
       "</table>\n",
       "</div>"
      ],
      "text/plain": [
       "             휴무일\n",
       "연중무휴          39\n",
       "일요일           32\n",
       "없음            22\n",
       "공휴일           18\n",
       "매주 일요일         6\n",
       "토요일+일요일        6\n",
       "일요일+공휴일        5\n",
       "토요일+일요일+공휴일    4\n",
       "주말+공휴일         4\n",
       "주말 및 공휴일       3"
      ]
     },
     "execution_count": 28,
     "metadata": {},
     "output_type": "execute_result"
    }
   ],
   "source": [
    "data = simple_df['휴무일'].value_counts().nlargest(10)\n",
    "\n",
    "pd.DataFrame(data)"
   ]
  },
  {
   "cell_type": "code",
   "execution_count": 29,
   "metadata": {},
   "outputs": [
    {
     "data": {
      "image/png": "[encoded data removed]",
      "text/plain": [
       "<Figure size 432x288 with 1 Axes>"
      ]
     },
     "metadata": {},
     "output_type": "display_data"
    }
   ],
   "source": [
    "data = simple_df['휴무일'].value_counts().nlargest(10)\n",
    "\n",
    "data.plot.pie()\n",
    "\n",
    "plt.show()"
   ]
  },
  {
   "cell_type": "code",
   "execution_count": 31,
   "metadata": {},
   "outputs": [
    {
     "data": {
      "text/html": [
       "<div>\n",
       "<style scoped>\n",
       "    .dataframe tbody tr th:only-of-type {\n",
       "        vertical-align: middle;\n",
       "    }\n",
       "\n",
       "    .dataframe tbody tr th {\n",
       "        vertical-align: top;\n",
       "    }\n",
       "\n",
       "    .dataframe thead th {\n",
       "        text-align: right;\n",
       "    }\n",
       "</style>\n",
       "<table border=\"1\" class=\"dataframe\">\n",
       "  <thead>\n",
       "    <tr style=\"text-align: right;\">\n",
       "      <th></th>\n",
       "      <th>수의사인원수</th>\n",
       "    </tr>\n",
       "  </thead>\n",
       "  <tbody>\n",
       "    <tr>\n",
       "      <th>1</th>\n",
       "      <td>124</td>\n",
       "    </tr>\n",
       "    <tr>\n",
       "      <th>0</th>\n",
       "      <td>37</td>\n",
       "    </tr>\n",
       "    <tr>\n",
       "      <th>2</th>\n",
       "      <td>18</td>\n",
       "    </tr>\n",
       "    <tr>\n",
       "      <th>3</th>\n",
       "      <td>3</td>\n",
       "    </tr>\n",
       "    <tr>\n",
       "      <th>5</th>\n",
       "      <td>2</td>\n",
       "    </tr>\n",
       "    <tr>\n",
       "      <th>21</th>\n",
       "      <td>1</td>\n",
       "    </tr>\n",
       "    <tr>\n",
       "      <th>20</th>\n",
       "      <td>1</td>\n",
       "    </tr>\n",
       "    <tr>\n",
       "      <th>7</th>\n",
       "      <td>1</td>\n",
       "    </tr>\n",
       "    <tr>\n",
       "      <th>6</th>\n",
       "      <td>1</td>\n",
       "    </tr>\n",
       "  </tbody>\n",
       "</table>\n",
       "</div>"
      ],
      "text/plain": [
       "    수의사인원수\n",
       "1      124\n",
       "0       37\n",
       "2       18\n",
       "3        3\n",
       "5        2\n",
       "21       1\n",
       "20       1\n",
       "7        1\n",
       "6        1"
      ]
     },
     "execution_count": 31,
     "metadata": {},
     "output_type": "execute_result"
    }
   ],
   "source": [
    "data = simple_df['수의사인원수'].value_counts()\n",
    "\n",
    "pd.DataFrame(data)"
   ]
  },
  {
   "cell_type": "code",
   "execution_count": 39,
   "metadata": {},
   "outputs": [
    {
     "data": {
      "image/png": "[encoded data removed]",
      "text/plain": [
       "<Figure size 432x288 with 1 Axes>"
      ]
     },
     "metadata": {
      "needs_background": "light"
     },
     "output_type": "display_data"
    }
   ],
   "source": [
    "simple_df[['동물보호센터명', '수의사인원수']].plot.hist(bins=100, rwidth=10)\n",
    "# simple_df['수의사인원수'].plot.hist(bins=100, rwidth=10)\n",
    "\n",
    "plt.show()"
   ]
  },
  {
   "cell_type": "code",
   "execution_count": 40,
   "metadata": {},
   "outputs": [
    {
     "data": {
      "text/html": [
       "<div>\n",
       "<style scoped>\n",
       "    .dataframe tbody tr th:only-of-type {\n",
       "        vertical-align: middle;\n",
       "    }\n",
       "\n",
       "    .dataframe tbody tr th {\n",
       "        vertical-align: top;\n",
       "    }\n",
       "\n",
       "    .dataframe thead th {\n",
       "        text-align: right;\n",
       "    }\n",
       "</style>\n",
       "<table border=\"1\" class=\"dataframe\">\n",
       "  <thead>\n",
       "    <tr style=\"text-align: right;\">\n",
       "      <th></th>\n",
       "      <th>사양관리사인원수</th>\n",
       "    </tr>\n",
       "  </thead>\n",
       "  <tbody>\n",
       "    <tr>\n",
       "      <th>1</th>\n",
       "      <td>73</td>\n",
       "    </tr>\n",
       "    <tr>\n",
       "      <th>2</th>\n",
       "      <td>32</td>\n",
       "    </tr>\n",
       "    <tr>\n",
       "      <th>3</th>\n",
       "      <td>19</td>\n",
       "    </tr>\n",
       "    <tr>\n",
       "      <th>0</th>\n",
       "      <td>17</td>\n",
       "    </tr>\n",
       "    <tr>\n",
       "      <th>5</th>\n",
       "      <td>13</td>\n",
       "    </tr>\n",
       "    <tr>\n",
       "      <th>4</th>\n",
       "      <td>11</td>\n",
       "    </tr>\n",
       "    <tr>\n",
       "      <th>6</th>\n",
       "      <td>8</td>\n",
       "    </tr>\n",
       "    <tr>\n",
       "      <th>7</th>\n",
       "      <td>7</td>\n",
       "    </tr>\n",
       "    <tr>\n",
       "      <th>8</th>\n",
       "      <td>4</td>\n",
       "    </tr>\n",
       "    <tr>\n",
       "      <th>29</th>\n",
       "      <td>1</td>\n",
       "    </tr>\n",
       "    <tr>\n",
       "      <th>20</th>\n",
       "      <td>1</td>\n",
       "    </tr>\n",
       "    <tr>\n",
       "      <th>14</th>\n",
       "      <td>1</td>\n",
       "    </tr>\n",
       "    <tr>\n",
       "      <th>9</th>\n",
       "      <td>1</td>\n",
       "    </tr>\n",
       "  </tbody>\n",
       "</table>\n",
       "</div>"
      ],
      "text/plain": [
       "    사양관리사인원수\n",
       "1         73\n",
       "2         32\n",
       "3         19\n",
       "0         17\n",
       "5         13\n",
       "4         11\n",
       "6          8\n",
       "7          7\n",
       "8          4\n",
       "29         1\n",
       "20         1\n",
       "14         1\n",
       "9          1"
      ]
     },
     "execution_count": 40,
     "metadata": {},
     "output_type": "execute_result"
    }
   ],
   "source": [
    "data = simple_df['사양관리사인원수'].value_counts()\n",
    "\n",
    "pd.DataFrame(data)"
   ]
  },
  {
   "cell_type": "code",
   "execution_count": 43,
   "metadata": {},
   "outputs": [
    {
     "data": {
      "image/png": "[encoded data removed]",
      "text/plain": [
       "<Figure size 432x288 with 1 Axes>"
      ]
     },
     "metadata": {
      "needs_background": "light"
     },
     "output_type": "display_data"
    }
   ],
   "source": [
    "simple_df[['동물보호센터명', '사양관리사인원수']].plot.hist(bins=100, rwidth=10)\n",
    "\n",
    "plt.show()"
   ]
  },
  {
   "cell_type": "code",
   "execution_count": 44,
   "metadata": {},
   "outputs": [
    {
     "data": {
      "text/plain": [
       "((188, 10), (184, 10))"
      ]
     },
     "execution_count": 44,
     "metadata": {},
     "output_type": "execute_result"
    }
   ],
   "source": [
    "address_df = simple_df[simple_df['소재지도로명주소'].notnull()]\n",
    "\n",
    "simple_df.shape, address_df.shape"
   ]
  },
  {
   "cell_type": "code",
   "execution_count": 49,
   "metadata": {},
   "outputs": [
    {
     "data": {
      "text/html": [
       "<div>\n",
       "<style scoped>\n",
       "    .dataframe tbody tr th:only-of-type {\n",
       "        vertical-align: middle;\n",
       "    }\n",
       "\n",
       "    .dataframe tbody tr th {\n",
       "        vertical-align: top;\n",
       "    }\n",
       "\n",
       "    .dataframe thead th {\n",
       "        text-align: right;\n",
       "    }\n",
       "</style>\n",
       "<table border=\"1\" class=\"dataframe\">\n",
       "  <thead>\n",
       "    <tr style=\"text-align: right;\">\n",
       "      <th></th>\n",
       "      <th>동물보호센터명</th>\n",
       "      <th>관리기관명</th>\n",
       "      <th>동물보호센터유형</th>\n",
       "      <th>구조대상동물</th>\n",
       "      <th>소재지도로명주소</th>\n",
       "      <th>위도</th>\n",
       "      <th>경도</th>\n",
       "      <th>휴무일</th>\n",
       "      <th>수의사인원수</th>\n",
       "      <th>사양관리사인원수</th>\n",
       "    </tr>\n",
       "  </thead>\n",
       "  <tbody>\n",
       "    <tr>\n",
       "      <th>34</th>\n",
       "      <td>서초동물사랑센터</td>\n",
       "      <td>서초구청 지역경제과</td>\n",
       "      <td>법인</td>\n",
       "      <td>개</td>\n",
       "      <td>서울특별시 서초구  양재천로19길 22 (양재동)</td>\n",
       "      <td>37.476332</td>\n",
       "      <td>127.038124</td>\n",
       "      <td>매주월요일, 법정공휴일(일요일제외)</td>\n",
       "      <td>0</td>\n",
       "      <td>5</td>\n",
       "    </tr>\n",
       "    <tr>\n",
       "      <th>121</th>\n",
       "      <td>러브펫종합동물병원</td>\n",
       "      <td>서울특별시 관악구청</td>\n",
       "      <td>동물병원</td>\n",
       "      <td>개+고양이+기타유기동물</td>\n",
       "      <td>서울특별시 관악구 남부순환로 1451</td>\n",
       "      <td>37.481566</td>\n",
       "      <td>126.912010</td>\n",
       "      <td>연중무휴</td>\n",
       "      <td>2</td>\n",
       "      <td>5</td>\n",
       "    </tr>\n",
       "    <tr>\n",
       "      <th>173</th>\n",
       "      <td>강현림동물병원</td>\n",
       "      <td>서울특별시 양천구청</td>\n",
       "      <td>동물병원</td>\n",
       "      <td>반려동물</td>\n",
       "      <td>서울특별시 양천구 등촌로 160</td>\n",
       "      <td>37.543980</td>\n",
       "      <td>126.862417</td>\n",
       "      <td>매주일요일</td>\n",
       "      <td>1</td>\n",
       "      <td>2</td>\n",
       "    </tr>\n",
       "  </tbody>\n",
       "</table>\n",
       "</div>"
      ],
      "text/plain": [
       "       동물보호센터명       관리기관명 동물보호센터유형        구조대상동물  \\\n",
       "34    서초동물사랑센터  서초구청 지역경제과       법인             개   \n",
       "121  러브펫종합동물병원  서울특별시 관악구청     동물병원  개+고양이+기타유기동물   \n",
       "173    강현림동물병원  서울특별시 양천구청     동물병원          반려동물   \n",
       "\n",
       "                        소재지도로명주소         위도          경도                  휴무일  \\\n",
       "34   서울특별시 서초구  양재천로19길 22 (양재동)  37.476332  127.038124  매주월요일, 법정공휴일(일요일제외)   \n",
       "121         서울특별시 관악구 남부순환로 1451  37.481566  126.912010                 연중무휴   \n",
       "173            서울특별시 양천구 등촌로 160  37.543980  126.862417                매주일요일   \n",
       "\n",
       "     수의사인원수  사양관리사인원수  \n",
       "34        0         5  \n",
       "121       2         5  \n",
       "173       1         2  "
      ]
     },
     "execution_count": 49,
     "metadata": {},
     "output_type": "execute_result"
    }
   ],
   "source": [
    "address_df[address_df['소재지도로명주소'].str.contains('서울')]"
   ]
  },
  {
   "cell_type": "code",
   "execution_count": 68,
   "metadata": {},
   "outputs": [
    {
     "data": {
      "text/html": [
       "<div style=\"width:100%;\"><div style=\"position:relative;width:100%;height:0;padding-bottom:60%;\"><iframe src=\"data:text/html;charset=utf-8;base64,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\" style=\"position:absolute;width:100%;height:100%;left:0;top:0;border:none !important;\" allowfullscreen webkitallowfullscreen mozallowfullscreen></iframe></div></div>"
      ],
      "text/plain": [
       "<folium.folium.Map at 0x1dc04baceb8>"
      ]
     },
     "execution_count": 68,
     "metadata": {},
     "output_type": "execute_result"
    }
   ],
   "source": [
    "map = Map(location=[36.5, 127.5], zoom_start=7)\n",
    "\n",
    "data = simple_df[['위도', '경도']].groupby(['위도', '경도']).sum().reset_index().values.tolist()\n",
    "\n",
    "HeatMap(data=data, radius=20).add_to(map)\n",
    "\n",
    "for lat, lng in data:\n",
    "    marker = folium.Circle(\n",
    "    location=[lat, lng],\n",
    "    radius=500,\n",
    "    weight=1,\n",
    "    fill_color='#F00',\n",
    "    fill_opacity=0.3,\n",
    "    )\n",
    "    marker.add_to(map)\n",
    "    \n",
    "map"
   ]
  },
  {
   "cell_type": "code",
   "execution_count": null,
   "metadata": {},
   "outputs": [],
   "source": []
  }
 ],
 "metadata": {
  "kernelspec": {
   "display_name": "Python 3",
   "language": "python",
   "name": "python3"
  },
  "language_info": {
   "codemirror_mode": {
    "name": "ipython",
    "version": 3
   },
   "file_extension": ".py",
   "mimetype": "text/x-python",
   "name": "python",
   "nbconvert_exporter": "python",
   "pygments_lexer": "ipython3",
   "version": "3.7.3"
  }
 },
 "nbformat": 4,
 "nbformat_minor": 2
}
